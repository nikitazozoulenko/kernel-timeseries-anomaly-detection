{
 "cells": [
  {
   "cell_type": "code",
   "execution_count": 3,
   "metadata": {},
   "outputs": [],
   "source": [
    "import numpy as np\n",
    "import pandas as pd\n",
    "import sklearn.preprocessing\n",
    "import sklearn.utils\n",
    "import sklearn.metrics\n",
    "import iisignature\n",
    "import torch\n",
    "import plotly.express as px\n",
    "import plotly.graph_objects as go\n",
    "import matplotlib.pyplot as plt\n",
    "from tqdm import tqdm\n",
    "from typing import List, Optional, Dict, Set, Callable, Any\n",
    "from joblib import Memory, Parallel, delayed\n",
    "import tslearn\n",
    "import tslearn.metrics\n",
    "from tslearn.datasets import UCR_UEA_datasets\n",
    "import sigkernel\n",
    "import scipy\n",
    "from scipy.interpolate import interp1d\n",
    "from numba import njit\n",
    "import pickle\n",
    "\n",
    "from signature import streams_to_sigs, transform_stream\n",
    "from conformance import BaseclassConformanceScore, stream_to_torch\n",
    "from kernels import linear_kernel_gram, rbf_kernel_gram, poly_kernel_gram\n",
    "from kernels import pairwise_kernel_gram, integral_kernel_gram, sig_kernel_gram\n",
    "from experiment_code import print_dataset_stats"
   ]
  },
  {
   "cell_type": "markdown",
   "metadata": {},
   "source": [
    "## Find all tslearn datasets"
   ]
  },
  {
   "cell_type": "code",
   "execution_count": 4,
   "metadata": {},
   "outputs": [],
   "source": [
    "# _datasets = [\n",
    "#             'ArticularyWordRecognition', \n",
    "#             'BasicMotions', \n",
    "#             'Cricket',\n",
    "#             #'ERing',\n",
    "#             'Libras', \n",
    "#             'NATOPS', \n",
    "#             'RacketSports',     \n",
    "#             'FingerMovements',\n",
    "#             'Heartbeat',\n",
    "#             'SelfRegulationSCP1', \n",
    "#             'UWaveGestureLibrary'\n",
    "#             ]\n",
    "\n",
    "# import tslearn\n",
    "# UCR_UEA_datasets = tslearn.datasets.UCR_UEA_datasets()\n",
    "\n",
    "# for dataset_name in UCR_UEA_datasets.list_multivariate_datasets():\n",
    "# #for dataset_name in _datasets:\n",
    "#     print(\"Dataset:\", dataset_name)\n",
    "#     dataset = UCR_UEA_datasets.load_dataset(dataset_name)\n",
    "#     if dataset[0] is not None:\n",
    "#         X_train, y_train, X_test, y_test = dataset\n",
    "#         num_classes = len(np.unique(y_train))\n",
    "#         N_train, T, d = X_train.shape\n",
    "#         N_test, _, _  = X_test.shape\n",
    "        \n",
    "#         print(\"Number of Classes:\", num_classes)\n",
    "#         print(\"Dimension of path:\", d)\n",
    "#         print(\"Length:\", T)\n",
    "#         print(\"Train Size, Test Size\", N_train, N_test)\n",
    "#         print()\n",
    "#     else:\n",
    "#         print(\"No dataset found\")\n",
    "#         print()\n",
    "\n",
    "#yes\n",
    "# Dataset: ArticularyWordRecognition\n",
    "# Number of Classes: 25\n",
    "# Dimension of path: 9\n",
    "# Length: 144\n",
    "# Train Size, Test Size 275 300\n",
    "\n",
    "# Dataset: AtrialFibrillation\n",
    "# No dataset found\n",
    "\n",
    "#yes\n",
    "# Dataset: BasicMotions\n",
    "# Number of Classes: 4\n",
    "# Dimension of path: 6\n",
    "# Length: 100\n",
    "# Train Size, Test Size 40 40\n",
    "\n",
    "# Dataset: CharacterTrajectories\n",
    "# No dataset found\n",
    "\n",
    "#yes\n",
    "# Dataset: Cricket\n",
    "# Number of Classes: 12\n",
    "# Dimension of path: 6\n",
    "# Length: 1197\n",
    "# Train Size, Test Size 108 72\n",
    "\n",
    "# Dataset: DuckDuckGeese\n",
    "# No dataset found\n",
    "\n",
    "# Dataset: EigenWorms\n",
    "# Number of Classes: 5\n",
    "# Dimension of path: 6\n",
    "# Length: 17984\n",
    "# Train Size, Test Size 128 131\n",
    "\n",
    "#why not\n",
    "# Dataset: Epilepsy\n",
    "# Number of Classes: 4\n",
    "# Dimension of path: 3\n",
    "# Length: 206\n",
    "# Train Size, Test Size 137 138\n",
    "\n",
    "#longLength\n",
    "# Dataset: EthanolConcentration\n",
    "# Number of Classes: 4\n",
    "# Dimension of path: 3\n",
    "# Length: 1751\n",
    "# Train Size, Test Size 261 263\n",
    "\n",
    "# Dataset: ERing\n",
    "# No dataset found\n",
    "\n",
    "#big\n",
    "# Dataset: FaceDetection\n",
    "# Number of Classes: 2\n",
    "# Dimension of path: 144\n",
    "# Length: 62\n",
    "# Train Size, Test Size 5890 3524\n",
    "\n",
    "#yes\n",
    "# Dataset: FingerMovements\n",
    "# Number of Classes: 2\n",
    "# Dimension of path: 28\n",
    "# Length: 50\n",
    "# Train Size, Test Size 316 100\n",
    "\n",
    "#why not, maybe big length\n",
    "# Dataset: HandMovementDirection\n",
    "# Number of Classes: 4\n",
    "# Dimension of path: 10\n",
    "# Length: 400\n",
    "# Train Size, Test Size 160 74\n",
    "\n",
    "#smallTrain\n",
    "# Dataset: Handwriting\n",
    "# Number of Classes: 26\n",
    "# Dimension of path: 3\n",
    "# Length: 152\n",
    "# Train Size, Test Size 150 850\n",
    "\n",
    "#yes\n",
    "# Dataset: Heartbeat\n",
    "# Number of Classes: 2\n",
    "# Dimension of path: 61\n",
    "# Length: 405\n",
    "# Train Size, Test Size 204 205\n",
    "\n",
    "#big\n",
    "# Dataset: InsectWingbeat\n",
    "# Number of Classes: 10\n",
    "# Dimension of path: 200\n",
    "# Length: 22\n",
    "# Train Size, Test Size 25000 25000\n",
    "\n",
    "# Dataset: JapaneseVowels\n",
    "# No dataset found\n",
    "\n",
    "#yes\n",
    "# Dataset: Libras\n",
    "# Number of Classes: 15\n",
    "# Dimension of path: 2\n",
    "# Length: 45\n",
    "# Train Size, Test Size 180 180\n",
    "\n",
    "#TODO I SHOULD INCLUDE\n",
    "# Dataset: LSST\n",
    "# Number of Classes: 14\n",
    "# Dimension of path: 6\n",
    "# Length: 36\n",
    "# Train Size, Test Size 2459 2466\n",
    "\n",
    "#length\n",
    "# Dataset: MotorImagery\n",
    "# Number of Classes: 2\n",
    "# Dimension of path: 64\n",
    "# Length: 3000\n",
    "# Train Size, Test Size 278 100\n",
    "\n",
    "#yes\n",
    "# Dataset: NATOPS\n",
    "# Number of Classes: 6\n",
    "# Dimension of path: 24\n",
    "# Length: 51\n",
    "# Train Size, Test Size 180 180\n",
    "\n",
    "#TODO NOT TSLEARN. LENGTH WRONG\n",
    "# Dataset: PenDigits\n",
    "# Number of Classes: 10\n",
    "# Dimension of path: 2\n",
    "# Length: 8\n",
    "# Train Size, Test Size 7494 3498\n",
    "\n",
    "#highDim\n",
    "# Dataset: PEMS-SF\n",
    "# Number of Classes: 7\n",
    "# Dimension of path: 963\n",
    "# Length: 144\n",
    "# Train Size, Test Size 267 173\n",
    "\n",
    "#dim=1, big length\n",
    "# Dataset: Phoneme\n",
    "# Number of Classes: 39\n",
    "# Dimension of path: 1\n",
    "# Length: 1024\n",
    "# Train Size, Test Size 214 1896\n",
    "\n",
    "#yes\n",
    "# Dataset: RacketSports\n",
    "# Number of Classes: 4\n",
    "# Dimension of path: 6\n",
    "# Length: 30\n",
    "# Train Size, Test Size 151 152\n",
    "\n",
    "#yes\n",
    "# Dataset: SelfRegulationSCP1\n",
    "# Number of Classes: 2\n",
    "# Dimension of path: 6\n",
    "# Length: 896\n",
    "# Train Size, Test Size 268 293\n",
    "\n",
    "# Dataset: SelfRegulationSCP2\n",
    "# Number of Classes: 2\n",
    "# Dimension of path: 7\n",
    "# Length: 1152\n",
    "# Train Size, Test Size 200 180\n",
    "\n",
    "# Dataset: SpokenArabicDigits\n",
    "# No dataset found\n",
    "\n",
    "#long, also very small set\n",
    "# Dataset: StandWalkJump\n",
    "# Number of Classes: 3\n",
    "# Dimension of path: 4\n",
    "# Length: 2500\n",
    "# Train Size, Test Size 12 15\n",
    "\n",
    "#yes\n",
    "# Dataset: UWaveGestureLibrary\n",
    "# Number of Classes: 8\n",
    "# Dimension of path: 3\n",
    "# Length: 315\n",
    "# Train Size, Test Size 120 320\n"
   ]
  },
  {
   "cell_type": "markdown",
   "metadata": {},
   "source": [
    "# (tslearn) Cross Validation on Train"
   ]
  },
  {
   "cell_type": "code",
   "execution_count": 6,
   "metadata": {},
   "outputs": [
    {
     "name": "stdout",
     "output_type": "stream",
     "text": [
      "Dataset: Libras\n"
     ]
    },
    {
     "name": "stderr",
     "output_type": "stream",
     "text": [
      "Label for rbf: 100%|██████████| 15/15 [00:12<00:00,  1.24it/s]\n"
     ]
    },
    {
     "name": "stdout",
     "output_type": "stream",
     "text": [
      "Time taken for kernel rbf: 12.121767520904541 seconds\n"
     ]
    },
    {
     "name": "stderr",
     "output_type": "stream",
     "text": [
      "Label for gak: 100%|██████████| 15/15 [00:15<00:00,  1.03s/it]\n"
     ]
    },
    {
     "name": "stdout",
     "output_type": "stream",
     "text": [
      "Time taken for kernel gak: 15.490598678588867 seconds\n"
     ]
    },
    {
     "name": "stderr",
     "output_type": "stream",
     "text": [
      "Label for signature pde: 100%|██████████| 15/15 [00:55<00:00,  3.68s/it]\n"
     ]
    },
    {
     "name": "stdout",
     "output_type": "stream",
     "text": [
      "Time taken for kernel signature pde: 55.266334533691406 seconds\n"
     ]
    },
    {
     "name": "stderr",
     "output_type": "stream",
     "text": [
      "Label for integral rbf: 100%|██████████| 15/15 [00:11<00:00,  1.30it/s]"
     ]
    },
    {
     "name": "stdout",
     "output_type": "stream",
     "text": [
      "Time taken for kernel integral rbf: 11.5567786693573 seconds\n",
      "Time taken for dataset Libras: 94.43749403953552 seconds\n",
      "\n",
      "\n",
      "\n",
      "{'Libras': {'kernel_results': {'rbf': {'1': {'sigma': 1.0, 'kernel_name': 'rbf', 'normal_class_label': '1', 'threshold': 3, 'CV_train_auc': 0.8988095238095238, 'auc_params': array([0.86507937, 0.85714286, 0.8452381 , 0.86507937, 0.8968254 ,\n",
      "       0.89880952]), 'auc_thresh': array([0.70634921, 0.84722222, 0.89880952, 0.8968254 , 0.73214286,\n",
      "       0.75793651, 0.86507937, 0.86309524, 0.8452381 ])}, '10': {'sigma': 0.36787944117144233, 'kernel_name': 'rbf', 'normal_class_label': '10', 'threshold': 5, 'CV_train_auc': 0.8908730158730159, 'auc_params': array([0.8531746 , 0.83928571, 0.82936508, 0.78769841, 0.89087302,\n",
      "       0.88492063]), 'auc_thresh': array([0.81150794, 0.83333333, 0.72222222, 0.82738095, 0.89087302,\n",
      "       0.8531746 , 0.80753968, 0.88492063, 0.82539683])}, '11': {'sigma': 0.006737946999085467, 'kernel_name': 'rbf', 'normal_class_label': '11', 'threshold': 2, 'CV_train_auc': 0.9861111111111112, 'auc_params': array([0.98611111, 0.98214286, 0.88492063, 0.78769841, 0.95039683,\n",
      "       0.76587302]), 'auc_thresh': array([0.89484127, 0.98611111, 0.98611111, 0.9781746 , 0.98214286,\n",
      "       0.94444444, 0.9265873 , 0.89087302, 0.9047619 ])}, '12': {'sigma': 0.049787068367863944, 'kernel_name': 'rbf', 'normal_class_label': '12', 'threshold': 8, 'CV_train_auc': 0.9821428571428572, 'auc_params': array([0.97420635, 0.9781746 , 0.98214286, 0.94246032, 0.93650794,\n",
      "       0.96825397]), 'auc_thresh': array([0.82142857, 0.72619048, 0.82936508, 0.92063492, 0.95238095,\n",
      "       0.9702381 , 0.9702381 , 0.98214286, 0.97222222])}, '13': {'sigma': 0.01831563888873418, 'kernel_name': 'rbf', 'normal_class_label': '13', 'threshold': 8, 'CV_train_auc': 0.9662698412698414, 'auc_params': array([0.96230159, 0.96626984, 0.95436508, 0.95238095, 0.94246032,\n",
      "       0.89087302]), 'auc_thresh': array([0.8015873 , 0.89880952, 0.9047619 , 0.95238095, 0.96031746,\n",
      "       0.96230159, 0.96230159, 0.96626984, 0.93055556])}, '14': {'sigma': 0.01831563888873418, 'kernel_name': 'rbf', 'normal_class_label': '14', 'threshold': 9, 'CV_train_auc': 0.9107142857142858, 'auc_params': array([0.87896825, 0.91071429, 0.89285714, 0.88690476, 0.86309524,\n",
      "       0.85912698]), 'auc_thresh': array([0.73809524, 0.76388889, 0.85912698, 0.85515873, 0.81547619,\n",
      "       0.86309524, 0.87896825, 0.89285714, 0.91071429])}, '15': {'sigma': 1.0, 'kernel_name': 'rbf', 'normal_class_label': '15', 'threshold': 1, 'CV_train_auc': 0.9781746031746033, 'auc_params': array([0.84325397, 0.84722222, 0.8531746 , 0.87896825, 0.90277778,\n",
      "       0.9781746 ]), 'auc_thresh': array([0.9781746 , 0.90277778, 0.8531746 , 0.88095238, 0.82936508,\n",
      "       0.83531746, 0.87103175, 0.875     , 0.81150794])}, '2': {'sigma': 1.0, 'kernel_name': 'rbf', 'normal_class_label': '2', 'threshold': 8, 'CV_train_auc': 0.9146825396825398, 'auc_params': array([0.86904762, 0.85912698, 0.80357143, 0.76785714, 0.875     ,\n",
      "       0.91468254]), 'auc_thresh': array([0.76388889, 0.82738095, 0.85912698, 0.80952381, 0.86706349,\n",
      "       0.85714286, 0.875     , 0.91468254, 0.86904762])}, '3': {'sigma': 0.01831563888873418, 'kernel_name': 'rbf', 'normal_class_label': '3', 'threshold': 9, 'CV_train_auc': 0.9742063492063493, 'auc_params': array([0.97222222, 0.97420635, 0.96428571, 0.92857143, 0.84722222,\n",
      "       0.86309524]), 'auc_thresh': array([0.68849206, 0.83134921, 0.76190476, 0.75198413, 0.86309524,\n",
      "       0.88095238, 0.91468254, 0.97222222, 0.97420635])}, '4': {'sigma': 0.01831563888873418, 'kernel_name': 'rbf', 'normal_class_label': '4', 'threshold': 7, 'CV_train_auc': 0.996031746031746, 'auc_params': array([0.99206349, 0.99603175, 0.98015873, 0.88095238, 0.95833333,\n",
      "       0.9702381 ]), 'auc_thresh': array([0.62103175, 0.72222222, 0.8531746 , 0.97619048, 0.95634921,\n",
      "       0.98809524, 0.99603175, 0.99404762, 0.94642857])}, '5': {'sigma': 0.006737946999085467, 'kernel_name': 'rbf', 'normal_class_label': '5', 'threshold': 8, 'CV_train_auc': 0.9821428571428572, 'auc_params': array([0.98214286, 0.98015873, 0.98214286, 0.97619048, 0.97619048,\n",
      "       0.91071429]), 'auc_thresh': array([0.63888889, 0.90674603, 0.96230159, 0.97619048, 0.9265873 ,\n",
      "       0.94444444, 0.94642857, 0.98214286, 0.98214286])}, '6': {'sigma': 0.36787944117144233, 'kernel_name': 'rbf', 'normal_class_label': '6', 'threshold': 6, 'CV_train_auc': 0.9543650793650794, 'auc_params': array([0.90079365, 0.9047619 , 0.91071429, 0.90873016, 0.95436508,\n",
      "       0.89880952]), 'auc_thresh': array([0.68452381, 0.64484127, 0.85515873, 0.88492063, 0.92261905,\n",
      "       0.95436508, 0.89880952, 0.90079365, 0.87698413])}, '7': {'sigma': 0.006737946999085467, 'kernel_name': 'rbf', 'normal_class_label': '7', 'threshold': 7, 'CV_train_auc': 0.9900793650793651, 'auc_params': array([0.99007937, 0.97420635, 0.93650794, 0.89285714, 0.89484127,\n",
      "       0.93650794]), 'auc_thresh': array([0.84722222, 0.8452381 , 0.92460317, 0.95039683, 0.96031746,\n",
      "       0.98214286, 0.99007937, 0.93452381, 0.93452381])}, '8': {'sigma': 0.01831563888873418, 'kernel_name': 'rbf', 'normal_class_label': '8', 'threshold': 5, 'CV_train_auc': 0.9583333333333334, 'auc_params': array([0.95039683, 0.95833333, 0.94444444, 0.92261905, 0.9265873 ,\n",
      "       0.9265873 ]), 'auc_thresh': array([0.61111111, 0.8452381 , 0.92261905, 0.93849206, 0.95833333,\n",
      "       0.9265873 , 0.91666667, 0.93055556, 0.88888889])}, '9': {'sigma': 0.006737946999085467, 'kernel_name': 'rbf', 'normal_class_label': '9', 'threshold': 6, 'CV_train_auc': 1.0, 'auc_params': array([1.        , 1.        , 0.99801587, 0.96428571, 0.93253968,\n",
      "       0.92063492]), 'auc_thresh': array([0.73611111, 0.81746032, 0.91865079, 0.97619048, 0.99206349,\n",
      "       1.        , 1.        , 1.        , 1.        ])}}, 'gak': {'1': {'kernel_name': 'gak', 'normal_class_label': '1', 'threshold': 3, 'CV_train_auc': 0.9047619047619048, 'auc_params': array([0.9047619]), 'auc_thresh': array([0.53769841, 0.72420635, 0.9047619 , 0.87301587, 0.60119048,\n",
      "       0.73015873, 0.69444444, 0.82738095, 0.56349206])}, '10': {'kernel_name': 'gak', 'normal_class_label': '10', 'threshold': 7, 'CV_train_auc': 0.886904761904762, 'auc_params': array([0.88690476]), 'auc_thresh': array([0.52579365, 0.76984127, 0.76190476, 0.8234127 , 0.82936508,\n",
      "       0.81349206, 0.88690476, 0.87698413, 0.73412698])}, '11': {'kernel_name': 'gak', 'normal_class_label': '11', 'threshold': 2, 'CV_train_auc': 0.8313492063492065, 'auc_params': array([0.83134921]), 'auc_thresh': array([0.66468254, 0.83134921, 0.67261905, 0.74603175, 0.76190476,\n",
      "       0.59920635, 0.5952381 , 0.26984127, 0.19444444])}, '12': {'kernel_name': 'gak', 'normal_class_label': '12', 'threshold': 5, 'CV_train_auc': 0.9841269841269842, 'auc_params': array([0.98412698]), 'auc_thresh': array([0.75198413, 0.49603175, 0.73809524, 0.81944444, 0.98412698,\n",
      "       0.82142857, 0.88690476, 0.90873016, 0.5952381 ])}, '13': {'kernel_name': 'gak', 'normal_class_label': '13', 'threshold': 8, 'CV_train_auc': 0.9563492063492063, 'auc_params': array([0.95634921]), 'auc_thresh': array([0.58333333, 0.6765873 , 0.8968254 , 0.88293651, 0.7718254 ,\n",
      "       0.875     , 0.8015873 , 0.95634921, 0.58333333])}, '14': {'kernel_name': 'gak', 'normal_class_label': '14', 'threshold': 5, 'CV_train_auc': 0.8313492063492064, 'auc_params': array([0.83134921]), 'auc_thresh': array([0.72222222, 0.58730159, 0.82142857, 0.78174603, 0.83134921,\n",
      "       0.80753968, 0.76587302, 0.69047619, 0.63492063])}, '15': {'kernel_name': 'gak', 'normal_class_label': '15', 'threshold': 1, 'CV_train_auc': 0.9583333333333334, 'auc_params': array([0.95833333]), 'auc_thresh': array([0.95833333, 0.77777778, 0.7797619 , 0.69246032, 0.68253968,\n",
      "       0.74007937, 0.81547619, 0.75396825, 0.70238095])}, '2': {'kernel_name': 'gak', 'normal_class_label': '2', 'threshold': 8, 'CV_train_auc': 0.8948412698412699, 'auc_params': array([0.89484127]), 'auc_thresh': array([0.76190476, 0.75      , 0.80555556, 0.80753968, 0.74603175,\n",
      "       0.70039683, 0.59722222, 0.89484127, 0.62896825])}, '3': {'kernel_name': 'gak', 'normal_class_label': '3', 'threshold': 2, 'CV_train_auc': 0.9166666666666667, 'auc_params': array([0.91666667]), 'auc_thresh': array([0.58531746, 0.91666667, 0.70436508, 0.67857143, 0.72619048,\n",
      "       0.81349206, 0.58531746, 0.77579365, 0.7202381 ])}, '4': {'kernel_name': 'gak', 'normal_class_label': '4', 'threshold': 4, 'CV_train_auc': 0.9642857142857144, 'auc_params': array([0.96428571]), 'auc_thresh': array([0.46230159, 0.66666667, 0.82738095, 0.96428571, 0.89087302,\n",
      "       0.74007937, 0.65674603, 0.73611111, 0.2797619 ])}, '5': {'kernel_name': 'gak', 'normal_class_label': '5', 'threshold': 4, 'CV_train_auc': 0.9087301587301588, 'auc_params': array([0.90873016]), 'auc_thresh': array([0.57539683, 0.85714286, 0.86111111, 0.90873016, 0.79960317,\n",
      "       0.86706349, 0.81150794, 0.61706349, 0.60515873])}, '6': {'kernel_name': 'gak', 'normal_class_label': '6', 'threshold': 7, 'CV_train_auc': 0.8948412698412699, 'auc_params': array([0.89484127]), 'auc_thresh': array([0.56547619, 0.45039683, 0.89087302, 0.88293651, 0.86904762,\n",
      "       0.86507937, 0.89484127, 0.80555556, 0.71230159])}, '7': {'kernel_name': 'gak', 'normal_class_label': '7', 'threshold': 6, 'CV_train_auc': 0.9345238095238095, 'auc_params': array([0.93452381]), 'auc_thresh': array([0.77579365, 0.72222222, 0.86111111, 0.86309524, 0.8452381 ,\n",
      "       0.93452381, 0.62698413, 0.62103175, 0.44444444])}, '8': {'kernel_name': 'gak', 'normal_class_label': '8', 'threshold': 2, 'CV_train_auc': 0.9265873015873016, 'auc_params': array([0.9265873]), 'auc_thresh': array([0.4702381 , 0.9265873 , 0.70238095, 0.92063492, 0.87103175,\n",
      "       0.86111111, 0.78571429, 0.72222222, 0.61309524])}, '9': {'kernel_name': 'gak', 'normal_class_label': '9', 'threshold': 4, 'CV_train_auc': 0.9206349206349207, 'auc_params': array([0.92063492]), 'auc_thresh': array([0.74603175, 0.77579365, 0.89484127, 0.92063492, 0.82539683,\n",
      "       0.74206349, 0.75      , 0.61111111, 0.5515873 ])}}, 'signature pde': {'1': {'kernel_name': 'signature pde', 'normal_class_label': '1', 'threshold': 1, 'CV_train_auc': 0.5992063492063493, 'auc_params': array([0.59920635]), 'auc_thresh': array([0.59920635, 0.5515873 , 0.53968254, 0.50595238, 0.5515873 ,\n",
      "       0.53968254, 0.56547619, 0.56944444, 0.57142857])}, '10': {'kernel_name': 'signature pde', 'normal_class_label': '10', 'threshold': 8, 'CV_train_auc': 0.8492063492063492, 'auc_params': array([0.84920635]), 'auc_thresh': array([0.72619048, 0.64285714, 0.67857143, 0.7281746 , 0.74801587,\n",
      "       0.76388889, 0.79365079, 0.84920635, 0.81349206])}, '11': {'kernel_name': 'signature pde', 'normal_class_label': '11', 'threshold': 6, 'CV_train_auc': 0.9642857142857143, 'auc_params': array([0.96428571]), 'auc_thresh': array([0.9484127 , 0.92857143, 0.91666667, 0.93452381, 0.93849206,\n",
      "       0.96428571, 0.93253968, 0.9265873 , 0.9047619 ])}, '12': {'kernel_name': 'signature pde', 'normal_class_label': '12', 'threshold': 6, 'CV_train_auc': 0.9682539682539684, 'auc_params': array([0.96825397]), 'auc_thresh': array([0.85912698, 0.89087302, 0.91666667, 0.93055556, 0.9484127 ,\n",
      "       0.96825397, 0.95634921, 0.93452381, 0.93452381])}, '13': {'kernel_name': 'signature pde', 'normal_class_label': '13', 'threshold': 3, 'CV_train_auc': 0.9027777777777778, 'auc_params': array([0.90277778]), 'auc_thresh': array([0.89087302, 0.88690476, 0.90277778, 0.8968254 , 0.88293651,\n",
      "       0.86309524, 0.86507937, 0.88293651, 0.86111111])}, '14': {'kernel_name': 'signature pde', 'normal_class_label': '14', 'threshold': 1, 'CV_train_auc': 0.8075396825396824, 'auc_params': array([0.80753968]), 'auc_thresh': array([0.80753968, 0.78571429, 0.72420635, 0.76984127, 0.75793651,\n",
      "       0.76388889, 0.79761905, 0.79563492, 0.77579365])}, '15': {'kernel_name': 'signature pde', 'normal_class_label': '15', 'threshold': 7, 'CV_train_auc': 0.8015873015873015, 'auc_params': array([0.8015873]), 'auc_thresh': array([0.63492063, 0.64880952, 0.67857143, 0.75595238, 0.77777778,\n",
      "       0.79166667, 0.8015873 , 0.79761905, 0.79761905])}, '2': {'kernel_name': 'signature pde', 'normal_class_label': '2', 'threshold': 3, 'CV_train_auc': 0.8472222222222223, 'auc_params': array([0.84722222]), 'auc_thresh': array([0.81349206, 0.82142857, 0.84722222, 0.83730159, 0.84126984,\n",
      "       0.8234127 , 0.81349206, 0.82936508, 0.83134921])}, '3': {'kernel_name': 'signature pde', 'normal_class_label': '3', 'threshold': 4, 'CV_train_auc': 0.9464285714285714, 'auc_params': array([0.94642857]), 'auc_thresh': array([0.83730159, 0.91071429, 0.94047619, 0.94642857, 0.93253968,\n",
      "       0.94047619, 0.93849206, 0.92857143, 0.92857143])}, '4': {'kernel_name': 'signature pde', 'normal_class_label': '4', 'threshold': 4, 'CV_train_auc': 0.9920634920634921, 'auc_params': array([0.99206349]), 'auc_thresh': array([0.9702381 , 0.98809524, 0.98611111, 0.99206349, 0.99206349,\n",
      "       0.98214286, 0.9781746 , 0.98611111, 0.99206349])}, '5': {'kernel_name': 'signature pde', 'normal_class_label': '5', 'threshold': 4, 'CV_train_auc': 1.0, 'auc_params': array([1.]), 'auc_thresh': array([0.97420635, 0.98809524, 0.99603175, 1.        , 1.        ,\n",
      "       1.        , 1.        , 0.99603175, 0.99007937])}, '6': {'kernel_name': 'signature pde', 'normal_class_label': '6', 'threshold': 9, 'CV_train_auc': 0.7916666666666667, 'auc_params': array([0.79166667]), 'auc_thresh': array([0.69444444, 0.74801587, 0.74206349, 0.71626984, 0.72420635,\n",
      "       0.70436508, 0.76388889, 0.78373016, 0.79166667])}, '7': {'kernel_name': 'signature pde', 'normal_class_label': '7', 'threshold': 5, 'CV_train_auc': 0.9841269841269842, 'auc_params': array([0.98412698]), 'auc_thresh': array([0.91865079, 0.96031746, 0.96428571, 0.96428571, 0.98412698,\n",
      "       0.98214286, 0.97619048, 0.97222222, 0.97222222])}, '8': {'kernel_name': 'signature pde', 'normal_class_label': '8', 'threshold': 4, 'CV_train_auc': 0.9880952380952381, 'auc_params': array([0.98809524]), 'auc_thresh': array([0.92063492, 0.9265873 , 0.97420635, 0.98809524, 0.98015873,\n",
      "       0.98214286, 0.97420635, 0.97222222, 0.97420635])}, '9': {'kernel_name': 'signature pde', 'normal_class_label': '9', 'threshold': 4, 'CV_train_auc': 0.998015873015873, 'auc_params': array([0.99801587]), 'auc_thresh': array([0.95634921, 0.98809524, 0.99603175, 0.99801587, 0.99801587,\n",
      "       0.99603175, 0.99603175, 0.99801587, 0.99801587])}}, 'integral rbf': {'1': {'sigma': 0.1353352832366127, 'kernel_name': 'integral rbf', 'normal_class_label': '1', 'threshold': 3, 'CV_train_auc': 0.888888888888889, 'auc_params': array([0.8531746 , 0.82936508, 0.86904762, 0.88888889, 0.87301587,\n",
      "       0.88492063]), 'auc_thresh': array([0.66666667, 0.80357143, 0.88888889, 0.86507937, 0.78174603,\n",
      "       0.76984127, 0.8531746 , 0.88492063, 0.82936508])}, '10': {'sigma': 1.0, 'kernel_name': 'integral rbf', 'normal_class_label': '10', 'threshold': 6, 'CV_train_auc': 0.9345238095238095, 'auc_params': array([0.87301587, 0.82539683, 0.81746032, 0.82142857, 0.90674603,\n",
      "       0.93452381]), 'auc_thresh': array([0.81944444, 0.8452381 , 0.71825397, 0.875     , 0.90674603,\n",
      "       0.93452381, 0.82539683, 0.83333333, 0.87301587])}, '11': {'sigma': 0.006737946999085467, 'kernel_name': 'integral rbf', 'normal_class_label': '11', 'threshold': 2, 'CV_train_auc': 0.9841269841269842, 'auc_params': array([0.98412698, 0.96825397, 0.88690476, 0.75      , 0.83134921,\n",
      "       0.85515873]), 'auc_thresh': array([0.88293651, 0.98412698, 0.9781746 , 0.9781746 , 0.98015873,\n",
      "       0.94047619, 0.92460317, 0.91865079, 0.9265873 ])}, '12': {'sigma': 0.01831563888873418, 'kernel_name': 'integral rbf', 'normal_class_label': '12', 'threshold': 8, 'CV_train_auc': 0.9821428571428572, 'auc_params': array([0.9781746 , 0.98214286, 0.97420635, 0.90873016, 0.86904762,\n",
      "       0.92063492]), 'auc_thresh': array([0.62896825, 0.71428571, 0.78571429, 0.84325397, 0.94444444,\n",
      "       0.9702381 , 0.97420635, 0.98214286, 0.9702381 ])}, '13': {'sigma': 0.006737946999085467, 'kernel_name': 'integral rbf', 'normal_class_label': '13', 'threshold': 6, 'CV_train_auc': 0.9603174603174602, 'auc_params': array([0.96031746, 0.95833333, 0.94642857, 0.94444444, 0.93650794,\n",
      "       0.90277778]), 'auc_thresh': array([0.74603175, 0.85515873, 0.90277778, 0.94444444, 0.95833333,\n",
      "       0.96031746, 0.96031746, 0.94246032, 0.91865079])}, '14': {'sigma': 0.01831563888873418, 'kernel_name': 'integral rbf', 'normal_class_label': '14', 'threshold': 8, 'CV_train_auc': 0.8869047619047619, 'auc_params': array([0.86904762, 0.88690476, 0.88095238, 0.86507937, 0.8452381 ,\n",
      "       0.82936508]), 'auc_thresh': array([0.82936508, 0.73412698, 0.8234127 , 0.75198413, 0.79960317,\n",
      "       0.82936508, 0.86111111, 0.88690476, 0.8531746 ])}, '15': {'sigma': 1.0, 'kernel_name': 'integral rbf', 'normal_class_label': '15', 'threshold': 2, 'CV_train_auc': 0.9246031746031745, 'auc_params': array([0.8452381 , 0.84722222, 0.8531746 , 0.875     , 0.90277778,\n",
      "       0.92460317]), 'auc_thresh': array([0.89285714, 0.92460317, 0.86309524, 0.80952381, 0.8015873 ,\n",
      "       0.79365079, 0.87301587, 0.89484127, 0.81150794])}, '2': {'sigma': 0.006737946999085467, 'kernel_name': 'integral rbf', 'normal_class_label': '2', 'threshold': 8, 'CV_train_auc': 0.875, 'auc_params': array([0.875     , 0.86507937, 0.82539683, 0.82539683, 0.80753968,\n",
      "       0.86706349]), 'auc_thresh': array([0.65277778, 0.80753968, 0.79761905, 0.68452381, 0.77579365,\n",
      "       0.78968254, 0.83531746, 0.875     , 0.86507937])}, '3': {'sigma': 0.006737946999085467, 'kernel_name': 'integral rbf', 'normal_class_label': '3', 'threshold': 8, 'CV_train_auc': 0.9742063492063493, 'auc_params': array([0.97420635, 0.96825397, 0.94246032, 0.89087302, 0.78571429,\n",
      "       0.7797619 ]), 'auc_thresh': array([0.68253968, 0.78571429, 0.76785714, 0.76388889, 0.81944444,\n",
      "       0.88095238, 0.91071429, 0.97420635, 0.96825397])}, '4': {'sigma': 0.006737946999085467, 'kernel_name': 'integral rbf', 'normal_class_label': '4', 'threshold': 8, 'CV_train_auc': 0.9920634920634921, 'auc_params': array([0.99206349, 0.98015873, 0.96031746, 0.87103175, 0.85119048,\n",
      "       0.81944444]), 'auc_thresh': array([0.70238095, 0.67261905, 0.84722222, 0.97420635, 0.96230159,\n",
      "       0.98611111, 0.98412698, 0.99206349, 0.9047619 ])}, '5': {'sigma': 0.01831563888873418, 'kernel_name': 'integral rbf', 'normal_class_label': '5', 'threshold': 8, 'CV_train_auc': 0.9920634920634921, 'auc_params': array([0.98412698, 0.99206349, 0.98611111, 0.95039683, 0.89087302,\n",
      "       0.92063492]), 'auc_thresh': array([0.68452381, 0.83730159, 0.95833333, 0.92063492, 0.91468254,\n",
      "       0.92857143, 0.93452381, 0.99206349, 0.98611111])}, '6': {'sigma': 0.36787944117144233, 'kernel_name': 'integral rbf', 'normal_class_label': '6', 'threshold': 6, 'CV_train_auc': 0.9563492063492063, 'auc_params': array([0.90079365, 0.91071429, 0.9265873 , 0.93650794, 0.95634921,\n",
      "       0.81944444]), 'auc_thresh': array([0.67857143, 0.64087302, 0.80952381, 0.8234127 , 0.9265873 ,\n",
      "       0.95634921, 0.89285714, 0.88888889, 0.88095238])}, '7': {'sigma': 0.006737946999085467, 'kernel_name': 'integral rbf', 'normal_class_label': '7', 'threshold': 6, 'CV_train_auc': 0.9861111111111112, 'auc_params': array([0.98611111, 0.95039683, 0.94047619, 0.93253968, 0.90674603,\n",
      "       0.91468254]), 'auc_thresh': array([0.7202381 , 0.91468254, 0.91666667, 0.95238095, 0.95634921,\n",
      "       0.98611111, 0.96825397, 0.92460317, 0.91865079])}, '8': {'sigma': 0.01831563888873418, 'kernel_name': 'integral rbf', 'normal_class_label': '8', 'threshold': 5, 'CV_train_auc': 0.9583333333333334, 'auc_params': array([0.95238095, 0.95833333, 0.93055556, 0.90674603, 0.88293651,\n",
      "       0.90873016]), 'auc_thresh': array([0.58134921, 0.77579365, 0.92460317, 0.93650794, 0.95833333,\n",
      "       0.93452381, 0.9265873 , 0.93253968, 0.92063492])}, '9': {'sigma': 0.006737946999085467, 'kernel_name': 'integral rbf', 'normal_class_label': '9', 'threshold': 6, 'CV_train_auc': 1.0, 'auc_params': array([1.        , 1.        , 0.99404762, 0.9702381 , 0.93849206,\n",
      "       0.93452381]), 'auc_thresh': array([0.71825397, 0.82539683, 0.90674603, 0.96825397, 0.99007937,\n",
      "       1.        , 1.        , 1.        , 0.99206349])}}}, 'num_classes': 15, 'path dim': 2, 'ts_length': 45, 'N_train': 180}}\n"
     ]
    },
    {
     "name": "stderr",
     "output_type": "stream",
     "text": [
      "\n"
     ]
    }
   ],
   "source": [
    "from cross_validation import cv_tslearn\n",
    "\n",
    "cv_best_models = cv_tslearn(\n",
    "    dataset_names = [\n",
    "        #'ArticularyWordRecognition', \n",
    "        #'BasicMotions', \n",
    "        #'Cricket',\n",
    "         ##########'ERing', #cant find dataset\n",
    "        'Libras', \n",
    "        #'NATOPS', \n",
    "        #'RacketSports',     \n",
    "        #'FingerMovements',\n",
    "        #'Heartbeat',\n",
    "        #'SelfRegulationSCP1', \n",
    "        #'UWaveGestureLibrary'\n",
    "        ],\n",
    "    kernel_names = [\n",
    "        #\"linear\",\n",
    "        \"rbf\",\n",
    "        #\"poly\",\n",
    "        \"gak\",\n",
    "        #\"truncated sig\",\n",
    "        #\"truncated sig rbf\",\n",
    "        #\"truncated sig poly\",\n",
    "        #\"signature pde\",\n",
    "        \"signature pde rbf\",\n",
    "        #\"signature pde poly\",\n",
    "        #\"integral linear\",\n",
    "        \"integral rbf\",\n",
    "        #\"integral poly\",\n",
    "        ],\n",
    "        k=4,\n",
    "        n_repeats=1,\n",
    "        n_jobs_repeats=1,\n",
    "        n_jobs_gram=4,\n",
    "        verbose=False,\n",
    "        )\n",
    "\n",
    "print(cv_best_models)"
   ]
  },
  {
   "cell_type": "markdown",
   "metadata": {},
   "source": [
    "### Print CV results"
   ]
  },
  {
   "cell_type": "code",
   "execution_count": 8,
   "metadata": {},
   "outputs": [
    {
     "name": "stdout",
     "output_type": "stream",
     "text": [
      "Libras\n",
      "Number of Classes: 15\n",
      "Dimension of path: 2\n",
      "Length: 45\n",
      "Train: 180\n",
      "Test: unknown\n",
      "\n",
      "rbf\n",
      "final_auc_avgs 0.958862433862434\n",
      "params_auc_avgs [0.93465608 0.93518519 0.91746032 0.88955026 0.91653439 0.90582011]\n",
      "thresh_auc_avgs [0.75621693 0.8265873  0.87407407 0.90502646 0.90727513 0.91468254\n",
      " 0.9212963  0.93227513 0.91150794]\n",
      "\n",
      "gak\n",
      "final_auc_avgs 0.9142857142857144\n",
      "params_auc_avgs [0.91428571]\n",
      "thresh_auc_avgs [0.6457672  0.72857143 0.80820106 0.83769841 0.80238095 0.79404762\n",
      " 0.74365079 0.73783069 0.57089947]\n",
      "\n",
      "signature pde\n",
      "final_auc_avgs 0.896031746031746\n",
      "params_auc_avgs [0.89603175]\n",
      "thresh_auc_avgs [0.83677249 0.84444444 0.85357143 0.86428571 0.87050265 0.87103175\n",
      " 0.87685185 0.88148148 0.87579365]\n",
      "\n",
      "integral rbf\n",
      "final_auc_avgs 0.953042328042328\n",
      "params_auc_avgs [0.93518519 0.9281746  0.91560847 0.88915344 0.87896825 0.88108466]\n",
      "thresh_auc_avgs [0.72579365 0.80806878 0.85925926 0.87275132 0.8984127  0.91071429\n",
      " 0.91494709 0.9281746  0.90793651]\n",
      "\n",
      "End dataset \n",
      "\n",
      "\n",
      "\n"
     ]
    }
   ],
   "source": [
    "def average_labels(labelwise_dict:Dict[str, Dict[str, Any]],\n",
    "                          field:str):\n",
    "    \"\"\"Averages the values of a field over the labels.\"\"\"\n",
    "    return np.mean([param_dict[field] for param_dict in labelwise_dict.values()],\n",
    "                   axis=0)\n",
    "\n",
    "\n",
    "def print_cv_tslearn_results(\n",
    "        dataset_kernel_label_paramdict : Dict[str, Dict[str, Dict[str, Any]]],\n",
    "        ):\n",
    "\n",
    "    # return experiments\n",
    "    for dataset_name, results in dataset_kernel_label_paramdict.items():\n",
    "        print(dataset_name)\n",
    "        kernelwise_dict = results[\"kernel_results\"]\n",
    "        n_classes = results['num_classes']\n",
    "        ts_length = results['ts_length']\n",
    "        n_train = results['N_train']\n",
    "        path_dim = results['path dim']\n",
    "        from experiment_code import print_dataset_stats\n",
    "        print_dataset_stats(n_classes, path_dim, ts_length, n_train, \"unknown\")\n",
    "        for kernel_name, labelwise_dict in kernelwise_dict.items():\n",
    "            final_auc_avgs = average_labels(labelwise_dict, \"CV_train_auc\")\n",
    "            params_auc_avgs = average_labels(labelwise_dict, \"auc_params\")\n",
    "            thresh_auc_avgs = average_labels(labelwise_dict, \"auc_thresh\")\n",
    "            print(f\"\\n{kernel_name}\")\n",
    "            print(\"final_auc_avgs\", final_auc_avgs)\n",
    "            print(\"params_auc_avgs\", params_auc_avgs)\n",
    "            print(\"thresh_auc_avgs\", thresh_auc_avgs)\n",
    "            if \"truncated sig\" in kernel_name:\n",
    "                trunc_auc_avgs = average_labels(labelwise_dict, \"auc_truncs\")\n",
    "                print(\"trunc_auc_avgs\", trunc_auc_avgs)\n",
    "        print(\"\\nEnd dataset \\n\\n\\n\")\n",
    "\n",
    "print_cv_tslearn_results(cv_best_models)"
   ]
  },
  {
   "cell_type": "markdown",
   "metadata": {},
   "source": [
    "# (tslearn) Validate on Test"
   ]
  },
  {
   "cell_type": "code",
   "execution_count": 9,
   "metadata": {},
   "outputs": [
    {
     "name": "stdout",
     "output_type": "stream",
     "text": [
      "Libras\n",
      "Number of Classes: 15\n",
      "Dimension of path: 2\n",
      "Length: 45\n",
      "Train: 180\n",
      "Test: 180\n",
      "Covariance operator numerical rank = 3\n",
      "Covariance operator numerical rank = 5\n",
      "Covariance operator numerical rank = 2\n",
      "Covariance operator numerical rank = 8\n",
      "Covariance operator numerical rank = 8\n",
      "Covariance operator numerical rank = 9\n",
      "Covariance operator numerical rank = 1\n",
      "Covariance operator numerical rank = 8\n",
      "Covariance operator numerical rank = 9\n",
      "Covariance operator numerical rank = 7\n",
      "Covariance operator numerical rank = 8\n",
      "Covariance operator numerical rank = 6\n",
      "Covariance operator numerical rank = 7\n",
      "Covariance operator numerical rank = 5\n",
      "Covariance operator numerical rank = 6\n"
     ]
    },
    {
     "name": "stderr",
     "output_type": "stream",
     "text": [
      "Kernel Gram Matrix: 100%|██████████| 78/78 [00:00<00:00, 162.83it/s]\n",
      "Kernel Gram Matrix: 100%|██████████| 2160/2160 [00:00<00:00, 2174.22it/s]\n"
     ]
    },
    {
     "name": "stdout",
     "output_type": "stream",
     "text": [
      "Covariance operator numerical rank = 3\n"
     ]
    },
    {
     "name": "stderr",
     "output_type": "stream",
     "text": [
      "Kernel Gram Matrix: 100%|██████████| 78/78 [00:00<00:00, 1536.92it/s]\n",
      "Kernel Gram Matrix: 100%|██████████| 2160/2160 [00:00<00:00, 2224.32it/s]\n"
     ]
    },
    {
     "name": "stdout",
     "output_type": "stream",
     "text": [
      "Covariance operator numerical rank = 7\n"
     ]
    },
    {
     "name": "stderr",
     "output_type": "stream",
     "text": [
      "Kernel Gram Matrix: 100%|██████████| 78/78 [00:00<00:00, 1599.86it/s]\n",
      "Kernel Gram Matrix: 100%|██████████| 2160/2160 [00:00<00:00, 2238.07it/s]\n"
     ]
    },
    {
     "name": "stdout",
     "output_type": "stream",
     "text": [
      "Covariance operator numerical rank = 2\n"
     ]
    },
    {
     "name": "stderr",
     "output_type": "stream",
     "text": [
      "Kernel Gram Matrix: 100%|██████████| 78/78 [00:00<00:00, 1779.10it/s]\n",
      "Kernel Gram Matrix: 100%|██████████| 2160/2160 [00:00<00:00, 2368.27it/s]\n"
     ]
    },
    {
     "name": "stdout",
     "output_type": "stream",
     "text": [
      "Covariance operator numerical rank = 5\n"
     ]
    },
    {
     "name": "stderr",
     "output_type": "stream",
     "text": [
      "Kernel Gram Matrix: 100%|██████████| 78/78 [00:00<00:00, 1662.39it/s]\n",
      "Kernel Gram Matrix: 100%|██████████| 2160/2160 [00:00<00:00, 2220.34it/s]\n"
     ]
    },
    {
     "name": "stdout",
     "output_type": "stream",
     "text": [
      "Covariance operator numerical rank = 8\n"
     ]
    },
    {
     "name": "stderr",
     "output_type": "stream",
     "text": [
      "Kernel Gram Matrix: 100%|██████████| 78/78 [00:00<00:00, 1572.21it/s]\n",
      "Kernel Gram Matrix: 100%|██████████| 2160/2160 [00:00<00:00, 2386.06it/s]\n"
     ]
    },
    {
     "name": "stdout",
     "output_type": "stream",
     "text": [
      "Covariance operator numerical rank = 5\n"
     ]
    },
    {
     "name": "stderr",
     "output_type": "stream",
     "text": [
      "Kernel Gram Matrix: 100%|██████████| 78/78 [00:00<00:00, 1762.27it/s]\n",
      "Kernel Gram Matrix: 100%|██████████| 2160/2160 [00:00<00:00, 2579.99it/s]\n"
     ]
    },
    {
     "name": "stdout",
     "output_type": "stream",
     "text": [
      "Covariance operator numerical rank = 1\n"
     ]
    },
    {
     "name": "stderr",
     "output_type": "stream",
     "text": [
      "Kernel Gram Matrix: 100%|██████████| 78/78 [00:00<00:00, 1340.80it/s]\n",
      "Kernel Gram Matrix: 100%|██████████| 2160/2160 [00:00<00:00, 2427.81it/s]\n"
     ]
    },
    {
     "name": "stdout",
     "output_type": "stream",
     "text": [
      "Covariance operator numerical rank = 8\n"
     ]
    },
    {
     "name": "stderr",
     "output_type": "stream",
     "text": [
      "Kernel Gram Matrix: 100%|██████████| 78/78 [00:00<00:00, 1886.37it/s]\n",
      "Kernel Gram Matrix: 100%|██████████| 2160/2160 [00:00<00:00, 2446.10it/s]\n"
     ]
    },
    {
     "name": "stdout",
     "output_type": "stream",
     "text": [
      "Covariance operator numerical rank = 2\n"
     ]
    },
    {
     "name": "stderr",
     "output_type": "stream",
     "text": [
      "Kernel Gram Matrix: 100%|██████████| 78/78 [00:00<00:00, 2115.19it/s]\n",
      "Kernel Gram Matrix: 100%|██████████| 2160/2160 [00:00<00:00, 2493.76it/s]\n"
     ]
    },
    {
     "name": "stdout",
     "output_type": "stream",
     "text": [
      "Covariance operator numerical rank = 4\n"
     ]
    },
    {
     "name": "stderr",
     "output_type": "stream",
     "text": [
      "Kernel Gram Matrix: 100%|██████████| 78/78 [00:00<00:00, 1831.28it/s]\n",
      "Kernel Gram Matrix: 100%|██████████| 2160/2160 [00:00<00:00, 2422.16it/s]\n"
     ]
    },
    {
     "name": "stdout",
     "output_type": "stream",
     "text": [
      "Covariance operator numerical rank = 4\n"
     ]
    },
    {
     "name": "stderr",
     "output_type": "stream",
     "text": [
      "Kernel Gram Matrix: 100%|██████████| 78/78 [00:00<00:00, 1738.99it/s]\n",
      "Kernel Gram Matrix: 100%|██████████| 2160/2160 [00:00<00:00, 2521.18it/s]\n"
     ]
    },
    {
     "name": "stdout",
     "output_type": "stream",
     "text": [
      "Covariance operator numerical rank = 7\n"
     ]
    },
    {
     "name": "stderr",
     "output_type": "stream",
     "text": [
      "Kernel Gram Matrix: 100%|██████████| 78/78 [00:00<00:00, 1666.19it/s]\n",
      "Kernel Gram Matrix: 100%|██████████| 2160/2160 [00:00<00:00, 2372.03it/s]\n"
     ]
    },
    {
     "name": "stdout",
     "output_type": "stream",
     "text": [
      "Covariance operator numerical rank = 6\n"
     ]
    },
    {
     "name": "stderr",
     "output_type": "stream",
     "text": [
      "Kernel Gram Matrix: 100%|██████████| 78/78 [00:00<00:00, 1700.40it/s]\n",
      "Kernel Gram Matrix: 100%|██████████| 2160/2160 [00:00<00:00, 2533.08it/s]\n"
     ]
    },
    {
     "name": "stdout",
     "output_type": "stream",
     "text": [
      "Covariance operator numerical rank = 2\n"
     ]
    },
    {
     "name": "stderr",
     "output_type": "stream",
     "text": [
      "Kernel Gram Matrix: 100%|██████████| 78/78 [00:00<00:00, 1852.72it/s]\n",
      "Kernel Gram Matrix: 100%|██████████| 2160/2160 [00:00<00:00, 2346.92it/s]\n"
     ]
    },
    {
     "name": "stdout",
     "output_type": "stream",
     "text": [
      "Covariance operator numerical rank = 4\n"
     ]
    },
    {
     "name": "stderr",
     "output_type": "stream",
     "text": [
      "Kernel Gram Matrix: 100%|██████████| 78/78 [00:00<00:00, 299.87it/s]\n",
      "Kernel Gram Matrix: 100%|██████████| 2160/2160 [00:07<00:00, 298.52it/s]\n"
     ]
    },
    {
     "name": "stdout",
     "output_type": "stream",
     "text": [
      "Covariance operator numerical rank = 1\n"
     ]
    },
    {
     "name": "stderr",
     "output_type": "stream",
     "text": [
      "Kernel Gram Matrix: 100%|██████████| 78/78 [00:00<00:00, 239.01it/s]\n",
      "Kernel Gram Matrix: 100%|██████████| 2160/2160 [00:07<00:00, 289.07it/s]\n"
     ]
    },
    {
     "name": "stdout",
     "output_type": "stream",
     "text": [
      "Covariance operator numerical rank = 8\n"
     ]
    },
    {
     "name": "stderr",
     "output_type": "stream",
     "text": [
      "Kernel Gram Matrix: 100%|██████████| 78/78 [00:00<00:00, 288.31it/s]\n",
      "Kernel Gram Matrix: 100%|██████████| 2160/2160 [00:07<00:00, 285.43it/s]\n"
     ]
    },
    {
     "name": "stdout",
     "output_type": "stream",
     "text": [
      "Covariance operator numerical rank = 6\n"
     ]
    },
    {
     "name": "stderr",
     "output_type": "stream",
     "text": [
      "Kernel Gram Matrix: 100%|██████████| 78/78 [00:00<00:00, 273.28it/s]\n",
      "Kernel Gram Matrix: 100%|██████████| 2160/2160 [00:07<00:00, 294.38it/s]\n"
     ]
    },
    {
     "name": "stdout",
     "output_type": "stream",
     "text": [
      "Covariance operator numerical rank = 6\n"
     ]
    },
    {
     "name": "stderr",
     "output_type": "stream",
     "text": [
      "Kernel Gram Matrix: 100%|██████████| 78/78 [00:00<00:00, 286.56it/s]\n",
      "Kernel Gram Matrix: 100%|██████████| 2160/2160 [00:07<00:00, 300.73it/s]\n"
     ]
    },
    {
     "name": "stdout",
     "output_type": "stream",
     "text": [
      "Covariance operator numerical rank = 3\n"
     ]
    },
    {
     "name": "stderr",
     "output_type": "stream",
     "text": [
      "Kernel Gram Matrix: 100%|██████████| 78/78 [00:00<00:00, 308.83it/s]\n",
      "Kernel Gram Matrix: 100%|██████████| 2160/2160 [00:08<00:00, 243.34it/s]\n"
     ]
    },
    {
     "name": "stdout",
     "output_type": "stream",
     "text": [
      "Covariance operator numerical rank = 1\n"
     ]
    },
    {
     "name": "stderr",
     "output_type": "stream",
     "text": [
      "Kernel Gram Matrix: 100%|██████████| 78/78 [00:00<00:00, 203.97it/s]\n",
      "Kernel Gram Matrix: 100%|██████████| 2160/2160 [00:08<00:00, 249.78it/s]\n"
     ]
    },
    {
     "name": "stdout",
     "output_type": "stream",
     "text": [
      "Covariance operator numerical rank = 7\n"
     ]
    },
    {
     "name": "stderr",
     "output_type": "stream",
     "text": [
      "Kernel Gram Matrix: 100%|██████████| 78/78 [00:00<00:00, 223.12it/s]\n",
      "Kernel Gram Matrix: 100%|██████████| 2160/2160 [00:07<00:00, 290.77it/s]\n"
     ]
    },
    {
     "name": "stdout",
     "output_type": "stream",
     "text": [
      "Covariance operator numerical rank = 3\n"
     ]
    },
    {
     "name": "stderr",
     "output_type": "stream",
     "text": [
      "Kernel Gram Matrix: 100%|██████████| 78/78 [00:00<00:00, 300.60it/s]\n",
      "Kernel Gram Matrix: 100%|██████████| 2160/2160 [00:07<00:00, 306.43it/s]\n"
     ]
    },
    {
     "name": "stdout",
     "output_type": "stream",
     "text": [
      "Covariance operator numerical rank = 4\n"
     ]
    },
    {
     "name": "stderr",
     "output_type": "stream",
     "text": [
      "Kernel Gram Matrix: 100%|██████████| 78/78 [00:00<00:00, 253.41it/s]\n",
      "Kernel Gram Matrix: 100%|██████████| 2160/2160 [00:07<00:00, 273.00it/s]\n"
     ]
    },
    {
     "name": "stdout",
     "output_type": "stream",
     "text": [
      "Covariance operator numerical rank = 4\n"
     ]
    },
    {
     "name": "stderr",
     "output_type": "stream",
     "text": [
      "Kernel Gram Matrix: 100%|██████████| 78/78 [00:00<00:00, 245.83it/s]\n",
      "Kernel Gram Matrix: 100%|██████████| 2160/2160 [00:07<00:00, 272.11it/s]\n"
     ]
    },
    {
     "name": "stdout",
     "output_type": "stream",
     "text": [
      "Covariance operator numerical rank = 4\n"
     ]
    },
    {
     "name": "stderr",
     "output_type": "stream",
     "text": [
      "Kernel Gram Matrix: 100%|██████████| 78/78 [00:00<00:00, 291.06it/s]\n",
      "Kernel Gram Matrix: 100%|██████████| 2160/2160 [00:07<00:00, 298.99it/s]\n"
     ]
    },
    {
     "name": "stdout",
     "output_type": "stream",
     "text": [
      "Covariance operator numerical rank = 9\n"
     ]
    },
    {
     "name": "stderr",
     "output_type": "stream",
     "text": [
      "Kernel Gram Matrix: 100%|██████████| 78/78 [00:00<00:00, 307.61it/s]\n",
      "Kernel Gram Matrix: 100%|██████████| 2160/2160 [00:07<00:00, 273.57it/s]\n"
     ]
    },
    {
     "name": "stdout",
     "output_type": "stream",
     "text": [
      "Covariance operator numerical rank = 5\n"
     ]
    },
    {
     "name": "stderr",
     "output_type": "stream",
     "text": [
      "Kernel Gram Matrix: 100%|██████████| 78/78 [00:00<00:00, 257.46it/s]\n",
      "Kernel Gram Matrix: 100%|██████████| 2160/2160 [00:07<00:00, 273.17it/s]\n"
     ]
    },
    {
     "name": "stdout",
     "output_type": "stream",
     "text": [
      "Covariance operator numerical rank = 4\n"
     ]
    },
    {
     "name": "stderr",
     "output_type": "stream",
     "text": [
      "Kernel Gram Matrix: 100%|██████████| 78/78 [00:00<00:00, 258.69it/s]\n",
      "Kernel Gram Matrix: 100%|██████████| 2160/2160 [00:07<00:00, 280.74it/s]\n"
     ]
    },
    {
     "name": "stdout",
     "output_type": "stream",
     "text": [
      "Covariance operator numerical rank = 4\n",
      "Covariance operator numerical rank = 3\n",
      "Covariance operator numerical rank = 6\n",
      "Covariance operator numerical rank = 2\n",
      "Covariance operator numerical rank = 8\n",
      "Covariance operator numerical rank = 6\n",
      "Covariance operator numerical rank = 8\n",
      "Covariance operator numerical rank = 2\n",
      "Covariance operator numerical rank = 8\n",
      "Covariance operator numerical rank = 8\n",
      "Covariance operator numerical rank = 8\n",
      "Covariance operator numerical rank = 8\n",
      "Covariance operator numerical rank = 6\n",
      "Covariance operator numerical rank = 6\n",
      "Covariance operator numerical rank = 5\n",
      "Covariance operator numerical rank = 6\n"
     ]
    }
   ],
   "source": [
    "from experiment_code import validate_tslearn\n",
    "\n",
    "test_results_tslearn = validate_tslearn(cv_best_models)"
   ]
  },
  {
   "cell_type": "markdown",
   "metadata": {},
   "source": [
    "### Print test results"
   ]
  },
  {
   "cell_type": "code",
   "execution_count": 10,
   "metadata": {},
   "outputs": [
    {
     "name": "stdout",
     "output_type": "stream",
     "text": [
      "Dataset: Libras\n",
      "Number of Classes: 15\n",
      "Dimension of path: 2\n",
      "Length: 45\n",
      "Train: 180\n",
      "Test: 180\n",
      "\n",
      "Kernel: rbf\n",
      "Conformance AUC: 0.9297\n",
      "Mahalanobis AUC: 0.67533\n",
      "Conformance PR AUC: 0.9907\n",
      "Mahalanobis PR AUC: 0.94469\n",
      "\n",
      "Kernel: gak\n",
      "Conformance AUC: 0.85539\n",
      "Mahalanobis AUC: 0.09514\n",
      "Conformance PR AUC: 0.97347\n",
      "Mahalanobis PR AUC: 0.83018\n",
      "\n",
      "Kernel: signature pde\n",
      "Conformance AUC: 0.87255\n",
      "Mahalanobis AUC: 0.83267\n",
      "Conformance PR AUC: 0.98736\n",
      "Mahalanobis PR AUC: 0.98396\n",
      "\n",
      "Kernel: integral rbf\n",
      "Conformance AUC: 0.92371\n",
      "Mahalanobis AUC: 0.74358\n",
      "Conformance PR AUC: 0.99101\n",
      "Mahalanobis PR AUC: 0.96143\n",
      "\n",
      "End Dataset\n",
      "\n",
      "\n",
      "\n"
     ]
    }
   ],
   "source": [
    "def print_experiment_results(experiments, round_digits=5):\n",
    "    for dataset_name, results in experiments.items():\n",
    "        #Dataset:\n",
    "        print(\"Dataset:\", dataset_name)\n",
    "        print_dataset_stats(results[\"num_classes\"], results[\"path dim\"], \n",
    "                            results[\"ts_length\"], results[\"N_train\"], \n",
    "                            results[\"N_test\"])\n",
    "\n",
    "        #Results for each kernel:\n",
    "        for kernel_name, scores in results[\"results\"].items():\n",
    "            print(\"\\nKernel:\", kernel_name)\n",
    "            print(\"Conformance AUC:\", round(scores[0, 0], round_digits))\n",
    "            print(\"Mahalanobis AUC:\", round(scores[1, 0], round_digits))\n",
    "            print(\"Conformance PR AUC:\", round(scores[0, 1], round_digits))\n",
    "            print(\"Mahalanobis PR AUC:\", round(scores[1, 1], round_digits))\n",
    "\n",
    "        print(\"\\nEnd Dataset\\n\\n\\n\")\n",
    "\n",
    "\n",
    "print_experiment_results(test_results_tslearn)"
   ]
  }
 ],
 "metadata": {
  "kernelspec": {
   "display_name": "Python 3",
   "language": "python",
   "name": "python3"
  },
  "language_info": {
   "codemirror_mode": {
    "name": "ipython",
    "version": 3
   },
   "file_extension": ".py",
   "mimetype": "text/x-python",
   "name": "python",
   "nbconvert_exporter": "python",
   "pygments_lexer": "ipython3",
   "version": "3.11.7"
  }
 },
 "nbformat": 4,
 "nbformat_minor": 2
}
