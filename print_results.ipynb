{
 "cells": [
  {
   "cell_type": "code",
   "execution_count": 1,
   "metadata": {},
   "outputs": [],
   "source": [
    "import numpy as np\n",
    "from typing import List, Optional, Dict, Set, Callable, Any, Literal\n",
    "from joblib import Memory, Parallel, delayed\n",
    "import torch\n",
    "from torch import Tensor\n",
    "\n",
    "from experiments.cross_validation import cv_UEA, print_cv_results\n",
    "from experiments.eval_on_test import validate_UEA, print_test_results\n",
    "from experiments.utils import join_dicts_from_pickle_paths, save_to_pickle, print_latex_results, load_dataset\n",
    "from experiments.experiment_code import run_all_kernels"
   ]
  },
  {
   "cell_type": "markdown",
   "metadata": {},
   "source": [
    "# Cross Validation on Train"
   ]
  },
  {
   "cell_type": "code",
   "execution_count": 2,
   "metadata": {},
   "outputs": [
    {
     "name": "stdout",
     "output_type": "stream",
     "text": [
      "Dataset: Epilepsy\n",
      "Number of Classes: 4\n",
      "Dimension of path: 3\n",
      "Length: 206\n",
      "Train: 137\n",
      "Test: N/A\n"
     ]
    },
    {
     "name": "stderr",
     "output_type": "stream",
     "text": [
      "Label for flat linear: 100%|██████████| 4/4 [00:14<00:00,  3.64s/it]\n"
     ]
    },
    {
     "name": "stdout",
     "output_type": "stream",
     "text": [
      "Time taken for kernel flat linear: 14.560844898223877 seconds\n"
     ]
    },
    {
     "name": "stderr",
     "output_type": "stream",
     "text": [
      "Label for rand sig tanh: 100%|██████████| 4/4 [05:33<00:00, 83.41s/it]"
     ]
    },
    {
     "name": "stdout",
     "output_type": "stream",
     "text": [
      "Time taken for kernel rand sig tanh: 333.6274571418762 seconds\n",
      "Time taken for dataset Epilepsy: 348.19101572036743 seconds\n",
      "\n",
      "\n",
      "\n"
     ]
    },
    {
     "name": "stderr",
     "output_type": "stream",
     "text": [
      "\n"
     ]
    }
   ],
   "source": [
    "cv_results = cv_UEA(\n",
    "    dataset_names = [\n",
    "        'Epilepsy',                    # N_corpus = 34\n",
    "        # 'EthanolConcentration',        # N_corpus = 65\n",
    "        # 'FingerMovements',             # N_corpus = 158\n",
    "        # 'HandMovementDirection',       # N_corpus = 40\n",
    "        # 'Heartbeat',                   # N_corpus = 102\n",
    "        # 'LSST',                        # N_corpus = 176\n",
    "        # 'MotorImagery',                # N_corpus = 139\n",
    "        # 'PenDigits',                   # N_corpus = 749\n",
    "        # 'PEMS-SF',                     # N_corpus = 38\n",
    "        # 'PhonemeSpectra',              # N_corpus = 85\n",
    "        # 'RacketSports',                # N_corpus = 38\n",
    "        # 'SelfRegulationSCP1',          # N_corpus = 134\n",
    "        ],\n",
    "    kernel_names = [\n",
    "            \"flat linear\",\n",
    "            # \"flat rbf\",\n",
    "            # \"flat poly\",\n",
    "            # \"integral rbf\",\n",
    "            # \"integral poly\",\n",
    "            # \"trunc sig linear\",\n",
    "            # \"trunc sig rbf\",\n",
    "            # \"pde sig rbf\",\n",
    "            \"rand sig tanh\",\n",
    "            # \"gak\",\n",
    "            #\"reservoir\",\n",
    "        ],\n",
    "        k_folds=3,\n",
    "        n_repeats=1,\n",
    "        verbose=False,\n",
    "        )"
   ]
  },
  {
   "cell_type": "code",
   "execution_count": null,
   "metadata": {},
   "outputs": [],
   "source": [
    "print_cv_results(cv_results)\n",
    "save_to_pickle(cv_results, \"Data/cv_dummy.pkl\")"
   ]
  },
  {
   "cell_type": "markdown",
   "metadata": {},
   "source": [
    "# Validate on Test"
   ]
  },
  {
   "cell_type": "code",
   "execution_count": 3,
   "metadata": {},
   "outputs": [
    {
     "name": "stdout",
     "output_type": "stream",
     "text": [
      "Start validation on test sets\n",
      "Epilepsy\n",
      "Number of Classes: 4\n",
      "Dimension of path: 3\n",
      "Length: 206\n",
      "Train: 137\n",
      "Test: 137\n",
      "Kernel: flat linear\n",
      "Kernel: rand sig tanh\n",
      "Kernel: flat linear\n",
      "Kernel: rand sig tanh\n",
      "Total elapsed time for Epilepsy: 0.8382525970000643 seconds\n",
      "\n",
      "End validation on test sets\n",
      "\n",
      "\n",
      "\n",
      "Test Results\n",
      "\n",
      "Dataset: Epilepsy\n",
      "Number of Classes: 4\n",
      "Dimension of path: 3\n",
      "Length: 206\n",
      "Train: 137\n",
      "Test: 137\n",
      "\n",
      "Kernel: flat linear\n",
      "Conformance AUC: 1.0\n",
      "Conformance PR AUC: 1.0\n",
      "\n",
      "Kernel: rand sig tanh\n",
      "Conformance AUC: 1.0\n",
      "Conformance PR AUC: 1.0\n",
      "\n",
      "Kernel: flat linear\n",
      "Mahalanobis AUC: 0.692\n",
      "Mahalanobis PR AUC: 0.461\n",
      "\n",
      "Kernel: rand sig tanh\n",
      "Mahalanobis AUC: 0.533\n",
      "Mahalanobis PR AUC: 0.374\n",
      "\n",
      "End Dataset\n",
      "\n",
      "\n",
      "\n"
     ]
    }
   ],
   "source": [
    "test_results = validate_UEA(cv_results, verbose=False, device=\"cuda\")\n",
    "print_test_results(test_results)"
   ]
  },
  {
   "cell_type": "code",
   "execution_count": null,
   "metadata": {},
   "outputs": [],
   "source": [
    "print(test_results)"
   ]
  },
  {
   "cell_type": "markdown",
   "metadata": {},
   "source": [
    "# Validate on Test and Save"
   ]
  },
  {
   "cell_type": "code",
   "execution_count": null,
   "metadata": {},
   "outputs": [],
   "source": [
    "for dataset_name, cv_res in cv_results.items():\n",
    "    test_results = validate_UEA({dataset_name : cv_res}, verbose=True, device=\"cuda\")\n",
    "    save_to_pickle(test_results, f\"Data/results_{dataset_name}.pkl\")"
   ]
  },
  {
   "cell_type": "markdown",
   "metadata": {},
   "source": [
    "# Read CV data from file and print results"
   ]
  },
  {
   "cell_type": "code",
   "execution_count": null,
   "metadata": {},
   "outputs": [],
   "source": [
    "# Load the cross validation results\n",
    "cv_results = join_dicts_from_pickle_paths(\n",
    "    [\n",
    "    \"Data/cv_Epilepsy.pkl\",\n",
    "    \"Data/cv_EthanolConcentration.pkl\",\n",
    "    \"Data/cv_FingerMovements.pkl\",\n",
    "    \"Data/cv_HandMovementDirection.pkl\",\n",
    "    \"Data/cv_Heartbeat.pkl\",\n",
    "    \"Data/cv_LSST.pkl\",\n",
    "    \"Data/cv_MotorImagery.pkl\",\n",
    "    \"Data/cv_PEMS-SF.pkl\",\n",
    "    \"Data/cv_PhonemeSpectra.pkl\",\n",
    "    \"Data/cv_RacketSports.pkl\",\n",
    "    \"Data/cv_SelfRegulationSCP1.pkl\",\n",
    "    \"Data/cv_SelfRegulationSCP2.pkl\",\n",
    "    ])\n",
    "print_cv_results(cv_results)"
   ]
  },
  {
   "cell_type": "code",
   "execution_count": null,
   "metadata": {},
   "outputs": [],
   "source": [
    "test_results = join_dicts_from_pickle_paths([\n",
    "    \"Data/results_Epilepsy.pkl\",\n",
    "    \"Data/results_EthanolConcentration.pkl\",\n",
    "    \"Data/results_FingerMovements.pkl\",\n",
    "    \"Data/results_HandMovementDirection.pkl\",\n",
    "    \"Data/results_Heartbeat.pkl\",\n",
    "    \"Data/results_LSST.pkl\",\n",
    "    \"Data/results_MotorImagery.pkl\",\n",
    "    \"Data/results_PEMS-SF.pkl\",\n",
    "    \"Data/results_PhonemeSpectra.pkl\",\n",
    "    \"Data/results_RacketSports.pkl\",\n",
    "    \"Data/results_SelfRegulationSCP1.pkl\",\n",
    "    \"Data/results_SelfRegulationSCP2.pkl\",\n",
    "                                             ])\n",
    "print_latex_results(test_results, round_digits=2)\n",
    "print_latex_results(test_results, round_digits=3)"
   ]
  },
  {
   "cell_type": "markdown",
   "metadata": {},
   "source": [
    "# Print distribution of CV params"
   ]
  },
  {
   "cell_type": "code",
   "execution_count": 5,
   "metadata": {},
   "outputs": [],
   "source": [
    "import matplotlib.pyplot as plt\n",
    "\n",
    "all_datasets = [\n",
    "    \"Epilepsy\",\n",
    "    \"EthanolConcentration\",\n",
    "    \"FingerMovements\",\n",
    "    \"HandMovementDirection\",\n",
    "    \"Heartbeat\",\n",
    "    \"LSST\",\n",
    "    \"MotorImagery\",\n",
    "    \"PEMS-SF\",\n",
    "    \"PhonemeSpectra\",\n",
    "    \"RacketSports\",\n",
    "    \"SelfRegulationSCP1\",\n",
    "    \"SelfRegulationSCP2\",\n",
    "    ]\n",
    "\n",
    "all_kernels = [\n",
    "    \"flat linear\",\n",
    "    \"flat rbf\",\n",
    "    \"flat poly\",\n",
    "    \"integral rbf\",\n",
    "    \"integral poly\",\n",
    "    \"trunc sig linear\",\n",
    "    \"trunc sig rbf\",\n",
    "    \"pde sig rbf\",\n",
    "    \"gak\",\n",
    "    \"reservoir\",\n",
    "    ]\n",
    "\n",
    "\n",
    "def plot_cv_params_single_kernel(\n",
    "        cv_results:Dict,\n",
    "        param_name:str = \"sigma\", \n",
    "        kernel_name:str = \"flat rbf\", \n",
    "        datasets:Optional[List[str]] = None, \n",
    "        n_bins:int = 30,\n",
    "    ):\n",
    "    \"\"\"\n",
    "    For each dataset, plot the histogram of the best parameter\n",
    "    values specified by 'param_name' for the kerenl \"kernel_name\".\n",
    "    \"\"\"\n",
    "    if datasets is None:\n",
    "        datasets = list(cv_results.keys())\n",
    "\n",
    "    l = []\n",
    "    for dataset_name, results in cv_results.items():\n",
    "        if dataset_name in datasets:\n",
    "            for anomaly_method in [\"conf_results\", \"mahal_results\"]:\n",
    "                kernelwise_dict = results[anomaly_method]\n",
    "                for ker, labelwise_dict in kernelwise_dict.items():\n",
    "                    for label, param_dict in labelwise_dict.items():\n",
    "                        if ker == kernel_name:\n",
    "                            l.append(param_dict[param_name])\n",
    "    l = np.array(l)\n",
    "    l.sort()\n",
    "    l = l.astype(str)\n",
    "\n",
    "    plt.hist(l, n_bins)\n",
    "    plt.xlabel(param_name)\n",
    "    plt.ylabel(\"Frequency\")\n",
    "    plt.title(f\"Kernel: {kernel_name}\")\n",
    "    plt.xticks(rotation='vertical')\n",
    "    plt.show()\n",
    "\n",
    "\n",
    "\n",
    "def plot_cv_params_all_kernels(\n",
    "        cv_results:Dict,\n",
    "        param_name:str = \"sigma\",\n",
    "        kernels:Optional[List[str]] = None, \n",
    "        datasets:Optional[List[str]] = None,\n",
    "        n_bins:int = 30,\n",
    "    ):\n",
    "    \"\"\"\n",
    "    For each dataset, plot the histogram of the best parameter\n",
    "    values specified by 'param_name' for all the kernels.\n",
    "    \"\"\"\n",
    "    if datasets is None:\n",
    "        datasets = list(cv_results.keys())\n",
    "    if kernels is None:\n",
    "        kernels = list(cv_results[datasets[0]][\"conf_results\"].keys())\n",
    "\n",
    "    l = []\n",
    "    for dataset_name, results in cv_results.items():\n",
    "        if dataset_name in datasets:\n",
    "            for anomaly_method in [\"conf_results\", \"mahal_results\"]:\n",
    "                kernelwise_dict = results[anomaly_method]\n",
    "                for kernel_name, labelwise_dict in kernelwise_dict.items():\n",
    "                    if kernel_name in kernels:\n",
    "                        for label, param_dict in labelwise_dict.items():\n",
    "                            if kernel_name == kernel_name:\n",
    "                                if param_name in param_dict:\n",
    "                                    l.append(param_dict[param_name])\n",
    "    l = np.array(l)\n",
    "    l.sort()\n",
    "    l = l.astype(str)\n",
    "\n",
    "    plt.hist(l, n_bins)\n",
    "    plt.xlabel(param_name)\n",
    "    plt.ylabel(\"Frequency\")\n",
    "    plt.title(f\"All datasets: {param_name}\")\n",
    "    plt.xticks(rotation='vertical')\n",
    "    plt.show()"
   ]
  },
  {
   "cell_type": "code",
   "execution_count": 6,
   "metadata": {},
   "outputs": [
    {
     "data": {
      "image/png": "[encoded data removed]",
      "text/plain": [
       "<Figure size 640x480 with 1 Axes>"
      ]
     },
     "metadata": {},
     "output_type": "display_data"
    },
    {
     "data": {
      "image/png": "[encoded data removed]",
      "text/plain": [
       "<Figure size 640x480 with 1 Axes>"
      ]
     },
     "metadata": {},
     "output_type": "display_data"
    },
    {
     "data": {
      "image/png": "[encoded data removed]",
      "text/plain": [
       "<Figure size 640x480 with 1 Axes>"
      ]
     },
     "metadata": {},
     "output_type": "display_data"
    },
    {
     "data": {
      "image/png": "[encoded data removed]",
      "text/plain": [
       "<Figure size 640x480 with 1 Axes>"
      ]
     },
     "metadata": {},
     "output_type": "display_data"
    }
   ],
   "source": [
    "plot_cv_params_all_kernels(cv_results, \"alpha\")\n",
    "plot_cv_params_all_kernels(cv_results, \"threshold\")\n",
    "plot_cv_params_all_kernels(cv_results, \"normalize\")\n",
    "plot_cv_params_all_kernels(cv_results, \"time\")"
   ]
  },
  {
   "cell_type": "code",
   "execution_count": 8,
   "metadata": {},
   "outputs": [
    {
     "data": {
      "image/png": "[encoded data removed]",
      "text/plain": [
       "<Figure size 640x480 with 1 Axes>"
      ]
     },
     "metadata": {},
     "output_type": "display_data"
    }
   ],
   "source": [
    "plot_cv_params_single_kernel(cv_results, \"n_features\", \"rand sig tanh\")"
   ]
  },
  {
   "cell_type": "markdown",
   "metadata": {},
   "source": [
    "# Run specific param_dict on specific dataset"
   ]
  },
  {
   "cell_type": "code",
   "execution_count": null,
   "metadata": {},
   "outputs": [],
   "source": [
    "import torch\n",
    "from typing import Dict\n",
    "from experiments.experiment_code import run_all_kernels\n",
    "from experiments.utils import load_dataset\n",
    "import numpy as np\n",
    "def run_specific_param_dict(\n",
    "        dataset_name:str, \n",
    "        param_dict:Dict,\n",
    "        verbose:bool = False,\n",
    "        device=\"cuda\",\n",
    "    ):    \n",
    "    \"\"\"Runs the specific param_dict on a dataset.\n",
    "    \n",
    "    Args:\n",
    "        dataset_name (str): Name of the dataset.\n",
    "        param_dict (Dict): Dictionary of parameters.\n",
    "        verbose (bool): Verbosity.\n",
    "        device (str): Device for PyTorch computation.\n",
    "        \"\"\"\n",
    "    X_train, y_train, X_test, y_test = load_dataset(dataset_name)\n",
    "    X_train = torch.from_numpy(X_train).to(device)\n",
    "    X_test = torch.from_numpy(X_test).to(device)\n",
    "    unique_labels = np.unique(y_train)\n",
    "    kernel_name = param_dict[\"kernel_name\"]\n",
    "\n",
    "    #create kernelwise dict\n",
    "    kernelwise_dict = {kernel_name: {label: param_dict for label in unique_labels}}\n",
    "\n",
    "    results = run_all_kernels(X_train, y_train, X_test, y_test, \n",
    "                        unique_labels, kernelwise_dict, verbose)\n",
    "    aucs = results[kernel_name]\n",
    "    print(\"Conf ROCAUC\\t\", aucs[0,0])\n",
    "    print(\"Conf PRAUC\\t\", aucs[0,1])\n",
    "    print(\"Mah ROCAUC\\t\", aucs[1,0])\n",
    "    print(\"Mah PRAUC\\t\", aucs[1,1])\n",
    "    return results\n",
    "\n",
    "\n",
    "# General Parameters\n",
    "param_dict = {\n",
    "    \"alpha\": 0.0001,\n",
    "    \"threshold\": 20,\n",
    "    \"normalize\": True,\n",
    "    \"time\": \"\",\n",
    "    \"basepoint\": \"basepoint\",\n",
    "}\n",
    "\n",
    "\n",
    "# Kernel Specific Parameters\n",
    "param_dict[\"kernel_name\"] = \"trunc sig linear\"\n",
    "param_dict[\"order\"] = 5\n",
    "param_dict[\"sigma\"] = 1.4\n",
    "param_dict[\"scale\"] = 10\n",
    "param_dict[\"gak_factor\"] = 10\n",
    "param_dict[\"dyadic_order\"] = 3\n",
    "param_dict[\"gamma\"] = 0.9999999\n",
    "param_dict[\"tau\"] = 1/5.5/np.sqrt(10)\n",
    "\n",
    "\n",
    "res = run_specific_param_dict(\"RacketSports\", param_dict, verbose=True)"
   ]
  },
  {
   "cell_type": "code",
   "execution_count": null,
   "metadata": {},
   "outputs": [],
   "source": [
    "\n",
    "datasets = [\n",
    "        'CharacterTrajectories',       # N_corpus = \n",
    "        'Epilepsy',                    # N_corpus = 34\n",
    "        'EthanolConcentration',        # N_corpus = 65\n",
    "        'FingerMovements',             # N_corpus = 158\n",
    "        'HandMovementDirection',       # N_corpus = 40\n",
    "        'Heartbeat',                   # N_corpus = 102\n",
    "        'LSST',                        # N_corpus = 176, N_train = 3000 ish\n",
    "        'MotorImagery',                # N_corpus = 139\n",
    "        'PEMS-SF',                     # N_corpus = 38\n",
    "        'PhonemeSpectra',              # N_corpus = 85, N_train = 3000 ish\n",
    "        'RacketSports',                # N_corpus = 38\n",
    "        'SelfRegulationSCP1',          # N_corpus = 134\n",
    "        'SelfRegulationSCP2',          # N_corpus = 100\n",
    "        ]\n",
    "\n",
    "import pickle\n",
    "from typing import List, Optional, Dict, Set, Callable, Any, Literal\n",
    "import numpy as np\n",
    "from aeon.datasets import load_classification\n",
    "from aeon.datasets import load_from_tsfile\n",
    "\n",
    "\n",
    "\n",
    "def load_dataset(dataset_name:str):\n",
    "    \"\"\"Loads a dataset from the UCR/UEA archive using \n",
    "    the aeon library.\n",
    "\n",
    "    Args:\n",
    "        dataset_name (str): Name of the dataset\n",
    "\n",
    "    Returns:\n",
    "        Tuple: 4-tuple of the form (X_train, y_train, X_test, y_test)\n",
    "    \"\"\"\n",
    "    if dataset_name == \"CharacterTrajectories\":\n",
    "        X_train, y_train = load_from_tsfile(\"Data/CharacterTrajectories_eq_TRAIN.ts\")\n",
    "        X_test, y_test = load_from_tsfile(\"Data/CharacterTrajectories_eq_TEST.ts\")\n",
    "\n",
    "    else:\n",
    "        X_train, y_train = load_classification(dataset_name, split=\"train\")\n",
    "        X_test, y_test = load_classification(dataset_name, split=\"train\")\n",
    "\n",
    "    return X_train.transpose(0, 2, 1), y_train, X_test.transpose(0, 2, 1), y_test\n",
    "\n",
    "for dataset_name in datasets:\n",
    "    X_train, y_train, X_test, y_test = load_dataset(dataset_name)\n",
    "    print(X_train.shape)"
   ]
  }
 ],
 "metadata": {
  "kernelspec": {
   "display_name": "Python 3",
   "language": "python",
   "name": "python3"
  },
  "language_info": {
   "codemirror_mode": {
    "name": "ipython",
    "version": 3
   },
   "file_extension": ".py",
   "mimetype": "text/x-python",
   "name": "python",
   "nbconvert_exporter": "python",
   "pygments_lexer": "ipython3",
   "version": "3.11.8"
  }
 },
 "nbformat": 4,
 "nbformat_minor": 2
}
