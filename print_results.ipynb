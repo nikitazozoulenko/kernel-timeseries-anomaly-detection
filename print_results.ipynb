{
 "cells": [
  {
   "cell_type": "code",
   "execution_count": 1,
   "metadata": {},
   "outputs": [],
   "source": [
    "import numpy as np\n",
    "from typing import List, Optional, Dict, Set, Callable, Any, Literal\n",
    "from joblib import Memory, Parallel, delayed\n",
    "import tslearn\n",
    "import tslearn.metrics\n",
    "from tslearn.datasets import UCR_UEA_datasets\n",
    "\n",
    "from experiments.cross_validation import cv_tslearn, print_cv_results\n",
    "from experiments.eval_on_test import validate_tslearn, print_test_results\n",
    "from experiments.utils import join_dicts_from_pickle_paths, save_to_pickle, print_latex_results"
   ]
  },
  {
   "cell_type": "markdown",
   "metadata": {},
   "source": [
    "# Cross Validation on Train"
   ]
  },
  {
   "cell_type": "code",
   "execution_count": 2,
   "metadata": {},
   "outputs": [
    {
     "name": "stdout",
     "output_type": "stream",
     "text": [
      "Dataset: NATOPS\n",
      "Number of Classes: 6\n",
      "Dimension of path: 24\n",
      "Length: 51\n",
      "Train: 180\n",
      "Test: N/A\n"
     ]
    },
    {
     "name": "stderr",
     "output_type": "stream",
     "text": [
      "Label for linear: 100%|██████████| 6/6 [00:02<00:00,  2.19it/s]\n"
     ]
    },
    {
     "name": "stdout",
     "output_type": "stream",
     "text": [
      "Time taken for kernel linear: 2.7416043281555176 seconds\n"
     ]
    },
    {
     "name": "stderr",
     "output_type": "stream",
     "text": [
      "Label for rbf: 100%|██████████| 6/6 [00:17<00:00,  2.86s/it]\n"
     ]
    },
    {
     "name": "stdout",
     "output_type": "stream",
     "text": [
      "Time taken for kernel rbf: 17.186774969100952 seconds\n"
     ]
    },
    {
     "name": "stderr",
     "output_type": "stream",
     "text": [
      "Label for poly: 100%|██████████| 6/6 [00:12<00:00,  2.10s/it]\n"
     ]
    },
    {
     "name": "stdout",
     "output_type": "stream",
     "text": [
      "Time taken for kernel poly: 12.588505983352661 seconds\n"
     ]
    },
    {
     "name": "stderr",
     "output_type": "stream",
     "text": [
      "Label for integral rbf: 100%|██████████| 6/6 [00:17<00:00,  2.99s/it]\n"
     ]
    },
    {
     "name": "stdout",
     "output_type": "stream",
     "text": [
      "Time taken for kernel integral rbf: 17.971454858779907 seconds\n"
     ]
    },
    {
     "name": "stderr",
     "output_type": "stream",
     "text": [
      "Label for integral poly: 100%|██████████| 6/6 [00:12<00:00,  2.12s/it]\n"
     ]
    },
    {
     "name": "stdout",
     "output_type": "stream",
     "text": [
      "Time taken for kernel integral poly: 12.734068155288696 seconds\n"
     ]
    },
    {
     "name": "stderr",
     "output_type": "stream",
     "text": [
      "Label for truncated sig: 100%|██████████| 6/6 [29:09<00:00, 291.66s/it]\n"
     ]
    },
    {
     "name": "stdout",
     "output_type": "stream",
     "text": [
      "Time taken for kernel truncated sig: 1749.9360253810883 seconds\n"
     ]
    },
    {
     "name": "stderr",
     "output_type": "stream",
     "text": [
      "Label for truncated sig rbf: 100%|██████████| 6/6 [41:45<00:00, 417.53s/it]\n"
     ]
    },
    {
     "name": "stdout",
     "output_type": "stream",
     "text": [
      "Time taken for kernel truncated sig rbf: 2505.1692292690277 seconds\n"
     ]
    },
    {
     "name": "stderr",
     "output_type": "stream",
     "text": [
      "Label for signature pde rbf:   0%|          | 0/6 [00:00<?, ?it/s]/home/nikita/Code/kernel-timeseries-anomaly-detection/.conda/lib/python3.11/site-packages/joblib/externals/loky/process_executor.py:752: UserWarning: A worker stopped while some jobs were given to the executor. This can be caused by a too short worker timeout or by a memory leak.\n",
      "  warnings.warn(\n",
      "Label for signature pde rbf: 100%|██████████| 6/6 [03:18<00:00, 33.11s/it]\n"
     ]
    },
    {
     "name": "stdout",
     "output_type": "stream",
     "text": [
      "Time taken for kernel signature pde rbf: 198.65954566001892 seconds\n"
     ]
    },
    {
     "name": "stderr",
     "output_type": "stream",
     "text": [
      "Label for gak: 100%|██████████| 6/6 [01:14<00:00, 12.46s/it]"
     ]
    },
    {
     "name": "stdout",
     "output_type": "stream",
     "text": [
      "Time taken for kernel gak: 74.74281096458435 seconds\n",
      "Time taken for dataset NATOPS: 4591.739802837372 seconds\n",
      "\n",
      "\n",
      "\n"
     ]
    },
    {
     "name": "stderr",
     "output_type": "stream",
     "text": [
      "\n"
     ]
    }
   ],
   "source": [
    "cv_results = cv_tslearn(\n",
    "    dataset_names = [\n",
    "        # 'Epilepsy',                    # N_corpus = 34\n",
    "        # 'EthanolConcentration',        # N_corpus = 65\n",
    "        # 'FingerMovements',             # N_corpus = 158\n",
    "        # 'HandMovementDirection',       # N_corpus = 40\n",
    "        # 'Heartbeat',                   # N_corpus = 102\n",
    "        # 'LSST',                        # N_corpus = 176\n",
    "        # 'MotorImagery',                # N_corpus = 139\n",
    "         'NATOPS',                      # N_corpus = 30\n",
    "        # 'PenDigits',                   # N_corpus = 749\n",
    "        # 'PEMS-SF',                     # N_corpus = 38\n",
    "        # 'PhonemeSpectra',              # N_corpus = 85\n",
    "        # 'RacketSports',                # N_corpus = 38\n",
    "        # 'SelfRegulationSCP1',          # N_corpus = 134\n",
    "        ],\n",
    "    kernel_names = [\n",
    "        \"linear\",\n",
    "        \"rbf\",\n",
    "        \"poly\",\n",
    "        \"integral rbf\",\n",
    "        \"integral poly\",\n",
    "        \"truncated sig\",\n",
    "        \"truncated sig rbf\",\n",
    "        \"signature pde rbf\",\n",
    "        \"gak\",\n",
    "        ],\n",
    "        k=5,\n",
    "        n_repeats=1,\n",
    "        n_jobs_repeats=1,\n",
    "        n_jobs_gram=4,\n",
    "        verbose=False,\n",
    "        )"
   ]
  },
  {
   "cell_type": "code",
   "execution_count": 3,
   "metadata": {},
   "outputs": [
    {
     "name": "stdout",
     "output_type": "stream",
     "text": [
      "Cross Validation Results\n",
      "Number of Classes: 6\n",
      "Dimension of path: 24\n",
      "Length: 51\n",
      "Train: 180\n",
      "Test: N/A\n",
      "\n",
      "conf_results\n",
      "\n",
      "linear\n",
      "final_score_avgs 1.6466706615919724\n",
      "params_score_avgs [1.647]\n",
      "thresh_score_avgs [0.791 1.057 1.33  1.354 1.397 1.456 1.465 1.503 1.508 1.5   1.496 1.495\n",
      " 1.481 1.51  1.489 1.495 1.517 1.536 1.549 1.579 1.57  1.58  1.588 0.   ]\n",
      "1.0\n",
      "{'threshold': 20}\n",
      "2.0\n",
      "{'threshold': 22}\n",
      "3.0\n",
      "{'threshold': 23}\n",
      "4.0\n",
      "{'threshold': 22}\n",
      "5.0\n",
      "{'threshold': 7}\n",
      "6.0\n",
      "{'threshold': 22}\n",
      "\n",
      "rbf\n",
      "final_score_avgs 1.671576481081125\n",
      "params_score_avgs [1.646 1.646 1.647 1.521 1.641 1.521 0.907]\n",
      "thresh_score_avgs [1.346 1.317 1.452 1.549 1.513 1.523 1.559 1.55  1.566 1.56  1.546 1.506\n",
      " 1.482 1.515 1.497 1.5   1.52  1.542 1.551 1.579 1.573 1.584 1.66  0.   ]\n",
      "1.0\n",
      "{'sigma': 0.01, 'threshold': 20}\n",
      "2.0\n",
      "{'sigma': 0.0001, 'threshold': 22}\n",
      "3.0\n",
      "{'sigma': 0.01, 'threshold': 22}\n",
      "4.0\n",
      "{'sigma': 0.01, 'threshold': 22}\n",
      "5.0\n",
      "{'sigma': 10.0, 'threshold': 23}\n",
      "6.0\n",
      "{'sigma': 1.0, 'threshold': 23}\n",
      "\n",
      "poly\n",
      "final_score_avgs 1.6838570527700962\n",
      "params_score_avgs [1.652 1.655 1.664 1.663 1.63 ]\n",
      "thresh_score_avgs [0.862 1.063 1.344 1.385 1.432 1.49  1.503 1.541 1.541 1.537 1.528 1.556\n",
      " 1.549 1.551 1.527 1.559 1.586 1.597 1.608 1.605 1.625 1.593 1.612 0.778]\n",
      "1.0\n",
      "{'p': 6, 'threshold': 15}\n",
      "2.0\n",
      "{'p': 3, 'threshold': 21}\n",
      "3.0\n",
      "{'p': 5, 'threshold': 19}\n",
      "4.0\n",
      "{'p': 2, 'threshold': 22}\n",
      "5.0\n",
      "{'p': 5, 'threshold': 8}\n",
      "6.0\n",
      "{'p': 5, 'threshold': 23}\n",
      "\n",
      "integral rbf\n",
      "final_score_avgs 1.6532669356882463\n",
      "params_score_avgs [1.65  1.648 1.644 1.12  1.535 1.12  0.93 ]\n",
      "thresh_score_avgs [0.917 1.147 1.385 1.449 1.463 1.476 1.497 1.515 1.516 1.506 1.509 1.521\n",
      " 1.507 1.524 1.501 1.504 1.524 1.54  1.559 1.581 1.576 1.582 1.595 0.   ]\n",
      "1.0\n",
      "{'sigma': 0.0001, 'threshold': 20}\n",
      "2.0\n",
      "{'sigma': 0.0001, 'threshold': 22}\n",
      "3.0\n",
      "{'sigma': 0.001, 'threshold': 22}\n",
      "4.0\n",
      "{'sigma': 0.0001, 'threshold': 22}\n",
      "5.0\n",
      "{'sigma': 0.01, 'threshold': 7}\n",
      "6.0\n",
      "{'sigma': 0.0001, 'threshold': 22}\n",
      "\n",
      "integral poly\n",
      "final_score_avgs 1.5704918593215698\n",
      "params_score_avgs [1.545 1.446 1.412 1.409 1.416]\n",
      "thresh_score_avgs [1.262 1.354 1.359 1.354 1.375 1.39  1.375 1.34  1.354 1.376 1.387 1.372\n",
      " 1.375 1.387 1.399 1.403 1.391 1.404 1.434 1.423 1.426 1.41  1.391 0.   ]\n",
      "1.0\n",
      "{'p': 5, 'threshold': 22}\n",
      "2.0\n",
      "{'p': 6, 'threshold': 22}\n",
      "3.0\n",
      "{'p': 2, 'threshold': 15}\n",
      "4.0\n",
      "{'p': 2, 'threshold': 3}\n",
      "5.0\n",
      "{'p': 2, 'threshold': 4}\n",
      "6.0\n",
      "{'p': 2, 'threshold': 19}\n",
      "\n",
      "truncated sig\n",
      "final_score_avgs 1.5162822479188025\n",
      "params_score_avgs [1.407 1.442 1.485 1.5   1.511]\n",
      "thresh_score_avgs [1.156 1.198 1.229 1.237 1.277 1.277 1.292 1.331 1.359 1.366 1.369 1.369\n",
      " 1.403 1.408 1.429 1.449 1.443 1.445 1.447 1.469 1.494 1.493 1.499 0.525]\n",
      "orders_score_avgs [0.913 1.505 1.452 1.358 1.34  1.305 1.305 1.299 1.311 1.309]\n",
      "1.0\n",
      "{'scale': 2.0, 'order': 2, 'threshold': 6}\n",
      "2.0\n",
      "{'scale': 4.0, 'order': 3, 'threshold': 23}\n",
      "3.0\n",
      "{'scale': 4.0, 'order': 10, 'threshold': 5}\n",
      "4.0\n",
      "{'scale': 4.0, 'order': 2, 'threshold': 21}\n",
      "5.0\n",
      "{'scale': 4.0, 'order': 2, 'threshold': 22}\n",
      "6.0\n",
      "{'scale': 4.0, 'order': 2, 'threshold': 22}\n",
      "\n",
      "truncated sig rbf\n",
      "final_score_avgs 1.3241221253472766\n",
      "params_score_avgs [0.915 0.98  1.156 1.164 1.231 1.164 0.92 ]\n",
      "thresh_score_avgs [1.069 0.953 0.962 0.936 0.959 0.955 0.95  0.983 0.995 0.966 0.951 0.991\n",
      " 0.995 0.998 1.029 1.038 1.046 1.054 1.05  1.073 1.077 1.115 1.268 0.   ]\n",
      "orders_score_avgs [0.944 1.249 1.255 1.213 1.195 1.19  1.235 1.246 1.264 1.251]\n",
      "1.0\n",
      "{'sigma': 0.01, 'order': 4, 'threshold': 23}\n",
      "2.0\n",
      "{'sigma': 10.0, 'order': 3, 'threshold': 1}\n",
      "3.0\n",
      "{'sigma': 10.0, 'order': 9, 'threshold': 23}\n",
      "4.0\n",
      "{'sigma': 1.0, 'order': 2, 'threshold': 23}\n",
      "5.0\n",
      "{'sigma': 1.0, 'order': 9, 'threshold': 1}\n",
      "6.0\n",
      "{'sigma': 1.0, 'order': 3, 'threshold': 23}\n",
      "\n",
      "signature pde rbf\n",
      "final_score_avgs 1.2261776706673588\n",
      "params_score_avgs [0.667 0.716 0.879 1.15  0.98  1.15  1.147]\n",
      "thresh_score_avgs [0.944 0.919 0.928 0.881 0.891 0.906 0.882 0.886 0.919 0.931 0.938 0.959\n",
      " 0.967 0.992 1.035 1.055 1.066 1.059 1.055 1.075 1.098 1.126 1.169 0.775]\n",
      "1.0\n",
      "{'sigma': 100.0, 'dyadic_order': 2.0, 'threshold': 23}\n",
      "2.0\n",
      "{'sigma': 100.0, 'dyadic_order': 2.0, 'threshold': 23}\n",
      "3.0\n",
      "{'sigma': 10.0, 'dyadic_order': 2.0, 'threshold': 3}\n",
      "4.0\n",
      "{'sigma': 100.0, 'dyadic_order': 2.0, 'threshold': 23}\n",
      "5.0\n",
      "{'sigma': 1.0, 'dyadic_order': 2.0, 'threshold': 1}\n",
      "6.0\n",
      "{'sigma': 100.0, 'dyadic_order': 2.0, 'threshold': 23}\n",
      "\n",
      "gak\n",
      "final_score_avgs 1.6901951153421741\n",
      "params_score_avgs [1.352 1.547 1.646 1.622 1.671]\n",
      "thresh_score_avgs [1.388 1.364 1.425 1.493 1.504 1.56  1.594 1.601 1.567 1.568 1.57  1.54\n",
      " 1.534 1.549 1.545 1.552 1.568 1.588 1.596 1.616 1.613 1.631 1.658 0.   ]\n",
      "1.0\n",
      "{'gak_factor': 9.0, 'threshold': 22}\n",
      "2.0\n",
      "{'gak_factor': 9.0, 'threshold': 23}\n",
      "3.0\n",
      "{'gak_factor': 9.0, 'threshold': 19}\n",
      "4.0\n",
      "{'gak_factor': 1.0, 'threshold': 3}\n",
      "5.0\n",
      "{'gak_factor': 3.0, 'threshold': 7}\n",
      "6.0\n",
      "{'gak_factor': 1.0, 'threshold': 9}\n",
      "\n",
      "mahal_results\n",
      "\n",
      "linear\n",
      "final_score_avgs 1.594068037092289\n",
      "params_score_avgs [1.594]\n",
      "thresh_score_avgs [0.697 0.743 0.842 0.956 1.106 1.193 1.228 1.238 1.287 1.311 1.354 1.366\n",
      " 1.396 1.437 1.438 1.453 1.469 1.512 1.541 1.559 1.548 1.55  1.56  0.   ]\n",
      "1.0\n",
      "{'threshold': 14}\n",
      "2.0\n",
      "{'threshold': 23}\n",
      "3.0\n",
      "{'threshold': 19}\n",
      "4.0\n",
      "{'threshold': 20}\n",
      "5.0\n",
      "{'threshold': 21}\n",
      "6.0\n",
      "{'threshold': 23}\n",
      "\n",
      "rbf\n",
      "final_score_avgs 1.596292633483552\n",
      "params_score_avgs [1.594 1.593 1.586 0.482 0.623 0.482 0.568]\n",
      "thresh_score_avgs [0.763 0.758 0.842 0.956 1.106 1.193 1.228 1.238 1.288 1.313 1.358 1.367\n",
      " 1.397 1.439 1.438 1.454 1.47  1.511 1.542 1.558 1.551 1.552 1.562 0.   ]\n",
      "1.0\n",
      "{'sigma': 0.01, 'threshold': 14}\n",
      "2.0\n",
      "{'sigma': 0.0001, 'threshold': 23}\n",
      "3.0\n",
      "{'sigma': 0.0001, 'threshold': 19}\n",
      "4.0\n",
      "{'sigma': 0.0001, 'threshold': 20}\n",
      "5.0\n",
      "{'sigma': 0.0001, 'threshold': 21}\n",
      "6.0\n",
      "{'sigma': 0.0001, 'threshold': 23}\n",
      "\n",
      "poly\n",
      "final_score_avgs 1.6745205624985038\n",
      "params_score_avgs [1.618 1.638 1.645 1.656 1.61 ]\n",
      "thresh_score_avgs [0.708 0.752 0.913 1.113 1.189 1.262 1.304 1.342 1.367 1.385 1.436 1.458\n",
      " 1.517 1.546 1.537 1.569 1.586 1.595 1.609 1.612 1.617 1.598 1.604 0.782]\n",
      "1.0\n",
      "{'p': 6, 'threshold': 14}\n",
      "2.0\n",
      "{'p': 5, 'threshold': 18}\n",
      "3.0\n",
      "{'p': 3, 'threshold': 19}\n",
      "4.0\n",
      "{'p': 4, 'threshold': 22}\n",
      "5.0\n",
      "{'p': 6, 'threshold': 20}\n",
      "6.0\n",
      "{'p': 4, 'threshold': 23}\n",
      "\n",
      "integral rbf\n",
      "final_score_avgs 1.6021730903637508\n",
      "params_score_avgs [1.601 1.599 1.586 0.671 0.509 0.671 0.624]\n",
      "thresh_score_avgs [0.757 0.777 0.85  0.963 1.116 1.198 1.234 1.247 1.298 1.313 1.372 1.372\n",
      " 1.401 1.44  1.442 1.463 1.479 1.523 1.545 1.565 1.558 1.563 1.564 0.   ]\n",
      "1.0\n",
      "{'sigma': 0.01, 'threshold': 11}\n",
      "2.0\n",
      "{'sigma': 0.0001, 'threshold': 22}\n",
      "3.0\n",
      "{'sigma': 0.0001, 'threshold': 19}\n",
      "4.0\n",
      "{'sigma': 0.0001, 'threshold': 20}\n",
      "5.0\n",
      "{'sigma': 0.0001, 'threshold': 21}\n",
      "6.0\n",
      "{'sigma': 0.0001, 'threshold': 23}\n",
      "\n",
      "integral poly\n",
      "final_score_avgs 1.3460251877274034\n",
      "params_score_avgs [1.335 1.229 1.204 1.203 1.199]\n",
      "thresh_score_avgs [0.976 0.85  0.874 0.88  0.889 0.988 1.032 1.069 1.105 1.135 1.162 1.175\n",
      " 1.176 1.175 1.202 1.211 1.223 1.224 1.241 1.268 1.302 1.293 1.32  0.   ]\n",
      "1.0\n",
      "{'p': 4, 'threshold': 20}\n",
      "2.0\n",
      "{'p': 6, 'threshold': 21}\n",
      "3.0\n",
      "{'p': 2, 'threshold': 23}\n",
      "4.0\n",
      "{'p': 2, 'threshold': 23}\n",
      "5.0\n",
      "{'p': 2, 'threshold': 23}\n",
      "6.0\n",
      "{'p': 2, 'threshold': 23}\n",
      "\n",
      "truncated sig\n",
      "final_score_avgs 1.5033945720512376\n",
      "params_score_avgs [1.381 1.426 1.454 1.473 1.499]\n",
      "thresh_score_avgs [1.063 1.118 1.182 1.198 1.241 1.244 1.26  1.247 1.306 1.303 1.338 1.337\n",
      " 1.345 1.356 1.372 1.378 1.39  1.399 1.417 1.419 1.441 1.464 1.473 0.644]\n",
      "orders_score_avgs [0.908 1.485 1.377 1.303 1.277 1.264 1.28  1.262 1.261 1.257]\n",
      "1.0\n",
      "{'scale': 4.0, 'order': 2, 'threshold': 7}\n",
      "2.0\n",
      "{'scale': 4.0, 'order': 7, 'threshold': 19}\n",
      "3.0\n",
      "{'scale': 4.0, 'order': 7, 'threshold': 23}\n",
      "4.0\n",
      "{'scale': 4.0, 'order': 2, 'threshold': 23}\n",
      "5.0\n",
      "{'scale': 4.0, 'order': 2, 'threshold': 22}\n",
      "6.0\n",
      "{'scale': 2.0, 'order': 2, 'threshold': 22}\n",
      "\n",
      "truncated sig rbf\n",
      "final_score_avgs 1.2178866826951238\n",
      "params_score_avgs [0.925 0.995 1.158 0.931 1.087 0.931 0.875]\n",
      "thresh_score_avgs [0.869 0.88  0.866 0.848 0.846 0.85  0.88  0.888 0.919 0.917 0.948 0.969\n",
      " 0.96  0.991 1.039 1.037 1.042 1.082 1.06  1.06  1.08  1.142 1.202 0.   ]\n",
      "orders_score_avgs [0.945 1.157 1.147 1.147 1.147 1.147 1.156 1.174 1.193 1.214]\n",
      "1.0\n",
      "{'sigma': 0.01, 'order': 2, 'threshold': 23}\n",
      "2.0\n",
      "{'sigma': 0.01, 'order': 2, 'threshold': 23}\n",
      "3.0\n",
      "{'sigma': 0.01, 'order': 3, 'threshold': 17}\n",
      "4.0\n",
      "{'sigma': 0.01, 'order': 2, 'threshold': 23}\n",
      "5.0\n",
      "{'sigma': 1.0, 'order': 10, 'threshold': 18}\n",
      "6.0\n",
      "{'sigma': 1.0, 'order': 10, 'threshold': 23}\n",
      "\n",
      "signature pde rbf\n",
      "final_score_avgs 1.2670093529708737\n",
      "params_score_avgs [0.667 0.703 0.856 0.965 1.132 0.965 1.147]\n",
      "thresh_score_avgs [0.79  0.793 0.812 0.846 0.856 0.847 0.914 0.984 0.98  0.97  1.016 1.024\n",
      " 1.027 1.063 1.106 1.105 1.127 1.153 1.129 1.163 1.126 1.171 1.219 0.754]\n",
      "1.0\n",
      "{'sigma': 100.0, 'dyadic_order': 2.0, 'threshold': 23}\n",
      "2.0\n",
      "{'sigma': 100.0, 'dyadic_order': 2.0, 'threshold': 23}\n",
      "3.0\n",
      "{'sigma': 100.0, 'dyadic_order': 2.0, 'threshold': 17}\n",
      "4.0\n",
      "{'sigma': 1.0, 'dyadic_order': 2.0, 'threshold': 23}\n",
      "5.0\n",
      "{'sigma': 1.0, 'dyadic_order': 2.0, 'threshold': 18}\n",
      "6.0\n",
      "{'sigma': 1.0, 'dyadic_order': 2.0, 'threshold': 23}\n",
      "\n",
      "gak\n",
      "final_score_avgs 1.6513414363414363\n",
      "params_score_avgs [0.411 0.521 0.607 1.587 1.651]\n",
      "thresh_score_avgs [0.74  0.783 0.86  1.045 1.194 1.263 1.271 1.3   1.346 1.395 1.415 1.44\n",
      " 1.484 1.514 1.531 1.529 1.559 1.602 1.607 1.61  1.618 1.612 1.63  0.   ]\n",
      "1.0\n",
      "{'gak_factor': 9.0, 'threshold': 18}\n",
      "2.0\n",
      "{'gak_factor': 9.0, 'threshold': 23}\n",
      "3.0\n",
      "{'gak_factor': 9.0, 'threshold': 19}\n",
      "4.0\n",
      "{'gak_factor': 9.0, 'threshold': 23}\n",
      "5.0\n",
      "{'gak_factor': 9.0, 'threshold': 20}\n",
      "6.0\n",
      "{'gak_factor': 9.0, 'threshold': 23}\n",
      "\n",
      "End dataset \n",
      "\n",
      "\n",
      "\n"
     ]
    }
   ],
   "source": [
    "print_cv_results(cv_results)"
   ]
  },
  {
   "cell_type": "markdown",
   "metadata": {},
   "source": [
    "# Validate on Test"
   ]
  },
  {
   "cell_type": "code",
   "execution_count": 4,
   "metadata": {},
   "outputs": [
    {
     "name": "stdout",
     "output_type": "stream",
     "text": [
      "Start validation on test sets\n",
      "NATOPS\n",
      "Number of Classes: 6\n",
      "Dimension of path: 24\n",
      "Length: 51\n",
      "Train: 180\n",
      "Test: 180\n"
     ]
    },
    {
     "name": "stderr",
     "output_type": "stream",
     "text": [
      " 22%|██▏       | 2/9 [00:00<00:00, 10.38it/s]"
     ]
    },
    {
     "name": "stdout",
     "output_type": "stream",
     "text": [
      "Kernel: linear\n",
      "Kernel: rbf\n",
      "Kernel: poly\n"
     ]
    },
    {
     "name": "stderr",
     "output_type": "stream",
     "text": [
      " 44%|████▍     | 4/9 [00:00<00:00,  8.07it/s]"
     ]
    },
    {
     "name": "stdout",
     "output_type": "stream",
     "text": [
      "Kernel: integral rbf\n",
      "Kernel: integral poly\n"
     ]
    },
    {
     "name": "stderr",
     "output_type": "stream",
     "text": [
      " 56%|█████▌    | 5/9 [00:00<00:00,  7.54it/s]"
     ]
    },
    {
     "name": "stdout",
     "output_type": "stream",
     "text": [
      "Kernel: truncated sig\n"
     ]
    },
    {
     "name": "stderr",
     "output_type": "stream",
     "text": [
      " 67%|██████▋   | 6/9 [01:01<00:54, 18.11s/it]"
     ]
    },
    {
     "name": "stdout",
     "output_type": "stream",
     "text": [
      "Kernel: truncated sig rbf\n"
     ]
    },
    {
     "name": "stderr",
     "output_type": "stream",
     "text": [
      " 78%|███████▊  | 7/9 [02:29<01:17, 38.99s/it]"
     ]
    },
    {
     "name": "stdout",
     "output_type": "stream",
     "text": [
      "Kernel: signature pde rbf\n"
     ]
    },
    {
     "name": "stderr",
     "output_type": "stream",
     "text": [
      "/home/nikita/Code/kernel-timeseries-anomaly-detection/.conda/lib/python3.11/site-packages/joblib/externals/loky/process_executor.py:752: UserWarning: A worker stopped while some jobs were given to the executor. This can be caused by a too short worker timeout or by a memory leak.\n",
      "  warnings.warn(\n",
      " 89%|████████▉ | 8/9 [02:58<00:35, 35.97s/it]"
     ]
    },
    {
     "name": "stdout",
     "output_type": "stream",
     "text": [
      "Kernel: gak\n"
     ]
    },
    {
     "name": "stderr",
     "output_type": "stream",
     "text": [
      "100%|██████████| 9/9 [03:09<00:00, 21.06s/it]\n",
      " 22%|██▏       | 2/9 [00:00<00:00, 11.06it/s]"
     ]
    },
    {
     "name": "stdout",
     "output_type": "stream",
     "text": [
      "Kernel: linear\n",
      "Kernel: rbf\n",
      "Kernel: poly\n"
     ]
    },
    {
     "name": "stderr",
     "output_type": "stream",
     "text": [
      " 44%|████▍     | 4/9 [00:00<00:00,  9.41it/s]"
     ]
    },
    {
     "name": "stdout",
     "output_type": "stream",
     "text": [
      "Kernel: integral rbf\n",
      "Kernel: integral poly\n"
     ]
    },
    {
     "name": "stderr",
     "output_type": "stream",
     "text": [
      " 56%|█████▌    | 5/9 [00:00<00:00,  8.02it/s]"
     ]
    },
    {
     "name": "stdout",
     "output_type": "stream",
     "text": [
      "Kernel: truncated sig\n"
     ]
    },
    {
     "name": "stderr",
     "output_type": "stream",
     "text": [
      " 67%|██████▋   | 6/9 [00:43<00:38, 12.86s/it]"
     ]
    },
    {
     "name": "stdout",
     "output_type": "stream",
     "text": [
      "Kernel: truncated sig rbf\n"
     ]
    },
    {
     "name": "stderr",
     "output_type": "stream",
     "text": [
      " 78%|███████▊  | 7/9 [02:35<01:24, 42.45s/it]"
     ]
    },
    {
     "name": "stdout",
     "output_type": "stream",
     "text": [
      "Kernel: signature pde rbf\n"
     ]
    },
    {
     "name": "stderr",
     "output_type": "stream",
     "text": [
      " 89%|████████▉ | 8/9 [02:58<00:36, 36.44s/it]"
     ]
    },
    {
     "name": "stdout",
     "output_type": "stream",
     "text": [
      "Kernel: gak\n"
     ]
    },
    {
     "name": "stderr",
     "output_type": "stream",
     "text": [
      "100%|██████████| 9/9 [03:09<00:00, 21.03s/it]"
     ]
    },
    {
     "name": "stdout",
     "output_type": "stream",
     "text": [
      "Total elapsed time for NATOPS: 378.8680188790004 seconds\n",
      "\n",
      "End validation on test sets\n",
      "\n",
      "\n",
      "\n"
     ]
    },
    {
     "name": "stderr",
     "output_type": "stream",
     "text": [
      "\n"
     ]
    }
   ],
   "source": [
    "test_results = validate_tslearn(cv_results, n_jobs=4, verbose=False)"
   ]
  },
  {
   "cell_type": "code",
   "execution_count": 5,
   "metadata": {},
   "outputs": [
    {
     "name": "stdout",
     "output_type": "stream",
     "text": [
      "Test Results\n",
      "\n",
      "Dataset: NATOPS\n",
      "Number of Classes: 6\n",
      "Dimension of path: 24\n",
      "Length: 51\n",
      "Train: 180\n",
      "Test: 180\n",
      "\n",
      "Kernel: linear\n",
      "Conformance AUC: 0.882\n",
      "Conformance PR AUC: 0.636\n",
      "\n",
      "Kernel: rbf\n",
      "Conformance AUC: 0.768\n",
      "Conformance PR AUC: 0.538\n",
      "\n",
      "Kernel: poly\n",
      "Conformance AUC: 0.873\n",
      "Conformance PR AUC: 0.607\n",
      "\n",
      "Kernel: integral rbf\n",
      "Conformance AUC: 0.884\n",
      "Conformance PR AUC: 0.63\n",
      "\n",
      "Kernel: integral poly\n",
      "Conformance AUC: 0.864\n",
      "Conformance PR AUC: 0.584\n",
      "\n",
      "Kernel: truncated sig\n",
      "Conformance AUC: 0.798\n",
      "Conformance PR AUC: 0.527\n",
      "\n",
      "Kernel: truncated sig rbf\n",
      "Conformance AUC: 0.545\n",
      "Conformance PR AUC: 0.322\n",
      "\n",
      "Kernel: signature pde rbf\n",
      "Conformance AUC: 0.682\n",
      "Conformance PR AUC: 0.382\n",
      "\n",
      "Kernel: gak\n",
      "Conformance AUC: 0.896\n",
      "Conformance PR AUC: 0.675\n",
      "\n",
      "Kernel: linear\n",
      "Mahalanobis AUC: 0.871\n",
      "Mahalanobis PR AUC: 0.614\n",
      "\n",
      "Kernel: rbf\n",
      "Mahalanobis AUC: 0.871\n",
      "Mahalanobis PR AUC: 0.614\n",
      "\n",
      "Kernel: poly\n",
      "Mahalanobis AUC: 0.884\n",
      "Mahalanobis PR AUC: 0.653\n",
      "\n",
      "Kernel: integral rbf\n",
      "Mahalanobis AUC: 0.875\n",
      "Mahalanobis PR AUC: 0.621\n",
      "\n",
      "Kernel: integral poly\n",
      "Mahalanobis AUC: 0.798\n",
      "Mahalanobis PR AUC: 0.499\n",
      "\n",
      "Kernel: truncated sig\n",
      "Mahalanobis AUC: 0.805\n",
      "Mahalanobis PR AUC: 0.553\n",
      "\n",
      "Kernel: truncated sig rbf\n",
      "Mahalanobis AUC: 0.697\n",
      "Mahalanobis PR AUC: 0.429\n",
      "\n",
      "Kernel: signature pde rbf\n",
      "Mahalanobis AUC: 0.708\n",
      "Mahalanobis PR AUC: 0.438\n",
      "\n",
      "Kernel: gak\n",
      "Mahalanobis AUC: 0.894\n",
      "Mahalanobis PR AUC: 0.667\n",
      "\n",
      "End Dataset\n",
      "\n",
      "\n",
      "\n"
     ]
    }
   ],
   "source": [
    "print_test_results(test_results)"
   ]
  },
  {
   "cell_type": "markdown",
   "metadata": {},
   "source": [
    "# Read CV data from file and print results"
   ]
  },
  {
   "cell_type": "code",
   "execution_count": null,
   "metadata": {},
   "outputs": [],
   "source": [
    "# Load the cross validation results\n",
    "cv_results = join_dicts_from_pickle_paths(\n",
    "    [\n",
    "    \"Data/Epilepsy.pkl\",\n",
    "    \"Data/cv_EthanolConcentration.pkl\",\n",
    "    \"Data/cv_FingerMovements.pkl\",\n",
    "    \"Data/cv_HandMovementDirection.pkl\",\n",
    "    \"Data/cv_Heartbeat.pkl\",\n",
    "    \"Data/cv_LSST.pkl\",\n",
    "    \"Data/cv_MotorImagery.pkl\",\n",
    "    \"Data/cv_NATOPS.pkl\",\n",
    "    \"Data/cv_PEMS-SF.pkl\",\n",
    "    \"Data/cv_PenDigits.pkl\",\n",
    "    \"Data/cv_PhonemeSpectra.pkl\",\n",
    "    \"Data/cv_RacketSports.pkl\",\n",
    "    \"Data/cv_SelfRegulationSCP1.pkl\",\n",
    "    ])\n",
    "print_cv_results(cv_results)"
   ]
  },
  {
   "cell_type": "code",
   "execution_count": null,
   "metadata": {},
   "outputs": [],
   "source": [
    "test_results = join_dicts_from_pickle_paths([\n",
    "                                \"Data/results_shorts.pkl\",\n",
    "                                \"Data/results_longs.pkl\",\n",
    "                                             ])\n",
    "\n",
    "test_results = {d:k for d,k in test_results.items() \n",
    "                # if d in [\"EthanolConcentration\",  #datasets with corpus size > 50\n",
    "                #         \"FingerMovements\",\n",
    "                #         \"Heartbeat\",\n",
    "                #         \"LSST\",\n",
    "                #         \"MotorImagery\",\n",
    "                #         \"PenDigits\",\n",
    "                #         \"PhonemeSpectra\",\n",
    "                #         \"SelfRegulationSCP1\",]\n",
    "                }"
   ]
  },
  {
   "cell_type": "code",
   "execution_count": 6,
   "metadata": {},
   "outputs": [
    {
     "name": "stdout",
     "output_type": "stream",
     "text": [
      "PR LaTeX table:\n",
      "\n",
      "    \\begin{tabular}{lc||ccc|cc|ccc|c}\n",
      "        \\toprule\n",
      "        \\multirow{2}{*}{Dataset}   &  \\multicolumn{10}{c}{Precision-Recall AUC} \\\\\n",
      "        \\cline{3-11}\n",
      "                                & & linear & RBF & poly \n",
      "                                & $I_\\text{RBF}$ & $I_\\text{poly}$ \n",
      "                                & $S_\\text{lin}$ & $S_\\text{RBF}$ & $S^\\infty_\\text{RBF}$ \n",
      "                                & GAK \\\\ \n",
      "        \\hline\n",
      "        \\hline\n",
      "\t\t\\hline\n",
      "\t\t\\multirow{2}{*}{NATO}    \n",
      "\t\t& C & .64 & .54 & .61 & .63 & .58 & .53 & .32 & .38 & \\textbf{.67}\\\\\n",
      "\t\t& M & .61 & .61 & .65 & .62 & .50 & .55 & .43 & .44 & \\textbf{.67}\\\\\n",
      "\t\t\\hline\n",
      "\t\t\\hline\n",
      "\t\t\\hline\n",
      "\t\t\\multirow{2}{*}{Avg. AUC}    \n",
      "\t\t& C & .64 & .54 & .61 & .63 & .58 & .53 & .32 & .38 & \\textbf{.67}\\\\\n",
      "\t\t& M & .61 & .61 & .65 & .62 & .50 & .55 & .43 & .44 & \\textbf{.67}\\\\\n",
      "\t\t\\hline\n",
      "\t\t\\multirow{2}{*}{Avg. Rank}    \n",
      "\t\t& C & 9.00 & \\textbf{1.00} & 4.00 & 3.00 & 5.00 & 2.00 & 6.00 & 8.00 & 7.00\\\\\n",
      "\t\t& M & 9.00 & 3.00 & 4.00 & \\textbf{1.00} & 2.00 & 6.00 & 5.00 & 8.00 & 7.00\\\\\n",
      "\t\t\\bottomrule\n",
      "    \\end{tabular}\n",
      "    \n",
      "\n",
      "\n",
      "\n",
      "\n",
      "\n",
      "ROC_AUC LaTeX table:\n",
      "\n",
      "    \\begin{tabular}{lc||ccc|cc|ccc|c}\n",
      "        \\toprule\n",
      "        \\multirow{2}{*}{Dataset}   &  \\multicolumn{10}{c}{ROC AUC} \\\\\n",
      "        \\cline{3-11}\n",
      "                                & & linear & RBF & poly \n",
      "                                & $I_\\text{RBF}$ & $I_\\text{poly}$ \n",
      "                                & $S_\\text{lin}$ & $S_\\text{RBF}$ & $S^\\infty_\\text{RBF}$ \n",
      "                                & GAK \\\\ \n",
      "        \\hline\n",
      "        \\hline\n",
      "\t\t\\hline\n",
      "\t\t\\multirow{2}{*}{NATO}    \n",
      "\t\t& C & .88 & .77 & .87 & .88 & .86 & .80 & .54 & .68 & \\textbf{.90}\\\\\n",
      "\t\t& M & .87 & .87 & .88 & .87 & .80 & .80 & .70 & .71 & \\textbf{.89}\\\\\n",
      "\t\t\\hline\n",
      "\t\t\\hline\n",
      "\t\t\\hline\n",
      "\t\t\\multirow{2}{*}{Avg. AUC}    \n",
      "\t\t& C & .88 & .77 & .87 & .88 & .86 & .80 & .54 & .68 & \\textbf{.90}\\\\\n",
      "\t\t& M & .87 & .87 & .88 & .87 & .80 & .80 & .70 & .71 & \\textbf{.89}\\\\\n",
      "\t\t\\hline\n",
      "\t\t\\multirow{2}{*}{Avg. Rank}    \n",
      "\t\t& C & 9.00 & 4.00 & \\textbf{1.00} & 3.00 & 5.00 & 6.00 & 2.00 & 8.00 & 7.00\\\\\n",
      "\t\t& M & 9.00 & 3.00 & 4.00 & 2.00 & \\textbf{1.00} & 6.00 & 5.00 & 8.00 & 7.00\\\\\n",
      "\t\t\\bottomrule\n",
      "    \\end{tabular}\n",
      "    \n",
      "PR LaTeX table:\n",
      "\n",
      "    \\begin{tabular}{lc||ccc|cc|ccc|c}\n",
      "        \\toprule\n",
      "        \\multirow{2}{*}{Dataset}   &  \\multicolumn{10}{c}{Precision-Recall AUC} \\\\\n",
      "        \\cline{3-11}\n",
      "                                & & linear & RBF & poly \n",
      "                                & $I_\\text{RBF}$ & $I_\\text{poly}$ \n",
      "                                & $S_\\text{lin}$ & $S_\\text{RBF}$ & $S^\\infty_\\text{RBF}$ \n",
      "                                & GAK \\\\ \n",
      "        \\hline\n",
      "        \\hline\n",
      "\t\t\\hline\n",
      "\t\t\\multirow{2}{*}{NATO}    \n",
      "\t\t& C & .636 & .538 & .607 & .630 & .584 & .527 & .322 & .382 & \\textbf{.675}\\\\\n",
      "\t\t& M & .614 & .614 & .653 & .621 & .499 & .553 & .429 & .438 & \\textbf{.667}\\\\\n",
      "\t\t\\hline\n",
      "\t\t\\hline\n",
      "\t\t\\hline\n",
      "\t\t\\multirow{2}{*}{Avg. AUC}    \n",
      "\t\t& C & .636 & .538 & .607 & .630 & .584 & .527 & .322 & .382 & \\textbf{.675}\\\\\n",
      "\t\t& M & .614 & .614 & .653 & .621 & .499 & .553 & .429 & .438 & \\textbf{.667}\\\\\n",
      "\t\t\\hline\n",
      "\t\t\\multirow{2}{*}{Avg. Rank}    \n",
      "\t\t& C & 9.000 & \\textbf{1.000} & 4.000 & 3.000 & 5.000 & 2.000 & 6.000 & 8.000 & 7.000\\\\\n",
      "\t\t& M & 9.000 & 3.000 & 4.000 & \\textbf{1.000} & 2.000 & 6.000 & 5.000 & 8.000 & 7.000\\\\\n",
      "\t\t\\bottomrule\n",
      "    \\end{tabular}\n",
      "    \n",
      "\n",
      "\n",
      "\n",
      "\n",
      "\n",
      "ROC_AUC LaTeX table:\n",
      "\n",
      "    \\begin{tabular}{lc||ccc|cc|ccc|c}\n",
      "        \\toprule\n",
      "        \\multirow{2}{*}{Dataset}   &  \\multicolumn{10}{c}{ROC AUC} \\\\\n",
      "        \\cline{3-11}\n",
      "                                & & linear & RBF & poly \n",
      "                                & $I_\\text{RBF}$ & $I_\\text{poly}$ \n",
      "                                & $S_\\text{lin}$ & $S_\\text{RBF}$ & $S^\\infty_\\text{RBF}$ \n",
      "                                & GAK \\\\ \n",
      "        \\hline\n",
      "        \\hline\n",
      "\t\t\\hline\n",
      "\t\t\\multirow{2}{*}{NATO}    \n",
      "\t\t& C & .882 & .768 & .873 & .884 & .864 & .798 & .545 & .682 & \\textbf{.896}\\\\\n",
      "\t\t& M & .871 & .871 & .884 & .875 & .798 & .805 & .697 & .708 & \\textbf{.894}\\\\\n",
      "\t\t\\hline\n",
      "\t\t\\hline\n",
      "\t\t\\hline\n",
      "\t\t\\multirow{2}{*}{Avg. AUC}    \n",
      "\t\t& C & .882 & .768 & .873 & .884 & .864 & .798 & .545 & .682 & \\textbf{.896}\\\\\n",
      "\t\t& M & .871 & .871 & .884 & .875 & .798 & .805 & .697 & .708 & \\textbf{.894}\\\\\n",
      "\t\t\\hline\n",
      "\t\t\\multirow{2}{*}{Avg. Rank}    \n",
      "\t\t& C & 9.000 & 4.000 & \\textbf{1.000} & 3.000 & 5.000 & 6.000 & 2.000 & 8.000 & 7.000\\\\\n",
      "\t\t& M & 9.000 & 3.000 & 4.000 & 2.000 & \\textbf{1.000} & 6.000 & 5.000 & 8.000 & 7.000\\\\\n",
      "\t\t\\bottomrule\n",
      "    \\end{tabular}\n",
      "    \n"
     ]
    }
   ],
   "source": [
    "print_latex_results(test_results, round_digits=2)\n",
    "print_latex_results(test_results, round_digits=3)"
   ]
  },
  {
   "cell_type": "markdown",
   "metadata": {},
   "source": [
    "## Enumerate all UCR UEA datasets in 'tslearn'"
   ]
  },
  {
   "cell_type": "code",
   "execution_count": null,
   "metadata": {},
   "outputs": [],
   "source": [
    "UCR_UEA_datasets = UCR_UEA_datasets()\n",
    "\n",
    "for dataset_name in UCR_UEA_datasets.list_multivariate_datasets():\n",
    "#for dataset_name in _datasets:\n",
    "    print(\"Dataset:\", dataset_name)\n",
    "    dataset = UCR_UEA_datasets.load_dataset(dataset_name)\n",
    "    if dataset[0] is not None:\n",
    "        X_train, y_train, X_test, y_test = dataset\n",
    "        num_classes = len(np.unique(y_train))\n",
    "        N_train, T, d = X_train.shape\n",
    "        N_test, _, _  = X_test.shape\n",
    "        \n",
    "        print(\"Number of Classes:\", num_classes)\n",
    "        print(\"Dimension of path:\", d)\n",
    "        print(\"Length:\", T)\n",
    "        print(\"Train Size, Test Size\", N_train, N_test)\n",
    "        print()\n",
    "    else:\n",
    "        print(\"No dataset found\")\n",
    "        print()"
   ]
  }
 ],
 "metadata": {
  "kernelspec": {
   "display_name": "Python 3",
   "language": "python",
   "name": "python3"
  },
  "language_info": {
   "codemirror_mode": {
    "name": "ipython",
    "version": 3
   },
   "file_extension": ".py",
   "mimetype": "text/x-python",
   "name": "python",
   "nbconvert_exporter": "python",
   "pygments_lexer": "ipython3",
   "version": "3.11.8"
  }
 },
 "nbformat": 4,
 "nbformat_minor": 2
}
