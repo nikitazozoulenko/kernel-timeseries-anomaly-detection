{
 "cells": [
  {
   "cell_type": "code",
   "execution_count": 1,
   "metadata": {},
   "outputs": [],
   "source": [
    "import numpy as np\n",
    "from typing import List, Optional, Dict, Set, Callable, Any, Literal\n",
    "from joblib import Memory, Parallel, delayed\n",
    "import tslearn\n",
    "import tslearn.metrics\n",
    "from tslearn.datasets import UCR_UEA_datasets\n",
    "import torch\n",
    "from torch import Tensor\n",
    "\n",
    "from experiments.cross_validation import cv_tslearn, print_cv_results\n",
    "from experiments.eval_on_test import validate_tslearn, print_test_results\n",
    "from experiments.utils import join_dicts_from_pickle_paths, save_to_pickle, print_latex_results\n",
    "from experiments.experiment_code import run_all_kernels"
   ]
  },
  {
   "cell_type": "markdown",
   "metadata": {},
   "source": [
    "# Cross Validation on Train"
   ]
  },
  {
   "cell_type": "code",
   "execution_count": 9,
   "metadata": {},
   "outputs": [
    {
     "name": "stdout",
     "output_type": "stream",
     "text": [
      "Dataset: Epilepsy\n",
      "Number of Classes: 4\n",
      "Dimension of path: 3\n",
      "Length: 206\n",
      "Train: 137\n",
      "Test: N/A\n"
     ]
    },
    {
     "name": "stderr",
     "output_type": "stream",
     "text": [
      "Label for pde sig rbf:   0%|          | 0/4 [00:00<?, ?it/s]/home/nikita/Code/kernel-timeseries-anomaly-detection/.conda/lib/python3.11/site-packages/numba/cuda/dispatcher.py:536: NumbaPerformanceWarning: Grid size 28 will likely result in GPU under-utilization due to low occupancy.\n",
      "  warn(NumbaPerformanceWarning(msg))\n",
      "/home/nikita/Code/kernel-timeseries-anomaly-detection/.conda/lib/python3.11/site-packages/numba/cuda/dispatcher.py:536: NumbaPerformanceWarning: Grid size 27 will likely result in GPU under-utilization due to low occupancy.\n",
      "  warn(NumbaPerformanceWarning(msg))\n",
      "Label for pde sig rbf:   0%|          | 0/4 [00:10<?, ?it/s]\n"
     ]
    },
    {
     "ename": "KeyboardInterrupt",
     "evalue": "",
     "output_type": "error",
     "traceback": [
      "\u001b[0;31m---------------------------------------------------------------------------\u001b[0m",
      "\u001b[0;31mKeyboardInterrupt\u001b[0m                         Traceback (most recent call last)",
      "Cell \u001b[0;32mIn[9], line 1\u001b[0m\n\u001b[0;32m----> 1\u001b[0m cv_results \u001b[38;5;241m=\u001b[39m \u001b[43mcv_tslearn\u001b[49m\u001b[43m(\u001b[49m\n\u001b[1;32m      2\u001b[0m \u001b[43m    \u001b[49m\u001b[43mdataset_names\u001b[49m\u001b[43m \u001b[49m\u001b[38;5;241;43m=\u001b[39;49m\u001b[43m \u001b[49m\u001b[43m[\u001b[49m\n\u001b[1;32m      3\u001b[0m \u001b[43m        \u001b[49m\u001b[38;5;124;43m'\u001b[39;49m\u001b[38;5;124;43mEpilepsy\u001b[39;49m\u001b[38;5;124;43m'\u001b[39;49m\u001b[43m,\u001b[49m\u001b[43m                    \u001b[49m\u001b[38;5;66;43;03m# N_corpus = 34\u001b[39;49;00m\n\u001b[1;32m      4\u001b[0m \u001b[43m        \u001b[49m\u001b[38;5;66;43;03m# 'EthanolConcentration',        # N_corpus = 65\u001b[39;49;00m\n\u001b[1;32m      5\u001b[0m \u001b[43m        \u001b[49m\u001b[38;5;66;43;03m# 'FingerMovements',             # N_corpus = 158\u001b[39;49;00m\n\u001b[1;32m      6\u001b[0m \u001b[43m        \u001b[49m\u001b[38;5;66;43;03m# 'HandMovementDirection',       # N_corpus = 40\u001b[39;49;00m\n\u001b[1;32m      7\u001b[0m \u001b[43m        \u001b[49m\u001b[38;5;66;43;03m# 'Heartbeat',                   # N_corpus = 102\u001b[39;49;00m\n\u001b[1;32m      8\u001b[0m \u001b[43m        \u001b[49m\u001b[38;5;66;43;03m# 'LSST',                        # N_corpus = 176\u001b[39;49;00m\n\u001b[1;32m      9\u001b[0m \u001b[43m        \u001b[49m\u001b[38;5;66;43;03m# 'MotorImagery',                # N_corpus = 139\u001b[39;49;00m\n\u001b[1;32m     10\u001b[0m \u001b[43m        \u001b[49m\u001b[38;5;66;43;03m# 'NATOPS',                      # N_corpus = 30\u001b[39;49;00m\n\u001b[1;32m     11\u001b[0m \u001b[43m        \u001b[49m\u001b[38;5;66;43;03m# 'PenDigits',                   # N_corpus = 749\u001b[39;49;00m\n\u001b[1;32m     12\u001b[0m \u001b[43m        \u001b[49m\u001b[38;5;66;43;03m# 'PEMS-SF',                     # N_corpus = 38\u001b[39;49;00m\n\u001b[1;32m     13\u001b[0m \u001b[43m        \u001b[49m\u001b[38;5;66;43;03m# 'PhonemeSpectra',              # N_corpus = 85\u001b[39;49;00m\n\u001b[1;32m     14\u001b[0m \u001b[43m        \u001b[49m\u001b[38;5;66;43;03m# 'RacketSports',                # N_corpus = 38\u001b[39;49;00m\n\u001b[1;32m     15\u001b[0m \u001b[43m        \u001b[49m\u001b[38;5;66;43;03m# 'SelfRegulationSCP1',          # N_corpus = 134\u001b[39;49;00m\n\u001b[1;32m     16\u001b[0m \u001b[43m        \u001b[49m\u001b[43m]\u001b[49m\u001b[43m,\u001b[49m\n\u001b[1;32m     17\u001b[0m \u001b[43m    \u001b[49m\u001b[43mkernel_names\u001b[49m\u001b[43m \u001b[49m\u001b[38;5;241;43m=\u001b[39;49m\u001b[43m \u001b[49m\u001b[43m[\u001b[49m\n\u001b[1;32m     18\u001b[0m \u001b[43m            \u001b[49m\u001b[38;5;66;43;03m# \"flat linear\",\u001b[39;49;00m\n\u001b[1;32m     19\u001b[0m \u001b[43m            \u001b[49m\u001b[38;5;66;43;03m# \"flat rbf\",\u001b[39;49;00m\n\u001b[1;32m     20\u001b[0m \u001b[43m            \u001b[49m\u001b[38;5;66;43;03m# \"flat poly\",\u001b[39;49;00m\n\u001b[1;32m     21\u001b[0m \n\u001b[1;32m     22\u001b[0m \u001b[43m            \u001b[49m\u001b[38;5;66;43;03m# \"integral rbf\",\u001b[39;49;00m\n\u001b[1;32m     23\u001b[0m \u001b[43m            \u001b[49m\u001b[38;5;66;43;03m# \"integral poly\",\u001b[39;49;00m\n\u001b[1;32m     24\u001b[0m \n\u001b[1;32m     25\u001b[0m \u001b[43m            \u001b[49m\u001b[38;5;66;43;03m# \"trunc sig linear\",\u001b[39;49;00m\n\u001b[1;32m     26\u001b[0m \u001b[43m            \u001b[49m\u001b[38;5;66;43;03m# \"trunc sig rbf\",\u001b[39;49;00m\n\u001b[1;32m     27\u001b[0m \n\u001b[1;32m     28\u001b[0m \u001b[43m            \u001b[49m\u001b[38;5;124;43m\"\u001b[39;49m\u001b[38;5;124;43mpde sig rbf\u001b[39;49m\u001b[38;5;124;43m\"\u001b[39;49m\u001b[43m,\u001b[49m\n\u001b[1;32m     29\u001b[0m \n\u001b[1;32m     30\u001b[0m \u001b[43m            \u001b[49m\u001b[38;5;66;43;03m# \"gak\", #normalized only\u001b[39;49;00m\n\u001b[1;32m     31\u001b[0m \n\u001b[1;32m     32\u001b[0m \u001b[43m            \u001b[49m\u001b[38;5;66;43;03m# \"reservoir\",\u001b[39;49;00m\n\u001b[1;32m     33\u001b[0m \u001b[43m        \u001b[49m\u001b[43m]\u001b[49m\u001b[43m,\u001b[49m\n\u001b[1;32m     34\u001b[0m \u001b[43m        \u001b[49m\u001b[43mk_folds\u001b[49m\u001b[38;5;241;43m=\u001b[39;49m\u001b[38;5;241;43m5\u001b[39;49m\u001b[43m,\u001b[49m\n\u001b[1;32m     35\u001b[0m \u001b[43m        \u001b[49m\u001b[43mn_repeats\u001b[49m\u001b[38;5;241;43m=\u001b[39;49m\u001b[38;5;241;43m1\u001b[39;49m\u001b[43m,\u001b[49m\n\u001b[1;32m     36\u001b[0m \u001b[43m        \u001b[49m\u001b[43mverbose\u001b[49m\u001b[38;5;241;43m=\u001b[39;49m\u001b[38;5;28;43;01mFalse\u001b[39;49;00m\u001b[43m,\u001b[49m\n\u001b[1;32m     37\u001b[0m \u001b[43m        \u001b[49m\u001b[43m)\u001b[49m\n",
      "File \u001b[0;32m~/Code/kernel-timeseries-anomaly-detection/experiments/cross_validation.py:362\u001b[0m, in \u001b[0;36mcv_tslearn\u001b[0;34m(dataset_names, kernel_names, k_folds, n_repeats, verbose, device)\u001b[0m\n\u001b[1;32m    360\u001b[0m \u001b[38;5;66;03m# Run each kernel\u001b[39;00m\n\u001b[1;32m    361\u001b[0m t0 \u001b[38;5;241m=\u001b[39m time\u001b[38;5;241m.\u001b[39mtime()\n\u001b[0;32m--> 362\u001b[0m c_kernelwise_param_dicts, m_kernelwise_param_dicts \u001b[38;5;241m=\u001b[39m \u001b[43mcv_given_dataset\u001b[49m\u001b[43m(\u001b[49m\n\u001b[1;32m    363\u001b[0m \u001b[43m                                        \u001b[49m\u001b[43mX_train\u001b[49m\u001b[43m,\u001b[49m\u001b[43m \u001b[49m\u001b[43my_train\u001b[49m\u001b[43m,\u001b[49m\u001b[43m \u001b[49m\u001b[43munique_labels\u001b[49m\u001b[43m,\u001b[49m\u001b[43m \u001b[49m\n\u001b[1;32m    364\u001b[0m \u001b[43m                                        \u001b[49m\u001b[43mkernel_names\u001b[49m\u001b[43m,\u001b[49m\u001b[43m \u001b[49m\u001b[43mk_folds\u001b[49m\u001b[43m,\u001b[49m\u001b[43m \u001b[49m\u001b[43mn_repeats\u001b[49m\u001b[43m,\u001b[49m\n\u001b[1;32m    365\u001b[0m \u001b[43m                                        \u001b[49m\u001b[43mverbose\u001b[49m\u001b[43m)\u001b[49m\n\u001b[1;32m    366\u001b[0m t1 \u001b[38;5;241m=\u001b[39m time\u001b[38;5;241m.\u001b[39mtime()\n\u001b[1;32m    367\u001b[0m \u001b[38;5;28mprint\u001b[39m(\u001b[38;5;124mf\u001b[39m\u001b[38;5;124m\"\u001b[39m\u001b[38;5;124mTime taken for dataset \u001b[39m\u001b[38;5;132;01m{\u001b[39;00mdataset_name\u001b[38;5;132;01m}\u001b[39;00m\u001b[38;5;124m:\u001b[39m\u001b[38;5;124m\"\u001b[39m, t1\u001b[38;5;241m-\u001b[39mt0, \u001b[38;5;124m\"\u001b[39m\u001b[38;5;124mseconds\u001b[39m\u001b[38;5;130;01m\\n\u001b[39;00m\u001b[38;5;130;01m\\n\u001b[39;00m\u001b[38;5;130;01m\\n\u001b[39;00m\u001b[38;5;124m\"\u001b[39m)\n",
      "File \u001b[0;32m~/Code/kernel-timeseries-anomaly-detection/experiments/cross_validation.py:311\u001b[0m, in \u001b[0;36mcv_given_dataset\u001b[0;34m(X, y, unique_labels, kernel_names, k_folds, n_repeats, verbose)\u001b[0m\n\u001b[1;32m    309\u001b[0m t0 \u001b[38;5;241m=\u001b[39m time\u001b[38;5;241m.\u001b[39mtime()\n\u001b[1;32m    310\u001b[0m \u001b[38;5;28;01mfor\u001b[39;00m label \u001b[38;5;129;01min\u001b[39;00m tqdm(unique_labels, desc \u001b[38;5;241m=\u001b[39m \u001b[38;5;124mf\u001b[39m\u001b[38;5;124m\"\u001b[39m\u001b[38;5;124mLabel for \u001b[39m\u001b[38;5;132;01m{\u001b[39;00mkernel_name\u001b[38;5;132;01m}\u001b[39;00m\u001b[38;5;124m\"\u001b[39m):\n\u001b[0;32m--> 311\u001b[0m     scores \u001b[38;5;241m=\u001b[39m \u001b[43meval_repeats_folds\u001b[49m\u001b[43m(\u001b[49m\u001b[43mX\u001b[49m\u001b[43m,\u001b[49m\u001b[43m \u001b[49m\u001b[43my\u001b[49m\u001b[43m,\u001b[49m\u001b[43m \u001b[49m\u001b[43mrskf\u001b[49m\u001b[43m,\u001b[49m\u001b[43m \u001b[49m\u001b[43mkernel_name\u001b[49m\u001b[43m,\u001b[49m\n\u001b[1;32m    312\u001b[0m \u001b[43m                                \u001b[49m\u001b[43mhyperparams\u001b[49m\u001b[43m,\u001b[49m\u001b[43m \u001b[49m\u001b[43mlabel\u001b[49m\u001b[43m,\u001b[49m\u001b[43malphas\u001b[49m\u001b[43m,\u001b[49m\u001b[43m \u001b[49m\u001b[43mverbose\u001b[49m\u001b[43m)\u001b[49m\n\u001b[1;32m    313\u001b[0m     c_param_dict, m_param_dict \u001b[38;5;241m=\u001b[39m choose_best_hyperparam(scores, hyperparams, alphas)\n\u001b[1;32m    314\u001b[0m     c_labelwise_param_dicts[label] \u001b[38;5;241m=\u001b[39m c_param_dict\n",
      "File \u001b[0;32m~/Code/kernel-timeseries-anomaly-detection/experiments/cross_validation.py:218\u001b[0m, in \u001b[0;36meval_repeats_folds\u001b[0;34m(X, y, rskf, kernel_name, hyperparams, class_to_test, alphas, verbose)\u001b[0m\n\u001b[1;32m    216\u001b[0m     X_train, y_train \u001b[38;5;241m=\u001b[39m X[train_idx], y[train_idx]\n\u001b[1;32m    217\u001b[0m     X_val, y_val \u001b[38;5;241m=\u001b[39m X[val_idx], y[val_idx]\n\u001b[0;32m--> 218\u001b[0m     obj \u001b[38;5;241m=\u001b[39m \u001b[43meval_1_paramdict_1_fold\u001b[49m\u001b[43m(\u001b[49m\n\u001b[1;32m    219\u001b[0m \u001b[43m                    \u001b[49m\u001b[43mX_train\u001b[49m\u001b[43m,\u001b[49m\u001b[43m \u001b[49m\u001b[43my_train\u001b[49m\u001b[43m,\u001b[49m\u001b[43m \u001b[49m\u001b[43mX_val\u001b[49m\u001b[43m,\u001b[49m\u001b[43m \u001b[49m\u001b[43my_val\u001b[49m\u001b[43m,\u001b[49m\n\u001b[1;32m    220\u001b[0m \u001b[43m                    \u001b[49m\u001b[43mclass_to_test\u001b[49m\u001b[43m,\u001b[49m\u001b[43m \u001b[49m\u001b[43mparam_dict\u001b[49m\u001b[43m,\u001b[49m\u001b[43m \u001b[49m\n\u001b[1;32m    221\u001b[0m \u001b[43m                    \u001b[49m\u001b[43malphas\u001b[49m\u001b[43m,\u001b[49m\u001b[43m \u001b[49m\u001b[43mverbose\u001b[49m\u001b[43m)\u001b[49m\n\u001b[1;32m    222\u001b[0m     folds\u001b[38;5;241m.\u001b[39mappend(obj)\n\u001b[1;32m    223\u001b[0m scores\u001b[38;5;241m.\u001b[39mappend(folds)\n",
      "File \u001b[0;32m~/Code/kernel-timeseries-anomaly-detection/experiments/cross_validation.py:152\u001b[0m, in \u001b[0;36meval_1_paramdict_1_fold\u001b[0;34m(X_train, y_train, X_val, y_val, class_to_test, param_dict, alphas, verbose)\u001b[0m\n\u001b[1;32m    149\u001b[0m SVD_max_rank \u001b[38;5;241m=\u001b[39m \u001b[38;5;241m50\u001b[39m\n\u001b[1;32m    150\u001b[0m corpus, test \u001b[38;5;241m=\u001b[39m get_corpus_and_test(X_train, y_train, X_val, \n\u001b[1;32m    151\u001b[0m                             class_to_test, param_dict)\n\u001b[0;32m--> 152\u001b[0m vv_grams, uv_grams \u001b[38;5;241m=\u001b[39m \u001b[43mcalc_grams\u001b[49m\u001b[43m(\u001b[49m\u001b[43mcorpus\u001b[49m\u001b[43m,\u001b[49m\u001b[43m \u001b[49m\u001b[43mtest\u001b[49m\u001b[43m,\u001b[49m\u001b[43m \u001b[49m\u001b[43mparam_dict\u001b[49m\u001b[43m,\u001b[49m\u001b[43m \u001b[49m\n\u001b[1;32m    153\u001b[0m \u001b[43m                                \u001b[49m\u001b[43msig_kernel_only_last\u001b[49m\u001b[38;5;241;43m=\u001b[39;49m\u001b[38;5;28;43;01mFalse\u001b[39;49;00m\u001b[43m)\u001b[49m\n\u001b[1;32m    155\u001b[0m \u001b[38;5;28;01mdef\u001b[39;00m \u001b[38;5;21mget_objective\u001b[39m(vv, uv):\n\u001b[1;32m    156\u001b[0m     raw_aucs \u001b[38;5;241m=\u001b[39m run_single_kernel_single_label(X_train, y_train, X_val, y_val,\n\u001b[1;32m    157\u001b[0m                         class_to_test, param_dict,\n\u001b[1;32m    158\u001b[0m                         SVD_max_rank\u001b[38;5;241m=\u001b[39mSVD_max_rank, verbose\u001b[38;5;241m=\u001b[39mverbose,\n\u001b[1;32m    159\u001b[0m                         vv_gram\u001b[38;5;241m=\u001b[39mvv, uv_gram\u001b[38;5;241m=\u001b[39muv, alphas\u001b[38;5;241m=\u001b[39malphas)\n",
      "File \u001b[0;32m~/Code/kernel-timeseries-anomaly-detection/experiments/experiment_code.py:91\u001b[0m, in \u001b[0;36mcalc_grams\u001b[0;34m(corpus, test, param_dict, sig_kernel_only_last)\u001b[0m\n\u001b[1;32m     89\u001b[0m torch\u001b[38;5;241m.\u001b[39mcuda\u001b[38;5;241m.\u001b[39mempty_cache()\n\u001b[1;32m     90\u001b[0m vv_gram \u001b[38;5;241m=\u001b[39m ker(corpus, corpus)\n\u001b[0;32m---> 91\u001b[0m uv_gram \u001b[38;5;241m=\u001b[39m \u001b[43mker\u001b[49m\u001b[43m(\u001b[49m\u001b[43mtest\u001b[49m\u001b[43m,\u001b[49m\u001b[43m \u001b[49m\u001b[43mcorpus\u001b[49m\u001b[43m)\u001b[49m\n\u001b[1;32m     92\u001b[0m \u001b[38;5;28;01mreturn\u001b[39;00m vv_gram, uv_gram\n",
      "File \u001b[0;32m~/Code/kernel-timeseries-anomaly-detection/models/kernels/abstract_base.py:311\u001b[0m, in \u001b[0;36mTimeSeriesKernel.__call__\u001b[0;34m(self, X, Y, diag, max_batch, normalize, n_jobs)\u001b[0m\n\u001b[1;32m    308\u001b[0m     Y \u001b[38;5;241m=\u001b[39m Y\u001b[38;5;241m.\u001b[39munsqueeze(\u001b[38;5;241m0\u001b[39m)\n\u001b[1;32m    310\u001b[0m \u001b[38;5;66;03m# Compute and exponentiate if in log space\u001b[39;00m\n\u001b[0;32m--> 311\u001b[0m result \u001b[38;5;241m=\u001b[39m \u001b[38;5;28;43mself\u001b[39;49m\u001b[38;5;241;43m.\u001b[39;49m\u001b[43m_max_batched_gram\u001b[49m\u001b[43m(\u001b[49m\u001b[43mX\u001b[49m\u001b[43m,\u001b[49m\u001b[43m \u001b[49m\u001b[43mY\u001b[49m\u001b[43m,\u001b[49m\u001b[43m \u001b[49m\u001b[43mdiag\u001b[49m\u001b[43m,\u001b[49m\u001b[43m \u001b[49m\u001b[43mmax_batch\u001b[49m\u001b[43m,\u001b[49m\u001b[43m \u001b[49m\u001b[43mnormalize\u001b[49m\u001b[43m,\u001b[49m\u001b[43m \u001b[49m\u001b[43mn_jobs\u001b[49m\u001b[43m)\u001b[49m\n\u001b[1;32m    312\u001b[0m \u001b[38;5;28;01mif\u001b[39;00m \u001b[38;5;28mself\u001b[39m\u001b[38;5;241m.\u001b[39mlog_space:\n\u001b[1;32m    313\u001b[0m     result \u001b[38;5;241m=\u001b[39m torch\u001b[38;5;241m.\u001b[39mexp(result)\n",
      "File \u001b[0;32m~/Code/kernel-timeseries-anomaly-detection/models/kernels/abstract_base.py:257\u001b[0m, in \u001b[0;36mTimeSeriesKernel._max_batched_gram\u001b[0;34m(self, X, Y, diag, max_batch, normalize, n_jobs)\u001b[0m\n\u001b[1;32m    255\u001b[0m split_Y \u001b[38;5;241m=\u001b[39m torch\u001b[38;5;241m.\u001b[39msplit(Y, Y_max_batch, dim\u001b[38;5;241m=\u001b[39m\u001b[38;5;241m0\u001b[39m)\n\u001b[1;32m    256\u001b[0m split \u001b[38;5;241m=\u001b[39m \u001b[38;5;28mzip\u001b[39m(split_X, split_Y) \u001b[38;5;28;01mif\u001b[39;00m diag \u001b[38;5;28;01melse\u001b[39;00m itertools\u001b[38;5;241m.\u001b[39mproduct(split_X, split_Y)\n\u001b[0;32m--> 257\u001b[0m result \u001b[38;5;241m=\u001b[39m \u001b[43mParallel\u001b[49m\u001b[43m(\u001b[49m\u001b[43mn_jobs\u001b[49m\u001b[38;5;241;43m=\u001b[39;49m\u001b[43mn_jobs\u001b[49m\u001b[43m)\u001b[49m\u001b[43m(\u001b[49m\n\u001b[1;32m    258\u001b[0m \u001b[43m    \u001b[49m\u001b[43mdelayed\u001b[49m\u001b[43m(\u001b[49m\u001b[38;5;28;43mself\u001b[39;49m\u001b[38;5;241;43m.\u001b[39;49m\u001b[43m_gram\u001b[49m\u001b[43m)\u001b[49m\u001b[43m(\u001b[49m\u001b[43mx\u001b[49m\u001b[43m,\u001b[49m\u001b[43m \u001b[49m\u001b[43my\u001b[49m\u001b[43m,\u001b[49m\u001b[43m \u001b[49m\u001b[43mdiag\u001b[49m\u001b[43m)\u001b[49m\u001b[43m \u001b[49m\u001b[38;5;28;43;01mfor\u001b[39;49;00m\u001b[43m \u001b[49m\u001b[43mx\u001b[49m\u001b[43m,\u001b[49m\u001b[43my\u001b[49m\u001b[43m \u001b[49m\u001b[38;5;129;43;01min\u001b[39;49;00m\u001b[43m \u001b[49m\u001b[43msplit\u001b[49m\n\u001b[1;32m    259\u001b[0m \u001b[43m    \u001b[49m\u001b[43m)\u001b[49m\n\u001b[1;32m    261\u001b[0m \u001b[38;5;66;03m# reshape back\u001b[39;00m\n\u001b[1;32m    262\u001b[0m \u001b[38;5;28;01mif\u001b[39;00m diag:\n",
      "File \u001b[0;32m~/Code/kernel-timeseries-anomaly-detection/.conda/lib/python3.11/site-packages/joblib/parallel.py:1863\u001b[0m, in \u001b[0;36mParallel.__call__\u001b[0;34m(self, iterable)\u001b[0m\n\u001b[1;32m   1861\u001b[0m     output \u001b[38;5;241m=\u001b[39m \u001b[38;5;28mself\u001b[39m\u001b[38;5;241m.\u001b[39m_get_sequential_output(iterable)\n\u001b[1;32m   1862\u001b[0m     \u001b[38;5;28mnext\u001b[39m(output)\n\u001b[0;32m-> 1863\u001b[0m     \u001b[38;5;28;01mreturn\u001b[39;00m output \u001b[38;5;28;01mif\u001b[39;00m \u001b[38;5;28mself\u001b[39m\u001b[38;5;241m.\u001b[39mreturn_generator \u001b[38;5;28;01melse\u001b[39;00m \u001b[38;5;28mlist\u001b[39m(output)\n\u001b[1;32m   1865\u001b[0m \u001b[38;5;66;03m# Let's create an ID that uniquely identifies the current call. If the\u001b[39;00m\n\u001b[1;32m   1866\u001b[0m \u001b[38;5;66;03m# call is interrupted early and that the same instance is immediately\u001b[39;00m\n\u001b[1;32m   1867\u001b[0m \u001b[38;5;66;03m# re-used, this id will be used to prevent workers that were\u001b[39;00m\n\u001b[1;32m   1868\u001b[0m \u001b[38;5;66;03m# concurrently finalizing a task from the previous call to run the\u001b[39;00m\n\u001b[1;32m   1869\u001b[0m \u001b[38;5;66;03m# callback.\u001b[39;00m\n\u001b[1;32m   1870\u001b[0m \u001b[38;5;28;01mwith\u001b[39;00m \u001b[38;5;28mself\u001b[39m\u001b[38;5;241m.\u001b[39m_lock:\n",
      "File \u001b[0;32m~/Code/kernel-timeseries-anomaly-detection/.conda/lib/python3.11/site-packages/joblib/parallel.py:1792\u001b[0m, in \u001b[0;36mParallel._get_sequential_output\u001b[0;34m(self, iterable)\u001b[0m\n\u001b[1;32m   1790\u001b[0m \u001b[38;5;28mself\u001b[39m\u001b[38;5;241m.\u001b[39mn_dispatched_batches \u001b[38;5;241m+\u001b[39m\u001b[38;5;241m=\u001b[39m \u001b[38;5;241m1\u001b[39m\n\u001b[1;32m   1791\u001b[0m \u001b[38;5;28mself\u001b[39m\u001b[38;5;241m.\u001b[39mn_dispatched_tasks \u001b[38;5;241m+\u001b[39m\u001b[38;5;241m=\u001b[39m \u001b[38;5;241m1\u001b[39m\n\u001b[0;32m-> 1792\u001b[0m res \u001b[38;5;241m=\u001b[39m \u001b[43mfunc\u001b[49m\u001b[43m(\u001b[49m\u001b[38;5;241;43m*\u001b[39;49m\u001b[43margs\u001b[49m\u001b[43m,\u001b[49m\u001b[43m \u001b[49m\u001b[38;5;241;43m*\u001b[39;49m\u001b[38;5;241;43m*\u001b[39;49m\u001b[43mkwargs\u001b[49m\u001b[43m)\u001b[49m\n\u001b[1;32m   1793\u001b[0m \u001b[38;5;28mself\u001b[39m\u001b[38;5;241m.\u001b[39mn_completed_tasks \u001b[38;5;241m+\u001b[39m\u001b[38;5;241m=\u001b[39m \u001b[38;5;241m1\u001b[39m\n\u001b[1;32m   1794\u001b[0m \u001b[38;5;28mself\u001b[39m\u001b[38;5;241m.\u001b[39mprint_progress()\n",
      "File \u001b[0;32m~/Code/kernel-timeseries-anomaly-detection/models/kernels/sig_pde.py:98\u001b[0m, in \u001b[0;36mSigPDEKernel._gram\u001b[0;34m(self, X, Y, diag)\u001b[0m\n\u001b[1;32m     96\u001b[0m     gram \u001b[38;5;241m=\u001b[39m \u001b[38;5;28mself\u001b[39m\u001b[38;5;241m.\u001b[39msig_ker\u001b[38;5;241m.\u001b[39mcompute_kernel(X, Y, max_batch\u001b[38;5;241m=\u001b[39m\u001b[38;5;241m2\u001b[39m\u001b[38;5;241m*\u001b[39m\u001b[38;5;28mself\u001b[39m\u001b[38;5;241m.\u001b[39mmax_batch)\u001b[38;5;241m.\u001b[39mdetach()\n\u001b[1;32m     97\u001b[0m \u001b[38;5;28;01melse\u001b[39;00m:\n\u001b[0;32m---> 98\u001b[0m     gram \u001b[38;5;241m=\u001b[39m \u001b[38;5;28;43mself\u001b[39;49m\u001b[38;5;241;43m.\u001b[39;49m\u001b[43msig_ker\u001b[49m\u001b[38;5;241;43m.\u001b[39;49m\u001b[43mcompute_Gram\u001b[49m\u001b[43m(\u001b[49m\u001b[43mX\u001b[49m\u001b[43m,\u001b[49m\u001b[43m \u001b[49m\u001b[43mY\u001b[49m\u001b[43m,\u001b[49m\u001b[43m \u001b[49m\u001b[43mmax_batch\u001b[49m\u001b[38;5;241;43m=\u001b[39;49m\u001b[38;5;241;43m2\u001b[39;49m\u001b[38;5;241;43m*\u001b[39;49m\u001b[38;5;28;43mself\u001b[39;49m\u001b[38;5;241;43m.\u001b[39;49m\u001b[43mmax_batch\u001b[49m\u001b[43m)\u001b[49m\u001b[38;5;241m.\u001b[39mdetach()\n\u001b[1;32m    100\u001b[0m \u001b[38;5;66;03m#recast and return. Clone otherwise we get a memory leak\u001b[39;00m\n\u001b[1;32m    101\u001b[0m \u001b[38;5;28;01mreturn\u001b[39;00m gram\u001b[38;5;241m.\u001b[39mclone()\u001b[38;5;241m.\u001b[39mdetach()\u001b[38;5;241m.\u001b[39mto(dtype\u001b[38;5;241m=\u001b[39mX\u001b[38;5;241m.\u001b[39mdtype)\n",
      "File \u001b[0;32m~/Code/kernel-timeseries-anomaly-detection/.conda/lib/python3.11/site-packages/sigkernel/sigkernel.py:127\u001b[0m, in \u001b[0;36mSigKernel.compute_Gram\u001b[0;34m(self, X, Y, sym, max_batch)\u001b[0m\n\u001b[1;32m    125\u001b[0m     K_bottom \u001b[38;5;241m=\u001b[39m torch\u001b[38;5;241m.\u001b[39mcat((K21, K22), \u001b[38;5;241m1\u001b[39m)\n\u001b[1;32m    126\u001b[0m     K \u001b[38;5;241m=\u001b[39m torch\u001b[38;5;241m.\u001b[39mcat((K_top, K_bottom), \u001b[38;5;241m0\u001b[39m)\n\u001b[0;32m--> 127\u001b[0m \u001b[43mtorch\u001b[49m\u001b[38;5;241;43m.\u001b[39;49m\u001b[43mcuda\u001b[49m\u001b[38;5;241;43m.\u001b[39;49m\u001b[43mempty_cache\u001b[49m\u001b[43m(\u001b[49m\u001b[43m)\u001b[49m\n\u001b[1;32m    128\u001b[0m \u001b[38;5;28;01mreturn\u001b[39;00m K\u001b[38;5;241m.\u001b[39mdetach()\n",
      "File \u001b[0;32m~/Code/kernel-timeseries-anomaly-detection/.conda/lib/python3.11/site-packages/torch/cuda/memory.py:162\u001b[0m, in \u001b[0;36mempty_cache\u001b[0;34m()\u001b[0m\n\u001b[1;32m    151\u001b[0m \u001b[38;5;250m\u001b[39m\u001b[38;5;124mr\u001b[39m\u001b[38;5;124;03m\"\"\"Release all unoccupied cached memory currently held by the caching\u001b[39;00m\n\u001b[1;32m    152\u001b[0m \u001b[38;5;124;03mallocator so that those can be used in other GPU application and visible in\u001b[39;00m\n\u001b[1;32m    153\u001b[0m \u001b[38;5;124;03m`nvidia-smi`.\u001b[39;00m\n\u001b[0;32m   (...)\u001b[0m\n\u001b[1;32m    159\u001b[0m \u001b[38;5;124;03m    more details about GPU memory management.\u001b[39;00m\n\u001b[1;32m    160\u001b[0m \u001b[38;5;124;03m\"\"\"\u001b[39;00m\n\u001b[1;32m    161\u001b[0m \u001b[38;5;28;01mif\u001b[39;00m is_initialized():\n\u001b[0;32m--> 162\u001b[0m     \u001b[43mtorch\u001b[49m\u001b[38;5;241;43m.\u001b[39;49m\u001b[43m_C\u001b[49m\u001b[38;5;241;43m.\u001b[39;49m\u001b[43m_cuda_emptyCache\u001b[49m\u001b[43m(\u001b[49m\u001b[43m)\u001b[49m\n",
      "\u001b[0;31mKeyboardInterrupt\u001b[0m: "
     ]
    }
   ],
   "source": [
    "cv_results = cv_tslearn(\n",
    "    dataset_names = [\n",
    "        'Epilepsy',                    # N_corpus = 34\n",
    "        # 'EthanolConcentration',        # N_corpus = 65\n",
    "        # 'FingerMovements',             # N_corpus = 158\n",
    "        # 'HandMovementDirection',       # N_corpus = 40\n",
    "        # 'Heartbeat',                   # N_corpus = 102\n",
    "        # 'LSST',                        # N_corpus = 176\n",
    "        # 'MotorImagery',                # N_corpus = 139\n",
    "        # 'NATOPS',                      # N_corpus = 30\n",
    "        # 'PenDigits',                   # N_corpus = 749\n",
    "        # 'PEMS-SF',                     # N_corpus = 38\n",
    "        # 'PhonemeSpectra',              # N_corpus = 85\n",
    "        # 'RacketSports',                # N_corpus = 38\n",
    "        # 'SelfRegulationSCP1',          # N_corpus = 134\n",
    "        ],\n",
    "    kernel_names = [\n",
    "            # \"flat linear\",\n",
    "            # \"flat rbf\",\n",
    "            # \"flat poly\",\n",
    "\n",
    "            # \"integral rbf\",\n",
    "            # \"integral poly\",\n",
    "\n",
    "            # \"trunc sig linear\",\n",
    "            # \"trunc sig rbf\",\n",
    "\n",
    "            \"pde sig rbf\",\n",
    "\n",
    "            # \"gak\", #normalized only\n",
    "\n",
    "            # \"reservoir\",\n",
    "        ],\n",
    "        k_folds=5,\n",
    "        n_repeats=1,\n",
    "        verbose=False,\n",
    "        )"
   ]
  },
  {
   "cell_type": "code",
   "execution_count": null,
   "metadata": {},
   "outputs": [],
   "source": [
    "print_cv_results(cv_results)\n",
    "save_to_pickle(cv_results, \"Data/cv_dummy.pkl\")"
   ]
  },
  {
   "cell_type": "markdown",
   "metadata": {},
   "source": [
    "# Validate on Test"
   ]
  },
  {
   "cell_type": "code",
   "execution_count": 7,
   "metadata": {},
   "outputs": [
    {
     "name": "stdout",
     "output_type": "stream",
     "text": [
      "Start validation on test sets\n",
      "Epilepsy\n",
      "Number of Classes: 4\n",
      "Dimension of path: 3\n",
      "Length: 206\n",
      "Train: 137\n",
      "Test: 138\n",
      "\n",
      "Kernel: flat linear\n",
      "\n",
      "Kernel: flat linear\n",
      "Total elapsed time for Epilepsy: 0.10974989900023502 seconds\n",
      "\n",
      "End validation on test sets\n",
      "\n",
      "\n",
      "\n",
      "Test Results\n",
      "\n",
      "Dataset: Epilepsy\n",
      "Number of Classes: 4\n",
      "Dimension of path: 3\n",
      "Length: 206\n",
      "Train: 137\n",
      "Test: 138\n",
      "\n",
      "Kernel: flat linear\n",
      "Conformance AUC: 0.925\n",
      "Conformance PR AUC: 0.834\n",
      "\n",
      "Kernel: flat linear\n",
      "Mahalanobis AUC: 0.859\n",
      "Mahalanobis PR AUC: 0.616\n",
      "\n",
      "End Dataset\n",
      "\n",
      "\n",
      "\n"
     ]
    }
   ],
   "source": [
    "test_results = validate_tslearn(cv_results, verbose=False, device=\"cuda\")\n",
    "print_test_results(test_results)"
   ]
  },
  {
   "cell_type": "markdown",
   "metadata": {},
   "source": [
    "# Validate on Test and Save"
   ]
  },
  {
   "cell_type": "code",
   "execution_count": null,
   "metadata": {},
   "outputs": [],
   "source": [
    "for dataset_name, cv_res in cv_results.items():\n",
    "    if dataset_name == \"Epilepsy\":\n",
    "        test_results = validate_tslearn({dataset_name : cv_res}, verbose=False, device=\"cuda\")\n",
    "        save_to_pickle(test_results, f\"Data/results_{dataset_name}.pkl\")"
   ]
  },
  {
   "cell_type": "markdown",
   "metadata": {},
   "source": [
    "# Read CV data from file and print results"
   ]
  },
  {
   "cell_type": "code",
   "execution_count": null,
   "metadata": {},
   "outputs": [],
   "source": [
    "# Load the cross validation results\n",
    "cv_results = join_dicts_from_pickle_paths(\n",
    "    [\n",
    "    \"Data/cv_Epilepsy.pkl\",\n",
    "    # \"Data/cv_EthanolConcentration.pkl\",\n",
    "    # \"Data/cv_FingerMovements.pkl\",\n",
    "    # \"Data/cv_HandMovementDirection.pkl\",\n",
    "    \"Data/cv_Heartbeat.pkl\",\n",
    "    # \"Data/cv_LSST.pkl\",\n",
    "    # \"Data/cv_MotorImagery.pkl\",\n",
    "    # \"Data/cv_NATOPS.pkl\",\n",
    "    \"Data/cv_PEMS-SF.pkl\",\n",
    "    # \"Data/cv_PhonemeSpectra.pkl\",\n",
    "    \"Data/cv_RacketSports.pkl\",\n",
    "    \"Data/cv_SelfRegulationSCP1.pkl\",\n",
    "    \"Data/cv_SelfRegulationSCP2.pkl\",\n",
    "    ])\n",
    "print_cv_results(cv_results)"
   ]
  },
  {
   "cell_type": "code",
   "execution_count": null,
   "metadata": {},
   "outputs": [],
   "source": [
    "test_results = join_dicts_from_pickle_paths([\n",
    "    \"Data/results_Epilepsy.pkl\",\n",
    "    # \"Data/results_EthanolConcentration.pkl\",\n",
    "    # \"Data/results_FingerMovements.pkl\",\n",
    "    # \"Data/results_HandMovementDirection.pkl\",\n",
    "    \"Data/results_Heartbeat.pkl\",\n",
    "    # \"Data/results_LSST.pkl\",\n",
    "    # \"Data/results_MotorImagery.pkl\",\n",
    "    # \"Data/results_NATOPS.pkl\",\n",
    "    \"Data/results_PEMS-SF.pkl\",\n",
    "    # \"Data/results_PhonemeSpectra.pkl\",\n",
    "    \"Data/results_RacketSports.pkl\",\n",
    "    \"Data/results_SelfRegulationSCP1.pkl\",\n",
    "    \"Data/results_SelfRegulationSCP2.pkl\",\n",
    "                                             ])\n",
    "print_latex_results(test_results, round_digits=2)\n",
    "print_latex_results(test_results, round_digits=3)"
   ]
  },
  {
   "cell_type": "markdown",
   "metadata": {},
   "source": [
    "## Enumerate all UCR UEA datasets in 'tslearn'"
   ]
  },
  {
   "cell_type": "code",
   "execution_count": null,
   "metadata": {},
   "outputs": [],
   "source": [
    "UCR_UEA_datasets = UCR_UEA_datasets()\n",
    "\n",
    "for dataset_name in UCR_UEA_datasets.list_multivariate_datasets():\n",
    "#for dataset_name in _datasets:\n",
    "    print(\"Dataset:\", dataset_name)\n",
    "    dataset = UCR_UEA_datasets.load_dataset(dataset_name)\n",
    "    if dataset[0] is not None:\n",
    "        X_train, y_train, X_test, y_test = dataset\n",
    "        num_classes = len(np.unique(y_train))\n",
    "        N_train, T, d = X_train.shape\n",
    "        N_test, _, _  = X_test.shape\n",
    "        \n",
    "        print(\"Number of Classes:\", num_classes)\n",
    "        print(\"Dimension of path:\", d)\n",
    "        print(\"Length:\", T)\n",
    "        print(\"Train Size, Test Size\", N_train, N_test)\n",
    "        print()\n",
    "    else:\n",
    "        print(\"No dataset found\")\n",
    "        print()"
   ]
  },
  {
   "cell_type": "markdown",
   "metadata": {},
   "source": [
    "# Print distribution of CV params"
   ]
  },
  {
   "cell_type": "code",
   "execution_count": null,
   "metadata": {},
   "outputs": [],
   "source": [
    "import matplotlib.pyplot as plt\n",
    "\n",
    "all_datasets = [\n",
    "    \"Epilepsy\",\n",
    "    \"EthanolConcentration\",\n",
    "    \"FingerMovements\",\n",
    "    \"HandMovementDirection\",\n",
    "    \"Heartbeat\",\n",
    "    \"LSST\",\n",
    "    \"MotorImagery\",\n",
    "    \"NATOPS\",\n",
    "    \"PEMS-SF\",\n",
    "    \"PhonemeSpectra\",\n",
    "    \"RacketSports\",\n",
    "    \"SelfRegulationSCP1\",\n",
    "    \"SelfRegulationSCP2\",\n",
    "    ]\n",
    "\n",
    "all_kernels = [\n",
    "    \"flat linear\",\n",
    "    \"flat rbf\",\n",
    "    \"flat poly\",\n",
    "    \"integral rbf\",\n",
    "    \"integral poly\",\n",
    "    \"trunc sig linear\",\n",
    "    \"trunc sig rbf\",\n",
    "    \"pde sig rbf\",\n",
    "    \"gak\",\n",
    "    \"reservoir\",\n",
    "    ]\n",
    "\n",
    "\n",
    "def plot_cv_params_single_kernel(\n",
    "        cv_results:Dict,\n",
    "        param_name:str = \"sigma\", \n",
    "        kernel_name:str = \"flat rbf\", \n",
    "        datasets:Optional[List[str]] = None, \n",
    "        n_bins:int = 30,\n",
    "    ):\n",
    "    \"\"\"\n",
    "    For each dataset, plot the histogram of the best parameter\n",
    "    values specified by 'param_name' for the kerenl \"kernel_name\".\n",
    "    \"\"\"\n",
    "    if datasets is None:\n",
    "        datasets = list(cv_results.keys())\n",
    "\n",
    "    l = []\n",
    "    for dataset_name, results in cv_results.items():\n",
    "        for anomaly_method in [\"conf_results\", \"mahal_results\"]:\n",
    "            kernelwise_dict = results[anomaly_method]\n",
    "            for ker, labelwise_dict in kernelwise_dict.items():\n",
    "                for label, param_dict in labelwise_dict.items():\n",
    "                    if ker == kernel_name:\n",
    "                        l.append(param_dict[param_name])\n",
    "    l = np.array(l)\n",
    "    l.sort()\n",
    "    l = l.astype(str)\n",
    "\n",
    "    plt.hist(l, n_bins)\n",
    "    plt.xlabel(param_name)\n",
    "    plt.ylabel(\"Frequency\")\n",
    "    plt.title(f\"Kernel: {kernel_name}\")\n",
    "    plt.xticks(rotation='vertical')\n",
    "    plt.show()\n",
    "\n",
    "\n",
    "\n",
    "def plot_cv_params_all_kernels(\n",
    "        cv_results:Dict,\n",
    "        param_name:str = \"sigma\",\n",
    "        kernels:Optional[List[str]] = None, \n",
    "        datasets:Optional[List[str]] = None,\n",
    "        n_bins:int = 30,\n",
    "    ):\n",
    "    \"\"\"\n",
    "    For each dataset, plot the histogram of the best parameter\n",
    "    values specified by 'param_name' for all the kernels.\n",
    "    \"\"\"\n",
    "    if datasets is None:\n",
    "        datasets = list(cv_results.keys())\n",
    "    if kernels is None:\n",
    "        kernels = list(cv_results[datasets[0]][\"conf_results\"].keys())\n",
    "\n",
    "    l = []\n",
    "    for dataset_name, results in cv_results.items():\n",
    "        for anomaly_method in [\"conf_results\", \"mahal_results\"]:\n",
    "            kernelwise_dict = results[anomaly_method]\n",
    "            for kernel_name, labelwise_dict in kernelwise_dict.items():\n",
    "                for label, param_dict in labelwise_dict.items():\n",
    "                    if kernel_name == kernel_name:\n",
    "                        if param_name in param_dict:\n",
    "                            l.append(param_dict[param_name])\n",
    "    l = np.array(l)\n",
    "    l.sort()\n",
    "    l = l.astype(str)\n",
    "\n",
    "    plt.hist(l, n_bins)\n",
    "    plt.xlabel(param_name)\n",
    "    plt.ylabel(\"Frequency\")\n",
    "    plt.title(f\"All datasets: {param_name}\")\n",
    "    plt.xticks(rotation='vertical')\n",
    "    plt.show()"
   ]
  },
  {
   "cell_type": "code",
   "execution_count": null,
   "metadata": {},
   "outputs": [],
   "source": [
    "plot_cv_params_all_kernels(cv_results, \"alpha\", kernels=[\"trunc sig pde\"])\n",
    "plot_cv_params_all_kernels(cv_results, \"threshold\",kernels=[\"trunc sig pde\"])\n",
    "plot_cv_params_all_kernels(cv_results, \"normalize\",kernels=[\"trunc sig pde\"])\n",
    "plot_cv_params_all_kernels(cv_results, \"time\",kernels=[\"trunc sig pde\"])\n",
    "plot_cv_params_all_kernels(cv_results, \"basepoint\",kernels=[\"trunc sig pde\"])"
   ]
  },
  {
   "cell_type": "code",
   "execution_count": null,
   "metadata": {},
   "outputs": [],
   "source": [
    "plot_cv_params_single_kernel(cv_results, \"gak_factor\", \"gak\")"
   ]
  },
  {
   "cell_type": "markdown",
   "metadata": {},
   "source": [
    "# Run specific param_dict on specific dataset"
   ]
  },
  {
   "cell_type": "code",
   "execution_count": null,
   "metadata": {},
   "outputs": [],
   "source": [
    "# code to run\n",
    "def run_specific_param_dict(\n",
    "        dataset_name:str, \n",
    "        param_dict:Dict,\n",
    "        verbose:bool = False,\n",
    "        device=\"cuda\",\n",
    "    ):    \n",
    "    \"\"\"Runs the specific param_dict on a dataset.\n",
    "    \n",
    "    Args:\n",
    "        dataset_name (str): Name of the dataset.\n",
    "        param_dict (Dict): Dictionary of parameters.\n",
    "        verbose (bool): Verbosity.\n",
    "        device (str): Device for PyTorch computation.\n",
    "        \"\"\"\n",
    "    X_train, y_train, X_test, y_test = UCR_UEA_datasets().load_dataset(dataset_name)\n",
    "    X_train = torch.from_numpy(X_train).to(device)\n",
    "    X_test = torch.from_numpy(X_test).to(device)\n",
    "    unique_labels = np.unique(y_train)\n",
    "    kernel_name = param_dict[\"kernel_name\"]\n",
    "\n",
    "    #create kernelwise dict\n",
    "    kernelwise_dict = {kernel_name: {label: param_dict for label in unique_labels}}\n",
    "\n",
    "    results = run_all_kernels(X_train, y_train, X_test, y_test, \n",
    "                        unique_labels, kernelwise_dict, verbose)\n",
    "    aucs = results[kernel_name]\n",
    "    print(\"Conf ROCAUC\\t\", aucs[0,0])\n",
    "    print(\"Conf PRAUC\\t\", aucs[0,1])\n",
    "    print(\"Mah ROCAUC\\t\", aucs[1,0])\n",
    "    print(\"Mah PRAUC\\t\", aucs[1,1])\n",
    "    return results\n",
    "\n",
    "\n",
    "# General Parameters\n",
    "param_dict = {\n",
    "    \"alpha\": 0.000001,\n",
    "    \"threshold\": 7,\n",
    "    \"normalize\": True,\n",
    "    \"time\": \"include_time\",\n",
    "    \"basepoint\": \"basepoint\",\n",
    "}\n",
    "\n",
    "\n",
    "# Kernel Specific Parameters\n",
    "param_dict[\"kernel_name\"] = \"pde sig rbf\"\n",
    "param_dict[\"order\"] = 5\n",
    "param_dict[\"sigma\"] = 1.4\n",
    "param_dict[\"scale\"] = 0.5\n",
    "param_dict[\"gak_factor\"] = 10\n",
    "param_dict[\"dyadic_order\"] = 3\n",
    "\n",
    "\n",
    "res = run_specific_param_dict(\"Epilepsy\", param_dict, verbose=True)"
   ]
  }
 ],
 "metadata": {
  "kernelspec": {
   "display_name": "Python 3",
   "language": "python",
   "name": "python3"
  },
  "language_info": {
   "codemirror_mode": {
    "name": "ipython",
    "version": 3
   },
   "file_extension": ".py",
   "mimetype": "text/x-python",
   "name": "python",
   "nbconvert_exporter": "python",
   "pygments_lexer": "ipython3",
   "version": "3.11.8"
  }
 },
 "nbformat": 4,
 "nbformat_minor": 2
}
