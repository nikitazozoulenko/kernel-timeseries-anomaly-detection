{
 "cells": [
  {
   "cell_type": "code",
   "execution_count": 1,
   "metadata": {},
   "outputs": [],
   "source": [
    "import numpy as np\n",
    "from typing import List, Optional, Dict, Set, Callable, Any, Literal\n",
    "from joblib import Memory, Parallel, delayed\n",
    "import torch\n",
    "from torch import Tensor\n",
    "\n",
    "from experiments.cross_validation import cv_UEA, print_cv_results\n",
    "from experiments.eval_on_test import validate_UEA, print_test_results\n",
    "from experiments.utils import join_dicts_from_pickle_paths, save_to_pickle, print_latex_results, load_dataset\n",
    "from experiments.experiment_code import run_all_kernels"
   ]
  },
  {
   "cell_type": "markdown",
   "metadata": {},
   "source": [
    "# Cross Validation on Train"
   ]
  },
  {
   "cell_type": "code",
   "execution_count": 2,
   "metadata": {},
   "outputs": [
    {
     "name": "stdout",
     "output_type": "stream",
     "text": [
      "Dataset: Epilepsy\n",
      "Number of Classes: 4\n",
      "Dimension of path: 3\n",
      "Length: 206\n",
      "Train: 137\n",
      "Test: N/A\n"
     ]
    },
    {
     "name": "stderr",
     "output_type": "stream",
     "text": [
      "Label for rand sig identity:   0%|          | 0/4 [00:13<?, ?it/s]\n"
     ]
    },
    {
     "ename": "KeyboardInterrupt",
     "evalue": "",
     "output_type": "error",
     "traceback": [
      "\u001b[0;31m---------------------------------------------------------------------------\u001b[0m",
      "\u001b[0;31mKeyboardInterrupt\u001b[0m                         Traceback (most recent call last)",
      "Cell \u001b[0;32mIn[2], line 1\u001b[0m\n\u001b[0;32m----> 1\u001b[0m cv_results \u001b[38;5;241m=\u001b[39m \u001b[43mcv_UEA\u001b[49m\u001b[43m(\u001b[49m\n\u001b[1;32m      2\u001b[0m \u001b[43m    \u001b[49m\u001b[43mdataset_names\u001b[49m\u001b[43m \u001b[49m\u001b[38;5;241;43m=\u001b[39;49m\u001b[43m \u001b[49m\u001b[43m[\u001b[49m\n\u001b[1;32m      3\u001b[0m \u001b[43m        \u001b[49m\u001b[38;5;124;43m'\u001b[39;49m\u001b[38;5;124;43mEpilepsy\u001b[39;49m\u001b[38;5;124;43m'\u001b[39;49m\u001b[43m,\u001b[49m\u001b[43m                    \u001b[49m\u001b[38;5;66;43;03m# N_corpus = 34\u001b[39;49;00m\n\u001b[1;32m      4\u001b[0m \u001b[43m        \u001b[49m\u001b[38;5;66;43;03m# 'EthanolConcentration',        # N_corpus = 65\u001b[39;49;00m\n\u001b[1;32m      5\u001b[0m \u001b[43m        \u001b[49m\u001b[38;5;66;43;03m# 'FingerMovements',             # N_corpus = 158\u001b[39;49;00m\n\u001b[1;32m      6\u001b[0m \u001b[43m        \u001b[49m\u001b[38;5;66;43;03m# 'HandMovementDirection',       # N_corpus = 40\u001b[39;49;00m\n\u001b[1;32m      7\u001b[0m \u001b[43m        \u001b[49m\u001b[38;5;66;43;03m# 'Heartbeat',                   # N_corpus = 102\u001b[39;49;00m\n\u001b[1;32m      8\u001b[0m \u001b[43m        \u001b[49m\u001b[38;5;66;43;03m# 'LSST',                        # N_corpus = 176\u001b[39;49;00m\n\u001b[1;32m      9\u001b[0m \u001b[43m        \u001b[49m\u001b[38;5;66;43;03m# 'MotorImagery',                # N_corpus = 139\u001b[39;49;00m\n\u001b[1;32m     10\u001b[0m \u001b[43m        \u001b[49m\u001b[38;5;66;43;03m# 'PenDigits',                   # N_corpus = 749\u001b[39;49;00m\n\u001b[1;32m     11\u001b[0m \u001b[43m        \u001b[49m\u001b[38;5;66;43;03m# 'PEMS-SF',                     # N_corpus = 38\u001b[39;49;00m\n\u001b[1;32m     12\u001b[0m \u001b[43m        \u001b[49m\u001b[38;5;66;43;03m# 'PhonemeSpectra',              # N_corpus = 85\u001b[39;49;00m\n\u001b[1;32m     13\u001b[0m \u001b[43m        \u001b[49m\u001b[38;5;66;43;03m# 'RacketSports',                # N_corpus = 38\u001b[39;49;00m\n\u001b[1;32m     14\u001b[0m \u001b[43m        \u001b[49m\u001b[38;5;66;43;03m# 'SelfRegulationSCP1',          # N_corpus = 134\u001b[39;49;00m\n\u001b[1;32m     15\u001b[0m \u001b[43m        \u001b[49m\u001b[43m]\u001b[49m\u001b[43m,\u001b[49m\n\u001b[1;32m     16\u001b[0m \u001b[43m    \u001b[49m\u001b[43mkernel_names\u001b[49m\u001b[43m \u001b[49m\u001b[38;5;241;43m=\u001b[39;49m\u001b[43m \u001b[49m\u001b[43m[\u001b[49m\n\u001b[1;32m     17\u001b[0m \u001b[43m            \u001b[49m\u001b[38;5;66;43;03m# \"flat linear\",\u001b[39;49;00m\n\u001b[1;32m     18\u001b[0m \u001b[43m            \u001b[49m\u001b[38;5;66;43;03m# \"flat rbf\",\u001b[39;49;00m\n\u001b[1;32m     19\u001b[0m \u001b[43m            \u001b[49m\u001b[38;5;66;43;03m# \"flat poly\",\u001b[39;49;00m\n\u001b[1;32m     20\u001b[0m \u001b[43m            \u001b[49m\u001b[38;5;66;43;03m# \"integral rbf\",\u001b[39;49;00m\n\u001b[1;32m     21\u001b[0m \u001b[43m            \u001b[49m\u001b[38;5;66;43;03m# \"integral poly\",\u001b[39;49;00m\n\u001b[1;32m     22\u001b[0m \u001b[43m            \u001b[49m\u001b[38;5;66;43;03m# \"trunc sig linear\",\u001b[39;49;00m\n\u001b[1;32m     23\u001b[0m \u001b[43m            \u001b[49m\u001b[38;5;66;43;03m# \"trunc sig rbf\",\u001b[39;49;00m\n\u001b[1;32m     24\u001b[0m \u001b[43m            \u001b[49m\u001b[38;5;66;43;03m# \"pde sig linear\"\u001b[39;49;00m\n\u001b[1;32m     25\u001b[0m \u001b[43m            \u001b[49m\u001b[38;5;66;43;03m# \"pde sig rbf\",\u001b[39;49;00m\n\u001b[1;32m     26\u001b[0m \u001b[43m            \u001b[49m\u001b[38;5;124;43m\"\u001b[39;49m\u001b[38;5;124;43mrand sig identity\u001b[39;49m\u001b[38;5;124;43m\"\u001b[39;49m\u001b[43m,\u001b[49m\n\u001b[1;32m     27\u001b[0m \u001b[43m            \u001b[49m\u001b[38;5;66;43;03m# \"rand sig relu\",\u001b[39;49;00m\n\u001b[1;32m     28\u001b[0m \u001b[43m            \u001b[49m\u001b[38;5;66;43;03m# \"rand sig tanh\",\u001b[39;49;00m\n\u001b[1;32m     29\u001b[0m \u001b[43m            \u001b[49m\u001b[38;5;66;43;03m# \"gak\",\u001b[39;49;00m\n\u001b[1;32m     30\u001b[0m \u001b[43m            \u001b[49m\u001b[38;5;124;43m\"\u001b[39;49m\u001b[38;5;124;43mreservoir\u001b[39;49m\u001b[38;5;124;43m\"\u001b[39;49m\u001b[43m,\u001b[49m\n\u001b[1;32m     31\u001b[0m \u001b[43m        \u001b[49m\u001b[43m]\u001b[49m\u001b[43m,\u001b[49m\n\u001b[1;32m     32\u001b[0m \u001b[43m        \u001b[49m\u001b[43mk_folds\u001b[49m\u001b[38;5;241;43m=\u001b[39;49m\u001b[38;5;241;43m5\u001b[39;49m\u001b[43m,\u001b[49m\n\u001b[1;32m     33\u001b[0m \u001b[43m        \u001b[49m\u001b[43mn_repeats\u001b[49m\u001b[38;5;241;43m=\u001b[39;49m\u001b[38;5;241;43m1\u001b[39;49m\u001b[43m,\u001b[49m\n\u001b[1;32m     34\u001b[0m \u001b[43m        \u001b[49m\u001b[43mverbose\u001b[49m\u001b[38;5;241;43m=\u001b[39;49m\u001b[38;5;28;43;01mFalse\u001b[39;49;00m\u001b[43m,\u001b[49m\n\u001b[1;32m     35\u001b[0m \u001b[43m        \u001b[49m\u001b[43m)\u001b[49m\n",
      "File \u001b[0;32m~/Code/kernel-timeseries-anomaly-detection/experiments/cross_validation.py:375\u001b[0m, in \u001b[0;36mcv_UEA\u001b[0;34m(dataset_names, kernel_names, k_folds, n_repeats, verbose, device)\u001b[0m\n\u001b[1;32m    373\u001b[0m \u001b[38;5;66;03m# Run each kernel\u001b[39;00m\n\u001b[1;32m    374\u001b[0m t0 \u001b[38;5;241m=\u001b[39m time\u001b[38;5;241m.\u001b[39mtime()\n\u001b[0;32m--> 375\u001b[0m c_kernelwise_param_dicts, m_kernelwise_param_dicts \u001b[38;5;241m=\u001b[39m \u001b[43mcv_given_dataset\u001b[49m\u001b[43m(\u001b[49m\n\u001b[1;32m    376\u001b[0m \u001b[43m                                        \u001b[49m\u001b[43mX_train\u001b[49m\u001b[43m,\u001b[49m\u001b[43m \u001b[49m\u001b[43my_train\u001b[49m\u001b[43m,\u001b[49m\u001b[43m \u001b[49m\u001b[43munique_labels\u001b[49m\u001b[43m,\u001b[49m\u001b[43m \u001b[49m\n\u001b[1;32m    377\u001b[0m \u001b[43m                                        \u001b[49m\u001b[43mkernel_names\u001b[49m\u001b[43m,\u001b[49m\u001b[43m \u001b[49m\u001b[43mk_folds\u001b[49m\u001b[43m,\u001b[49m\u001b[43m \u001b[49m\u001b[43mn_repeats\u001b[49m\u001b[43m,\u001b[49m\n\u001b[1;32m    378\u001b[0m \u001b[43m                                        \u001b[49m\u001b[43mverbose\u001b[49m\u001b[43m)\u001b[49m\n\u001b[1;32m    379\u001b[0m t1 \u001b[38;5;241m=\u001b[39m time\u001b[38;5;241m.\u001b[39mtime()\n\u001b[1;32m    380\u001b[0m \u001b[38;5;28mprint\u001b[39m(\u001b[38;5;124mf\u001b[39m\u001b[38;5;124m\"\u001b[39m\u001b[38;5;124mTime taken for dataset \u001b[39m\u001b[38;5;132;01m{\u001b[39;00mdataset_name\u001b[38;5;132;01m}\u001b[39;00m\u001b[38;5;124m:\u001b[39m\u001b[38;5;124m\"\u001b[39m, t1\u001b[38;5;241m-\u001b[39mt0, \u001b[38;5;124m\"\u001b[39m\u001b[38;5;124mseconds\u001b[39m\u001b[38;5;130;01m\\n\u001b[39;00m\u001b[38;5;130;01m\\n\u001b[39;00m\u001b[38;5;130;01m\\n\u001b[39;00m\u001b[38;5;124m\"\u001b[39m)\n",
      "File \u001b[0;32m~/Code/kernel-timeseries-anomaly-detection/experiments/cross_validation.py:324\u001b[0m, in \u001b[0;36mcv_given_dataset\u001b[0;34m(X, y, unique_labels, kernel_names, k_folds, n_repeats, verbose)\u001b[0m\n\u001b[1;32m    322\u001b[0m t0 \u001b[38;5;241m=\u001b[39m time\u001b[38;5;241m.\u001b[39mtime()\n\u001b[1;32m    323\u001b[0m \u001b[38;5;28;01mfor\u001b[39;00m label \u001b[38;5;129;01min\u001b[39;00m tqdm(unique_labels, desc \u001b[38;5;241m=\u001b[39m \u001b[38;5;124mf\u001b[39m\u001b[38;5;124m\"\u001b[39m\u001b[38;5;124mLabel for \u001b[39m\u001b[38;5;132;01m{\u001b[39;00mkernel_name\u001b[38;5;132;01m}\u001b[39;00m\u001b[38;5;124m\"\u001b[39m):\n\u001b[0;32m--> 324\u001b[0m     scores \u001b[38;5;241m=\u001b[39m \u001b[43meval_repeats_folds\u001b[49m\u001b[43m(\u001b[49m\u001b[43mX\u001b[49m\u001b[43m,\u001b[49m\u001b[43m \u001b[49m\u001b[43my\u001b[49m\u001b[43m,\u001b[49m\u001b[43m \u001b[49m\u001b[43mrskf\u001b[49m\u001b[43m,\u001b[49m\u001b[43m \u001b[49m\u001b[43mkernel_name\u001b[49m\u001b[43m,\u001b[49m\n\u001b[1;32m    325\u001b[0m \u001b[43m                                \u001b[49m\u001b[43mhyperparams\u001b[49m\u001b[43m,\u001b[49m\u001b[43m \u001b[49m\u001b[43mlabel\u001b[49m\u001b[43m,\u001b[49m\u001b[43m \u001b[49m\u001b[43malphas\u001b[49m\u001b[43m,\u001b[49m\u001b[43m \u001b[49m\u001b[43mverbose\u001b[49m\u001b[43m)\u001b[49m\n\u001b[1;32m    326\u001b[0m     c_param_dict, m_param_dict \u001b[38;5;241m=\u001b[39m choose_best_hyperparam(scores, hyperparams, alphas)\n\u001b[1;32m    327\u001b[0m     c_labelwise_param_dicts[label] \u001b[38;5;241m=\u001b[39m c_param_dict\n",
      "File \u001b[0;32m~/Code/kernel-timeseries-anomaly-detection/experiments/cross_validation.py:231\u001b[0m, in \u001b[0;36meval_repeats_folds\u001b[0;34m(X, y, rskf, kernel_name, hyperparams, class_to_test, alphas, verbose)\u001b[0m\n\u001b[1;32m    229\u001b[0m     X_train, y_train \u001b[38;5;241m=\u001b[39m X[train_idx], y[train_idx]\n\u001b[1;32m    230\u001b[0m     X_val, y_val \u001b[38;5;241m=\u001b[39m X[val_idx], y[val_idx]\n\u001b[0;32m--> 231\u001b[0m     obj \u001b[38;5;241m=\u001b[39m \u001b[43meval_1_paramdict_1_fold\u001b[49m\u001b[43m(\u001b[49m\n\u001b[1;32m    232\u001b[0m \u001b[43m                    \u001b[49m\u001b[43mX_train\u001b[49m\u001b[43m,\u001b[49m\u001b[43m \u001b[49m\u001b[43my_train\u001b[49m\u001b[43m,\u001b[49m\u001b[43m \u001b[49m\u001b[43mX_val\u001b[49m\u001b[43m,\u001b[49m\u001b[43m \u001b[49m\u001b[43my_val\u001b[49m\u001b[43m,\u001b[49m\n\u001b[1;32m    233\u001b[0m \u001b[43m                    \u001b[49m\u001b[43mclass_to_test\u001b[49m\u001b[43m,\u001b[49m\u001b[43m \u001b[49m\u001b[43mparam_dict\u001b[49m\u001b[43m,\u001b[49m\u001b[43m \u001b[49m\n\u001b[1;32m    234\u001b[0m \u001b[43m                    \u001b[49m\u001b[43malphas\u001b[49m\u001b[43m,\u001b[49m\u001b[43m \u001b[49m\u001b[43mverbose\u001b[49m\u001b[43m)\u001b[49m\n\u001b[1;32m    235\u001b[0m     folds\u001b[38;5;241m.\u001b[39mappend(obj)\n\u001b[1;32m    236\u001b[0m scores\u001b[38;5;241m.\u001b[39mappend(folds)\n",
      "File \u001b[0;32m~/Code/kernel-timeseries-anomaly-detection/experiments/cross_validation.py:165\u001b[0m, in \u001b[0;36meval_1_paramdict_1_fold\u001b[0;34m(X_train, y_train, X_val, y_val, class_to_test, param_dict, alphas, verbose)\u001b[0m\n\u001b[1;32m    162\u001b[0m SVD_max_rank \u001b[38;5;241m=\u001b[39m \u001b[38;5;241m30\u001b[39m\n\u001b[1;32m    163\u001b[0m corpus, test \u001b[38;5;241m=\u001b[39m get_corpus_and_test(X_train, y_train, X_val, \n\u001b[1;32m    164\u001b[0m                             class_to_test, param_dict)\n\u001b[0;32m--> 165\u001b[0m vv_grams, uv_grams \u001b[38;5;241m=\u001b[39m \u001b[43mcalc_grams\u001b[49m\u001b[43m(\u001b[49m\u001b[43mcorpus\u001b[49m\u001b[43m,\u001b[49m\u001b[43m \u001b[49m\u001b[43mtest\u001b[49m\u001b[43m,\u001b[49m\u001b[43m \u001b[49m\u001b[43mparam_dict\u001b[49m\u001b[43m,\u001b[49m\u001b[43m \u001b[49m\n\u001b[1;32m    166\u001b[0m \u001b[43m                                \u001b[49m\u001b[43msig_kernel_only_last\u001b[49m\u001b[38;5;241;43m=\u001b[39;49m\u001b[38;5;28;43;01mFalse\u001b[39;49;00m\u001b[43m)\u001b[49m\n\u001b[1;32m    168\u001b[0m \u001b[38;5;28;01mdef\u001b[39;00m \u001b[38;5;21mget_objective\u001b[39m(vv, uv):\n\u001b[1;32m    169\u001b[0m     raw_aucs \u001b[38;5;241m=\u001b[39m run_single_kernel_single_label(X_train, y_train, X_val, y_val,\n\u001b[1;32m    170\u001b[0m                         class_to_test, param_dict,\n\u001b[1;32m    171\u001b[0m                         SVD_max_rank\u001b[38;5;241m=\u001b[39mSVD_max_rank, verbose\u001b[38;5;241m=\u001b[39mverbose,\n\u001b[1;32m    172\u001b[0m                         vv_gram\u001b[38;5;241m=\u001b[39mvv, uv_gram\u001b[38;5;241m=\u001b[39muv, alphas\u001b[38;5;241m=\u001b[39malphas)\n",
      "File \u001b[0;32m~/Code/kernel-timeseries-anomaly-detection/experiments/experiment_code.py:109\u001b[0m, in \u001b[0;36mcalc_grams\u001b[0;34m(corpus, test, param_dict, sig_kernel_only_last)\u001b[0m\n\u001b[1;32m    107\u001b[0m vv_gram \u001b[38;5;241m=\u001b[39m ker(corpus, corpus)\n\u001b[1;32m    108\u001b[0m torch\u001b[38;5;241m.\u001b[39mcuda\u001b[38;5;241m.\u001b[39mempty_cache()\n\u001b[0;32m--> 109\u001b[0m uv_gram \u001b[38;5;241m=\u001b[39m \u001b[43mker\u001b[49m\u001b[43m(\u001b[49m\u001b[43mtest\u001b[49m\u001b[43m,\u001b[49m\u001b[43m \u001b[49m\u001b[43mcorpus\u001b[49m\u001b[43m)\u001b[49m\n\u001b[1;32m    110\u001b[0m \u001b[38;5;28;01mreturn\u001b[39;00m vv_gram, uv_gram\n",
      "File \u001b[0;32m~/Code/kernel-timeseries-anomaly-detection/models/kernels/abstract_base.py:311\u001b[0m, in \u001b[0;36mTimeSeriesKernel.__call__\u001b[0;34m(self, X, Y, diag, max_batch, normalize, n_jobs)\u001b[0m\n\u001b[1;32m    308\u001b[0m     Y \u001b[38;5;241m=\u001b[39m Y\u001b[38;5;241m.\u001b[39munsqueeze(\u001b[38;5;241m0\u001b[39m)\n\u001b[1;32m    310\u001b[0m \u001b[38;5;66;03m# Compute and exponentiate if in log space\u001b[39;00m\n\u001b[0;32m--> 311\u001b[0m result \u001b[38;5;241m=\u001b[39m \u001b[38;5;28;43mself\u001b[39;49m\u001b[38;5;241;43m.\u001b[39;49m\u001b[43m_max_batched_gram\u001b[49m\u001b[43m(\u001b[49m\u001b[43mX\u001b[49m\u001b[43m,\u001b[49m\u001b[43m \u001b[49m\u001b[43mY\u001b[49m\u001b[43m,\u001b[49m\u001b[43m \u001b[49m\u001b[43mdiag\u001b[49m\u001b[43m,\u001b[49m\u001b[43m \u001b[49m\u001b[43mmax_batch\u001b[49m\u001b[43m,\u001b[49m\u001b[43m \u001b[49m\u001b[43mnormalize\u001b[49m\u001b[43m,\u001b[49m\u001b[43m \u001b[49m\u001b[43mn_jobs\u001b[49m\u001b[43m)\u001b[49m\n\u001b[1;32m    312\u001b[0m \u001b[38;5;28;01mif\u001b[39;00m \u001b[38;5;28mself\u001b[39m\u001b[38;5;241m.\u001b[39mlog_space:\n\u001b[1;32m    313\u001b[0m     result \u001b[38;5;241m=\u001b[39m torch\u001b[38;5;241m.\u001b[39mexp(result)\n",
      "File \u001b[0;32m~/Code/kernel-timeseries-anomaly-detection/models/kernels/abstract_base.py:257\u001b[0m, in \u001b[0;36mTimeSeriesKernel._max_batched_gram\u001b[0;34m(self, X, Y, diag, max_batch, normalize, n_jobs)\u001b[0m\n\u001b[1;32m    255\u001b[0m split_Y \u001b[38;5;241m=\u001b[39m torch\u001b[38;5;241m.\u001b[39msplit(Y, Y_max_batch, dim\u001b[38;5;241m=\u001b[39m\u001b[38;5;241m0\u001b[39m)\n\u001b[1;32m    256\u001b[0m split \u001b[38;5;241m=\u001b[39m \u001b[38;5;28mzip\u001b[39m(split_X, split_Y) \u001b[38;5;28;01mif\u001b[39;00m diag \u001b[38;5;28;01melse\u001b[39;00m itertools\u001b[38;5;241m.\u001b[39mproduct(split_X, split_Y)\n\u001b[0;32m--> 257\u001b[0m result \u001b[38;5;241m=\u001b[39m \u001b[43mParallel\u001b[49m\u001b[43m(\u001b[49m\u001b[43mn_jobs\u001b[49m\u001b[38;5;241;43m=\u001b[39;49m\u001b[43mn_jobs\u001b[49m\u001b[43m)\u001b[49m\u001b[43m(\u001b[49m\n\u001b[1;32m    258\u001b[0m \u001b[43m    \u001b[49m\u001b[43mdelayed\u001b[49m\u001b[43m(\u001b[49m\u001b[38;5;28;43mself\u001b[39;49m\u001b[38;5;241;43m.\u001b[39;49m\u001b[43m_gram\u001b[49m\u001b[43m)\u001b[49m\u001b[43m(\u001b[49m\u001b[43mx\u001b[49m\u001b[43m,\u001b[49m\u001b[43m \u001b[49m\u001b[43my\u001b[49m\u001b[43m,\u001b[49m\u001b[43m \u001b[49m\u001b[43mdiag\u001b[49m\u001b[43m)\u001b[49m\u001b[43m \u001b[49m\u001b[38;5;28;43;01mfor\u001b[39;49;00m\u001b[43m \u001b[49m\u001b[43mx\u001b[49m\u001b[43m,\u001b[49m\u001b[43my\u001b[49m\u001b[43m \u001b[49m\u001b[38;5;129;43;01min\u001b[39;49;00m\u001b[43m \u001b[49m\u001b[43msplit\u001b[49m\n\u001b[1;32m    259\u001b[0m \u001b[43m    \u001b[49m\u001b[43m)\u001b[49m\n\u001b[1;32m    261\u001b[0m \u001b[38;5;66;03m# reshape back\u001b[39;00m\n\u001b[1;32m    262\u001b[0m \u001b[38;5;28;01mif\u001b[39;00m diag:\n",
      "File \u001b[0;32m~/Code/kernel-timeseries-anomaly-detection/.conda/lib/python3.11/site-packages/joblib/parallel.py:1863\u001b[0m, in \u001b[0;36mParallel.__call__\u001b[0;34m(self, iterable)\u001b[0m\n\u001b[1;32m   1861\u001b[0m     output \u001b[38;5;241m=\u001b[39m \u001b[38;5;28mself\u001b[39m\u001b[38;5;241m.\u001b[39m_get_sequential_output(iterable)\n\u001b[1;32m   1862\u001b[0m     \u001b[38;5;28mnext\u001b[39m(output)\n\u001b[0;32m-> 1863\u001b[0m     \u001b[38;5;28;01mreturn\u001b[39;00m output \u001b[38;5;28;01mif\u001b[39;00m \u001b[38;5;28mself\u001b[39m\u001b[38;5;241m.\u001b[39mreturn_generator \u001b[38;5;28;01melse\u001b[39;00m \u001b[38;5;28mlist\u001b[39m(output)\n\u001b[1;32m   1865\u001b[0m \u001b[38;5;66;03m# Let's create an ID that uniquely identifies the current call. If the\u001b[39;00m\n\u001b[1;32m   1866\u001b[0m \u001b[38;5;66;03m# call is interrupted early and that the same instance is immediately\u001b[39;00m\n\u001b[1;32m   1867\u001b[0m \u001b[38;5;66;03m# re-used, this id will be used to prevent workers that were\u001b[39;00m\n\u001b[1;32m   1868\u001b[0m \u001b[38;5;66;03m# concurrently finalizing a task from the previous call to run the\u001b[39;00m\n\u001b[1;32m   1869\u001b[0m \u001b[38;5;66;03m# callback.\u001b[39;00m\n\u001b[1;32m   1870\u001b[0m \u001b[38;5;28;01mwith\u001b[39;00m \u001b[38;5;28mself\u001b[39m\u001b[38;5;241m.\u001b[39m_lock:\n",
      "File \u001b[0;32m~/Code/kernel-timeseries-anomaly-detection/.conda/lib/python3.11/site-packages/joblib/parallel.py:1792\u001b[0m, in \u001b[0;36mParallel._get_sequential_output\u001b[0;34m(self, iterable)\u001b[0m\n\u001b[1;32m   1790\u001b[0m \u001b[38;5;28mself\u001b[39m\u001b[38;5;241m.\u001b[39mn_dispatched_batches \u001b[38;5;241m+\u001b[39m\u001b[38;5;241m=\u001b[39m \u001b[38;5;241m1\u001b[39m\n\u001b[1;32m   1791\u001b[0m \u001b[38;5;28mself\u001b[39m\u001b[38;5;241m.\u001b[39mn_dispatched_tasks \u001b[38;5;241m+\u001b[39m\u001b[38;5;241m=\u001b[39m \u001b[38;5;241m1\u001b[39m\n\u001b[0;32m-> 1792\u001b[0m res \u001b[38;5;241m=\u001b[39m \u001b[43mfunc\u001b[49m\u001b[43m(\u001b[49m\u001b[38;5;241;43m*\u001b[39;49m\u001b[43margs\u001b[49m\u001b[43m,\u001b[49m\u001b[43m \u001b[49m\u001b[38;5;241;43m*\u001b[39;49m\u001b[38;5;241;43m*\u001b[39;49m\u001b[43mkwargs\u001b[49m\u001b[43m)\u001b[49m\n\u001b[1;32m   1793\u001b[0m \u001b[38;5;28mself\u001b[39m\u001b[38;5;241m.\u001b[39mn_completed_tasks \u001b[38;5;241m+\u001b[39m\u001b[38;5;241m=\u001b[39m \u001b[38;5;241m1\u001b[39m\n\u001b[1;32m   1794\u001b[0m \u001b[38;5;28mself\u001b[39m\u001b[38;5;241m.\u001b[39mprint_progress()\n",
      "File \u001b[0;32m~/Code/kernel-timeseries-anomaly-detection/models/kernels/sig_random.py:196\u001b[0m, in \u001b[0;36mRandomizedSigKernel._gram\u001b[0;34m(self, X, Y, diag)\u001b[0m\n\u001b[1;32m    191\u001b[0m fun \u001b[38;5;241m=\u001b[39m randomized_sig \u001b[38;5;28;01mif\u001b[39;00m \u001b[38;5;28mself\u001b[39m\u001b[38;5;241m.\u001b[39mactivation \u001b[38;5;241m==\u001b[39m \u001b[38;5;124m\"\u001b[39m\u001b[38;5;124midentity\u001b[39m\u001b[38;5;124m\"\u001b[39m \u001b[38;5;28;01melse\u001b[39;00m \\\n\u001b[1;32m    192\u001b[0m       randomized_sig_ReLU \u001b[38;5;28;01mif\u001b[39;00m \u001b[38;5;28mself\u001b[39m\u001b[38;5;241m.\u001b[39mactivation \u001b[38;5;241m==\u001b[39m \u001b[38;5;124m\"\u001b[39m\u001b[38;5;124mrelu\u001b[39m\u001b[38;5;124m\"\u001b[39m \u001b[38;5;28;01melse\u001b[39;00m \\\n\u001b[1;32m    193\u001b[0m       randomized_sig_tanh\n\u001b[1;32m    195\u001b[0m feat_X \u001b[38;5;241m=\u001b[39m fun(X, \u001b[38;5;28mself\u001b[39m\u001b[38;5;241m.\u001b[39mA, \u001b[38;5;28mself\u001b[39m\u001b[38;5;241m.\u001b[39mb, \u001b[38;5;28mself\u001b[39m\u001b[38;5;241m.\u001b[39mY_0)\n\u001b[0;32m--> 196\u001b[0m feat_Y \u001b[38;5;241m=\u001b[39m \u001b[43mfun\u001b[49m\u001b[43m(\u001b[49m\u001b[43mY\u001b[49m\u001b[43m,\u001b[49m\u001b[43m \u001b[49m\u001b[38;5;28;43mself\u001b[39;49m\u001b[38;5;241;43m.\u001b[39;49m\u001b[43mA\u001b[49m\u001b[43m,\u001b[49m\u001b[43m \u001b[49m\u001b[38;5;28;43mself\u001b[39;49m\u001b[38;5;241;43m.\u001b[39;49m\u001b[43mb\u001b[49m\u001b[43m,\u001b[49m\u001b[43m \u001b[49m\u001b[38;5;28;43mself\u001b[39;49m\u001b[38;5;241;43m.\u001b[39;49m\u001b[43mY_0\u001b[49m\u001b[43m)\u001b[49m\n\u001b[1;32m    198\u001b[0m \u001b[38;5;28;01mif\u001b[39;00m diag:\n\u001b[1;32m    199\u001b[0m     \u001b[38;5;28;01mreturn\u001b[39;00m (feat_X \u001b[38;5;241m*\u001b[39m feat_Y)\u001b[38;5;241m.\u001b[39mmean(dim\u001b[38;5;241m=\u001b[39m\u001b[38;5;241m-\u001b[39m\u001b[38;5;241m1\u001b[39m)\n",
      "\u001b[0;31mKeyboardInterrupt\u001b[0m: "
     ]
    }
   ],
   "source": [
    "cv_results = cv_UEA(\n",
    "    dataset_names = [\n",
    "        'Epilepsy',                    # N_corpus = 34\n",
    "        # 'EthanolConcentration',        # N_corpus = 65\n",
    "        # 'FingerMovements',             # N_corpus = 158\n",
    "        # 'HandMovementDirection',       # N_corpus = 40\n",
    "        # 'Heartbeat',                   # N_corpus = 102\n",
    "        # 'LSST',                        # N_corpus = 176\n",
    "        # 'MotorImagery',                # N_corpus = 139\n",
    "        # 'PenDigits',                   # N_corpus = 749\n",
    "        # 'PEMS-SF',                     # N_corpus = 38\n",
    "        # 'PhonemeSpectra',              # N_corpus = 85\n",
    "        # 'RacketSports',                # N_corpus = 38\n",
    "        # 'SelfRegulationSCP1',          # N_corpus = 134\n",
    "        ],\n",
    "    kernel_names = [\n",
    "            # \"flat linear\",\n",
    "            # \"flat rbf\",\n",
    "            # \"flat poly\",\n",
    "            # \"integral rbf\",\n",
    "            # \"integral poly\",\n",
    "            # \"trunc sig linear\",\n",
    "            # \"trunc sig rbf\",\n",
    "            # \"pde sig linear\"\n",
    "            # \"pde sig rbf\",\n",
    "            \"rand sig identity\",\n",
    "            # \"rand sig relu\",\n",
    "            # \"rand sig tanh\",\n",
    "            # \"gak\",\n",
    "            \"reservoir\",\n",
    "        ],\n",
    "        k_folds=5,\n",
    "        n_repeats=1,\n",
    "        verbose=False,\n",
    "        )"
   ]
  },
  {
   "cell_type": "code",
   "execution_count": null,
   "metadata": {},
   "outputs": [],
   "source": [
    "print_cv_results(cv_results)\n",
    "save_to_pickle(cv_results, \"Data/cv_dummy.pkl\")"
   ]
  },
  {
   "cell_type": "markdown",
   "metadata": {},
   "source": [
    "# Validate on Test"
   ]
  },
  {
   "cell_type": "code",
   "execution_count": null,
   "metadata": {},
   "outputs": [],
   "source": [
    "test_results = validate_UEA(cv_results, verbose=False, device=\"cuda\")\n",
    "print_test_results(test_results)"
   ]
  },
  {
   "cell_type": "code",
   "execution_count": null,
   "metadata": {},
   "outputs": [],
   "source": [
    "print(test_results)"
   ]
  },
  {
   "cell_type": "markdown",
   "metadata": {},
   "source": [
    "# Validate on Test and Save"
   ]
  },
  {
   "cell_type": "code",
   "execution_count": null,
   "metadata": {},
   "outputs": [],
   "source": [
    "for dataset_name, cv_res in cv_results.items():\n",
    "    test_results = validate_UEA({dataset_name : cv_res}, verbose=True, device=\"cuda\")\n",
    "    save_to_pickle(test_results, f\"Data/results_{dataset_name}.pkl\")"
   ]
  },
  {
   "cell_type": "markdown",
   "metadata": {},
   "source": [
    "# Read CV data from file and print results"
   ]
  },
  {
   "cell_type": "code",
   "execution_count": null,
   "metadata": {},
   "outputs": [],
   "source": [
    "# Load the cross validation results\n",
    "cv_results = join_dicts_from_pickle_paths(\n",
    "    [\n",
    "    \"Data/cv_Epilepsy.pkl\",\n",
    "    \"Data/cv_EthanolConcentration.pkl\",\n",
    "    \"Data/cv_FingerMovements.pkl\",\n",
    "    \"Data/cv_HandMovementDirection.pkl\",\n",
    "    \"Data/cv_Heartbeat.pkl\",\n",
    "    \"Data/cv_LSST.pkl\",\n",
    "    \"Data/cv_MotorImagery.pkl\",\n",
    "    \"Data/cv_PEMS-SF.pkl\",\n",
    "    \"Data/cv_PhonemeSpectra.pkl\",\n",
    "    \"Data/cv_RacketSports.pkl\",\n",
    "    \"Data/cv_SelfRegulationSCP1.pkl\",\n",
    "    \"Data/cv_SelfRegulationSCP2.pkl\",\n",
    "    ])\n",
    "print_cv_results(cv_results)"
   ]
  },
  {
   "cell_type": "code",
   "execution_count": null,
   "metadata": {},
   "outputs": [],
   "source": [
    "test_results = join_dicts_from_pickle_paths([\n",
    "    \"Data/results_Epilepsy.pkl\",\n",
    "    \"Data/results_EthanolConcentration.pkl\",\n",
    "    \"Data/results_FingerMovements.pkl\",\n",
    "    \"Data/results_HandMovementDirection.pkl\",\n",
    "    \"Data/results_Heartbeat.pkl\",\n",
    "    \"Data/results_LSST.pkl\",\n",
    "    \"Data/results_MotorImagery.pkl\",\n",
    "    \"Data/results_PEMS-SF.pkl\",\n",
    "    \"Data/results_PhonemeSpectra.pkl\",\n",
    "    \"Data/results_RacketSports.pkl\",\n",
    "    \"Data/results_SelfRegulationSCP1.pkl\",\n",
    "    \"Data/results_SelfRegulationSCP2.pkl\",\n",
    "                                             ])\n",
    "print_latex_results(test_results, round_digits=2)\n",
    "print_latex_results(test_results, round_digits=3)"
   ]
  },
  {
   "cell_type": "markdown",
   "metadata": {},
   "source": [
    "# Print distribution of CV params"
   ]
  },
  {
   "cell_type": "code",
   "execution_count": null,
   "metadata": {},
   "outputs": [],
   "source": [
    "import matplotlib.pyplot as plt\n",
    "\n",
    "all_datasets = [\n",
    "    \"Epilepsy\",\n",
    "    \"EthanolConcentration\",\n",
    "    \"FingerMovements\",\n",
    "    \"HandMovementDirection\",\n",
    "    \"Heartbeat\",\n",
    "    \"LSST\",\n",
    "    \"MotorImagery\",\n",
    "    \"PEMS-SF\",\n",
    "    \"PhonemeSpectra\",\n",
    "    \"RacketSports\",\n",
    "    \"SelfRegulationSCP1\",\n",
    "    \"SelfRegulationSCP2\",\n",
    "    ]\n",
    "\n",
    "all_kernels = [\n",
    "    \"flat linear\",\n",
    "    \"flat rbf\",\n",
    "    \"flat poly\",\n",
    "    \"integral rbf\",\n",
    "    \"integral poly\",\n",
    "    \"trunc sig linear\",\n",
    "    \"trunc sig rbf\",\n",
    "    \"pde sig rbf\",\n",
    "    \"gak\",\n",
    "    \"reservoir\",\n",
    "    ]\n",
    "\n",
    "\n",
    "def plot_cv_params_single_kernel(\n",
    "        cv_results:Dict,\n",
    "        param_name:str = \"sigma\", \n",
    "        kernel_name:str = \"flat rbf\", \n",
    "        datasets:Optional[List[str]] = None, \n",
    "        n_bins:int = 30,\n",
    "    ):\n",
    "    \"\"\"\n",
    "    For each dataset, plot the histogram of the best parameter\n",
    "    values specified by 'param_name' for the kerenl \"kernel_name\".\n",
    "    \"\"\"\n",
    "    if datasets is None:\n",
    "        datasets = list(cv_results.keys())\n",
    "\n",
    "    l = []\n",
    "    for dataset_name, results in cv_results.items():\n",
    "        if dataset_name in datasets:\n",
    "            for anomaly_method in [\"conf_results\", \"mahal_results\"]:\n",
    "                kernelwise_dict = results[anomaly_method]\n",
    "                for ker, labelwise_dict in kernelwise_dict.items():\n",
    "                    for label, param_dict in labelwise_dict.items():\n",
    "                        if ker == kernel_name:\n",
    "                            l.append(param_dict[param_name])\n",
    "    l = np.array(l)\n",
    "    l.sort()\n",
    "    l = l.astype(str)\n",
    "\n",
    "    plt.hist(l, n_bins)\n",
    "    plt.xlabel(param_name)\n",
    "    plt.ylabel(\"Frequency\")\n",
    "    plt.title(f\"Kernel: {kernel_name}\")\n",
    "    plt.xticks(rotation='vertical')\n",
    "    plt.show()\n",
    "\n",
    "\n",
    "\n",
    "def plot_cv_params_all_kernels(\n",
    "        cv_results:Dict,\n",
    "        param_name:str = \"sigma\",\n",
    "        kernels:Optional[List[str]] = None, \n",
    "        datasets:Optional[List[str]] = None,\n",
    "        n_bins:int = 30,\n",
    "    ):\n",
    "    \"\"\"\n",
    "    For each dataset, plot the histogram of the best parameter\n",
    "    values specified by 'param_name' for all the kernels.\n",
    "    \"\"\"\n",
    "    if datasets is None:\n",
    "        datasets = list(cv_results.keys())\n",
    "    if kernels is None:\n",
    "        kernels = list(cv_results[datasets[0]][\"conf_results\"].keys())\n",
    "\n",
    "    l = []\n",
    "    for dataset_name, results in cv_results.items():\n",
    "        if dataset_name in datasets:\n",
    "            for anomaly_method in [\"conf_results\", \"mahal_results\"]:\n",
    "                kernelwise_dict = results[anomaly_method]\n",
    "                for kernel_name, labelwise_dict in kernelwise_dict.items():\n",
    "                    if kernel_name in kernels:\n",
    "                        for label, param_dict in labelwise_dict.items():\n",
    "                            if kernel_name == kernel_name:\n",
    "                                if param_name in param_dict:\n",
    "                                    l.append(param_dict[param_name])\n",
    "    l = np.array(l)\n",
    "    l.sort()\n",
    "    l = l.astype(str)\n",
    "\n",
    "    plt.hist(l, n_bins)\n",
    "    plt.xlabel(param_name)\n",
    "    plt.ylabel(\"Frequency\")\n",
    "    plt.title(f\"All datasets: {param_name}\")\n",
    "    plt.xticks(rotation='vertical')\n",
    "    plt.show()"
   ]
  },
  {
   "cell_type": "code",
   "execution_count": null,
   "metadata": {},
   "outputs": [],
   "source": [
    "plot_cv_params_all_kernels(cv_results, \"alpha\")\n",
    "plot_cv_params_all_kernels(cv_results, \"threshold\")\n",
    "plot_cv_params_all_kernels(cv_results, \"normalize\")\n",
    "plot_cv_params_all_kernels(cv_results, \"time\")"
   ]
  },
  {
   "cell_type": "code",
   "execution_count": null,
   "metadata": {},
   "outputs": [],
   "source": [
    "plot_cv_params_single_kernel(cv_results, \"order\", \"trunc sig linear\", datasets = [\"RacketSports\"])"
   ]
  },
  {
   "cell_type": "markdown",
   "metadata": {},
   "source": [
    "# Run specific param_dict on specific dataset"
   ]
  },
  {
   "cell_type": "code",
   "execution_count": null,
   "metadata": {},
   "outputs": [],
   "source": [
    "import torch\n",
    "from typing import Dict\n",
    "from experiments.experiment_code import run_all_kernels\n",
    "from experiments.utils import load_dataset\n",
    "import numpy as np\n",
    "def run_specific_param_dict(\n",
    "        dataset_name:str, \n",
    "        param_dict:Dict,\n",
    "        verbose:bool = False,\n",
    "        device=\"cuda\",\n",
    "    ):    \n",
    "    \"\"\"Runs the specific param_dict on a dataset.\n",
    "    \n",
    "    Args:\n",
    "        dataset_name (str): Name of the dataset.\n",
    "        param_dict (Dict): Dictionary of parameters.\n",
    "        verbose (bool): Verbosity.\n",
    "        device (str): Device for PyTorch computation.\n",
    "        \"\"\"\n",
    "    X_train, y_train, X_test, y_test = load_dataset(dataset_name)\n",
    "    X_train = torch.from_numpy(X_train).to(device)\n",
    "    X_test = torch.from_numpy(X_test).to(device)\n",
    "    unique_labels = np.unique(y_train)\n",
    "    kernel_name = param_dict[\"kernel_name\"]\n",
    "\n",
    "    #create kernelwise dict\n",
    "    kernelwise_dict = {kernel_name: {label: param_dict for label in unique_labels}}\n",
    "\n",
    "    results = run_all_kernels(X_train, y_train, X_test, y_test, \n",
    "                        unique_labels, kernelwise_dict, verbose)\n",
    "    aucs = results[kernel_name]\n",
    "    print(\"Conf ROCAUC\\t\", aucs[0,0])\n",
    "    print(\"Conf PRAUC\\t\", aucs[0,1])\n",
    "    print(\"Mah ROCAUC\\t\", aucs[1,0])\n",
    "    print(\"Mah PRAUC\\t\", aucs[1,1])\n",
    "    return results\n",
    "\n",
    "\n",
    "# General Parameters\n",
    "param_dict = {\n",
    "    \"alpha\": 0.0001,\n",
    "    \"threshold\": 20,\n",
    "    \"normalize\": True,\n",
    "    \"time\": \"\",\n",
    "    \"basepoint\": \"basepoint\",\n",
    "}\n",
    "\n",
    "\n",
    "# Kernel Specific Parameters\n",
    "param_dict[\"kernel_name\"] = \"trunc sig linear\"\n",
    "param_dict[\"order\"] = 5\n",
    "param_dict[\"sigma\"] = 1.4\n",
    "param_dict[\"scale\"] = 10\n",
    "param_dict[\"gak_factor\"] = 10\n",
    "param_dict[\"dyadic_order\"] = 3\n",
    "param_dict[\"gamma\"] = 0.9999999\n",
    "param_dict[\"tau\"] = 1/5.5/np.sqrt(10)\n",
    "\n",
    "\n",
    "res = run_specific_param_dict(\"RacketSports\", param_dict, verbose=True)"
   ]
  },
  {
   "cell_type": "code",
   "execution_count": null,
   "metadata": {},
   "outputs": [],
   "source": [
    "\n",
    "datasets = [\n",
    "        'CharacterTrajectories',       # N_corpus = \n",
    "        'Epilepsy',                    # N_corpus = 34\n",
    "        'EthanolConcentration',        # N_corpus = 65\n",
    "        'FingerMovements',             # N_corpus = 158\n",
    "        'HandMovementDirection',       # N_corpus = 40\n",
    "        'Heartbeat',                   # N_corpus = 102\n",
    "        'LSST',                        # N_corpus = 176, N_train = 3000 ish\n",
    "        'MotorImagery',                # N_corpus = 139\n",
    "        'PEMS-SF',                     # N_corpus = 38\n",
    "        'PhonemeSpectra',              # N_corpus = 85, N_train = 3000 ish\n",
    "        'RacketSports',                # N_corpus = 38\n",
    "        'SelfRegulationSCP1',          # N_corpus = 134\n",
    "        'SelfRegulationSCP2',          # N_corpus = 100\n",
    "        ]\n",
    "\n",
    "import pickle\n",
    "from typing import List, Optional, Dict, Set, Callable, Any, Literal\n",
    "import numpy as np\n",
    "from aeon.datasets import load_classification\n",
    "from aeon.datasets import load_from_tsfile\n",
    "\n",
    "\n",
    "\n",
    "def load_dataset(dataset_name:str):\n",
    "    \"\"\"Loads a dataset from the UCR/UEA archive using \n",
    "    the aeon library.\n",
    "\n",
    "    Args:\n",
    "        dataset_name (str): Name of the dataset\n",
    "\n",
    "    Returns:\n",
    "        Tuple: 4-tuple of the form (X_train, y_train, X_test, y_test)\n",
    "    \"\"\"\n",
    "    if dataset_name == \"CharacterTrajectories\":\n",
    "        X_train, y_train = load_from_tsfile(\"Data/CharacterTrajectories_eq_TRAIN.ts\")\n",
    "        X_test, y_test = load_from_tsfile(\"Data/CharacterTrajectories_eq_TEST.ts\")\n",
    "\n",
    "    else:\n",
    "        X_train, y_train = load_classification(dataset_name, split=\"train\")\n",
    "        X_test, y_test = load_classification(dataset_name, split=\"train\")\n",
    "\n",
    "    return X_train.transpose(0, 2, 1), y_train, X_test.transpose(0, 2, 1), y_test\n",
    "\n",
    "for dataset_name in datasets:\n",
    "    X_train, y_train, X_test, y_test = load_dataset(dataset_name)\n",
    "    print(X_train.shape)"
   ]
  }
 ],
 "metadata": {
  "kernelspec": {
   "display_name": "Python 3",
   "language": "python",
   "name": "python3"
  },
  "language_info": {
   "codemirror_mode": {
    "name": "ipython",
    "version": 3
   },
   "file_extension": ".py",
   "mimetype": "text/x-python",
   "name": "python",
   "nbconvert_exporter": "python",
   "pygments_lexer": "ipython3",
   "version": "3.11.8"
  }
 },
 "nbformat": 4,
 "nbformat_minor": 2
}
