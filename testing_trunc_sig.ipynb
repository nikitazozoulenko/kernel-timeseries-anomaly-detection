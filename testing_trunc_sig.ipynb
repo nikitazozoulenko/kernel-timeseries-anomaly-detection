{
 "cells": [
  {
   "cell_type": "code",
   "execution_count": 1,
   "metadata": {},
   "outputs": [
    {
     "name": "stdout",
     "output_type": "stream",
     "text": [
      "\n",
      "order 1\n",
      "dot2 1.0282875690893836\n",
      "dot3 1.0192100124804888\n",
      "\n",
      "order 2\n",
      "dot2 1.0099506545726915\n",
      "dot3 1.0192100124804888\n",
      "\n",
      "order 3\n",
      "dot2 1.005686446728584\n",
      "dot3 1.0192100124804888\n",
      "\n",
      "order 4\n",
      "dot2 1.0211488148062118\n",
      "dot3 1.0192100124804888\n",
      "\n",
      "order 5\n",
      "dot2 1.0205013580307527\n",
      "dot3 1.0192100124804888\n",
      "\n",
      "order 6\n",
      "dot2 1.0193302085479048\n",
      "dot3 1.0192100124804888\n",
      "\n",
      "order 7\n",
      "dot2 1.019216299571685\n",
      "dot3 1.0192100124804888\n",
      "\n",
      "order 8\n",
      "dot2 1.0192072754455714\n",
      "dot3 1.0192100124804888\n",
      "\n",
      "order 9\n",
      "dot2 1.0192045769435814\n",
      "dot3 1.0192100124804888\n",
      "\n",
      "order 10\n",
      "dot2 1.0192042870598141\n",
      "dot3 1.0192100124804888\n",
      "\n",
      "order 11\n",
      "dot2 1.019204610366574\n",
      "dot3 1.0192100124804888\n",
      "\n",
      "order 12\n",
      "dot2 1.0192046573102924\n",
      "dot3 1.0192100124804888\n",
      "\n",
      "order 13\n",
      "dot2 1.0192046428131645\n",
      "dot3 1.0192100124804888\n",
      "\n",
      "order 14\n",
      "dot2 1.0192046433750803\n",
      "dot3 1.0192100124804888\n",
      "\n",
      "order 15\n",
      "dot2 1.0192046434905246\n",
      "dot3 1.0192100124804888\n",
      "\n",
      "order 16\n",
      "dot2 1.0192046433680224\n",
      "dot3 1.0192100124804888\n",
      "\n",
      "order 17\n",
      "dot2 1.0192046433955717\n",
      "dot3 1.0192100124804888\n",
      "\n",
      "order 18\n",
      "dot2 1.0192046433915907\n",
      "dot3 1.0192100124804888\n",
      "\n",
      "comparison [7.12250712e-04 2.52206810e-04 1.09878035e-04 6.48887159e-05\n",
      " 2.55395224e-05 1.72619150e-05 1.26246686e-05 1.85589013e-05\n",
      " 0.00000000e+00 5.63831347e-06 4.09695023e-06 0.00000000e+00\n",
      " 2.74776607e-06 6.18704680e-06 1.83271021e-06 1.54339566e-06\n",
      " 0.00000000e+00]\n",
      "\n",
      "iisig [4.76837158e-07 2.38418579e-07 2.38418579e-07 2.38418579e-07\n",
      " 2.38418579e-07 2.38418579e-07 2.38418579e-07 4.76837158e-07\n",
      " 0.00000000e+00 2.38418579e-07 2.38418579e-07 0.00000000e+00\n",
      " 2.38418579e-07 7.15255737e-07 2.38418579e-07 2.38418579e-07\n",
      " 0.00000000e+00]\n",
      "\n",
      "sigker [0.00066948 0.00094533 0.00216985 0.00367427 0.00933528 0.01381183\n",
      " 0.01888514 0.02569318 0.03234768 0.04228544 0.05819416 0.06581378\n",
      " 0.08676815 0.11560535 0.13009071 0.15447664 0.23008633]\n",
      "\n",
      "pde [0.00545979 0.00657153 0.00549889 0.00653696 0.00648785 0.00554204\n",
      " 0.00599623 0.00570917 0.0067184  0.0071075  0.00675917 0.00590539\n",
      " 0.00656343 0.00730634 0.00654435 0.00759935 0.00800133]\n"
     ]
    }
   ],
   "source": [
    "import time\n",
    "import numpy as np\n",
    "from numba import njit\n",
    "from typing import Callable, List, Any, Optional\n",
    "import sigkernel\n",
    "\n",
    "import numpy as np\n",
    "import pandas as pd\n",
    "import sklearn.metrics\n",
    "from typing import List, Optional, Dict, Set, Callable, Any\n",
    "from joblib import Memory, Parallel, delayed\n",
    "import tslearn\n",
    "import tslearn.metrics\n",
    "from tslearn.datasets import UCR_UEA_datasets\n",
    "from scipy.interpolate import interp1d\n",
    "from numba import njit\n",
    "import pickle\n",
    "\n",
    "from experiments.experiment_code import print_dataset_stats, run_all_kernels\n",
    "from experiments.cv_tslearn import cv_tslearn\n",
    "\n",
    "from models.signature import streams_to_sigs\n",
    "from models.kernels import linear_kernel_gram, pairwise_kernel_gram\n",
    "from models.conformance import stream_to_torch\n",
    "\n",
    "def calc_iisig_kernel(X, Y, order):\n",
    "    sig_X, sig_Y = streams_to_sigs([X,Y], order, disable_tqdm=True)\n",
    "    dot = 1 + np.dot(sig_X, sig_Y)\n",
    "    return dot\n",
    "\n",
    "\n",
    "def case_sig_pde(train:List[np.ndarray], \n",
    "                 test:List[np.ndarray], \n",
    "                 dyadic_order:int = 5,\n",
    "                 static_kernel = sigkernel.LinearKernel(),\n",
    "                 n_jobs:int = 1,\n",
    "                 verbose:bool = False,\n",
    "                ):\n",
    "    \"\"\"Calculates the signature kernel gram matrices of the train and test.\n",
    "    Train and test are lists of possibly variable length multidimension \n",
    "    time series of shape (T_i, d)\"\"\"\n",
    "    sig_kernel = sigkernel.SigKernel(static_kernel, dyadic_order)\n",
    "    kernel = lambda s1, s2 : sig_kernel.compute_kernel(\n",
    "                                stream_to_torch(s1), \n",
    "                                stream_to_torch(s2)).numpy()[0]\n",
    "    vv_gram = pairwise_kernel_gram(train, train, kernel, sym=True, n_jobs=n_jobs, verbose=verbose)\n",
    "    uv_gram = pairwise_kernel_gram(test, train, kernel, sym=False, n_jobs=n_jobs, verbose=verbose)\n",
    "    return vv_gram, uv_gram\n",
    "\n",
    "\n",
    "def calc_sigpde_kernel(X,Y):\n",
    "    dyadic_order = 3\n",
    "    T, d = X.shape\n",
    "    static_kernel = sigkernel.LinearKernel() #TODO change here\n",
    "    vv, uv = case_sig_pde([X], [Y], dyadic_order, static_kernel)\n",
    "    return uv[0,0]\n",
    "\n",
    "\n",
    "# def calc_ksig_kernel(X,Y, order):\n",
    "#     import ksig\n",
    "#     static_kernel = ksig.static.kernels.LinearKernel() \n",
    "#     sig_kernel = ksig.kernels.SignatureKernel(n_levels=order, order=1, static_kernel=static_kernel, normalize=False)\n",
    "#     dot = sig_kernel(np.array([X,X]), np.array([Y,Y]))[0,0]\n",
    "#     return dot\n",
    "\n",
    "\n",
    "def trunc_sig_kernel(s1:np.ndarray, \n",
    "                    s2:np.ndarray, \n",
    "                    order:int, #order is truncation level of the signature\n",
    "                    static_kernel_gram:Callable = linear_kernel_gram,\n",
    "                    only_last:bool = True,\n",
    "\n",
    "                    ):\n",
    "    \"\"\"s1 and s2 are time series of shape (T_i, d)\"\"\"\n",
    "    T,d = s1.shape\n",
    "    K = static_kernel_gram(s1, s2, divide_by_dims=False, custom_factor=1.0) #TODO change here\n",
    "    nabla = K[1:, 1:] + K[:-1, :-1] - K[1:, :-1] - K[:-1, 1:]\n",
    "    sig_kers = jitted_trunc_sig_kernel(nabla, order)\n",
    "    if only_last:\n",
    "        return sig_kers[-1]\n",
    "    else:\n",
    "        return sig_kers\n",
    "\n",
    "\n",
    "\n",
    "@njit\n",
    "def reverse_cumsum(arr:np.ndarray, axis:int): #ndim=2\n",
    "    \"\"\"JITed reverse cumulative sum along the specified axis.\n",
    "    (np.cumsum with axis is not natively supported by Numba)\"\"\"\n",
    "    A = arr.copy()\n",
    "    if axis==0:\n",
    "        for i in np.arange(A.shape[0]-2, -1, -1):\n",
    "            A[i, :] += A[i+1, :]\n",
    "    else: #axis==1\n",
    "        for i in np.arange(A.shape[1]-2, -1, -1):\n",
    "            A[:,i] += A[:,i+1]\n",
    "    return A\n",
    "\n",
    "\n",
    "@njit\n",
    "def jitted_trunc_sig_kernel(nabla:np.ndarray, # gram matrix (T_1, T_2)\n",
    "                            order:int,\n",
    "                            ):\n",
    "    \"\"\"Given difference matrix nabla_ij = K[i+1, j+1] + K[i, j] - K[i+1, j] - K[i, j+1],\n",
    "    computes the truncated signature kernel of all orders up to 'order'.\"\"\"\n",
    "    B = np.ones((order+1, order+1, order+1, *nabla.shape))\n",
    "    for d in np.arange(order):\n",
    "        for n in np.arange(order-d):\n",
    "            for m in np.arange(order-d):\n",
    "                B[d+1,n,m] = 1 + nabla/(n+1)/(m+1)*B[d, n+1, m+1]\n",
    "                r1 = reverse_cumsum(nabla * B[d, n+1, 1] / (n+1), axis=0)\n",
    "                B[d+1,n,m, :-1, :] += r1[1:, :]\n",
    "                r2 = reverse_cumsum(nabla * B[d, 1, m+1] / (m+1), axis=1)\n",
    "                B[d+1,n,m, :, :-1] += r2[:, 1:]\n",
    "                rr = reverse_cumsum(nabla * B[d, 1, 1], axis=0)\n",
    "                rr = reverse_cumsum(rr, axis=1)\n",
    "                B[d+1,n,m, :-1, :-1] += rr[1:, 1:]\n",
    "\n",
    "    return B[:,0,0,0,0]\n",
    "    \n",
    "    \n",
    "\n",
    "\n",
    "\n",
    "\n",
    "d = 20\n",
    "MAX_ORDER = 18\n",
    "times_iisig = np.zeros( (MAX_ORDER) )\n",
    "times_sigker  = np.zeros( (MAX_ORDER) )\n",
    "times_sigpde = np.zeros( (MAX_ORDER) )\n",
    "np.random.seed(99)\n",
    "factor = d**(1/2) * 45**(1/8)\n",
    "X, Y = np.random.randn(2, 45, d) / factor\n",
    "for order in range(1, MAX_ORDER+1):\n",
    "    print(\"\\norder\", order)\n",
    "    t0= time.time()\n",
    "    #dot1=calc_iisig_kernel(X, Y, order)\n",
    "    t1 = time.time()\n",
    "    dot2=trunc_sig_kernel(X, Y, order)\n",
    "    t2 = time.time()\n",
    "    dot3=calc_sigpde_kernel(X, Y)\n",
    "    t3 = time.time()\n",
    "    times_iisig[order-1] = t1-t0\n",
    "    times_sigker[order-1] = t2-t1\n",
    "    times_sigpde[order-1] = t3-t2\n",
    "    #print(\"dot1\", dot1)\n",
    "    print(\"dot2\", dot2)\n",
    "    print(\"dot3\", dot3)\n",
    "\n",
    "\n",
    "\n",
    "\n",
    "print(\"\\ncomparison\", times_iisig[1:]/times_sigker[1:])\n",
    "print(\"\\niisig\", times_iisig[1:])\n",
    "print(\"\\nsigker\", times_sigker[1:])\n",
    "print(\"\\npde\", times_sigpde[1:])"
   ]
  },
  {
   "cell_type": "code",
   "execution_count": null,
   "metadata": {},
   "outputs": [],
   "source": [
    "d=9\n",
    "factor = d**(1/2) * 45**(1/8)\n",
    "X, Y = np.random.randn(2, 45, d) / factor\n",
    "median = np.median(X, axis=0)\n",
    "print(\"median\", median)"
   ]
  },
  {
   "cell_type": "code",
   "execution_count": null,
   "metadata": {},
   "outputs": [],
   "source": [
    "#IDEA: truncated sig --- calculate total variation and base scale on that.   TODO TODO TODO TODO"
   ]
  },
  {
   "cell_type": "markdown",
   "metadata": {},
   "source": [
    "# Test variability of sig between datasets"
   ]
  },
  {
   "cell_type": "code",
   "execution_count": 2,
   "metadata": {},
   "outputs": [
    {
     "name": "stdout",
     "output_type": "stream",
     "text": [
      "ArticularyWordRecognition\n",
      "(275, 144, 9)\n",
      "(2, 40)\n",
      "abs 0.20009886919175174\n",
      "BasicMotions\n",
      "(40, 100, 6)\n",
      "(2, 40)\n",
      "abs 0.6036876445497938\n",
      "Libras\n",
      "(180, 45, 2)\n",
      "(2, 40)\n",
      "abs 0.23454738084763607\n",
      "NATOPS\n",
      "(180, 51, 24)\n",
      "(2, 40)\n",
      "abs 0.19192783420155551\n",
      "RacketSports\n",
      "(151, 30, 6)\n",
      "(2, 40)\n",
      "abs 0.34996840154086806\n",
      "FingerMovements\n",
      "(316, 50, 28)\n",
      "(2, 40)\n",
      "abs 0.3658283831910176\n",
      "Heartbeat\n",
      "(204, 203, 61)\n",
      "(2, 40)\n",
      "abs 0.20797370511713065\n",
      "SelfRegulationSCP1\n",
      "(268, 224, 6)\n",
      "(2, 40)\n",
      "abs 0.2204342558996093\n",
      "UWaveGestureLibrary\n",
      "(120, 158, 3)\n",
      "(2, 40)\n",
      "abs 0.1657364661758187\n"
     ]
    }
   ],
   "source": [
    "from experiments.experiment_code import normalize_streams, calc_grams\n",
    "\n",
    "\n",
    "\n",
    "# def do_trunc_sig_gram(train, test, factor:float = 1.0):\n",
    "#     ORDER = 10\n",
    "#     ker = lambda X, Y: linear_kernel_gram(X, Y, param_dict[\"sigma\"], custom_factor=factor) #TODO assumes fixed length\n",
    "#     return case_truncated_sig(train, test, ORDER, \n",
    "#                                 linear_kernel_gram, sig_kernel_only_last, \n",
    "#                                 n_jobs, verbose)\n",
    "\n",
    "\n",
    "\n",
    "def test_variability(dataset_name:str):\n",
    "    X_train, y_train, X_test, y_test = UCR_UEA_datasets().load_dataset(dataset_name)\n",
    "    print(dataset_name)\n",
    "    unique_labels = np.unique(y_train)\n",
    "    num_classes = len(unique_labels)\n",
    "    N_train, T, d = X_train.shape\n",
    "\n",
    "    corpus, test = normalize_streams(X_train, X_test)\n",
    "    print(corpus.shape)\n",
    "    s = tslearn.metrics.sigma_gak(dataset=corpus,\n",
    "          n_samples=100,\n",
    "          random_state=0)\n",
    "    \n",
    "    choice = np.random.choice(N_train, size=40)\n",
    "    choice_test = np.random.choice(len(X_test), size=2)\n",
    "    TRAIN = np.array([corpus[i] for i in choice])\n",
    "    TEST = np.array([test[i] for i in choice_test])\n",
    "    # for sigma in sorted([s, 0.1, 1, 10]):\n",
    "    # param_dict = {\"kernel_name\": \"truncated sig\",\n",
    "    #                 \"order\" : 10}\n",
    "    param_dict = {\"kernel_name\": \"gak\",\n",
    "                    \"gak_factor\" : 1}\n",
    "    vv, uv = calc_grams(TRAIN, TEST, param_dict, fixed_length=True, sig_kernel_only_last=False, n_jobs=1, verbose=False)\n",
    "    print(uv.shape)\n",
    "    abs = np.mean(np.abs(uv), axis=(-1,-2))\n",
    "    print(\"abs\", abs)\n",
    "    # mean = np.mean(corpus)\n",
    "    # variance = np.var(corpus)\n",
    "    # maxi = np.max(corpus)\n",
    "    # mini = np.min(corpus)\n",
    "    # print(\"\\n\", dataset_name, s)\n",
    "    # print(\"mean\", mean, \"\\nvariance\", variance, \"\\nmax\", maxi, \"\\nmin\", mini)\n",
    "    # mean2 = np.mean(corpus*s)\n",
    "    # variance2 = np.var(corpus*s)\n",
    "    # maxi2 = np.max(corpus*s)\n",
    "    # mini2 = np.min(corpus*s)\n",
    "    # print(\"mean2\", mean2, \"\\nvariance2\", variance2, \"\\nmax2\", maxi2, \"\\nmin2\", mini2)\n",
    "    pass\n",
    "\n",
    "\n",
    "\n",
    "for dataset_name in [\n",
    "        'ArticularyWordRecognition', \n",
    "        'BasicMotions', \n",
    "         #'Cricket', #only NaNs for all sigmas>1, else 0 TOO BIG\n",
    "         ##########'ERing', #cant find dataset\n",
    "        'Libras', \n",
    "        'NATOPS', \n",
    "        'RacketSports',     \n",
    "        'FingerMovements', # estimates a bit low, 10e-3\n",
    "        'Heartbeat',\n",
    "        'SelfRegulationSCP1',  #only NaNs for all sigmas>1, else 0       ALSO TOO BIG\n",
    "        'UWaveGestureLibrary'\n",
    "        ]:\n",
    "    test_variability(dataset_name)"
   ]
  },
  {
   "cell_type": "code",
   "execution_count": null,
   "metadata": {},
   "outputs": [],
   "source": [
    "# ArticularyWordRecognition T=144, d=9\n",
    "# (10, 8, 9)\n",
    "# abs [1.29565776 2.27435506 2.87972308 4.07389224 5.01688708 6.38028238\n",
    "#  7.11759463 7.86446547 8.08651308 8.29304982]\n",
    "\n",
    "\n",
    "# BasicMotions T=100, d=6\n",
    "# (10, 8, 9)\n",
    "# abs [1.04759194e+00 7.15178976e+01 1.40339471e+02 4.10876657e+03\n",
    "#  1.92255294e+04 2.50874495e+05 1.49520768e+06 1.27200498e+07\n",
    "#  7.06710438e+07 4.39333097e+08]\n",
    "\n",
    "\n",
    "# Libras T=45, d=2\n",
    "# (10, 8, 9)\n",
    "# abs [1.89531427 3.83885875 4.15721433 6.99827019 7.40133744 8.93425362\n",
    "#  9.22978483 9.44218473 9.4780136  9.49202141]\n",
    "\n",
    "\n",
    "# NATOPS T=51, d=24\n",
    "# (10, 8, 9)\n",
    "# abs [ 1.01604486  1.53247836  2.82986402  4.49605307  7.90352287 12.42609689\n",
    "#  18.56948677 24.6321559  29.69169966 33.1874835 ]\n",
    "\n",
    "\n",
    "# RacketSports T=30, d=6\n",
    "# (10, 8, 9)\n",
    "# abs [ 1.16522057  4.40396722  9.04935699 15.67076359 30.32986175 39.15169919\n",
    "#  61.60201888 72.30843763 90.79824697 99.62780377]\n",
    "\n",
    "\n",
    "# FingerMovements T=50, d=28\n",
    "# (10, 8, 9)\n",
    "# abs [0.97984797 1.04719032 1.04531916 1.04813437 1.04803513 1.04810413\n",
    "#  1.04810097 1.048102   1.04810194 1.04810195]\n",
    "\n",
    "\n",
    "# Heartbeat T=405, d=61\n",
    "# (10, 8, 9)\n",
    "# abs [1.08550586e+00 7.23266419e+02 9.05013282e+04 5.82884262e+06\n",
    "#  8.83717077e+08 6.35578512e+10 2.92053048e+12 8.94131107e+13\n",
    "#  4.99193194e+15 3.01476687e+17]\n",
    "\n",
    "\n",
    "# UWaveGestureLibrary T=315, d=3\n",
    "# (10, 8, 9)\n",
    "# abs [  1.20473682   9.60296452  14.84277035  39.26442477  67.65798534\n",
    "#  121.57540175 170.10270738 231.90516802 276.56580554 318.60532653]"
   ]
  },
  {
   "cell_type": "markdown",
   "metadata": {},
   "source": [
    "# Plot datasets"
   ]
  },
  {
   "cell_type": "code",
   "execution_count": null,
   "metadata": {},
   "outputs": [],
   "source": [
    "from experiments.experiment_code import normalize_streams, calc_grams\n",
    "\n",
    "\n",
    "\n",
    "\n",
    "\n",
    "import plotly.express as px\n",
    "\n",
    "def plot_dataset(dataset_name:str):\n",
    "    X_train, y_train, X_test, y_test = UCR_UEA_datasets().load_dataset(dataset_name)\n",
    "    print(dataset_name)\n",
    "    unique_labels = np.unique(y_train)\n",
    "    num_classes = len(unique_labels)\n",
    "    N_train, T, d = X_train.shape\n",
    "\n",
    "    corpus, test = normalize_streams(X_train, X_test)\n",
    "\n",
    "    choice = np.random.choice(N_train, size=9)\n",
    "    TRAIN = np.array([corpus[i] for i in choice])\n",
    "    fig = px.line(TRAIN[0])\n",
    "    fig.show()\n",
    "\n",
    "\n",
    "\n",
    "for dataset_name in [\n",
    "        'ArticularyWordRecognition', \n",
    "        'BasicMotions', \n",
    "         ###'Cricket',             # fuck cricket, too big and n_samples=10...\n",
    "         ##########'ERing', #cant find dataset\n",
    "        'Libras', \n",
    "        'NATOPS', \n",
    "        'RacketSports',     \n",
    "        'FingerMovements',      # estimates a bit low, 10e-3\n",
    "        'Heartbeat',\n",
    "        'SelfRegulationSCP1',   # CAN RESAMPLE 2x or even 3x, 4x\n",
    "        'UWaveGestureLibrary'\n",
    "        ]:\n",
    "    plot_dataset(dataset_name)"
   ]
  },
  {
   "cell_type": "code",
   "execution_count": null,
   "metadata": {},
   "outputs": [],
   "source": [
    "X_train, y_train, X_test, y_test = UCR_UEA_datasets().load_dataset(\"UWaveGestureLibrary\")\n",
    "import plotly.express as px\n",
    "print(X_train.shape)\n",
    "idx = 45\n",
    "fig = px.line(X_train[idx])\n",
    "fig.show()\n",
    "new_X = X_train[:,::2,:]\n",
    "fig = px.line(new_X[idx])\n",
    "fig.show()"
   ]
  },
  {
   "cell_type": "code",
   "execution_count": null,
   "metadata": {},
   "outputs": [],
   "source": [
    "X_train, y_train, X_test, y_test = UCR_UEA_datasets().load_dataset(\"SelfRegulationSCP1\")\n",
    "import plotly.express as px\n",
    "print(X_train.shape)\n",
    "idx = 2\n",
    "fig = px.line(X_train[idx])\n",
    "fig.show()\n",
    "new_X = X_train[:,::3,:]\n",
    "print(new_X.shape)\n",
    "fig = px.line(new_X[idx])\n",
    "fig.show()"
   ]
  },
  {
   "cell_type": "code",
   "execution_count": null,
   "metadata": {},
   "outputs": [],
   "source": [
    "X_train, y_train, X_test, y_test = UCR_UEA_datasets().load_dataset(\"Heartbeat\")\n",
    "import plotly.express as px\n",
    "print(X_train.shape)\n",
    "idx = 2\n",
    "fig = px.line(X_train[idx])\n",
    "fig.show()\n",
    "new_X = X_train[:,::2,:]\n",
    "print(new_X.shape)\n",
    "fig = px.line(new_X[idx])\n",
    "fig.show()"
   ]
  },
  {
   "cell_type": "code",
   "execution_count": 7,
   "metadata": {},
   "outputs": [
    {
     "name": "stdout",
     "output_type": "stream",
     "text": [
      "(40, 100, 6)\n"
     ]
    },
    {
     "data": {
      "application/vnd.plotly.v1+json": {
       "config": {
        "plotlyServerURL": "https://plot.ly"
       },
       "data": [
        {
         "hovertemplate": "variable=0<br>index=%{x}<br>value=%{y}<extra></extra>",
         "legendgroup": "0",
         "line": {
          "color": "#636efa",
          "dash": "solid"
         },
         "marker": {
          "symbol": "circle"
         },
         "mode": "lines",
         "name": "0",
         "orientation": "v",
         "showlegend": true,
         "type": "scatter",
         "x": [
          0,
          1,
          2,
          3,
          4,
          5,
          6,
          7,
          8,
          9,
          10,
          11,
          12,
          13,
          14,
          15,
          16,
          17,
          18,
          19,
          20,
          21,
          22,
          23,
          24,
          25,
          26,
          27,
          28,
          29,
          30,
          31,
          32,
          33,
          34,
          35,
          36,
          37,
          38,
          39,
          40,
          41,
          42,
          43,
          44,
          45,
          46,
          47,
          48,
          49,
          50,
          51,
          52,
          53,
          54,
          55,
          56,
          57,
          58,
          59,
          60,
          61,
          62,
          63,
          64,
          65,
          66,
          67,
          68,
          69,
          70,
          71,
          72,
          73,
          74,
          75,
          76,
          77,
          78,
          79,
          80,
          81,
          82,
          83,
          84,
          85,
          86,
          87,
          88,
          89,
          90,
          91,
          92,
          93,
          94,
          95,
          96,
          97,
          98,
          99
         ],
         "xaxis": "x",
         "y": [
          -0.771623,
          -0.771623,
          -2.323824,
          -2.752338,
          -2.45097,
          -0.93746,
          6.28485,
          2.756402,
          2.756402,
          3.242334,
          3.918814,
          6.635823,
          10.507528,
          18.195707,
          18.195707,
          22.839943,
          8.25415,
          6.191095,
          4.126677,
          9.430202,
          7.155105,
          10.015716,
          0.723938,
          2.393076,
          13.640159,
          18.64572,
          28.408508,
          13.113796,
          -0.817106,
          1.513932,
          4.881533,
          6.12257,
          2.16431,
          -1.936317,
          -1.936317,
          11.388661,
          12.526302,
          26.377253,
          26.377253,
          10.016179,
          -4.5573,
          2.611873,
          -2.155444,
          0.922488,
          0.981861,
          -1.178172,
          -0.237505,
          1.943103,
          5.427128,
          11.92063,
          16.547655,
          28.768162,
          18.251947,
          6.00441,
          5.468162,
          1.850925,
          1.555283,
          0.707126,
          1.073684,
          1.760582,
          5.337998,
          5.337998,
          8.537132,
          22.979437,
          12.291254,
          12.291254,
          4.048561,
          1.610986,
          -1.968335,
          -1.184172,
          3.514402,
          1.87814,
          -1.730367,
          -2.000344,
          1.511879,
          0.488133,
          25.47078,
          21.237553,
          24.188162,
          16.892605,
          -1.277784,
          -6.244718,
          0.000228,
          -0.019679,
          -0.019679,
          1.647268,
          1.489048,
          -0.673188,
          -4.107069,
          -4.107069,
          -8.253124,
          7.416161,
          7.416161,
          16.78165,
          15.836936,
          15.834576,
          29.131315,
          22.862198,
          17.441282,
          7.191927
         ],
         "yaxis": "y"
        },
        {
         "hovertemplate": "variable=1<br>index=%{x}<br>value=%{y}<extra></extra>",
         "legendgroup": "1",
         "line": {
          "color": "#EF553B",
          "dash": "solid"
         },
         "marker": {
          "symbol": "circle"
         },
         "mode": "lines",
         "name": "1",
         "orientation": "v",
         "showlegend": true,
         "type": "scatter",
         "x": [
          0,
          1,
          2,
          3,
          4,
          5,
          6,
          7,
          8,
          9,
          10,
          11,
          12,
          13,
          14,
          15,
          16,
          17,
          18,
          19,
          20,
          21,
          22,
          23,
          24,
          25,
          26,
          27,
          28,
          29,
          30,
          31,
          32,
          33,
          34,
          35,
          36,
          37,
          38,
          39,
          40,
          41,
          42,
          43,
          44,
          45,
          46,
          47,
          48,
          49,
          50,
          51,
          52,
          53,
          54,
          55,
          56,
          57,
          58,
          59,
          60,
          61,
          62,
          63,
          64,
          65,
          66,
          67,
          68,
          69,
          70,
          71,
          72,
          73,
          74,
          75,
          76,
          77,
          78,
          79,
          80,
          81,
          82,
          83,
          84,
          85,
          86,
          87,
          88,
          89,
          90,
          91,
          92,
          93,
          94,
          95,
          96,
          97,
          98,
          99
         ],
         "xaxis": "x",
         "y": [
          0.372042,
          0.372042,
          -0.296031,
          -2.830068,
          -4.69772,
          1.649246,
          -10.179129,
          -6.056571,
          -6.056571,
          2.908353,
          0.015999,
          -2.268551,
          11.053983,
          9.897648,
          9.897648,
          -15.801662,
          -1.409894,
          -0.533316,
          -0.188722,
          -6.701498,
          3.838126,
          11.773987,
          8.458529,
          20.208328,
          16.175755,
          4.411748,
          1.046184,
          4.161999,
          -4.053085,
          -5.858306,
          0.089686,
          -2.999184,
          -1.373159,
          -2.982153,
          -2.982153,
          1.2887,
          13.140068,
          -24.395222,
          -24.395222,
          -1.612834,
          5.407068,
          2.394867,
          2.925131,
          -0.211837,
          -1.533917,
          1.373394,
          -1.681072,
          -3.049399,
          -0.688561,
          9.680872,
          10.587934,
          6.818126,
          -9.302156,
          -5.30275,
          -10.080749,
          -1.228244,
          1.289943,
          1.300153,
          -0.599698,
          -1.925871,
          -0.689183,
          -0.689183,
          15.138142,
          -13.349223,
          -15.600651,
          -15.600651,
          -3.834363,
          -4.414933,
          -7.583013,
          -6.612927,
          -5.49696,
          -3.604942,
          -0.095024,
          -1.773939,
          -3.590032,
          11.866651,
          12.055592,
          10.861025,
          9.061313,
          5.31084,
          5.239089,
          -1.616839,
          1.130109,
          -0.659871,
          -0.659871,
          1.752387,
          1.979115,
          0.586289,
          -1.745196,
          -1.745196,
          -15.04077,
          -20.660906,
          -20.660906,
          -7.67475,
          1.997124,
          11.69478,
          -21.58309,
          -3.74376,
          -9.06429,
          -11.497003
         ],
         "yaxis": "y"
        },
        {
         "hovertemplate": "variable=2<br>index=%{x}<br>value=%{y}<extra></extra>",
         "legendgroup": "2",
         "line": {
          "color": "#00cc96",
          "dash": "solid"
         },
         "marker": {
          "symbol": "circle"
         },
         "mode": "lines",
         "name": "2",
         "orientation": "v",
         "showlegend": true,
         "type": "scatter",
         "x": [
          0,
          1,
          2,
          3,
          4,
          5,
          6,
          7,
          8,
          9,
          10,
          11,
          12,
          13,
          14,
          15,
          16,
          17,
          18,
          19,
          20,
          21,
          22,
          23,
          24,
          25,
          26,
          27,
          28,
          29,
          30,
          31,
          32,
          33,
          34,
          35,
          36,
          37,
          38,
          39,
          40,
          41,
          42,
          43,
          44,
          45,
          46,
          47,
          48,
          49,
          50,
          51,
          52,
          53,
          54,
          55,
          56,
          57,
          58,
          59,
          60,
          61,
          62,
          63,
          64,
          65,
          66,
          67,
          68,
          69,
          70,
          71,
          72,
          73,
          74,
          75,
          76,
          77,
          78,
          79,
          80,
          81,
          82,
          83,
          84,
          85,
          86,
          87,
          88,
          89,
          90,
          91,
          92,
          93,
          94,
          95,
          96,
          97,
          98,
          99
         ],
         "xaxis": "x",
         "y": [
          -0.145753,
          -0.145753,
          1.715016,
          1.941302,
          1.272646,
          -1.076785,
          -5.852981,
          -6.618349,
          -6.618349,
          -2.03265,
          -5.762189,
          -3.465497,
          1.051774,
          19.523338,
          19.523338,
          -22.686333,
          -4.241193,
          0.04372,
          5.157976,
          10.438023,
          1.647816,
          -5.31261,
          -6.829639,
          -11.204414,
          -11.619837,
          -14.041813,
          -23.41489,
          -1.03168,
          -5.677286,
          -0.958039,
          3.590258,
          8.174298,
          8.294344,
          1.134447,
          1.134447,
          -1.44506,
          6.037934,
          -24.715273,
          -24.715273,
          -7.209928,
          -4.852511,
          0.7602,
          2.554967,
          3.813085,
          3.267366,
          6.455228,
          2.378404,
          -1.172371,
          -1.348702,
          -6.64932,
          -13.350161,
          -17.804968,
          3.265368,
          6.235881,
          2.587838,
          2.281856,
          0.40296,
          -0.02752,
          -1.870216,
          -0.733859,
          2.151858,
          2.151858,
          -10.838529,
          -6.092327,
          -9.442748,
          -9.442748,
          -2.165632,
          -0.349972,
          -2.349172,
          0.706654,
          1.716759,
          -0.000622,
          0.04694,
          -1.73409,
          2.462246,
          -3.46394,
          2.479609,
          -14.933769,
          -19.657104,
          -12.544507,
          -3.294082,
          -1.810618,
          0.679049,
          0.224821,
          0.224821,
          0.388763,
          1.145351,
          0.30352,
          3.171524,
          3.171524,
          11.071306,
          -7.682266,
          -7.682266,
          -6.869991,
          -6.854812,
          -12.528547,
          -20.727003,
          5.725987,
          3.068515,
          2.395642
         ],
         "yaxis": "y"
        },
        {
         "hovertemplate": "variable=3<br>index=%{x}<br>value=%{y}<extra></extra>",
         "legendgroup": "3",
         "line": {
          "color": "#ab63fa",
          "dash": "solid"
         },
         "marker": {
          "symbol": "circle"
         },
         "mode": "lines",
         "name": "3",
         "orientation": "v",
         "showlegend": true,
         "type": "scatter",
         "x": [
          0,
          1,
          2,
          3,
          4,
          5,
          6,
          7,
          8,
          9,
          10,
          11,
          12,
          13,
          14,
          15,
          16,
          17,
          18,
          19,
          20,
          21,
          22,
          23,
          24,
          25,
          26,
          27,
          28,
          29,
          30,
          31,
          32,
          33,
          34,
          35,
          36,
          37,
          38,
          39,
          40,
          41,
          42,
          43,
          44,
          45,
          46,
          47,
          48,
          49,
          50,
          51,
          52,
          53,
          54,
          55,
          56,
          57,
          58,
          59,
          60,
          61,
          62,
          63,
          64,
          65,
          66,
          67,
          68,
          69,
          70,
          71,
          72,
          73,
          74,
          75,
          76,
          77,
          78,
          79,
          80,
          81,
          82,
          83,
          84,
          85,
          86,
          87,
          88,
          89,
          90,
          91,
          92,
          93,
          94,
          95,
          96,
          97,
          98,
          99
         ],
         "xaxis": "x",
         "y": [
          -0.03196,
          -0.03196,
          0.383526,
          0.732428,
          0.047941,
          1.238468,
          1.440885,
          2.591461,
          2.591461,
          3.297255,
          2.00552,
          2.458293,
          3.920484,
          -5.182923,
          -5.182923,
          0.934844,
          3.976415,
          -2.418342,
          -1.083993,
          -4.375921,
          -4.716833,
          -9.630755,
          -5.406646,
          -0.88424,
          -3.523642,
          -6.685065,
          28.772413,
          -3.696761,
          -2.764581,
          -1.765816,
          2.524877,
          -1.446211,
          -1.731192,
          -0.791022,
          -0.791022,
          1.989539,
          -1.235805,
          -18.96854,
          -18.96854,
          4.245416,
          -1.946925,
          -1.608677,
          -1.065349,
          -0.894893,
          -1.502142,
          1.294399,
          0.24503,
          1.211835,
          1.249122,
          -2.359748,
          -3.987069,
          -10.046241,
          -2.772571,
          3.712741,
          -0.910873,
          1.195854,
          -0.021307,
          0.19709,
          -0.799012,
          1.60335,
          5.992588,
          5.992588,
          7.723781,
          -7.606592,
          -2.050797,
          -2.050797,
          -3.952445,
          -2.932373,
          -3.949781,
          -0.852279,
          -1.209171,
          -0.937507,
          -0.050604,
          0.934844,
          1.020072,
          -3.068205,
          -0.767051,
          8.450881,
          34.86621,
          -6.911452,
          1.115953,
          -3.864554,
          -0.807002,
          -1.163894,
          -1.163894,
          -0.487397,
          -1.368974,
          0.641873,
          1.270429,
          1.270429,
          0.577952,
          2.631412,
          2.631412,
          4.013702,
          1.885668,
          -6.442698,
          -5.475894,
          -2.261203,
          -0.897557,
          0.556645
         ],
         "yaxis": "y"
        },
        {
         "hovertemplate": "variable=4<br>index=%{x}<br>value=%{y}<extra></extra>",
         "legendgroup": "4",
         "line": {
          "color": "#FFA15A",
          "dash": "solid"
         },
         "marker": {
          "symbol": "circle"
         },
         "mode": "lines",
         "name": "4",
         "orientation": "v",
         "showlegend": true,
         "type": "scatter",
         "x": [
          0,
          1,
          2,
          3,
          4,
          5,
          6,
          7,
          8,
          9,
          10,
          11,
          12,
          13,
          14,
          15,
          16,
          17,
          18,
          19,
          20,
          21,
          22,
          23,
          24,
          25,
          26,
          27,
          28,
          29,
          30,
          31,
          32,
          33,
          34,
          35,
          36,
          37,
          38,
          39,
          40,
          41,
          42,
          43,
          44,
          45,
          46,
          47,
          48,
          49,
          50,
          51,
          52,
          53,
          54,
          55,
          56,
          57,
          58,
          59,
          60,
          61,
          62,
          63,
          64,
          65,
          66,
          67,
          68,
          69,
          70,
          71,
          72,
          73,
          74,
          75,
          76,
          77,
          78,
          79,
          80,
          81,
          82,
          83,
          84,
          85,
          86,
          87,
          88,
          89,
          90,
          91,
          92,
          93,
          94,
          95,
          96,
          97,
          98,
          99
         ],
         "xaxis": "x",
         "y": [
          0.167792,
          0.167792,
          0.22905,
          0.378199,
          -0.386189,
          -0.053267,
          -0.290308,
          -1.651291,
          -1.651291,
          -1.038715,
          -1.416914,
          -1.214498,
          -0.982784,
          -9.862469,
          -9.862469,
          3.369166,
          -1.094646,
          -2.082757,
          -2.082757,
          -2.793878,
          4.373258,
          6.746323,
          7.02065,
          1.041379,
          -0.346238,
          -3.917821,
          -18.467825,
          4.234762,
          2.104064,
          -2.032153,
          -2.663373,
          -2.607442,
          -0.226387,
          0.857606,
          0.857606,
          -3.235998,
          -11.369937,
          1.651291,
          1.651291,
          3.808623,
          1.701895,
          -0.825646,
          -0.761725,
          -0.125179,
          0.545991,
          1.265102,
          2.423669,
          3.281275,
          3.907167,
          4.069634,
          2.207936,
          2.514224,
          -4.293356,
          -1.416914,
          -0.868259,
          -1.185201,
          -0.498051,
          0.026634,
          -0.351565,
          -1.142587,
          -1.608677,
          -1.608677,
          -1.227815,
          -11.103601,
          1.592697,
          1.592697,
          -0.543328,
          -0.767051,
          -0.098545,
          -0.593932,
          -0.364882,
          0.857606,
          2.199946,
          1.946925,
          1.869688,
          5.40132,
          6.850194,
          9.052803,
          -12.877406,
          2.114718,
          -0.351565,
          -0.21307,
          -0.559308,
          0.021307,
          0.021307,
          -0.189099,
          0.673833,
          0.583279,
          0.495387,
          0.495387,
          4.05898,
          5.076388,
          5.076388,
          1.520786,
          0.378199,
          -1.608677,
          6.533253,
          -4.993824,
          -2.285174,
          -1.318369
         ],
         "yaxis": "y"
        },
        {
         "hovertemplate": "variable=5<br>index=%{x}<br>value=%{y}<extra></extra>",
         "legendgroup": "5",
         "line": {
          "color": "#19d3f3",
          "dash": "solid"
         },
         "marker": {
          "symbol": "circle"
         },
         "mode": "lines",
         "name": "5",
         "orientation": "v",
         "showlegend": true,
         "type": "scatter",
         "x": [
          0,
          1,
          2,
          3,
          4,
          5,
          6,
          7,
          8,
          9,
          10,
          11,
          12,
          13,
          14,
          15,
          16,
          17,
          18,
          19,
          20,
          21,
          22,
          23,
          24,
          25,
          26,
          27,
          28,
          29,
          30,
          31,
          32,
          33,
          34,
          35,
          36,
          37,
          38,
          39,
          40,
          41,
          42,
          43,
          44,
          45,
          46,
          47,
          48,
          49,
          50,
          51,
          52,
          53,
          54,
          55,
          56,
          57,
          58,
          59,
          60,
          61,
          62,
          63,
          64,
          65,
          66,
          67,
          68,
          69,
          70,
          71,
          72,
          73,
          74,
          75,
          76,
          77,
          78,
          79,
          80,
          81,
          82,
          83,
          84,
          85,
          86,
          87,
          88,
          89,
          90,
          91,
          92,
          93,
          94,
          95,
          96,
          97,
          98,
          99
         ],
         "xaxis": "x",
         "y": [
          -0.362219,
          -0.362219,
          -0.239704,
          0.684487,
          1.890995,
          2.772571,
          2.791215,
          3.728722,
          3.728722,
          3.433087,
          2.801868,
          3.126799,
          3.206701,
          -18.07631,
          -18.07631,
          -1.238468,
          3.611533,
          2.104064,
          0.444783,
          -0.817655,
          -1.691242,
          -0.532675,
          4.189485,
          0.356892,
          -3.291929,
          -9.367082,
          -16.254562,
          4.52507,
          0.242367,
          -0.117188,
          0.807002,
          0.215733,
          -0.412823,
          -0.945497,
          -0.945497,
          0.953487,
          -6.543906,
          -16.851158,
          -16.851158,
          2.69267,
          4.05099,
          1.787123,
          0.447447,
          -0.476744,
          -0.090555,
          0.572625,
          0.926854,
          2.604778,
          3.302582,
          3.63284,
          -12.326088,
          -18.598331,
          -1.337013,
          -1.179874,
          0.476744,
          1.073339,
          0.785695,
          0.756398,
          0.87625,
          1.315706,
          1.390281,
          1.390281,
          1.843054,
          -22.169912,
          0.844289,
          0.844289,
          1.672598,
          0.956151,
          0.061258,
          -0.386189,
          -0.037287,
          0.468754,
          0.825646,
          1.201181,
          1.941599,
          3.880534,
          -0.721774,
          -10.261974,
          -1.451538,
          7.433473,
          0.89223,
          -1.257112,
          -2.303817,
          -1.672598,
          -1.672598,
          -1.507469,
          -2.032153,
          -1.35033,
          -0.399506,
          -0.399506,
          -0.580615,
          3.952445,
          3.952445,
          5.001813,
          4.181495,
          -4.615624,
          -20.43073,
          -4.168178,
          -4.237426,
          -1.099973
         ],
         "yaxis": "y"
        }
       ],
       "layout": {
        "legend": {
         "title": {
          "text": "variable"
         },
         "tracegroupgap": 0
        },
        "margin": {
         "t": 60
        },
        "template": {
         "data": {
          "bar": [
           {
            "error_x": {
             "color": "#2a3f5f"
            },
            "error_y": {
             "color": "#2a3f5f"
            },
            "marker": {
             "line": {
              "color": "#E5ECF6",
              "width": 0.5
             },
             "pattern": {
              "fillmode": "overlay",
              "size": 10,
              "solidity": 0.2
             }
            },
            "type": "bar"
           }
          ],
          "barpolar": [
           {
            "marker": {
             "line": {
              "color": "#E5ECF6",
              "width": 0.5
             },
             "pattern": {
              "fillmode": "overlay",
              "size": 10,
              "solidity": 0.2
             }
            },
            "type": "barpolar"
           }
          ],
          "carpet": [
           {
            "aaxis": {
             "endlinecolor": "#2a3f5f",
             "gridcolor": "white",
             "linecolor": "white",
             "minorgridcolor": "white",
             "startlinecolor": "#2a3f5f"
            },
            "baxis": {
             "endlinecolor": "#2a3f5f",
             "gridcolor": "white",
             "linecolor": "white",
             "minorgridcolor": "white",
             "startlinecolor": "#2a3f5f"
            },
            "type": "carpet"
           }
          ],
          "choropleth": [
           {
            "colorbar": {
             "outlinewidth": 0,
             "ticks": ""
            },
            "type": "choropleth"
           }
          ],
          "contour": [
           {
            "colorbar": {
             "outlinewidth": 0,
             "ticks": ""
            },
            "colorscale": [
             [
              0,
              "#0d0887"
             ],
             [
              0.1111111111111111,
              "#46039f"
             ],
             [
              0.2222222222222222,
              "#7201a8"
             ],
             [
              0.3333333333333333,
              "#9c179e"
             ],
             [
              0.4444444444444444,
              "#bd3786"
             ],
             [
              0.5555555555555556,
              "#d8576b"
             ],
             [
              0.6666666666666666,
              "#ed7953"
             ],
             [
              0.7777777777777778,
              "#fb9f3a"
             ],
             [
              0.8888888888888888,
              "#fdca26"
             ],
             [
              1,
              "#f0f921"
             ]
            ],
            "type": "contour"
           }
          ],
          "contourcarpet": [
           {
            "colorbar": {
             "outlinewidth": 0,
             "ticks": ""
            },
            "type": "contourcarpet"
           }
          ],
          "heatmap": [
           {
            "colorbar": {
             "outlinewidth": 0,
             "ticks": ""
            },
            "colorscale": [
             [
              0,
              "#0d0887"
             ],
             [
              0.1111111111111111,
              "#46039f"
             ],
             [
              0.2222222222222222,
              "#7201a8"
             ],
             [
              0.3333333333333333,
              "#9c179e"
             ],
             [
              0.4444444444444444,
              "#bd3786"
             ],
             [
              0.5555555555555556,
              "#d8576b"
             ],
             [
              0.6666666666666666,
              "#ed7953"
             ],
             [
              0.7777777777777778,
              "#fb9f3a"
             ],
             [
              0.8888888888888888,
              "#fdca26"
             ],
             [
              1,
              "#f0f921"
             ]
            ],
            "type": "heatmap"
           }
          ],
          "heatmapgl": [
           {
            "colorbar": {
             "outlinewidth": 0,
             "ticks": ""
            },
            "colorscale": [
             [
              0,
              "#0d0887"
             ],
             [
              0.1111111111111111,
              "#46039f"
             ],
             [
              0.2222222222222222,
              "#7201a8"
             ],
             [
              0.3333333333333333,
              "#9c179e"
             ],
             [
              0.4444444444444444,
              "#bd3786"
             ],
             [
              0.5555555555555556,
              "#d8576b"
             ],
             [
              0.6666666666666666,
              "#ed7953"
             ],
             [
              0.7777777777777778,
              "#fb9f3a"
             ],
             [
              0.8888888888888888,
              "#fdca26"
             ],
             [
              1,
              "#f0f921"
             ]
            ],
            "type": "heatmapgl"
           }
          ],
          "histogram": [
           {
            "marker": {
             "pattern": {
              "fillmode": "overlay",
              "size": 10,
              "solidity": 0.2
             }
            },
            "type": "histogram"
           }
          ],
          "histogram2d": [
           {
            "colorbar": {
             "outlinewidth": 0,
             "ticks": ""
            },
            "colorscale": [
             [
              0,
              "#0d0887"
             ],
             [
              0.1111111111111111,
              "#46039f"
             ],
             [
              0.2222222222222222,
              "#7201a8"
             ],
             [
              0.3333333333333333,
              "#9c179e"
             ],
             [
              0.4444444444444444,
              "#bd3786"
             ],
             [
              0.5555555555555556,
              "#d8576b"
             ],
             [
              0.6666666666666666,
              "#ed7953"
             ],
             [
              0.7777777777777778,
              "#fb9f3a"
             ],
             [
              0.8888888888888888,
              "#fdca26"
             ],
             [
              1,
              "#f0f921"
             ]
            ],
            "type": "histogram2d"
           }
          ],
          "histogram2dcontour": [
           {
            "colorbar": {
             "outlinewidth": 0,
             "ticks": ""
            },
            "colorscale": [
             [
              0,
              "#0d0887"
             ],
             [
              0.1111111111111111,
              "#46039f"
             ],
             [
              0.2222222222222222,
              "#7201a8"
             ],
             [
              0.3333333333333333,
              "#9c179e"
             ],
             [
              0.4444444444444444,
              "#bd3786"
             ],
             [
              0.5555555555555556,
              "#d8576b"
             ],
             [
              0.6666666666666666,
              "#ed7953"
             ],
             [
              0.7777777777777778,
              "#fb9f3a"
             ],
             [
              0.8888888888888888,
              "#fdca26"
             ],
             [
              1,
              "#f0f921"
             ]
            ],
            "type": "histogram2dcontour"
           }
          ],
          "mesh3d": [
           {
            "colorbar": {
             "outlinewidth": 0,
             "ticks": ""
            },
            "type": "mesh3d"
           }
          ],
          "parcoords": [
           {
            "line": {
             "colorbar": {
              "outlinewidth": 0,
              "ticks": ""
             }
            },
            "type": "parcoords"
           }
          ],
          "pie": [
           {
            "automargin": true,
            "type": "pie"
           }
          ],
          "scatter": [
           {
            "fillpattern": {
             "fillmode": "overlay",
             "size": 10,
             "solidity": 0.2
            },
            "type": "scatter"
           }
          ],
          "scatter3d": [
           {
            "line": {
             "colorbar": {
              "outlinewidth": 0,
              "ticks": ""
             }
            },
            "marker": {
             "colorbar": {
              "outlinewidth": 0,
              "ticks": ""
             }
            },
            "type": "scatter3d"
           }
          ],
          "scattercarpet": [
           {
            "marker": {
             "colorbar": {
              "outlinewidth": 0,
              "ticks": ""
             }
            },
            "type": "scattercarpet"
           }
          ],
          "scattergeo": [
           {
            "marker": {
             "colorbar": {
              "outlinewidth": 0,
              "ticks": ""
             }
            },
            "type": "scattergeo"
           }
          ],
          "scattergl": [
           {
            "marker": {
             "colorbar": {
              "outlinewidth": 0,
              "ticks": ""
             }
            },
            "type": "scattergl"
           }
          ],
          "scattermapbox": [
           {
            "marker": {
             "colorbar": {
              "outlinewidth": 0,
              "ticks": ""
             }
            },
            "type": "scattermapbox"
           }
          ],
          "scatterpolar": [
           {
            "marker": {
             "colorbar": {
              "outlinewidth": 0,
              "ticks": ""
             }
            },
            "type": "scatterpolar"
           }
          ],
          "scatterpolargl": [
           {
            "marker": {
             "colorbar": {
              "outlinewidth": 0,
              "ticks": ""
             }
            },
            "type": "scatterpolargl"
           }
          ],
          "scatterternary": [
           {
            "marker": {
             "colorbar": {
              "outlinewidth": 0,
              "ticks": ""
             }
            },
            "type": "scatterternary"
           }
          ],
          "surface": [
           {
            "colorbar": {
             "outlinewidth": 0,
             "ticks": ""
            },
            "colorscale": [
             [
              0,
              "#0d0887"
             ],
             [
              0.1111111111111111,
              "#46039f"
             ],
             [
              0.2222222222222222,
              "#7201a8"
             ],
             [
              0.3333333333333333,
              "#9c179e"
             ],
             [
              0.4444444444444444,
              "#bd3786"
             ],
             [
              0.5555555555555556,
              "#d8576b"
             ],
             [
              0.6666666666666666,
              "#ed7953"
             ],
             [
              0.7777777777777778,
              "#fb9f3a"
             ],
             [
              0.8888888888888888,
              "#fdca26"
             ],
             [
              1,
              "#f0f921"
             ]
            ],
            "type": "surface"
           }
          ],
          "table": [
           {
            "cells": {
             "fill": {
              "color": "#EBF0F8"
             },
             "line": {
              "color": "white"
             }
            },
            "header": {
             "fill": {
              "color": "#C8D4E3"
             },
             "line": {
              "color": "white"
             }
            },
            "type": "table"
           }
          ]
         },
         "layout": {
          "annotationdefaults": {
           "arrowcolor": "#2a3f5f",
           "arrowhead": 0,
           "arrowwidth": 1
          },
          "autotypenumbers": "strict",
          "coloraxis": {
           "colorbar": {
            "outlinewidth": 0,
            "ticks": ""
           }
          },
          "colorscale": {
           "diverging": [
            [
             0,
             "#8e0152"
            ],
            [
             0.1,
             "#c51b7d"
            ],
            [
             0.2,
             "#de77ae"
            ],
            [
             0.3,
             "#f1b6da"
            ],
            [
             0.4,
             "#fde0ef"
            ],
            [
             0.5,
             "#f7f7f7"
            ],
            [
             0.6,
             "#e6f5d0"
            ],
            [
             0.7,
             "#b8e186"
            ],
            [
             0.8,
             "#7fbc41"
            ],
            [
             0.9,
             "#4d9221"
            ],
            [
             1,
             "#276419"
            ]
           ],
           "sequential": [
            [
             0,
             "#0d0887"
            ],
            [
             0.1111111111111111,
             "#46039f"
            ],
            [
             0.2222222222222222,
             "#7201a8"
            ],
            [
             0.3333333333333333,
             "#9c179e"
            ],
            [
             0.4444444444444444,
             "#bd3786"
            ],
            [
             0.5555555555555556,
             "#d8576b"
            ],
            [
             0.6666666666666666,
             "#ed7953"
            ],
            [
             0.7777777777777778,
             "#fb9f3a"
            ],
            [
             0.8888888888888888,
             "#fdca26"
            ],
            [
             1,
             "#f0f921"
            ]
           ],
           "sequentialminus": [
            [
             0,
             "#0d0887"
            ],
            [
             0.1111111111111111,
             "#46039f"
            ],
            [
             0.2222222222222222,
             "#7201a8"
            ],
            [
             0.3333333333333333,
             "#9c179e"
            ],
            [
             0.4444444444444444,
             "#bd3786"
            ],
            [
             0.5555555555555556,
             "#d8576b"
            ],
            [
             0.6666666666666666,
             "#ed7953"
            ],
            [
             0.7777777777777778,
             "#fb9f3a"
            ],
            [
             0.8888888888888888,
             "#fdca26"
            ],
            [
             1,
             "#f0f921"
            ]
           ]
          },
          "colorway": [
           "#636efa",
           "#EF553B",
           "#00cc96",
           "#ab63fa",
           "#FFA15A",
           "#19d3f3",
           "#FF6692",
           "#B6E880",
           "#FF97FF",
           "#FECB52"
          ],
          "font": {
           "color": "#2a3f5f"
          },
          "geo": {
           "bgcolor": "white",
           "lakecolor": "white",
           "landcolor": "#E5ECF6",
           "showlakes": true,
           "showland": true,
           "subunitcolor": "white"
          },
          "hoverlabel": {
           "align": "left"
          },
          "hovermode": "closest",
          "mapbox": {
           "style": "light"
          },
          "paper_bgcolor": "white",
          "plot_bgcolor": "#E5ECF6",
          "polar": {
           "angularaxis": {
            "gridcolor": "white",
            "linecolor": "white",
            "ticks": ""
           },
           "bgcolor": "#E5ECF6",
           "radialaxis": {
            "gridcolor": "white",
            "linecolor": "white",
            "ticks": ""
           }
          },
          "scene": {
           "xaxis": {
            "backgroundcolor": "#E5ECF6",
            "gridcolor": "white",
            "gridwidth": 2,
            "linecolor": "white",
            "showbackground": true,
            "ticks": "",
            "zerolinecolor": "white"
           },
           "yaxis": {
            "backgroundcolor": "#E5ECF6",
            "gridcolor": "white",
            "gridwidth": 2,
            "linecolor": "white",
            "showbackground": true,
            "ticks": "",
            "zerolinecolor": "white"
           },
           "zaxis": {
            "backgroundcolor": "#E5ECF6",
            "gridcolor": "white",
            "gridwidth": 2,
            "linecolor": "white",
            "showbackground": true,
            "ticks": "",
            "zerolinecolor": "white"
           }
          },
          "shapedefaults": {
           "line": {
            "color": "#2a3f5f"
           }
          },
          "ternary": {
           "aaxis": {
            "gridcolor": "white",
            "linecolor": "white",
            "ticks": ""
           },
           "baxis": {
            "gridcolor": "white",
            "linecolor": "white",
            "ticks": ""
           },
           "bgcolor": "#E5ECF6",
           "caxis": {
            "gridcolor": "white",
            "linecolor": "white",
            "ticks": ""
           }
          },
          "title": {
           "x": 0.05
          },
          "xaxis": {
           "automargin": true,
           "gridcolor": "white",
           "linecolor": "white",
           "ticks": "",
           "title": {
            "standoff": 15
           },
           "zerolinecolor": "white",
           "zerolinewidth": 2
          },
          "yaxis": {
           "automargin": true,
           "gridcolor": "white",
           "linecolor": "white",
           "ticks": "",
           "title": {
            "standoff": 15
           },
           "zerolinecolor": "white",
           "zerolinewidth": 2
          }
         }
        },
        "xaxis": {
         "anchor": "y",
         "domain": [
          0,
          1
         ],
         "title": {
          "text": "index"
         }
        },
        "yaxis": {
         "anchor": "x",
         "domain": [
          0,
          1
         ],
         "title": {
          "text": "value"
         }
        }
       }
      }
     },
     "metadata": {},
     "output_type": "display_data"
    },
    {
     "name": "stdout",
     "output_type": "stream",
     "text": [
      "(40, 50, 6)\n"
     ]
    },
    {
     "data": {
      "application/vnd.plotly.v1+json": {
       "config": {
        "plotlyServerURL": "https://plot.ly"
       },
       "data": [
        {
         "hovertemplate": "variable=0<br>index=%{x}<br>value=%{y}<extra></extra>",
         "legendgroup": "0",
         "line": {
          "color": "#636efa",
          "dash": "solid"
         },
         "marker": {
          "symbol": "circle"
         },
         "mode": "lines",
         "name": "0",
         "orientation": "v",
         "showlegend": true,
         "type": "scatter",
         "x": [
          0,
          1,
          2,
          3,
          4,
          5,
          6,
          7,
          8,
          9,
          10,
          11,
          12,
          13,
          14,
          15,
          16,
          17,
          18,
          19,
          20,
          21,
          22,
          23,
          24,
          25,
          26,
          27,
          28,
          29,
          30,
          31,
          32,
          33,
          34,
          35,
          36,
          37,
          38,
          39,
          40,
          41,
          42,
          43,
          44,
          45,
          46,
          47,
          48,
          49
         ],
         "xaxis": "x",
         "y": [
          -0.771623,
          -2.323824,
          -2.45097,
          6.28485,
          2.756402,
          3.918814,
          10.507528,
          18.195707,
          8.25415,
          4.126677,
          7.155105,
          0.723938,
          13.640159,
          28.408508,
          -0.817106,
          4.881533,
          2.16431,
          -1.936317,
          12.526302,
          26.377253,
          -4.5573,
          -2.155444,
          0.981861,
          -0.237505,
          5.427128,
          16.547655,
          18.251947,
          5.468162,
          1.555283,
          1.073684,
          5.337998,
          8.537132,
          12.291254,
          4.048561,
          -1.968335,
          3.514402,
          -1.730367,
          1.511879,
          25.47078,
          24.188162,
          -1.277784,
          0.000228,
          -0.019679,
          1.489048,
          -4.107069,
          -8.253124,
          7.416161,
          15.836936,
          29.131315,
          17.441282
         ],
         "yaxis": "y"
        },
        {
         "hovertemplate": "variable=1<br>index=%{x}<br>value=%{y}<extra></extra>",
         "legendgroup": "1",
         "line": {
          "color": "#EF553B",
          "dash": "solid"
         },
         "marker": {
          "symbol": "circle"
         },
         "mode": "lines",
         "name": "1",
         "orientation": "v",
         "showlegend": true,
         "type": "scatter",
         "x": [
          0,
          1,
          2,
          3,
          4,
          5,
          6,
          7,
          8,
          9,
          10,
          11,
          12,
          13,
          14,
          15,
          16,
          17,
          18,
          19,
          20,
          21,
          22,
          23,
          24,
          25,
          26,
          27,
          28,
          29,
          30,
          31,
          32,
          33,
          34,
          35,
          36,
          37,
          38,
          39,
          40,
          41,
          42,
          43,
          44,
          45,
          46,
          47,
          48,
          49
         ],
         "xaxis": "x",
         "y": [
          0.372042,
          -0.296031,
          -4.69772,
          -10.179129,
          -6.056571,
          0.015999,
          11.053983,
          9.897648,
          -1.409894,
          -0.188722,
          3.838126,
          8.458529,
          16.175755,
          1.046184,
          -4.053085,
          0.089686,
          -1.373159,
          -2.982153,
          13.140068,
          -24.395222,
          5.407068,
          2.925131,
          -1.533917,
          -1.681072,
          -0.688561,
          10.587934,
          -9.302156,
          -10.080749,
          1.289943,
          -0.599698,
          -0.689183,
          15.138142,
          -15.600651,
          -3.834363,
          -7.583013,
          -5.49696,
          -0.095024,
          -3.590032,
          12.055592,
          9.061313,
          5.239089,
          1.130109,
          -0.659871,
          1.979115,
          -1.745196,
          -15.04077,
          -20.660906,
          1.997124,
          -21.58309,
          -9.06429
         ],
         "yaxis": "y"
        },
        {
         "hovertemplate": "variable=2<br>index=%{x}<br>value=%{y}<extra></extra>",
         "legendgroup": "2",
         "line": {
          "color": "#00cc96",
          "dash": "solid"
         },
         "marker": {
          "symbol": "circle"
         },
         "mode": "lines",
         "name": "2",
         "orientation": "v",
         "showlegend": true,
         "type": "scatter",
         "x": [
          0,
          1,
          2,
          3,
          4,
          5,
          6,
          7,
          8,
          9,
          10,
          11,
          12,
          13,
          14,
          15,
          16,
          17,
          18,
          19,
          20,
          21,
          22,
          23,
          24,
          25,
          26,
          27,
          28,
          29,
          30,
          31,
          32,
          33,
          34,
          35,
          36,
          37,
          38,
          39,
          40,
          41,
          42,
          43,
          44,
          45,
          46,
          47,
          48,
          49
         ],
         "xaxis": "x",
         "y": [
          -0.145753,
          1.715016,
          1.272646,
          -5.852981,
          -6.618349,
          -5.762189,
          1.051774,
          19.523338,
          -4.241193,
          5.157976,
          1.647816,
          -6.829639,
          -11.619837,
          -23.41489,
          -5.677286,
          3.590258,
          8.294344,
          1.134447,
          6.037934,
          -24.715273,
          -4.852511,
          2.554967,
          3.267366,
          2.378404,
          -1.348702,
          -13.350161,
          3.265368,
          2.587838,
          0.40296,
          -1.870216,
          2.151858,
          -10.838529,
          -9.442748,
          -2.165632,
          -2.349172,
          1.716759,
          0.04694,
          2.462246,
          2.479609,
          -19.657104,
          -3.294082,
          0.679049,
          0.224821,
          1.145351,
          3.171524,
          11.071306,
          -7.682266,
          -6.854812,
          -20.727003,
          3.068515
         ],
         "yaxis": "y"
        },
        {
         "hovertemplate": "variable=3<br>index=%{x}<br>value=%{y}<extra></extra>",
         "legendgroup": "3",
         "line": {
          "color": "#ab63fa",
          "dash": "solid"
         },
         "marker": {
          "symbol": "circle"
         },
         "mode": "lines",
         "name": "3",
         "orientation": "v",
         "showlegend": true,
         "type": "scatter",
         "x": [
          0,
          1,
          2,
          3,
          4,
          5,
          6,
          7,
          8,
          9,
          10,
          11,
          12,
          13,
          14,
          15,
          16,
          17,
          18,
          19,
          20,
          21,
          22,
          23,
          24,
          25,
          26,
          27,
          28,
          29,
          30,
          31,
          32,
          33,
          34,
          35,
          36,
          37,
          38,
          39,
          40,
          41,
          42,
          43,
          44,
          45,
          46,
          47,
          48,
          49
         ],
         "xaxis": "x",
         "y": [
          -0.03196,
          0.383526,
          0.047941,
          1.440885,
          2.591461,
          2.00552,
          3.920484,
          -5.182923,
          3.976415,
          -1.083993,
          -4.716833,
          -5.406646,
          -3.523642,
          28.772413,
          -2.764581,
          2.524877,
          -1.731192,
          -0.791022,
          -1.235805,
          -18.96854,
          -1.946925,
          -1.065349,
          -1.502142,
          0.24503,
          1.249122,
          -3.987069,
          -2.772571,
          -0.910873,
          -0.021307,
          -0.799012,
          5.992588,
          7.723781,
          -2.050797,
          -3.952445,
          -3.949781,
          -1.209171,
          -0.050604,
          1.020072,
          -0.767051,
          34.86621,
          1.115953,
          -0.807002,
          -1.163894,
          -1.368974,
          1.270429,
          0.577952,
          2.631412,
          1.885668,
          -5.475894,
          -0.897557
         ],
         "yaxis": "y"
        },
        {
         "hovertemplate": "variable=4<br>index=%{x}<br>value=%{y}<extra></extra>",
         "legendgroup": "4",
         "line": {
          "color": "#FFA15A",
          "dash": "solid"
         },
         "marker": {
          "symbol": "circle"
         },
         "mode": "lines",
         "name": "4",
         "orientation": "v",
         "showlegend": true,
         "type": "scatter",
         "x": [
          0,
          1,
          2,
          3,
          4,
          5,
          6,
          7,
          8,
          9,
          10,
          11,
          12,
          13,
          14,
          15,
          16,
          17,
          18,
          19,
          20,
          21,
          22,
          23,
          24,
          25,
          26,
          27,
          28,
          29,
          30,
          31,
          32,
          33,
          34,
          35,
          36,
          37,
          38,
          39,
          40,
          41,
          42,
          43,
          44,
          45,
          46,
          47,
          48,
          49
         ],
         "xaxis": "x",
         "y": [
          0.167792,
          0.22905,
          -0.386189,
          -0.290308,
          -1.651291,
          -1.416914,
          -0.982784,
          -9.862469,
          -1.094646,
          -2.082757,
          4.373258,
          7.02065,
          -0.346238,
          -18.467825,
          2.104064,
          -2.663373,
          -0.226387,
          0.857606,
          -11.369937,
          1.651291,
          1.701895,
          -0.761725,
          0.545991,
          2.423669,
          3.907167,
          2.207936,
          -4.293356,
          -0.868259,
          -0.498051,
          -0.351565,
          -1.608677,
          -1.227815,
          1.592697,
          -0.543328,
          -0.098545,
          -0.364882,
          2.199946,
          1.869688,
          6.850194,
          -12.877406,
          -0.351565,
          -0.559308,
          0.021307,
          0.673833,
          0.495387,
          4.05898,
          5.076388,
          0.378199,
          6.533253,
          -2.285174
         ],
         "yaxis": "y"
        },
        {
         "hovertemplate": "variable=5<br>index=%{x}<br>value=%{y}<extra></extra>",
         "legendgroup": "5",
         "line": {
          "color": "#19d3f3",
          "dash": "solid"
         },
         "marker": {
          "symbol": "circle"
         },
         "mode": "lines",
         "name": "5",
         "orientation": "v",
         "showlegend": true,
         "type": "scatter",
         "x": [
          0,
          1,
          2,
          3,
          4,
          5,
          6,
          7,
          8,
          9,
          10,
          11,
          12,
          13,
          14,
          15,
          16,
          17,
          18,
          19,
          20,
          21,
          22,
          23,
          24,
          25,
          26,
          27,
          28,
          29,
          30,
          31,
          32,
          33,
          34,
          35,
          36,
          37,
          38,
          39,
          40,
          41,
          42,
          43,
          44,
          45,
          46,
          47,
          48,
          49
         ],
         "xaxis": "x",
         "y": [
          -0.362219,
          -0.239704,
          1.890995,
          2.791215,
          3.728722,
          2.801868,
          3.206701,
          -18.07631,
          3.611533,
          0.444783,
          -1.691242,
          4.189485,
          -3.291929,
          -16.254562,
          0.242367,
          0.807002,
          -0.412823,
          -0.945497,
          -6.543906,
          -16.851158,
          4.05099,
          0.447447,
          -0.090555,
          0.926854,
          3.302582,
          -12.326088,
          -1.337013,
          0.476744,
          0.785695,
          0.87625,
          1.390281,
          1.843054,
          0.844289,
          1.672598,
          0.061258,
          -0.037287,
          0.825646,
          1.941599,
          -0.721774,
          -1.451538,
          0.89223,
          -2.303817,
          -1.672598,
          -2.032153,
          -0.399506,
          -0.580615,
          3.952445,
          4.181495,
          -20.43073,
          -4.237426
         ],
         "yaxis": "y"
        }
       ],
       "layout": {
        "legend": {
         "title": {
          "text": "variable"
         },
         "tracegroupgap": 0
        },
        "margin": {
         "t": 60
        },
        "template": {
         "data": {
          "bar": [
           {
            "error_x": {
             "color": "#2a3f5f"
            },
            "error_y": {
             "color": "#2a3f5f"
            },
            "marker": {
             "line": {
              "color": "#E5ECF6",
              "width": 0.5
             },
             "pattern": {
              "fillmode": "overlay",
              "size": 10,
              "solidity": 0.2
             }
            },
            "type": "bar"
           }
          ],
          "barpolar": [
           {
            "marker": {
             "line": {
              "color": "#E5ECF6",
              "width": 0.5
             },
             "pattern": {
              "fillmode": "overlay",
              "size": 10,
              "solidity": 0.2
             }
            },
            "type": "barpolar"
           }
          ],
          "carpet": [
           {
            "aaxis": {
             "endlinecolor": "#2a3f5f",
             "gridcolor": "white",
             "linecolor": "white",
             "minorgridcolor": "white",
             "startlinecolor": "#2a3f5f"
            },
            "baxis": {
             "endlinecolor": "#2a3f5f",
             "gridcolor": "white",
             "linecolor": "white",
             "minorgridcolor": "white",
             "startlinecolor": "#2a3f5f"
            },
            "type": "carpet"
           }
          ],
          "choropleth": [
           {
            "colorbar": {
             "outlinewidth": 0,
             "ticks": ""
            },
            "type": "choropleth"
           }
          ],
          "contour": [
           {
            "colorbar": {
             "outlinewidth": 0,
             "ticks": ""
            },
            "colorscale": [
             [
              0,
              "#0d0887"
             ],
             [
              0.1111111111111111,
              "#46039f"
             ],
             [
              0.2222222222222222,
              "#7201a8"
             ],
             [
              0.3333333333333333,
              "#9c179e"
             ],
             [
              0.4444444444444444,
              "#bd3786"
             ],
             [
              0.5555555555555556,
              "#d8576b"
             ],
             [
              0.6666666666666666,
              "#ed7953"
             ],
             [
              0.7777777777777778,
              "#fb9f3a"
             ],
             [
              0.8888888888888888,
              "#fdca26"
             ],
             [
              1,
              "#f0f921"
             ]
            ],
            "type": "contour"
           }
          ],
          "contourcarpet": [
           {
            "colorbar": {
             "outlinewidth": 0,
             "ticks": ""
            },
            "type": "contourcarpet"
           }
          ],
          "heatmap": [
           {
            "colorbar": {
             "outlinewidth": 0,
             "ticks": ""
            },
            "colorscale": [
             [
              0,
              "#0d0887"
             ],
             [
              0.1111111111111111,
              "#46039f"
             ],
             [
              0.2222222222222222,
              "#7201a8"
             ],
             [
              0.3333333333333333,
              "#9c179e"
             ],
             [
              0.4444444444444444,
              "#bd3786"
             ],
             [
              0.5555555555555556,
              "#d8576b"
             ],
             [
              0.6666666666666666,
              "#ed7953"
             ],
             [
              0.7777777777777778,
              "#fb9f3a"
             ],
             [
              0.8888888888888888,
              "#fdca26"
             ],
             [
              1,
              "#f0f921"
             ]
            ],
            "type": "heatmap"
           }
          ],
          "heatmapgl": [
           {
            "colorbar": {
             "outlinewidth": 0,
             "ticks": ""
            },
            "colorscale": [
             [
              0,
              "#0d0887"
             ],
             [
              0.1111111111111111,
              "#46039f"
             ],
             [
              0.2222222222222222,
              "#7201a8"
             ],
             [
              0.3333333333333333,
              "#9c179e"
             ],
             [
              0.4444444444444444,
              "#bd3786"
             ],
             [
              0.5555555555555556,
              "#d8576b"
             ],
             [
              0.6666666666666666,
              "#ed7953"
             ],
             [
              0.7777777777777778,
              "#fb9f3a"
             ],
             [
              0.8888888888888888,
              "#fdca26"
             ],
             [
              1,
              "#f0f921"
             ]
            ],
            "type": "heatmapgl"
           }
          ],
          "histogram": [
           {
            "marker": {
             "pattern": {
              "fillmode": "overlay",
              "size": 10,
              "solidity": 0.2
             }
            },
            "type": "histogram"
           }
          ],
          "histogram2d": [
           {
            "colorbar": {
             "outlinewidth": 0,
             "ticks": ""
            },
            "colorscale": [
             [
              0,
              "#0d0887"
             ],
             [
              0.1111111111111111,
              "#46039f"
             ],
             [
              0.2222222222222222,
              "#7201a8"
             ],
             [
              0.3333333333333333,
              "#9c179e"
             ],
             [
              0.4444444444444444,
              "#bd3786"
             ],
             [
              0.5555555555555556,
              "#d8576b"
             ],
             [
              0.6666666666666666,
              "#ed7953"
             ],
             [
              0.7777777777777778,
              "#fb9f3a"
             ],
             [
              0.8888888888888888,
              "#fdca26"
             ],
             [
              1,
              "#f0f921"
             ]
            ],
            "type": "histogram2d"
           }
          ],
          "histogram2dcontour": [
           {
            "colorbar": {
             "outlinewidth": 0,
             "ticks": ""
            },
            "colorscale": [
             [
              0,
              "#0d0887"
             ],
             [
              0.1111111111111111,
              "#46039f"
             ],
             [
              0.2222222222222222,
              "#7201a8"
             ],
             [
              0.3333333333333333,
              "#9c179e"
             ],
             [
              0.4444444444444444,
              "#bd3786"
             ],
             [
              0.5555555555555556,
              "#d8576b"
             ],
             [
              0.6666666666666666,
              "#ed7953"
             ],
             [
              0.7777777777777778,
              "#fb9f3a"
             ],
             [
              0.8888888888888888,
              "#fdca26"
             ],
             [
              1,
              "#f0f921"
             ]
            ],
            "type": "histogram2dcontour"
           }
          ],
          "mesh3d": [
           {
            "colorbar": {
             "outlinewidth": 0,
             "ticks": ""
            },
            "type": "mesh3d"
           }
          ],
          "parcoords": [
           {
            "line": {
             "colorbar": {
              "outlinewidth": 0,
              "ticks": ""
             }
            },
            "type": "parcoords"
           }
          ],
          "pie": [
           {
            "automargin": true,
            "type": "pie"
           }
          ],
          "scatter": [
           {
            "fillpattern": {
             "fillmode": "overlay",
             "size": 10,
             "solidity": 0.2
            },
            "type": "scatter"
           }
          ],
          "scatter3d": [
           {
            "line": {
             "colorbar": {
              "outlinewidth": 0,
              "ticks": ""
             }
            },
            "marker": {
             "colorbar": {
              "outlinewidth": 0,
              "ticks": ""
             }
            },
            "type": "scatter3d"
           }
          ],
          "scattercarpet": [
           {
            "marker": {
             "colorbar": {
              "outlinewidth": 0,
              "ticks": ""
             }
            },
            "type": "scattercarpet"
           }
          ],
          "scattergeo": [
           {
            "marker": {
             "colorbar": {
              "outlinewidth": 0,
              "ticks": ""
             }
            },
            "type": "scattergeo"
           }
          ],
          "scattergl": [
           {
            "marker": {
             "colorbar": {
              "outlinewidth": 0,
              "ticks": ""
             }
            },
            "type": "scattergl"
           }
          ],
          "scattermapbox": [
           {
            "marker": {
             "colorbar": {
              "outlinewidth": 0,
              "ticks": ""
             }
            },
            "type": "scattermapbox"
           }
          ],
          "scatterpolar": [
           {
            "marker": {
             "colorbar": {
              "outlinewidth": 0,
              "ticks": ""
             }
            },
            "type": "scatterpolar"
           }
          ],
          "scatterpolargl": [
           {
            "marker": {
             "colorbar": {
              "outlinewidth": 0,
              "ticks": ""
             }
            },
            "type": "scatterpolargl"
           }
          ],
          "scatterternary": [
           {
            "marker": {
             "colorbar": {
              "outlinewidth": 0,
              "ticks": ""
             }
            },
            "type": "scatterternary"
           }
          ],
          "surface": [
           {
            "colorbar": {
             "outlinewidth": 0,
             "ticks": ""
            },
            "colorscale": [
             [
              0,
              "#0d0887"
             ],
             [
              0.1111111111111111,
              "#46039f"
             ],
             [
              0.2222222222222222,
              "#7201a8"
             ],
             [
              0.3333333333333333,
              "#9c179e"
             ],
             [
              0.4444444444444444,
              "#bd3786"
             ],
             [
              0.5555555555555556,
              "#d8576b"
             ],
             [
              0.6666666666666666,
              "#ed7953"
             ],
             [
              0.7777777777777778,
              "#fb9f3a"
             ],
             [
              0.8888888888888888,
              "#fdca26"
             ],
             [
              1,
              "#f0f921"
             ]
            ],
            "type": "surface"
           }
          ],
          "table": [
           {
            "cells": {
             "fill": {
              "color": "#EBF0F8"
             },
             "line": {
              "color": "white"
             }
            },
            "header": {
             "fill": {
              "color": "#C8D4E3"
             },
             "line": {
              "color": "white"
             }
            },
            "type": "table"
           }
          ]
         },
         "layout": {
          "annotationdefaults": {
           "arrowcolor": "#2a3f5f",
           "arrowhead": 0,
           "arrowwidth": 1
          },
          "autotypenumbers": "strict",
          "coloraxis": {
           "colorbar": {
            "outlinewidth": 0,
            "ticks": ""
           }
          },
          "colorscale": {
           "diverging": [
            [
             0,
             "#8e0152"
            ],
            [
             0.1,
             "#c51b7d"
            ],
            [
             0.2,
             "#de77ae"
            ],
            [
             0.3,
             "#f1b6da"
            ],
            [
             0.4,
             "#fde0ef"
            ],
            [
             0.5,
             "#f7f7f7"
            ],
            [
             0.6,
             "#e6f5d0"
            ],
            [
             0.7,
             "#b8e186"
            ],
            [
             0.8,
             "#7fbc41"
            ],
            [
             0.9,
             "#4d9221"
            ],
            [
             1,
             "#276419"
            ]
           ],
           "sequential": [
            [
             0,
             "#0d0887"
            ],
            [
             0.1111111111111111,
             "#46039f"
            ],
            [
             0.2222222222222222,
             "#7201a8"
            ],
            [
             0.3333333333333333,
             "#9c179e"
            ],
            [
             0.4444444444444444,
             "#bd3786"
            ],
            [
             0.5555555555555556,
             "#d8576b"
            ],
            [
             0.6666666666666666,
             "#ed7953"
            ],
            [
             0.7777777777777778,
             "#fb9f3a"
            ],
            [
             0.8888888888888888,
             "#fdca26"
            ],
            [
             1,
             "#f0f921"
            ]
           ],
           "sequentialminus": [
            [
             0,
             "#0d0887"
            ],
            [
             0.1111111111111111,
             "#46039f"
            ],
            [
             0.2222222222222222,
             "#7201a8"
            ],
            [
             0.3333333333333333,
             "#9c179e"
            ],
            [
             0.4444444444444444,
             "#bd3786"
            ],
            [
             0.5555555555555556,
             "#d8576b"
            ],
            [
             0.6666666666666666,
             "#ed7953"
            ],
            [
             0.7777777777777778,
             "#fb9f3a"
            ],
            [
             0.8888888888888888,
             "#fdca26"
            ],
            [
             1,
             "#f0f921"
            ]
           ]
          },
          "colorway": [
           "#636efa",
           "#EF553B",
           "#00cc96",
           "#ab63fa",
           "#FFA15A",
           "#19d3f3",
           "#FF6692",
           "#B6E880",
           "#FF97FF",
           "#FECB52"
          ],
          "font": {
           "color": "#2a3f5f"
          },
          "geo": {
           "bgcolor": "white",
           "lakecolor": "white",
           "landcolor": "#E5ECF6",
           "showlakes": true,
           "showland": true,
           "subunitcolor": "white"
          },
          "hoverlabel": {
           "align": "left"
          },
          "hovermode": "closest",
          "mapbox": {
           "style": "light"
          },
          "paper_bgcolor": "white",
          "plot_bgcolor": "#E5ECF6",
          "polar": {
           "angularaxis": {
            "gridcolor": "white",
            "linecolor": "white",
            "ticks": ""
           },
           "bgcolor": "#E5ECF6",
           "radialaxis": {
            "gridcolor": "white",
            "linecolor": "white",
            "ticks": ""
           }
          },
          "scene": {
           "xaxis": {
            "backgroundcolor": "#E5ECF6",
            "gridcolor": "white",
            "gridwidth": 2,
            "linecolor": "white",
            "showbackground": true,
            "ticks": "",
            "zerolinecolor": "white"
           },
           "yaxis": {
            "backgroundcolor": "#E5ECF6",
            "gridcolor": "white",
            "gridwidth": 2,
            "linecolor": "white",
            "showbackground": true,
            "ticks": "",
            "zerolinecolor": "white"
           },
           "zaxis": {
            "backgroundcolor": "#E5ECF6",
            "gridcolor": "white",
            "gridwidth": 2,
            "linecolor": "white",
            "showbackground": true,
            "ticks": "",
            "zerolinecolor": "white"
           }
          },
          "shapedefaults": {
           "line": {
            "color": "#2a3f5f"
           }
          },
          "ternary": {
           "aaxis": {
            "gridcolor": "white",
            "linecolor": "white",
            "ticks": ""
           },
           "baxis": {
            "gridcolor": "white",
            "linecolor": "white",
            "ticks": ""
           },
           "bgcolor": "#E5ECF6",
           "caxis": {
            "gridcolor": "white",
            "linecolor": "white",
            "ticks": ""
           }
          },
          "title": {
           "x": 0.05
          },
          "xaxis": {
           "automargin": true,
           "gridcolor": "white",
           "linecolor": "white",
           "ticks": "",
           "title": {
            "standoff": 15
           },
           "zerolinecolor": "white",
           "zerolinewidth": 2
          },
          "yaxis": {
           "automargin": true,
           "gridcolor": "white",
           "linecolor": "white",
           "ticks": "",
           "title": {
            "standoff": 15
           },
           "zerolinecolor": "white",
           "zerolinewidth": 2
          }
         }
        },
        "xaxis": {
         "anchor": "y",
         "domain": [
          0,
          1
         ],
         "title": {
          "text": "index"
         }
        },
        "yaxis": {
         "anchor": "x",
         "domain": [
          0,
          1
         ],
         "title": {
          "text": "value"
         }
        }
       }
      }
     },
     "metadata": {},
     "output_type": "display_data"
    }
   ],
   "source": [
    "X_train, y_train, X_test, y_test = UCR_UEA_datasets().load_dataset(\"BasicMotions\")\n",
    "import plotly.express as px\n",
    "print(X_train.shape)\n",
    "idx = 30\n",
    "fig = px.line(X_train[idx])\n",
    "fig.show()\n",
    "new_X = X_train[:,::2,:]\n",
    "print(new_X.shape)\n",
    "fig = px.line(new_X[idx])\n",
    "fig.show()"
   ]
  }
 ],
 "metadata": {
  "kernelspec": {
   "display_name": "Python 3",
   "language": "python",
   "name": "python3"
  },
  "language_info": {
   "codemirror_mode": {
    "name": "ipython",
    "version": 3
   },
   "file_extension": ".py",
   "mimetype": "text/x-python",
   "name": "python",
   "nbconvert_exporter": "python",
   "pygments_lexer": "ipython3",
   "version": "3.11.7"
  }
 },
 "nbformat": 4,
 "nbformat_minor": 2
}
