{
 "cells": [
  {
   "cell_type": "code",
   "execution_count": 2,
   "metadata": {},
   "outputs": [],
   "source": [
    "import time\n",
    "import numpy as np\n",
    "from numba import njit\n",
    "from typing import Callable, List, Any, Optional\n",
    "import sigkernel\n",
    "\n",
    "import numpy as np\n",
    "import pandas as pd\n",
    "import sklearn.metrics\n",
    "from typing import List, Optional, Dict, Set, Callable, Any\n",
    "from joblib import Memory, Parallel, delayed\n",
    "import tslearn\n",
    "import tslearn.metrics\n",
    "from tslearn.datasets import UCR_UEA_datasets\n",
    "from scipy.interpolate import interp1d\n",
    "from numba import njit\n",
    "import numba as nb\n",
    "import pickle\n",
    "\n",
    "from experiments.experiment_code import print_dataset_stats, run_all_kernels\n",
    "\n",
    "from models.kernels import linear_kernel_gram, pairwise_kernel_gram\n",
    "\n"
   ]
  },
  {
   "cell_type": "code",
   "execution_count": null,
   "metadata": {},
   "outputs": [],
   "source": [
    "\n",
    "\n",
    "def case_sig_pde(train:List[np.ndarray], \n",
    "                 test:List[np.ndarray], \n",
    "                 dyadic_order:int = 5,\n",
    "                 static_kernel = sigkernel.LinearKernel(),\n",
    "                 n_jobs:int = 1,\n",
    "                 verbose:bool = False,\n",
    "                ):\n",
    "    \"\"\"Calculates the signature kernel gram matrices of the train and test.\n",
    "    Train and test are lists of possibly variable length multidimension \n",
    "    time series of shape (T_i, d)\"\"\"\n",
    "    sig_kernel = sigkernel.SigKernel(static_kernel, dyadic_order)\n",
    "    kernel = lambda s1, s2 : sig_kernel.compute_kernel(\n",
    "                                stream_to_torch(s1), \n",
    "                                stream_to_torch(s2)).numpy()[0]\n",
    "    vv_gram = pairwise_kernel_gram(train, train, kernel, sym=True, n_jobs=n_jobs, verbose=verbose)\n",
    "    uv_gram = pairwise_kernel_gram(test, train, kernel, sym=False, n_jobs=n_jobs, verbose=verbose)\n",
    "    return vv_gram, uv_gram\n",
    "\n",
    "\n",
    "def calc_sigpde_kernel(X,Y):\n",
    "    dyadic_order = 3\n",
    "    T, d = X.shape\n",
    "    static_kernel = sigkernel.LinearKernel(scale=1) #TODO change here\n",
    "    vv, uv = case_sig_pde([X], [Y], dyadic_order, static_kernel)\n",
    "    return uv[0,0]\n",
    "\n",
    "\n",
    "# def calc_ksig_kernel(X,Y, order):\n",
    "#     import ksig\n",
    "#     static_kernel = ksig.static.kernels.LinearKernel() \n",
    "#     sig_kernel = ksig.kernels.SignatureKernel(n_levels=order, order=1, static_kernel=static_kernel, normalize=False)\n",
    "#     dot = sig_kernel(np.array([X,X]), np.array([Y,Y]))[0,0]\n",
    "#     return dot\n",
    "\n",
    "\n",
    "def trunc_sig_kernel(s1:np.ndarray, \n",
    "                    s2:np.ndarray, \n",
    "                    order:int, #order is truncation level of the signature\n",
    "                    static_kernel_gram:Callable,\n",
    "                    only_last:bool = True,\n",
    "\n",
    "                    ):\n",
    "    \"\"\"s1 and s2 are time series of shape (T_i, d)\"\"\"\n",
    "    T,d = s1.shape\n",
    "    K = static_kernel_gram(s1, s2)\n",
    "    nabla = K[1:, 1:] + K[:-1, :-1] - K[1:, :-1] - K[:-1, 1:]\n",
    "    sig_kers = jitted_trunc_sig_kernel(nabla, order)\n",
    "    if only_last:\n",
    "        return sig_kers[-1]\n",
    "    else:\n",
    "        return sig_kers\n",
    "\n",
    "\n",
    "\n",
    "@njit(fastmath=True, cache=True)\n",
    "def reverse_cumsum(arr:np.ndarray, axis:int): #ndim=2\n",
    "    \"\"\"JITed reverse cumulative sum along the specified axis.\n",
    "    (np.cumsum with axis is not natively supported by Numba)\"\"\"\n",
    "    A = arr.copy()\n",
    "    if axis==0:\n",
    "        for i in np.arange(A.shape[0]-2, -1, -1):\n",
    "            A[i, :] += A[i+1, :]\n",
    "    else: #axis==1\n",
    "        for i in np.arange(A.shape[1]-2, -1, -1):\n",
    "            A[:,i] += A[:,i+1]\n",
    "    return A\n",
    "\n",
    "\n",
    "@njit(fastmath=True, cache=True)\n",
    "def jitted_trunc_sig_kernel(nabla:np.ndarray, # gram matrix (T_1, T_2)\n",
    "                            order:int,\n",
    "                            ):\n",
    "    \"\"\"Given difference matrix nabla_ij = K[i+1, j+1] + K[i, j] - K[i+1, j] - K[i, j+1],\n",
    "    computes the truncated signature kernel of all orders up to 'order'.\"\"\"\n",
    "    B = np.ones((order+1, order+1, order+1, *nabla.shape))\n",
    "    for d in np.arange(order):\n",
    "        for n in np.arange(order-d):\n",
    "            for m in np.arange(order-d):\n",
    "                B[d+1,n,m] = 1 + nabla/(n+1)/(m+1)*B[d, n+1, m+1]\n",
    "                r1 = reverse_cumsum(nabla * B[d, n+1, 1] / (n+1), axis=0)\n",
    "                B[d+1,n,m, :-1, :] += r1[1:, :]\n",
    "                r2 = reverse_cumsum(nabla * B[d, 1, m+1] / (m+1), axis=1)\n",
    "                B[d+1,n,m, :, :-1] += r2[:, 1:]\n",
    "                rr = reverse_cumsum(nabla * B[d, 1, 1], axis=0)\n",
    "                rr = reverse_cumsum(rr, axis=1)\n",
    "                B[d+1,n,m, :-1, :-1] += rr[1:, 1:]\n",
    "\n",
    "    return B[:,0,0,0,0]\n",
    "\n",
    "\n",
    "@njit((nb.float64, nb.int64), fastmath=True, cache=True)\n",
    "def bessel_2sqrt(z:float,\n",
    "                level:int = 10, #truncation level\n",
    "           ):\n",
    "    \"\"\"Computes I_0( 2sqrt(z) ) where I_0 is the Bessel function of the \n",
    "    first kind, via its power series expansion truncated at 'level'.\"\"\"\n",
    "\n",
    "    out = 1\n",
    "    for i in np.arange(level, 0, -1):\n",
    "        out = 1 + z/i**2 * out\n",
    "    return out\n",
    "    \n",
    "\n",
    "def ksig_infty(x:np.ndarray, \n",
    "            y:np.ndarray, \n",
    "            order:int, #order is truncation level of the signature\n",
    "            static_kernel_gram:Callable,\n",
    "            ):\n",
    "    # print(\"x\", x.shape)\n",
    "    # print(\"y\", y.shape)\n",
    "    xdiff = np.diff(x, axis=0)\n",
    "    ydiff = np.diff(y, axis=0)\n",
    "    # print(\"xdiff\", xdiff.shape)\n",
    "    # print(\"ydiff\", ydiff.shape)\n",
    "\n",
    "    derivatives = static_kernel_gram(xdiff, ydiff)\n",
    "    d = derivatives\n",
    "    print(\"d\", d)\n",
    "    # print(\"derivatives\", derivatives.shape)\n",
    "    # return bessel_2sqrt(np.sum(derivatives), level=order)\n",
    "    #TODO CHANGE HERE\n",
    "    s = d[1,1] +d[0,0] + d[0,1] + d[1,0]\n",
    "    return bessel_2sqrt(s, level=order)\n",
    "\n",
    "\n",
    "d = 2\n",
    "MAX_ORDER = 15\n",
    "times_iisig = np.zeros( (MAX_ORDER) )\n",
    "times_sigker  = np.zeros( (MAX_ORDER) )\n",
    "times_sigpde = np.zeros( (MAX_ORDER) )\n",
    "times_siginfty = np.zeros( (MAX_ORDER) )\n",
    "np.random.seed(99)\n",
    "T1 = 3\n",
    "T2 = 3\n",
    "X = np.random.randn(T1, d) / d\n",
    "Y = np.random.randn(T2, d) / d\n",
    "print(\"X\", X.shape)\n",
    "print(\"Y\", Y.shape)\n",
    "\n",
    "static_kernel = lambda X, Y : linear_kernel_gram(X, Y, custom_factor=1.0)\n",
    "\n",
    "for order in range(1, MAX_ORDER+1):\n",
    "    print(\"\\norder\", order)\n",
    "    t0= time.perf_counter()\n",
    "    dot1=calc_iisig_kernel(X, Y, order)\n",
    "    t1 = time.perf_counter()\n",
    "    dot2=trunc_sig_kernel(X, Y, order, static_kernel_gram=static_kernel, only_last=True)\n",
    "    t2 = time.perf_counter()\n",
    "    #dot3=calc_sigpde_kernel(X, Y)\n",
    "    t3 = time.perf_counter()\n",
    "    dot4=ksig_infty(X, Y, order, static_kernel_gram=static_kernel)\n",
    "    t4 = time.perf_counter()\n",
    "    times_iisig[order-1] = t1-t0\n",
    "    times_sigker[order-1] = t2-t1\n",
    "    times_sigpde[order-1] = t3-t2\n",
    "    times_siginfty[order-1] = t4-t3\n",
    "    print(\"iisig\\t\\t\", dot1)\n",
    "    print(\"trunc\\t\\t\", dot2)\n",
    "    print(\"ksig_infty\\t\", dot4)\n",
    "    #print(\"dot3\", dot3)\n",
    "\n",
    "\n",
    "\n",
    "\n",
    "print(\"\\ncomparison\", times_iisig[1:]/times_sigker[1:])\n",
    "print(\"\\niisig\", times_iisig[1:])\n",
    "print(\"\\nsigker\", times_sigker[1:])\n",
    "print(\"\\npde\", times_sigpde[1:])"
   ]
  },
  {
   "cell_type": "code",
   "execution_count": 24,
   "metadata": {},
   "outputs": [
    {
     "name": "stdout",
     "output_type": "stream",
     "text": [
      "test -0.4205683666156428\n"
     ]
    }
   ],
   "source": [
    "d = np.array([[ 0.48835662, -0.56098211],\n",
    "              [ 1.21184376, -1.06183991]])\n",
    "\n",
    "level=10\n",
    "b00 = bessel_2sqrt(d[0,0], level)\n",
    "b10 = bessel_2sqrt(d[1,0], level)\n",
    "b01 = bessel_2sqrt(d[0,1], level)\n",
    "bmid1 = bessel_2sqrt(d[0,0] + d[0,1] + d[1,1], level)\n",
    "bmid2 = bessel_2sqrt(d[0,0] + d[1,0] + d[1,1], level)\n",
    "b11 = bessel_2sqrt(d[1,1], level)\n",
    "print(\"test\", -b00+b10+b01+bmid1+bmid2)"
   ]
  },
  {
   "cell_type": "code",
   "execution_count": 75,
   "metadata": {},
   "outputs": [
    {
     "name": "stdout",
     "output_type": "stream",
     "text": [
      "m00 1.5513156265384986\n",
      "m10 3.574933058791967\n",
      "m01 0.928682533042025\n",
      "test 4.625996003011747\n"
     ]
    }
   ],
   "source": [
    "m00 = bessel_2sqrt(d[0,0], level=10)\n",
    "m10 = bessel_2sqrt(d[0,0]+d[1,0], level=10)\n",
    "m01 = bessel_2sqrt(d[0,0]+d[0,1], level=10)\n",
    "print(\"m00\", m00)\n",
    "print(\"m10\", m10)\n",
    "print(\"m01\", m01)\n",
    "\n",
    "test = m10 + m01 -m00 + bessel_2sqrt(d, level=10)\n",
    "print(\"test\", test)\n",
    "\n",
    "target = 1.1527223047952517\n"
   ]
  },
  {
   "cell_type": "code",
   "execution_count": 11,
   "metadata": {},
   "outputs": [
    {
     "data": {
      "text/plain": [
       "4.2523508795013205"
      ]
     },
     "execution_count": 11,
     "metadata": {},
     "output_type": "execute_result"
    }
   ],
   "source": [
    "bessel_2sqrt(2, level=10)"
   ]
  },
  {
   "cell_type": "code",
   "execution_count": null,
   "metadata": {},
   "outputs": [],
   "source": [
    "d=9\n",
    "factor = d**(1/2) * 45**(1/8)\n",
    "X, Y = np.random.randn(2, 45, d) / factor\n",
    "median = np.median(X, axis=0)\n",
    "print(\"median\", median)"
   ]
  },
  {
   "cell_type": "code",
   "execution_count": null,
   "metadata": {},
   "outputs": [],
   "source": [
    "#IDEA: truncated sig --- calculate total variation and base scale on that.   TODO TODO TODO TODO"
   ]
  },
  {
   "cell_type": "markdown",
   "metadata": {},
   "source": [
    "# Test variability of sig between datasets"
   ]
  },
  {
   "cell_type": "markdown",
   "metadata": {},
   "source": [
    "$  \\|x\\|_{TV} = \\sum_{i=1}^L \\|x_{i}- x_{i-1}\\|_{R^d} $\n",
    "\n",
    "$ \\|y\\|_{R^d} = \\sqrt{\\sum_{k=1}^d y_k^2} $"
   ]
  },
  {
   "cell_type": "code",
   "execution_count": 4,
   "metadata": {},
   "outputs": [
    {
     "name": "stdout",
     "output_type": "stream",
     "text": [
      "Epilepsy\n",
      "corpus (137, 69, 4)\n",
      "(5, 8, 20)\n",
      "abs [ 1.24795981  3.85441639  3.71271052 24.22693276 24.51108379]\n",
      "\n",
      "\n"
     ]
    }
   ],
   "source": [
    "from experiments.experiment_code import normalize_streams, calc_grams\n",
    "\n",
    "\n",
    "\n",
    "# def do_trunc_sig_gram(train, test, factor:float = 1.0):\n",
    "#     ORDER = 10\n",
    "#     ker = lambda X, Y: linear_kernel_gram(X, Y, param_dict[\"sigma\"], custom_factor=factor) #TODO assumes fixed length\n",
    "#     return case_truncated_sig(train, test, ORDER, \n",
    "#                                 linear_kernel_gram, sig_kernel_only_last, \n",
    "#                                 n_jobs, verbose)\n",
    "\n",
    "\n",
    "\n",
    "def total_variation(X:np.ndarray, \n",
    "                    channelwise:bool = False,\n",
    "                    mean:bool = True,\n",
    "                    ):\n",
    "    \"\"\"Calculates the total variation of time series.\n",
    "    X has shape (..., T, d)\"\"\"\n",
    "    #Total Variation\n",
    "    diffs = np.diff(X, axis=-2)\n",
    "    if channelwise:\n",
    "        TV = np.abs(diffs).sum(axis=-2) #shape (..., d)\n",
    "    else:\n",
    "        TV = np.linalg.norm(diffs, axis=-1).sum(axis=-1) #shape (...,)\n",
    "    \n",
    "    # Average\n",
    "    if mean:\n",
    "        ndim = TV.ndim - int(channelwise)\n",
    "        if ndim > 0:\n",
    "            TV = np.mean(TV, axis=tuple(range(ndim)))\n",
    "\n",
    "    return TV\n",
    "\n",
    "\n",
    "def mean_distance_between_times(X:np.ndarray, \n",
    "                                n_samples_N:int = 100,\n",
    "                                n_samples_T:int = 100):\n",
    "    \"\"\" X shape (N, T, d)\"\"\"\n",
    "\n",
    "    #Sample at timesteps and instances\n",
    "    N, T, d = X.shape\n",
    "    n_samples_N = min(n_samples_N, N)\n",
    "    n_samples_T = min(n_samples_T, T)\n",
    "    choice_N = np.random.choice(N, size=n_samples_N, replace=False)\n",
    "    choice_T = np.random.choice(T, size=n_samples_T, replace=False)\n",
    "    X = X[choice_N][:, choice_T] #shape (n_samples_N, n_samples_T, d)\n",
    "\n",
    "    # #out: (N, T, T))\n",
    "    # new = X.transpose(1, 0, 2)\n",
    "    # xx = linear_kernel_gram(new, new, diag=True, divide_by_dims=False)\n",
    "    # xy = linear_kernel_gram(new, new, diag=False, divide_by_dims=False)\n",
    "    # norms_squared = -2*xy + xx[:, np.newaxis] + xx[np.newaxis, :]\n",
    "    # return np.mean(np.sqrt(norms_squared))\n",
    "\n",
    "    #out: (N, T, T)) TAKE MAXIMUM ALONG T's\n",
    "    new = X.transpose(1, 0, 2)\n",
    "    xx = linear_kernel_gram(new, new, diag=True, divide_by_dims=False)\n",
    "    xy = linear_kernel_gram(new, new, diag=False, divide_by_dims=False)\n",
    "    norms_squared = -2*xy + xx[:, np.newaxis] + xx[np.newaxis, :]\n",
    "    max_distances = np.max(np.sqrt(norms_squared), axis=(-1,-2))\n",
    "    return np.mean(max_distances)\n",
    "\n",
    "\n",
    "\n",
    "def test_variability(dataset_name:str):\n",
    "    X_train, y_train, X_test, y_test = UCR_UEA_datasets().load_dataset(dataset_name)\n",
    "    print(dataset_name)\n",
    "    unique_labels = np.unique(y_train)\n",
    "    num_classes = len(unique_labels)\n",
    "    N_train, T, d = X_train.shape\n",
    "\n",
    "    corpus, test = normalize_streams(X_train, X_test)\n",
    "    print(\"corpus\", corpus.shape)\n",
    "    s = tslearn.metrics.sigma_gak(dataset=corpus,\n",
    "          n_samples=100,\n",
    "          random_state=0)\n",
    " \n",
    "    ### calculate the kernel\n",
    "    choice = np.random.choice(N_train, size=20)\n",
    "    choice_test = np.random.choice(len(X_test), size=8)\n",
    "    TRAIN = np.array([corpus[i] for i in choice])\n",
    "    TEST = np.array([test[i] for i in choice_test])\n",
    "    # param_dict = {\"kernel_name\": \"gak\",\n",
    "    #                 \"gak_factor\" : 1}\n",
    "    param_dict = {\"kernel_name\": \"truncated sig\",\n",
    "                    \"order\" : 5}\n",
    "    # param_dict = {\"kernel_name\": \"signature pde\",\n",
    "    #                 \"dyadic_order\" : 3}\n",
    "    vv, uv = calc_grams(TRAIN, TEST, param_dict, sig_kernel_only_last=False, n_jobs=4, verbose=False)\n",
    "    print(uv.shape)\n",
    "    abs = np.mean(np.abs(uv), axis=(-1,-2))\n",
    "    print(\"abs\", abs)\n",
    "    print(\"\\n\")\n",
    "    pass\n",
    "\n",
    "\n",
    "\n",
    "for dataset_name in [\n",
    "        #'ArticularyWordRecognition', \n",
    "        #'BasicMotions',                #skip for now, instabilities for sig linear\n",
    "        'Epilepsy',\n",
    "        #'Libras',\n",
    "        #'NATOPS',\n",
    "        #'RacketSports',\n",
    "        #'FingerMovements',\n",
    "        #'Heartbeat',                   #skip for now, instabilities for sig linear\n",
    "        #'SelfRegulationSCP1',  \n",
    "        #'UWaveGestureLibrary',\n",
    "        #'PenDigits',\n",
    "        #'LSST',\n",
    "        #'EthanolConcentration',\n",
    "        ]:\n",
    "    test_variability(dataset_name)"
   ]
  },
  {
   "cell_type": "code",
   "execution_count": null,
   "metadata": {},
   "outputs": [],
   "source": [
    "# ArticularyWordRecognition T=144, d=9\n",
    "# (10, 8, 9)\n",
    "# abs [1.29565776 2.27435506 2.87972308 4.07389224 5.01688708 6.38028238\n",
    "#  7.11759463 7.86446547 8.08651308 8.29304982]\n",
    "\n",
    "\n",
    "# BasicMotions T=100, d=6\n",
    "# (10, 8, 9)\n",
    "# abs [1.04759194e+00 7.15178976e+01 1.40339471e+02 4.10876657e+03\n",
    "#  1.92255294e+04 2.50874495e+05 1.49520768e+06 1.27200498e+07\n",
    "#  7.06710438e+07 4.39333097e+08]\n",
    "\n",
    "\n",
    "# Libras T=45, d=2\n",
    "# (10, 8, 9)\n",
    "# abs [1.89531427 3.83885875 4.15721433 6.99827019 7.40133744 8.93425362\n",
    "#  9.22978483 9.44218473 9.4780136  9.49202141]\n",
    "\n",
    "\n",
    "# NATOPS T=51, d=24\n",
    "# (10, 8, 9)\n",
    "# abs [ 1.01604486  1.53247836  2.82986402  4.49605307  7.90352287 12.42609689\n",
    "#  18.56948677 24.6321559  29.69169966 33.1874835 ]\n",
    "\n",
    "\n",
    "# RacketSports T=30, d=6\n",
    "# (10, 8, 9)\n",
    "# abs [ 1.16522057  4.40396722  9.04935699 15.67076359 30.32986175 39.15169919\n",
    "#  61.60201888 72.30843763 90.79824697 99.62780377]\n",
    "\n",
    "\n",
    "# FingerMovements T=50, d=28\n",
    "# (10, 8, 9)\n",
    "# abs [0.97984797 1.04719032 1.04531916 1.04813437 1.04803513 1.04810413\n",
    "#  1.04810097 1.048102   1.04810194 1.04810195]\n",
    "\n",
    "\n",
    "# Heartbeat T=405, d=61\n",
    "# (10, 8, 9)\n",
    "# abs [1.08550586e+00 7.23266419e+02 9.05013282e+04 5.82884262e+06\n",
    "#  8.83717077e+08 6.35578512e+10 2.92053048e+12 8.94131107e+13\n",
    "#  4.99193194e+15 3.01476687e+17]\n",
    "\n",
    "\n",
    "# UWaveGestureLibrary T=315, d=3\n",
    "# (10, 8, 9)\n",
    "# abs [  1.20473682   9.60296452  14.84277035  39.26442477  67.65798534\n",
    "#  121.57540175 170.10270738 231.90516802 276.56580554 318.60532653]"
   ]
  },
  {
   "cell_type": "markdown",
   "metadata": {},
   "source": [
    "$          <x, x>  + <y, y> - <x, y>  - <y, x>  =  <x-y, x> + <x-y, y> = <x-y, x-y>      $"
   ]
  },
  {
   "cell_type": "markdown",
   "metadata": {},
   "source": [
    "# Plot datasets"
   ]
  },
  {
   "cell_type": "code",
   "execution_count": null,
   "metadata": {},
   "outputs": [],
   "source": [
    "from experiments.experiment_code import normalize_streams\n",
    "import plotly.express as px\n",
    "\n",
    "def plot_dataset(dataset_name:str):\n",
    "    X_train, y_train, X_test, y_test = UCR_UEA_datasets().load_dataset(dataset_name)\n",
    "    print(dataset_name)\n",
    "    unique_labels = np.unique(y_train)\n",
    "    num_classes = len(unique_labels)\n",
    "    N_train, T, d = X_train.shape\n",
    "\n",
    "    corpus, test = normalize_streams(X_train, X_test)\n",
    "\n",
    "    choice = np.random.choice(N_train, size=9)\n",
    "    TRAIN = np.array([corpus[i] for i in choice])\n",
    "    fig = px.line(TRAIN[0])\n",
    "    fig.show()\n",
    "\n",
    "\n",
    "\n",
    "for dataset_name in [\n",
    "        'ArticularyWordRecognition', \n",
    "        'BasicMotions', \n",
    "         ###'Cricket',             # fuck cricket, too big and n_samples=10...\n",
    "         ##########'ERing', #cant find dataset\n",
    "        'Libras', \n",
    "        'NATOPS', \n",
    "        'RacketSports',     \n",
    "        'FingerMovements',      # estimates a bit low, 10e-3\n",
    "        'Heartbeat',\n",
    "        'SelfRegulationSCP1',   # CAN RESAMPLE 2x or even 3x, 4x\n",
    "        'UWaveGestureLibrary',\n",
    "        \"PenDigits\",\n",
    "        \"\"\n",
    "        ]:\n",
    "    plot_dataset(dataset_name)"
   ]
  },
  {
   "cell_type": "code",
   "execution_count": null,
   "metadata": {},
   "outputs": [],
   "source": [
    "from experiments.experiment_code import normalize_streams"
   ]
  },
  {
   "cell_type": "code",
   "execution_count": null,
   "metadata": {},
   "outputs": [],
   "source": [
    "X_train, y_train, X_test, y_test = UCR_UEA_datasets().load_dataset(\"UWaveGestureLibrary\")\n",
    "import plotly.express as px\n",
    "print(X_train.shape)\n",
    "idx = 5\n",
    "fig = px.line(X_train[idx])\n",
    "fig.show()\n",
    "X_train, X_test = normalize_streams(X_train, X_test)\n",
    "print(X_train.shape)\n",
    "fig = px.line(X_train[idx])\n",
    "fig.show()"
   ]
  },
  {
   "cell_type": "code",
   "execution_count": null,
   "metadata": {},
   "outputs": [],
   "source": [
    "import plotly.express as px\n",
    "X_train, y_train, X_test, y_test = UCR_UEA_datasets().load_dataset(\"SelfRegulationSCP1\")\n",
    "import plotly.express as px\n",
    "print(X_train.shape)\n",
    "idx = 2\n",
    "fig = px.line(X_train[idx])\n",
    "fig.show()\n",
    "X_train, X_test = normalize_streams(X_train, X_test)\n",
    "print(X_train.shape)\n",
    "fig = px.line(X_train[idx])\n",
    "fig.show()"
   ]
  },
  {
   "cell_type": "code",
   "execution_count": null,
   "metadata": {},
   "outputs": [],
   "source": [
    "X_train, y_train, X_test, y_test = UCR_UEA_datasets().load_dataset(\"Heartbeat\")\n",
    "import plotly.express as px\n",
    "print(X_train.shape)\n",
    "idx = 2\n",
    "fig = px.line(X_train[idx])\n",
    "fig.show()\n",
    "X_train, X_test = normalize_streams(X_train, X_test)\n",
    "print(X_train.shape)\n",
    "fig = px.line(X_train[idx])\n",
    "fig.show()"
   ]
  },
  {
   "cell_type": "code",
   "execution_count": null,
   "metadata": {},
   "outputs": [],
   "source": [
    "X_train, y_train, X_test, y_test = UCR_UEA_datasets().load_dataset(\"BasicMotions\")\n",
    "import plotly.express as px\n",
    "print(X_train.shape)\n",
    "idx = 8\n",
    "fig = px.line(X_train[idx])\n",
    "fig.show()\n",
    "X_train, X_test = normalize_streams(X_train, X_test)\n",
    "print(X_train.shape)\n",
    "fig = px.line(X_train[idx])\n",
    "fig.show()\n"
   ]
  },
  {
   "cell_type": "code",
   "execution_count": null,
   "metadata": {},
   "outputs": [],
   "source": [
    "X_train, y_train, X_test, y_test = UCR_UEA_datasets().load_dataset(\"Libras\")\n",
    "import plotly.express as px\n",
    "print(X_train.shape)\n",
    "idx = 2\n",
    "fig = px.line(X_train[idx])\n",
    "fig.show()\n",
    "X_train, X_test = normalize_streams(X_train, X_test)\n",
    "print(X_train.shape)\n",
    "fig = px.line(X_train[idx])\n",
    "fig.show()"
   ]
  },
  {
   "cell_type": "code",
   "execution_count": null,
   "metadata": {},
   "outputs": [],
   "source": [
    "X_train, y_train, X_test, y_test = UCR_UEA_datasets().load_dataset(\"EthanolConcentration\")\n",
    "import plotly.express as px\n",
    "print(X_train.shape)\n",
    "idx = 200\n",
    "fig = px.line(X_train[idx])\n",
    "fig.show()\n",
    "X_train, X_test = normalize_streams(X_train, X_test)\n",
    "print(X_train.shape)\n",
    "fig = px.line(X_train[idx])\n",
    "fig.show()"
   ]
  },
  {
   "cell_type": "code",
   "execution_count": null,
   "metadata": {},
   "outputs": [],
   "source": [
    "X_train, y_train, X_test, y_test = UCR_UEA_datasets().load_dataset(\"HandMovementDirection\")\n",
    "import plotly.express as px\n",
    "print(X_train.shape)\n",
    "idx = 20\n",
    "fig = px.line(X_train[idx])\n",
    "fig.show()\n",
    "X_train, X_test = normalize_streams(X_train, X_test)\n",
    "print(X_train.shape)\n",
    "fig = px.line(X_train[idx])\n",
    "fig.show()"
   ]
  },
  {
   "cell_type": "code",
   "execution_count": null,
   "metadata": {},
   "outputs": [],
   "source": [
    "X_train, y_train, X_test, y_test = UCR_UEA_datasets().load_dataset(\"LSST\")\n",
    "import plotly.express as px\n",
    "print(X_train.shape)\n",
    "idx = 28\n",
    "fig = px.line(X_train[idx])\n",
    "fig.show()\n",
    "X_train, X_test = normalize_streams(X_train, X_test)\n",
    "print(X_train.shape)\n",
    "fig = px.line(X_train[idx])\n",
    "fig.show()"
   ]
  },
  {
   "cell_type": "code",
   "execution_count": null,
   "metadata": {},
   "outputs": [],
   "source": [
    "X_train, y_train, X_test, y_test = UCR_UEA_datasets().load_dataset(\"PenDigits\")\n",
    "import plotly.express as px\n",
    "print(X_train.shape)\n",
    "idx = 7\n",
    "fig = px.line(X_train[idx])\n",
    "fig.show()\n",
    "X_train, X_test = normalize_streams(X_train, X_test)\n",
    "print(X_train.shape)\n",
    "fig = px.line(X_train[idx])\n",
    "fig.show()"
   ]
  },
  {
   "cell_type": "code",
   "execution_count": null,
   "metadata": {},
   "outputs": [],
   "source": [
    "X_train, y_train, X_test, y_test = UCR_UEA_datasets().load_dataset(\"MotorImagery\")\n",
    "import plotly.express as px\n",
    "print(X_train.shape)\n",
    "idx = 7\n",
    "fig = px.line(X_train[idx])\n",
    "fig.show()\n",
    "X_train, X_test = normalize_streams(X_train, X_test)\n",
    "print(X_train.shape)\n",
    "fig = px.line(X_train[idx])\n",
    "fig.show()"
   ]
  },
  {
   "cell_type": "code",
   "execution_count": 3,
   "metadata": {},
   "outputs": [
    {
     "name": "stdout",
     "output_type": "stream",
     "text": [
      "(137, 206, 3)\n"
     ]
    },
    {
     "data": {
      "application/vnd.plotly.v1+json": {
       "config": {
        "plotlyServerURL": "https://plot.ly"
       },
       "data": [
        {
         "hovertemplate": "variable=0<br>index=%{x}<br>value=%{y}<extra></extra>",
         "legendgroup": "0",
         "line": {
          "color": "#636efa",
          "dash": "solid"
         },
         "marker": {
          "symbol": "circle"
         },
         "mode": "lines",
         "name": "0",
         "orientation": "v",
         "showlegend": true,
         "type": "scatter",
         "x": [
          0,
          1,
          2,
          3,
          4,
          5,
          6,
          7,
          8,
          9,
          10,
          11,
          12,
          13,
          14,
          15,
          16,
          17,
          18,
          19,
          20,
          21,
          22,
          23,
          24,
          25,
          26,
          27,
          28,
          29,
          30,
          31,
          32,
          33,
          34,
          35,
          36,
          37,
          38,
          39,
          40,
          41,
          42,
          43,
          44,
          45,
          46,
          47,
          48,
          49,
          50,
          51,
          52,
          53,
          54,
          55,
          56,
          57,
          58,
          59,
          60,
          61,
          62,
          63,
          64,
          65,
          66,
          67,
          68,
          69,
          70,
          71,
          72,
          73,
          74,
          75,
          76,
          77,
          78,
          79,
          80,
          81,
          82,
          83,
          84,
          85,
          86,
          87,
          88,
          89,
          90,
          91,
          92,
          93,
          94,
          95,
          96,
          97,
          98,
          99,
          100,
          101,
          102,
          103,
          104,
          105,
          106,
          107,
          108,
          109,
          110,
          111,
          112,
          113,
          114,
          115,
          116,
          117,
          118,
          119,
          120,
          121,
          122,
          123,
          124,
          125,
          126,
          127,
          128,
          129,
          130,
          131,
          132,
          133,
          134,
          135,
          136,
          137,
          138,
          139,
          140,
          141,
          142,
          143,
          144,
          145,
          146,
          147,
          148,
          149,
          150,
          151,
          152,
          153,
          154,
          155,
          156,
          157,
          158,
          159,
          160,
          161,
          162,
          163,
          164,
          165,
          166,
          167,
          168,
          169,
          170,
          171,
          172,
          173,
          174,
          175,
          176,
          177,
          178,
          179,
          180,
          181,
          182,
          183,
          184,
          185,
          186,
          187,
          188,
          189,
          190,
          191,
          192,
          193,
          194,
          195,
          196,
          197,
          198,
          199,
          200,
          201,
          202,
          203,
          204,
          205
         ],
         "xaxis": "x",
         "y": [
          0.72,
          1,
          0.52,
          1.05,
          0.68,
          0.57,
          0.55,
          0.49,
          1.06,
          0.73,
          0.66,
          0.44,
          0.59,
          0.47,
          0.8,
          0.82,
          0.44,
          0.75,
          0.57,
          0.72,
          0.67,
          0.42,
          1.29,
          0.81,
          0.58,
          0.31,
          0.64,
          0.39,
          0.62,
          0.68,
          0.34,
          0.8,
          0.55,
          0.64,
          0.56,
          0.47,
          1.33,
          0.74,
          0.61,
          0.28,
          0.53,
          0.5,
          0.66,
          0.8,
          0.42,
          1.04,
          0.78,
          0.62,
          0.39,
          0.61,
          0.42,
          0.63,
          0.7,
          0.51,
          1.01,
          0.7,
          0.52,
          0.31,
          0.53,
          0.36,
          0.68,
          1.01,
          0.51,
          0.82,
          0.65,
          0.47,
          0.36,
          0.48,
          0.52,
          0.58,
          0.71,
          0.35,
          0.68,
          0.65,
          0.55,
          0.6,
          0.25,
          1.17,
          0.73,
          0.73,
          0.29,
          0.49,
          0.76,
          0.85,
          0.81,
          0.41,
          1,
          1,
          0.73,
          0.56,
          0.39,
          1.08,
          0.84,
          0.58,
          0.22,
          0.43,
          0.66,
          0.82,
          0.71,
          0.38,
          0.58,
          0.34,
          0.74,
          0.66,
          0.32,
          1.08,
          0.63,
          0.77,
          0.31,
          0.6,
          0.35,
          0.72,
          0.66,
          0.4,
          1.17,
          0.59,
          0.66,
          0.33,
          0.71,
          0.59,
          0.69,
          0.27,
          0.46,
          0.87,
          0.85,
          0.76,
          0.3,
          0.89,
          0.76,
          0.55,
          0.32,
          0.5,
          1.16,
          0.86,
          0.6,
          0.33,
          0.98,
          0.78,
          0.6,
          0.22,
          0.61,
          1.1,
          0.78,
          0.8,
          0.45,
          1.34,
          0.62,
          0.77,
          0.27,
          0.87,
          0.87,
          0.84,
          0.8,
          0.46,
          1.36,
          0.71,
          0.74,
          0.25,
          0.71,
          0.72,
          0.7,
          1.25,
          0.72,
          1.13,
          0.95,
          0.72,
          0.24,
          0.92,
          0.7,
          0.86,
          0.3,
          0.61,
          0.85,
          0.84,
          0.81,
          0.52,
          1.18,
          0.73,
          0.91,
          0.3,
          0.55,
          0.59,
          0.65,
          0.78,
          0.45,
          1.2,
          0.46,
          0.98,
          0.47,
          0.86,
          0.73,
          0.78,
          0.67,
          0.67,
          1.3,
          0.87,
          0.82,
          0.52,
          0.89,
          0.65,
          0.75,
          0.46,
          0.61,
          0.79,
          0.84,
          0.93
         ],
         "yaxis": "y"
        },
        {
         "hovertemplate": "variable=1<br>index=%{x}<br>value=%{y}<extra></extra>",
         "legendgroup": "1",
         "line": {
          "color": "#EF553B",
          "dash": "solid"
         },
         "marker": {
          "symbol": "circle"
         },
         "mode": "lines",
         "name": "1",
         "orientation": "v",
         "showlegend": true,
         "type": "scatter",
         "x": [
          0,
          1,
          2,
          3,
          4,
          5,
          6,
          7,
          8,
          9,
          10,
          11,
          12,
          13,
          14,
          15,
          16,
          17,
          18,
          19,
          20,
          21,
          22,
          23,
          24,
          25,
          26,
          27,
          28,
          29,
          30,
          31,
          32,
          33,
          34,
          35,
          36,
          37,
          38,
          39,
          40,
          41,
          42,
          43,
          44,
          45,
          46,
          47,
          48,
          49,
          50,
          51,
          52,
          53,
          54,
          55,
          56,
          57,
          58,
          59,
          60,
          61,
          62,
          63,
          64,
          65,
          66,
          67,
          68,
          69,
          70,
          71,
          72,
          73,
          74,
          75,
          76,
          77,
          78,
          79,
          80,
          81,
          82,
          83,
          84,
          85,
          86,
          87,
          88,
          89,
          90,
          91,
          92,
          93,
          94,
          95,
          96,
          97,
          98,
          99,
          100,
          101,
          102,
          103,
          104,
          105,
          106,
          107,
          108,
          109,
          110,
          111,
          112,
          113,
          114,
          115,
          116,
          117,
          118,
          119,
          120,
          121,
          122,
          123,
          124,
          125,
          126,
          127,
          128,
          129,
          130,
          131,
          132,
          133,
          134,
          135,
          136,
          137,
          138,
          139,
          140,
          141,
          142,
          143,
          144,
          145,
          146,
          147,
          148,
          149,
          150,
          151,
          152,
          153,
          154,
          155,
          156,
          157,
          158,
          159,
          160,
          161,
          162,
          163,
          164,
          165,
          166,
          167,
          168,
          169,
          170,
          171,
          172,
          173,
          174,
          175,
          176,
          177,
          178,
          179,
          180,
          181,
          182,
          183,
          184,
          185,
          186,
          187,
          188,
          189,
          190,
          191,
          192,
          193,
          194,
          195,
          196,
          197,
          198,
          199,
          200,
          201,
          202,
          203,
          204,
          205
         ],
         "xaxis": "x",
         "y": [
          -0.82,
          0.48,
          1.2,
          -0.69,
          -1.35,
          -0.6,
          0.4,
          0.9,
          -0.99,
          -1.16,
          -0.16,
          0.67,
          0.54,
          -1.35,
          -1.42,
          0.2,
          1.29,
          0.27,
          -1.74,
          -1.24,
          0.2,
          1.29,
          0.16,
          -2.1,
          -1.05,
          0.67,
          1.42,
          -1.01,
          -1.79,
          -0.85,
          0.53,
          1.25,
          -1.38,
          -1.59,
          -0.49,
          0.57,
          0.74,
          -1.22,
          -1.18,
          0.48,
          1.19,
          -0.92,
          -1.71,
          -0.72,
          0.62,
          1.27,
          -1.2,
          -1.67,
          -0.5,
          0.49,
          1.11,
          -1.35,
          -1.67,
          -0.25,
          0.85,
          0.84,
          -1.4,
          -1.39,
          -0.05,
          1.22,
          0.59,
          -1.51,
          -1.18,
          0.59,
          1.47,
          -0.58,
          -1.83,
          -0.89,
          0.39,
          1.32,
          -0.2,
          -1.71,
          -0.96,
          0.48,
          1.27,
          -0.13,
          -1.53,
          -0.93,
          0.69,
          1.46,
          -0.97,
          -1.71,
          -0.84,
          0.78,
          1.51,
          -1.11,
          -1.88,
          -0.7,
          0.85,
          1.27,
          -1.66,
          -1.04,
          -0.16,
          0.42,
          0.28,
          -1.39,
          -1.08,
          0.45,
          1.38,
          -0.48,
          -1.89,
          -0.92,
          0.8,
          1.33,
          -1.2,
          -1.76,
          -0.5,
          0.62,
          1.19,
          -1.46,
          -1.66,
          -0.07,
          0.97,
          0,
          -1.66,
          -0.98,
          0.44,
          1.42,
          -0.67,
          -1.67,
          -0.83,
          0.9,
          1.33,
          -1.34,
          -1.51,
          0.21,
          1.24,
          -0.14,
          -2.03,
          -1.07,
          0.89,
          1.51,
          -1.09,
          -1.86,
          -0.63,
          0.53,
          1.01,
          -1.39,
          -1.25,
          -0.03,
          1.08,
          0.43,
          -1.88,
          -1.2,
          0.86,
          1.32,
          -1.12,
          -1.73,
          0.07,
          1.19,
          -0.35,
          -2,
          -0.89,
          0.67,
          1.19,
          -1.37,
          -1.59,
          -0.13,
          1.14,
          0.01,
          -1.55,
          -1.1,
          0.69,
          1.57,
          -1.01,
          -1.98,
          -0.32,
          1.21,
          0.59,
          -1.97,
          -1.2,
          0.3,
          1.3,
          -0.68,
          -2.22,
          -0.82,
          0.98,
          1.38,
          -1.28,
          -1.61,
          -0.25,
          0.66,
          0.37,
          -1.59,
          -1.19,
          0.32,
          0.85,
          -0.63,
          -1.36,
          -0.58,
          0.52,
          0.95,
          -0.84,
          -1.85,
          -0.36,
          0.72,
          0.41,
          -1.67,
          -1.09,
          0.47,
          1.44,
          -0.41,
          -2.3,
          -1.02,
          0.77,
          1.19
         ],
         "yaxis": "y"
        },
        {
         "hovertemplate": "variable=2<br>index=%{x}<br>value=%{y}<extra></extra>",
         "legendgroup": "2",
         "line": {
          "color": "#00cc96",
          "dash": "solid"
         },
         "marker": {
          "symbol": "circle"
         },
         "mode": "lines",
         "name": "2",
         "orientation": "v",
         "showlegend": true,
         "type": "scatter",
         "x": [
          0,
          1,
          2,
          3,
          4,
          5,
          6,
          7,
          8,
          9,
          10,
          11,
          12,
          13,
          14,
          15,
          16,
          17,
          18,
          19,
          20,
          21,
          22,
          23,
          24,
          25,
          26,
          27,
          28,
          29,
          30,
          31,
          32,
          33,
          34,
          35,
          36,
          37,
          38,
          39,
          40,
          41,
          42,
          43,
          44,
          45,
          46,
          47,
          48,
          49,
          50,
          51,
          52,
          53,
          54,
          55,
          56,
          57,
          58,
          59,
          60,
          61,
          62,
          63,
          64,
          65,
          66,
          67,
          68,
          69,
          70,
          71,
          72,
          73,
          74,
          75,
          76,
          77,
          78,
          79,
          80,
          81,
          82,
          83,
          84,
          85,
          86,
          87,
          88,
          89,
          90,
          91,
          92,
          93,
          94,
          95,
          96,
          97,
          98,
          99,
          100,
          101,
          102,
          103,
          104,
          105,
          106,
          107,
          108,
          109,
          110,
          111,
          112,
          113,
          114,
          115,
          116,
          117,
          118,
          119,
          120,
          121,
          122,
          123,
          124,
          125,
          126,
          127,
          128,
          129,
          130,
          131,
          132,
          133,
          134,
          135,
          136,
          137,
          138,
          139,
          140,
          141,
          142,
          143,
          144,
          145,
          146,
          147,
          148,
          149,
          150,
          151,
          152,
          153,
          154,
          155,
          156,
          157,
          158,
          159,
          160,
          161,
          162,
          163,
          164,
          165,
          166,
          167,
          168,
          169,
          170,
          171,
          172,
          173,
          174,
          175,
          176,
          177,
          178,
          179,
          180,
          181,
          182,
          183,
          184,
          185,
          186,
          187,
          188,
          189,
          190,
          191,
          192,
          193,
          194,
          195,
          196,
          197,
          198,
          199,
          200,
          201,
          202,
          203,
          204,
          205
         ],
         "xaxis": "x",
         "y": [
          0.43,
          0.38,
          0.37,
          0.38,
          0.38,
          0.39,
          0.4,
          0.41,
          0.42,
          0.41,
          0.39,
          0.4,
          0.48,
          0.55,
          0.6,
          0.64,
          0.67,
          0.69,
          0.71,
          0.73,
          0.73,
          0.78,
          0.85,
          0.89,
          0.9,
          0.94,
          0.93,
          0.95,
          0.93,
          0.86,
          0.86,
          0.81,
          0.93,
          0.51,
          -0.11,
          -0.26,
          -0.2,
          -0.22,
          -0.22,
          -0.17,
          -0.21,
          -0.22,
          -0.15,
          -0.11,
          -0.09,
          -0.05,
          -0.02,
          0.06,
          0.12,
          0.18,
          0.27,
          0.33,
          0.36,
          0.43,
          0.49,
          0.5,
          0.49,
          0.5,
          0.41,
          0.35,
          0.32,
          0.3,
          0.25,
          0.19,
          0.1,
          0.07,
          0.04,
          0.04,
          0.03,
          0.03,
          0.03,
          -0.01,
          -0.05,
          -0.09,
          -0.08,
          -0.09,
          -0.15,
          -0.11,
          -0.09,
          -0.15,
          -0.1,
          -0.11,
          -0.12,
          -0.07,
          -0.04,
          -0.01,
          0.04,
          0.03,
          0.12,
          0.23,
          0.38,
          0.5,
          0.59,
          0.67,
          0.65,
          0.69,
          0.63,
          0.63,
          0.69,
          0.68,
          0.63,
          0.6,
          0.59,
          0.56,
          0.49,
          0.46,
          0.47,
          0.51,
          0.54,
          0.56,
          0.56,
          0.57,
          0.61,
          0.63,
          0.65,
          0.66,
          0.68,
          0.67,
          0.65,
          0.71,
          0.69,
          0.68,
          0.67,
          0.67,
          0.74,
          0.8,
          0.79,
          0.79,
          0.81,
          0.84,
          0.88,
          0.86,
          0.89,
          0.91,
          1.01,
          0.97,
          0.75,
          0.62,
          0.46,
          0.09,
          -0.2,
          -0.24,
          -0.24,
          -0.34,
          -0.31,
          -0.2,
          -0.16,
          -0.07,
          0.07,
          0.13,
          0.1,
          0.08,
          0.07,
          0.07,
          0.03,
          -0.04,
          -0.14,
          -0.17,
          -0.16,
          -0.16,
          -0.13,
          -0.12,
          -0.1,
          -0.08,
          -0.06,
          -0.09,
          -0.06,
          -0.06,
          -0.07,
          -0.04,
          -0.01,
          0.02,
          0.01,
          0.02,
          0.03,
          0,
          -0.07,
          -0.03,
          0,
          0.07,
          0.07,
          -0.04,
          -0.17,
          -0.3,
          -0.28,
          -0.34,
          -0.32,
          -0.34,
          -0.3,
          -0.14,
          -0.12,
          -0.06,
          0.01,
          0.02,
          0.13,
          0.29,
          0.41,
          0.52,
          0.51,
          0.42,
          0.38,
          0.39,
          0.37,
          0.33,
          0.26,
          0.22
         ],
         "yaxis": "y"
        }
       ],
       "layout": {
        "legend": {
         "title": {
          "text": "variable"
         },
         "tracegroupgap": 0
        },
        "margin": {
         "t": 60
        },
        "template": {
         "data": {
          "bar": [
           {
            "error_x": {
             "color": "#2a3f5f"
            },
            "error_y": {
             "color": "#2a3f5f"
            },
            "marker": {
             "line": {
              "color": "#E5ECF6",
              "width": 0.5
             },
             "pattern": {
              "fillmode": "overlay",
              "size": 10,
              "solidity": 0.2
             }
            },
            "type": "bar"
           }
          ],
          "barpolar": [
           {
            "marker": {
             "line": {
              "color": "#E5ECF6",
              "width": 0.5
             },
             "pattern": {
              "fillmode": "overlay",
              "size": 10,
              "solidity": 0.2
             }
            },
            "type": "barpolar"
           }
          ],
          "carpet": [
           {
            "aaxis": {
             "endlinecolor": "#2a3f5f",
             "gridcolor": "white",
             "linecolor": "white",
             "minorgridcolor": "white",
             "startlinecolor": "#2a3f5f"
            },
            "baxis": {
             "endlinecolor": "#2a3f5f",
             "gridcolor": "white",
             "linecolor": "white",
             "minorgridcolor": "white",
             "startlinecolor": "#2a3f5f"
            },
            "type": "carpet"
           }
          ],
          "choropleth": [
           {
            "colorbar": {
             "outlinewidth": 0,
             "ticks": ""
            },
            "type": "choropleth"
           }
          ],
          "contour": [
           {
            "colorbar": {
             "outlinewidth": 0,
             "ticks": ""
            },
            "colorscale": [
             [
              0,
              "#0d0887"
             ],
             [
              0.1111111111111111,
              "#46039f"
             ],
             [
              0.2222222222222222,
              "#7201a8"
             ],
             [
              0.3333333333333333,
              "#9c179e"
             ],
             [
              0.4444444444444444,
              "#bd3786"
             ],
             [
              0.5555555555555556,
              "#d8576b"
             ],
             [
              0.6666666666666666,
              "#ed7953"
             ],
             [
              0.7777777777777778,
              "#fb9f3a"
             ],
             [
              0.8888888888888888,
              "#fdca26"
             ],
             [
              1,
              "#f0f921"
             ]
            ],
            "type": "contour"
           }
          ],
          "contourcarpet": [
           {
            "colorbar": {
             "outlinewidth": 0,
             "ticks": ""
            },
            "type": "contourcarpet"
           }
          ],
          "heatmap": [
           {
            "colorbar": {
             "outlinewidth": 0,
             "ticks": ""
            },
            "colorscale": [
             [
              0,
              "#0d0887"
             ],
             [
              0.1111111111111111,
              "#46039f"
             ],
             [
              0.2222222222222222,
              "#7201a8"
             ],
             [
              0.3333333333333333,
              "#9c179e"
             ],
             [
              0.4444444444444444,
              "#bd3786"
             ],
             [
              0.5555555555555556,
              "#d8576b"
             ],
             [
              0.6666666666666666,
              "#ed7953"
             ],
             [
              0.7777777777777778,
              "#fb9f3a"
             ],
             [
              0.8888888888888888,
              "#fdca26"
             ],
             [
              1,
              "#f0f921"
             ]
            ],
            "type": "heatmap"
           }
          ],
          "heatmapgl": [
           {
            "colorbar": {
             "outlinewidth": 0,
             "ticks": ""
            },
            "colorscale": [
             [
              0,
              "#0d0887"
             ],
             [
              0.1111111111111111,
              "#46039f"
             ],
             [
              0.2222222222222222,
              "#7201a8"
             ],
             [
              0.3333333333333333,
              "#9c179e"
             ],
             [
              0.4444444444444444,
              "#bd3786"
             ],
             [
              0.5555555555555556,
              "#d8576b"
             ],
             [
              0.6666666666666666,
              "#ed7953"
             ],
             [
              0.7777777777777778,
              "#fb9f3a"
             ],
             [
              0.8888888888888888,
              "#fdca26"
             ],
             [
              1,
              "#f0f921"
             ]
            ],
            "type": "heatmapgl"
           }
          ],
          "histogram": [
           {
            "marker": {
             "pattern": {
              "fillmode": "overlay",
              "size": 10,
              "solidity": 0.2
             }
            },
            "type": "histogram"
           }
          ],
          "histogram2d": [
           {
            "colorbar": {
             "outlinewidth": 0,
             "ticks": ""
            },
            "colorscale": [
             [
              0,
              "#0d0887"
             ],
             [
              0.1111111111111111,
              "#46039f"
             ],
             [
              0.2222222222222222,
              "#7201a8"
             ],
             [
              0.3333333333333333,
              "#9c179e"
             ],
             [
              0.4444444444444444,
              "#bd3786"
             ],
             [
              0.5555555555555556,
              "#d8576b"
             ],
             [
              0.6666666666666666,
              "#ed7953"
             ],
             [
              0.7777777777777778,
              "#fb9f3a"
             ],
             [
              0.8888888888888888,
              "#fdca26"
             ],
             [
              1,
              "#f0f921"
             ]
            ],
            "type": "histogram2d"
           }
          ],
          "histogram2dcontour": [
           {
            "colorbar": {
             "outlinewidth": 0,
             "ticks": ""
            },
            "colorscale": [
             [
              0,
              "#0d0887"
             ],
             [
              0.1111111111111111,
              "#46039f"
             ],
             [
              0.2222222222222222,
              "#7201a8"
             ],
             [
              0.3333333333333333,
              "#9c179e"
             ],
             [
              0.4444444444444444,
              "#bd3786"
             ],
             [
              0.5555555555555556,
              "#d8576b"
             ],
             [
              0.6666666666666666,
              "#ed7953"
             ],
             [
              0.7777777777777778,
              "#fb9f3a"
             ],
             [
              0.8888888888888888,
              "#fdca26"
             ],
             [
              1,
              "#f0f921"
             ]
            ],
            "type": "histogram2dcontour"
           }
          ],
          "mesh3d": [
           {
            "colorbar": {
             "outlinewidth": 0,
             "ticks": ""
            },
            "type": "mesh3d"
           }
          ],
          "parcoords": [
           {
            "line": {
             "colorbar": {
              "outlinewidth": 0,
              "ticks": ""
             }
            },
            "type": "parcoords"
           }
          ],
          "pie": [
           {
            "automargin": true,
            "type": "pie"
           }
          ],
          "scatter": [
           {
            "fillpattern": {
             "fillmode": "overlay",
             "size": 10,
             "solidity": 0.2
            },
            "type": "scatter"
           }
          ],
          "scatter3d": [
           {
            "line": {
             "colorbar": {
              "outlinewidth": 0,
              "ticks": ""
             }
            },
            "marker": {
             "colorbar": {
              "outlinewidth": 0,
              "ticks": ""
             }
            },
            "type": "scatter3d"
           }
          ],
          "scattercarpet": [
           {
            "marker": {
             "colorbar": {
              "outlinewidth": 0,
              "ticks": ""
             }
            },
            "type": "scattercarpet"
           }
          ],
          "scattergeo": [
           {
            "marker": {
             "colorbar": {
              "outlinewidth": 0,
              "ticks": ""
             }
            },
            "type": "scattergeo"
           }
          ],
          "scattergl": [
           {
            "marker": {
             "colorbar": {
              "outlinewidth": 0,
              "ticks": ""
             }
            },
            "type": "scattergl"
           }
          ],
          "scattermapbox": [
           {
            "marker": {
             "colorbar": {
              "outlinewidth": 0,
              "ticks": ""
             }
            },
            "type": "scattermapbox"
           }
          ],
          "scatterpolar": [
           {
            "marker": {
             "colorbar": {
              "outlinewidth": 0,
              "ticks": ""
             }
            },
            "type": "scatterpolar"
           }
          ],
          "scatterpolargl": [
           {
            "marker": {
             "colorbar": {
              "outlinewidth": 0,
              "ticks": ""
             }
            },
            "type": "scatterpolargl"
           }
          ],
          "scatterternary": [
           {
            "marker": {
             "colorbar": {
              "outlinewidth": 0,
              "ticks": ""
             }
            },
            "type": "scatterternary"
           }
          ],
          "surface": [
           {
            "colorbar": {
             "outlinewidth": 0,
             "ticks": ""
            },
            "colorscale": [
             [
              0,
              "#0d0887"
             ],
             [
              0.1111111111111111,
              "#46039f"
             ],
             [
              0.2222222222222222,
              "#7201a8"
             ],
             [
              0.3333333333333333,
              "#9c179e"
             ],
             [
              0.4444444444444444,
              "#bd3786"
             ],
             [
              0.5555555555555556,
              "#d8576b"
             ],
             [
              0.6666666666666666,
              "#ed7953"
             ],
             [
              0.7777777777777778,
              "#fb9f3a"
             ],
             [
              0.8888888888888888,
              "#fdca26"
             ],
             [
              1,
              "#f0f921"
             ]
            ],
            "type": "surface"
           }
          ],
          "table": [
           {
            "cells": {
             "fill": {
              "color": "#EBF0F8"
             },
             "line": {
              "color": "white"
             }
            },
            "header": {
             "fill": {
              "color": "#C8D4E3"
             },
             "line": {
              "color": "white"
             }
            },
            "type": "table"
           }
          ]
         },
         "layout": {
          "annotationdefaults": {
           "arrowcolor": "#2a3f5f",
           "arrowhead": 0,
           "arrowwidth": 1
          },
          "autotypenumbers": "strict",
          "coloraxis": {
           "colorbar": {
            "outlinewidth": 0,
            "ticks": ""
           }
          },
          "colorscale": {
           "diverging": [
            [
             0,
             "#8e0152"
            ],
            [
             0.1,
             "#c51b7d"
            ],
            [
             0.2,
             "#de77ae"
            ],
            [
             0.3,
             "#f1b6da"
            ],
            [
             0.4,
             "#fde0ef"
            ],
            [
             0.5,
             "#f7f7f7"
            ],
            [
             0.6,
             "#e6f5d0"
            ],
            [
             0.7,
             "#b8e186"
            ],
            [
             0.8,
             "#7fbc41"
            ],
            [
             0.9,
             "#4d9221"
            ],
            [
             1,
             "#276419"
            ]
           ],
           "sequential": [
            [
             0,
             "#0d0887"
            ],
            [
             0.1111111111111111,
             "#46039f"
            ],
            [
             0.2222222222222222,
             "#7201a8"
            ],
            [
             0.3333333333333333,
             "#9c179e"
            ],
            [
             0.4444444444444444,
             "#bd3786"
            ],
            [
             0.5555555555555556,
             "#d8576b"
            ],
            [
             0.6666666666666666,
             "#ed7953"
            ],
            [
             0.7777777777777778,
             "#fb9f3a"
            ],
            [
             0.8888888888888888,
             "#fdca26"
            ],
            [
             1,
             "#f0f921"
            ]
           ],
           "sequentialminus": [
            [
             0,
             "#0d0887"
            ],
            [
             0.1111111111111111,
             "#46039f"
            ],
            [
             0.2222222222222222,
             "#7201a8"
            ],
            [
             0.3333333333333333,
             "#9c179e"
            ],
            [
             0.4444444444444444,
             "#bd3786"
            ],
            [
             0.5555555555555556,
             "#d8576b"
            ],
            [
             0.6666666666666666,
             "#ed7953"
            ],
            [
             0.7777777777777778,
             "#fb9f3a"
            ],
            [
             0.8888888888888888,
             "#fdca26"
            ],
            [
             1,
             "#f0f921"
            ]
           ]
          },
          "colorway": [
           "#636efa",
           "#EF553B",
           "#00cc96",
           "#ab63fa",
           "#FFA15A",
           "#19d3f3",
           "#FF6692",
           "#B6E880",
           "#FF97FF",
           "#FECB52"
          ],
          "font": {
           "color": "#2a3f5f"
          },
          "geo": {
           "bgcolor": "white",
           "lakecolor": "white",
           "landcolor": "#E5ECF6",
           "showlakes": true,
           "showland": true,
           "subunitcolor": "white"
          },
          "hoverlabel": {
           "align": "left"
          },
          "hovermode": "closest",
          "mapbox": {
           "style": "light"
          },
          "paper_bgcolor": "white",
          "plot_bgcolor": "#E5ECF6",
          "polar": {
           "angularaxis": {
            "gridcolor": "white",
            "linecolor": "white",
            "ticks": ""
           },
           "bgcolor": "#E5ECF6",
           "radialaxis": {
            "gridcolor": "white",
            "linecolor": "white",
            "ticks": ""
           }
          },
          "scene": {
           "xaxis": {
            "backgroundcolor": "#E5ECF6",
            "gridcolor": "white",
            "gridwidth": 2,
            "linecolor": "white",
            "showbackground": true,
            "ticks": "",
            "zerolinecolor": "white"
           },
           "yaxis": {
            "backgroundcolor": "#E5ECF6",
            "gridcolor": "white",
            "gridwidth": 2,
            "linecolor": "white",
            "showbackground": true,
            "ticks": "",
            "zerolinecolor": "white"
           },
           "zaxis": {
            "backgroundcolor": "#E5ECF6",
            "gridcolor": "white",
            "gridwidth": 2,
            "linecolor": "white",
            "showbackground": true,
            "ticks": "",
            "zerolinecolor": "white"
           }
          },
          "shapedefaults": {
           "line": {
            "color": "#2a3f5f"
           }
          },
          "ternary": {
           "aaxis": {
            "gridcolor": "white",
            "linecolor": "white",
            "ticks": ""
           },
           "baxis": {
            "gridcolor": "white",
            "linecolor": "white",
            "ticks": ""
           },
           "bgcolor": "#E5ECF6",
           "caxis": {
            "gridcolor": "white",
            "linecolor": "white",
            "ticks": ""
           }
          },
          "title": {
           "x": 0.05
          },
          "xaxis": {
           "automargin": true,
           "gridcolor": "white",
           "linecolor": "white",
           "ticks": "",
           "title": {
            "standoff": 15
           },
           "zerolinecolor": "white",
           "zerolinewidth": 2
          },
          "yaxis": {
           "automargin": true,
           "gridcolor": "white",
           "linecolor": "white",
           "ticks": "",
           "title": {
            "standoff": 15
           },
           "zerolinecolor": "white",
           "zerolinewidth": 2
          }
         }
        },
        "xaxis": {
         "anchor": "y",
         "domain": [
          0,
          1
         ],
         "title": {
          "text": "index"
         }
        },
        "yaxis": {
         "anchor": "x",
         "domain": [
          0,
          1
         ],
         "title": {
          "text": "value"
         }
        }
       }
      }
     },
     "metadata": {},
     "output_type": "display_data"
    },
    {
     "name": "stdout",
     "output_type": "stream",
     "text": [
      "(137, 68, 3)\n"
     ]
    },
    {
     "data": {
      "application/vnd.plotly.v1+json": {
       "config": {
        "plotlyServerURL": "https://plot.ly"
       },
       "data": [
        {
         "hovertemplate": "variable=0<br>index=%{x}<br>value=%{y}<extra></extra>",
         "legendgroup": "0",
         "line": {
          "color": "#636efa",
          "dash": "solid"
         },
         "marker": {
          "symbol": "circle"
         },
         "mode": "lines",
         "name": "0",
         "orientation": "v",
         "showlegend": true,
         "type": "scatter",
         "x": [
          0,
          1,
          2,
          3,
          4,
          5,
          6,
          7,
          8,
          9,
          10,
          11,
          12,
          13,
          14,
          15,
          16,
          17,
          18,
          19,
          20,
          21,
          22,
          23,
          24,
          25,
          26,
          27,
          28,
          29,
          30,
          31,
          32,
          33,
          34,
          35,
          36,
          37,
          38,
          39,
          40,
          41,
          42,
          43,
          44,
          45,
          46,
          47,
          48,
          49,
          50,
          51,
          52,
          53,
          54,
          55,
          56,
          57,
          58,
          59,
          60,
          61,
          62,
          63,
          64,
          65,
          66,
          67
         ],
         "xaxis": "x",
         "y": [
          0.741488539244363,
          0.7083311694709756,
          0.6322218814612113,
          0.595971887100161,
          0.5670839444158416,
          0.6357641907699514,
          0.5755622587968392,
          0.7690127568049596,
          0.49500468261618186,
          0.4545308696480353,
          0.5227475506447051,
          0.5147305550588347,
          0.8258008282152863,
          0.3094720282169322,
          0.6045421074302376,
          0.7798578544670765,
          0.3888616824081839,
          0.4875325669247601,
          0.7389558288832708,
          0.3790210427859093,
          0.6573611961919822,
          0.5952328950294704,
          0.4616784427650087,
          0.4742936264225333,
          0.5709608597008238,
          0.5735613140651863,
          0.5261786576852626,
          0.5854671810061656,
          0.6340287217970868,
          0.694591113642549,
          0.7043324273369403,
          0.32065110784851075,
          0.6417909256390814,
          0.4286099915637349,
          0.5044781535072137,
          0.7364481790185392,
          0.3659636260044419,
          0.5150835072258344,
          0.7136562927315557,
          0.4728928824590281,
          0.4083821091795438,
          0.8638773349582408,
          0.5493105338681167,
          0.43952394695604946,
          0.8583663132399185,
          0.6742841663726896,
          0.32645024169055176,
          0.9254895017842673,
          0.7809952776778424,
          0.6174405566441913,
          0.7082034647820453,
          0.8695077177208845,
          0.547663438253836,
          0.8613945771633874,
          0.8547927162122405,
          0.625700286377009,
          0.5115026526126205,
          0.7732584027063213,
          0.7329482401559172,
          0.6195062017704245,
          0.6327741476644263,
          0.7149341240070554,
          0.7047709510600372,
          0.7879223162559456,
          0.90152900870098,
          0.7682478317006413,
          0.7372921339820172,
          0.6858083879089216
         ],
         "yaxis": "y"
        },
        {
         "hovertemplate": "variable=1<br>index=%{x}<br>value=%{y}<extra></extra>",
         "legendgroup": "1",
         "line": {
          "color": "#EF553B",
          "dash": "solid"
         },
         "marker": {
          "symbol": "circle"
         },
         "mode": "lines",
         "name": "1",
         "orientation": "v",
         "showlegend": true,
         "type": "scatter",
         "x": [
          0,
          1,
          2,
          3,
          4,
          5,
          6,
          7,
          8,
          9,
          10,
          11,
          12,
          13,
          14,
          15,
          16,
          17,
          18,
          19,
          20,
          21,
          22,
          23,
          24,
          25,
          26,
          27,
          28,
          29,
          30,
          31,
          32,
          33,
          34,
          35,
          36,
          37,
          38,
          39,
          40,
          41,
          42,
          43,
          44,
          45,
          46,
          47,
          48,
          49,
          50,
          51,
          52,
          53,
          54,
          55,
          56,
          57,
          58,
          59,
          60,
          61,
          62,
          63,
          64,
          65,
          66,
          67
         ],
         "xaxis": "x",
         "y": [
          0.5253047888791678,
          -0.6146855535033957,
          0.39387205458834645,
          0.10673549526023791,
          -0.33649683083642845,
          0.8501585894093157,
          -0.5342858194085623,
          0.043073752828778865,
          0.6321626277590454,
          -1.0228460060903437,
          0.4895992168269005,
          -0.18570321772770293,
          -0.27911751978109384,
          0.50000880983374,
          -0.3103251315146996,
          -0.170755078952927,
          0.5643305739151235,
          -0.771101756585291,
          0.3786007899032575,
          0.22045496860487215,
          -0.44156840922241436,
          0.9222643111777701,
          -0.4493961090411242,
          0.1627399049091817,
          0.48811307937417586,
          -0.44659461492100183,
          0.5839662621855762,
          -0.31481493690987966,
          -0.2608663070167607,
          0.6978275827077222,
          -0.5426271607120295,
          0.05527627896114525,
          0.6007316115924649,
          -0.7034541771883744,
          0.6845343269484063,
          -0.2856338846808742,
          -0.23875490725277773,
          0.5982951376656551,
          -0.3944117570043347,
          -0.0549201322602512,
          0.7542410827219289,
          -0.5124873046451741,
          -0.10819500926286126,
          0.7291597148405797,
          -0.8417203607512235,
          0.4410663300321335,
          0.2708500758389322,
          -0.6024430510932763,
          0.5853915657689469,
          0.04539652312257525,
          -0.7579533124046911,
          0.387934381763304,
          0.12375765520813535,
          -0.5415207730368016,
          0.761430695204799,
          -0.05419516114063705,
          -0.5627633616378872,
          0.5384335984421662,
          -0.46226213074612704,
          -0.25081824456039464,
          0.541088027930812,
          -0.6107377625241748,
          -0.19474066033452056,
          0.6234393429956961,
          -0.8252406185955586,
          0.13328331843252195,
          0.7085106321364524,
          -1.1263210330705222
         ],
         "yaxis": "y"
        },
        {
         "hovertemplate": "variable=2<br>index=%{x}<br>value=%{y}<extra></extra>",
         "legendgroup": "2",
         "line": {
          "color": "#00cc96",
          "dash": "solid"
         },
         "marker": {
          "symbol": "circle"
         },
         "mode": "lines",
         "name": "2",
         "orientation": "v",
         "showlegend": true,
         "type": "scatter",
         "x": [
          0,
          1,
          2,
          3,
          4,
          5,
          6,
          7,
          8,
          9,
          10,
          11,
          12,
          13,
          14,
          15,
          16,
          17,
          18,
          19,
          20,
          21,
          22,
          23,
          24,
          25,
          26,
          27,
          28,
          29,
          30,
          31,
          32,
          33,
          34,
          35,
          36,
          37,
          38,
          39,
          40,
          41,
          42,
          43,
          44,
          45,
          46,
          47,
          48,
          49,
          50,
          51,
          52,
          53,
          54,
          55,
          56,
          57,
          58,
          59,
          60,
          61,
          62,
          63,
          64,
          65,
          66,
          67
         ],
         "xaxis": "x",
         "y": [
          1.0033103933747665,
          0.9414969696590268,
          1.0183994510764847,
          1.0218874977451116,
          1.1912504888827777,
          1.408305190898128,
          1.4748376110561654,
          1.7746345123158862,
          1.8688034556017346,
          1.8790971176272977,
          1.8018460429727696,
          0.2042167886923648,
          -0.22942537601785784,
          -0.21889391842030634,
          -0.04475613048610174,
          0.17829766686483625,
          0.6067586231150491,
          0.8777819219714945,
          1.2718940342110556,
          0.9541153479098193,
          0.7445301622800385,
          0.3548731796427865,
          0.32098925487073354,
          0.17444037949319216,
          0.05757913449014454,
          -0.06600776379360207,
          -0.04120812196933639,
          -0.11992908339333415,
          0.15195105130777134,
          0.48903685930085267,
          1.0676496687518742,
          1.5587339149593784,
          1.3354719804025486,
          1.5837320482261985,
          1.1263128237317515,
          1.183093818155083,
          1.1657727793951156,
          1.4568737805544103,
          1.4278799567340397,
          1.7164008997862925,
          1.4571936843430542,
          1.7403601814047744,
          1.639404040490651,
          2.076250981559755,
          2.0341451836073894,
          1.7450020241714768,
          0.46158222752248296,
          -0.27881216341695114,
          -0.2814873701134336,
          0.3149431578911339,
          0.2750734496425434,
          0.3121638469953858,
          -0.09458318346721943,
          0.006024397201334399,
          0.04461918592144118,
          0.1715581864538721,
          0.1670018264317282,
          0.2973245178498954,
          0.13247713847996678,
          0.33926975190946007,
          0.1584168764819782,
          -0.2858191297912712,
          -0.37681281388882515,
          0.15900748822766864,
          0.38226152778268235,
          1.1604507577937533,
          1.1056373128318093,
          1.0099072853463829
         ],
         "yaxis": "y"
        }
       ],
       "layout": {
        "legend": {
         "title": {
          "text": "variable"
         },
         "tracegroupgap": 0
        },
        "margin": {
         "t": 60
        },
        "template": {
         "data": {
          "bar": [
           {
            "error_x": {
             "color": "#2a3f5f"
            },
            "error_y": {
             "color": "#2a3f5f"
            },
            "marker": {
             "line": {
              "color": "#E5ECF6",
              "width": 0.5
             },
             "pattern": {
              "fillmode": "overlay",
              "size": 10,
              "solidity": 0.2
             }
            },
            "type": "bar"
           }
          ],
          "barpolar": [
           {
            "marker": {
             "line": {
              "color": "#E5ECF6",
              "width": 0.5
             },
             "pattern": {
              "fillmode": "overlay",
              "size": 10,
              "solidity": 0.2
             }
            },
            "type": "barpolar"
           }
          ],
          "carpet": [
           {
            "aaxis": {
             "endlinecolor": "#2a3f5f",
             "gridcolor": "white",
             "linecolor": "white",
             "minorgridcolor": "white",
             "startlinecolor": "#2a3f5f"
            },
            "baxis": {
             "endlinecolor": "#2a3f5f",
             "gridcolor": "white",
             "linecolor": "white",
             "minorgridcolor": "white",
             "startlinecolor": "#2a3f5f"
            },
            "type": "carpet"
           }
          ],
          "choropleth": [
           {
            "colorbar": {
             "outlinewidth": 0,
             "ticks": ""
            },
            "type": "choropleth"
           }
          ],
          "contour": [
           {
            "colorbar": {
             "outlinewidth": 0,
             "ticks": ""
            },
            "colorscale": [
             [
              0,
              "#0d0887"
             ],
             [
              0.1111111111111111,
              "#46039f"
             ],
             [
              0.2222222222222222,
              "#7201a8"
             ],
             [
              0.3333333333333333,
              "#9c179e"
             ],
             [
              0.4444444444444444,
              "#bd3786"
             ],
             [
              0.5555555555555556,
              "#d8576b"
             ],
             [
              0.6666666666666666,
              "#ed7953"
             ],
             [
              0.7777777777777778,
              "#fb9f3a"
             ],
             [
              0.8888888888888888,
              "#fdca26"
             ],
             [
              1,
              "#f0f921"
             ]
            ],
            "type": "contour"
           }
          ],
          "contourcarpet": [
           {
            "colorbar": {
             "outlinewidth": 0,
             "ticks": ""
            },
            "type": "contourcarpet"
           }
          ],
          "heatmap": [
           {
            "colorbar": {
             "outlinewidth": 0,
             "ticks": ""
            },
            "colorscale": [
             [
              0,
              "#0d0887"
             ],
             [
              0.1111111111111111,
              "#46039f"
             ],
             [
              0.2222222222222222,
              "#7201a8"
             ],
             [
              0.3333333333333333,
              "#9c179e"
             ],
             [
              0.4444444444444444,
              "#bd3786"
             ],
             [
              0.5555555555555556,
              "#d8576b"
             ],
             [
              0.6666666666666666,
              "#ed7953"
             ],
             [
              0.7777777777777778,
              "#fb9f3a"
             ],
             [
              0.8888888888888888,
              "#fdca26"
             ],
             [
              1,
              "#f0f921"
             ]
            ],
            "type": "heatmap"
           }
          ],
          "heatmapgl": [
           {
            "colorbar": {
             "outlinewidth": 0,
             "ticks": ""
            },
            "colorscale": [
             [
              0,
              "#0d0887"
             ],
             [
              0.1111111111111111,
              "#46039f"
             ],
             [
              0.2222222222222222,
              "#7201a8"
             ],
             [
              0.3333333333333333,
              "#9c179e"
             ],
             [
              0.4444444444444444,
              "#bd3786"
             ],
             [
              0.5555555555555556,
              "#d8576b"
             ],
             [
              0.6666666666666666,
              "#ed7953"
             ],
             [
              0.7777777777777778,
              "#fb9f3a"
             ],
             [
              0.8888888888888888,
              "#fdca26"
             ],
             [
              1,
              "#f0f921"
             ]
            ],
            "type": "heatmapgl"
           }
          ],
          "histogram": [
           {
            "marker": {
             "pattern": {
              "fillmode": "overlay",
              "size": 10,
              "solidity": 0.2
             }
            },
            "type": "histogram"
           }
          ],
          "histogram2d": [
           {
            "colorbar": {
             "outlinewidth": 0,
             "ticks": ""
            },
            "colorscale": [
             [
              0,
              "#0d0887"
             ],
             [
              0.1111111111111111,
              "#46039f"
             ],
             [
              0.2222222222222222,
              "#7201a8"
             ],
             [
              0.3333333333333333,
              "#9c179e"
             ],
             [
              0.4444444444444444,
              "#bd3786"
             ],
             [
              0.5555555555555556,
              "#d8576b"
             ],
             [
              0.6666666666666666,
              "#ed7953"
             ],
             [
              0.7777777777777778,
              "#fb9f3a"
             ],
             [
              0.8888888888888888,
              "#fdca26"
             ],
             [
              1,
              "#f0f921"
             ]
            ],
            "type": "histogram2d"
           }
          ],
          "histogram2dcontour": [
           {
            "colorbar": {
             "outlinewidth": 0,
             "ticks": ""
            },
            "colorscale": [
             [
              0,
              "#0d0887"
             ],
             [
              0.1111111111111111,
              "#46039f"
             ],
             [
              0.2222222222222222,
              "#7201a8"
             ],
             [
              0.3333333333333333,
              "#9c179e"
             ],
             [
              0.4444444444444444,
              "#bd3786"
             ],
             [
              0.5555555555555556,
              "#d8576b"
             ],
             [
              0.6666666666666666,
              "#ed7953"
             ],
             [
              0.7777777777777778,
              "#fb9f3a"
             ],
             [
              0.8888888888888888,
              "#fdca26"
             ],
             [
              1,
              "#f0f921"
             ]
            ],
            "type": "histogram2dcontour"
           }
          ],
          "mesh3d": [
           {
            "colorbar": {
             "outlinewidth": 0,
             "ticks": ""
            },
            "type": "mesh3d"
           }
          ],
          "parcoords": [
           {
            "line": {
             "colorbar": {
              "outlinewidth": 0,
              "ticks": ""
             }
            },
            "type": "parcoords"
           }
          ],
          "pie": [
           {
            "automargin": true,
            "type": "pie"
           }
          ],
          "scatter": [
           {
            "fillpattern": {
             "fillmode": "overlay",
             "size": 10,
             "solidity": 0.2
            },
            "type": "scatter"
           }
          ],
          "scatter3d": [
           {
            "line": {
             "colorbar": {
              "outlinewidth": 0,
              "ticks": ""
             }
            },
            "marker": {
             "colorbar": {
              "outlinewidth": 0,
              "ticks": ""
             }
            },
            "type": "scatter3d"
           }
          ],
          "scattercarpet": [
           {
            "marker": {
             "colorbar": {
              "outlinewidth": 0,
              "ticks": ""
             }
            },
            "type": "scattercarpet"
           }
          ],
          "scattergeo": [
           {
            "marker": {
             "colorbar": {
              "outlinewidth": 0,
              "ticks": ""
             }
            },
            "type": "scattergeo"
           }
          ],
          "scattergl": [
           {
            "marker": {
             "colorbar": {
              "outlinewidth": 0,
              "ticks": ""
             }
            },
            "type": "scattergl"
           }
          ],
          "scattermapbox": [
           {
            "marker": {
             "colorbar": {
              "outlinewidth": 0,
              "ticks": ""
             }
            },
            "type": "scattermapbox"
           }
          ],
          "scatterpolar": [
           {
            "marker": {
             "colorbar": {
              "outlinewidth": 0,
              "ticks": ""
             }
            },
            "type": "scatterpolar"
           }
          ],
          "scatterpolargl": [
           {
            "marker": {
             "colorbar": {
              "outlinewidth": 0,
              "ticks": ""
             }
            },
            "type": "scatterpolargl"
           }
          ],
          "scatterternary": [
           {
            "marker": {
             "colorbar": {
              "outlinewidth": 0,
              "ticks": ""
             }
            },
            "type": "scatterternary"
           }
          ],
          "surface": [
           {
            "colorbar": {
             "outlinewidth": 0,
             "ticks": ""
            },
            "colorscale": [
             [
              0,
              "#0d0887"
             ],
             [
              0.1111111111111111,
              "#46039f"
             ],
             [
              0.2222222222222222,
              "#7201a8"
             ],
             [
              0.3333333333333333,
              "#9c179e"
             ],
             [
              0.4444444444444444,
              "#bd3786"
             ],
             [
              0.5555555555555556,
              "#d8576b"
             ],
             [
              0.6666666666666666,
              "#ed7953"
             ],
             [
              0.7777777777777778,
              "#fb9f3a"
             ],
             [
              0.8888888888888888,
              "#fdca26"
             ],
             [
              1,
              "#f0f921"
             ]
            ],
            "type": "surface"
           }
          ],
          "table": [
           {
            "cells": {
             "fill": {
              "color": "#EBF0F8"
             },
             "line": {
              "color": "white"
             }
            },
            "header": {
             "fill": {
              "color": "#C8D4E3"
             },
             "line": {
              "color": "white"
             }
            },
            "type": "table"
           }
          ]
         },
         "layout": {
          "annotationdefaults": {
           "arrowcolor": "#2a3f5f",
           "arrowhead": 0,
           "arrowwidth": 1
          },
          "autotypenumbers": "strict",
          "coloraxis": {
           "colorbar": {
            "outlinewidth": 0,
            "ticks": ""
           }
          },
          "colorscale": {
           "diverging": [
            [
             0,
             "#8e0152"
            ],
            [
             0.1,
             "#c51b7d"
            ],
            [
             0.2,
             "#de77ae"
            ],
            [
             0.3,
             "#f1b6da"
            ],
            [
             0.4,
             "#fde0ef"
            ],
            [
             0.5,
             "#f7f7f7"
            ],
            [
             0.6,
             "#e6f5d0"
            ],
            [
             0.7,
             "#b8e186"
            ],
            [
             0.8,
             "#7fbc41"
            ],
            [
             0.9,
             "#4d9221"
            ],
            [
             1,
             "#276419"
            ]
           ],
           "sequential": [
            [
             0,
             "#0d0887"
            ],
            [
             0.1111111111111111,
             "#46039f"
            ],
            [
             0.2222222222222222,
             "#7201a8"
            ],
            [
             0.3333333333333333,
             "#9c179e"
            ],
            [
             0.4444444444444444,
             "#bd3786"
            ],
            [
             0.5555555555555556,
             "#d8576b"
            ],
            [
             0.6666666666666666,
             "#ed7953"
            ],
            [
             0.7777777777777778,
             "#fb9f3a"
            ],
            [
             0.8888888888888888,
             "#fdca26"
            ],
            [
             1,
             "#f0f921"
            ]
           ],
           "sequentialminus": [
            [
             0,
             "#0d0887"
            ],
            [
             0.1111111111111111,
             "#46039f"
            ],
            [
             0.2222222222222222,
             "#7201a8"
            ],
            [
             0.3333333333333333,
             "#9c179e"
            ],
            [
             0.4444444444444444,
             "#bd3786"
            ],
            [
             0.5555555555555556,
             "#d8576b"
            ],
            [
             0.6666666666666666,
             "#ed7953"
            ],
            [
             0.7777777777777778,
             "#fb9f3a"
            ],
            [
             0.8888888888888888,
             "#fdca26"
            ],
            [
             1,
             "#f0f921"
            ]
           ]
          },
          "colorway": [
           "#636efa",
           "#EF553B",
           "#00cc96",
           "#ab63fa",
           "#FFA15A",
           "#19d3f3",
           "#FF6692",
           "#B6E880",
           "#FF97FF",
           "#FECB52"
          ],
          "font": {
           "color": "#2a3f5f"
          },
          "geo": {
           "bgcolor": "white",
           "lakecolor": "white",
           "landcolor": "#E5ECF6",
           "showlakes": true,
           "showland": true,
           "subunitcolor": "white"
          },
          "hoverlabel": {
           "align": "left"
          },
          "hovermode": "closest",
          "mapbox": {
           "style": "light"
          },
          "paper_bgcolor": "white",
          "plot_bgcolor": "#E5ECF6",
          "polar": {
           "angularaxis": {
            "gridcolor": "white",
            "linecolor": "white",
            "ticks": ""
           },
           "bgcolor": "#E5ECF6",
           "radialaxis": {
            "gridcolor": "white",
            "linecolor": "white",
            "ticks": ""
           }
          },
          "scene": {
           "xaxis": {
            "backgroundcolor": "#E5ECF6",
            "gridcolor": "white",
            "gridwidth": 2,
            "linecolor": "white",
            "showbackground": true,
            "ticks": "",
            "zerolinecolor": "white"
           },
           "yaxis": {
            "backgroundcolor": "#E5ECF6",
            "gridcolor": "white",
            "gridwidth": 2,
            "linecolor": "white",
            "showbackground": true,
            "ticks": "",
            "zerolinecolor": "white"
           },
           "zaxis": {
            "backgroundcolor": "#E5ECF6",
            "gridcolor": "white",
            "gridwidth": 2,
            "linecolor": "white",
            "showbackground": true,
            "ticks": "",
            "zerolinecolor": "white"
           }
          },
          "shapedefaults": {
           "line": {
            "color": "#2a3f5f"
           }
          },
          "ternary": {
           "aaxis": {
            "gridcolor": "white",
            "linecolor": "white",
            "ticks": ""
           },
           "baxis": {
            "gridcolor": "white",
            "linecolor": "white",
            "ticks": ""
           },
           "bgcolor": "#E5ECF6",
           "caxis": {
            "gridcolor": "white",
            "linecolor": "white",
            "ticks": ""
           }
          },
          "title": {
           "x": 0.05
          },
          "xaxis": {
           "automargin": true,
           "gridcolor": "white",
           "linecolor": "white",
           "ticks": "",
           "title": {
            "standoff": 15
           },
           "zerolinecolor": "white",
           "zerolinewidth": 2
          },
          "yaxis": {
           "automargin": true,
           "gridcolor": "white",
           "linecolor": "white",
           "ticks": "",
           "title": {
            "standoff": 15
           },
           "zerolinecolor": "white",
           "zerolinewidth": 2
          }
         }
        },
        "xaxis": {
         "anchor": "y",
         "domain": [
          0,
          1
         ],
         "title": {
          "text": "index"
         }
        },
        "yaxis": {
         "anchor": "x",
         "domain": [
          0,
          1
         ],
         "title": {
          "text": "value"
         }
        }
       }
      }
     },
     "metadata": {},
     "output_type": "display_data"
    }
   ],
   "source": [
    "X_train, y_train, X_test, y_test = UCR_UEA_datasets().load_dataset(\"Epilepsy\")\n",
    "import plotly.express as px\n",
    "print(X_train.shape)\n",
    "idx = 10\n",
    "fig = px.line(X_train[idx])\n",
    "fig.show()\n",
    "X_train, X_test = normalize_streams(X_train, X_test)\n",
    "print(X_train.shape)\n",
    "fig = px.line(X_train[idx])\n",
    "fig.show()"
   ]
  },
  {
   "cell_type": "code",
   "execution_count": 1,
   "metadata": {},
   "outputs": [],
   "source": [
    "from experiments.experiment_code import normalize_streams\n",
    "import plotly.express as px\n",
    "from tslearn.datasets import UCR_UEA_datasets"
   ]
  },
  {
   "cell_type": "code",
   "execution_count": null,
   "metadata": {},
   "outputs": [],
   "source": [
    "# Epilepsy 34\n",
    "# EthanolConcentration 65\n",
    "# FaceDetection 2945\n",
    "# FingerMovements 158\n",
    "# HandMovementDirection 40\n",
    "# Heartbeat 102\n",
    "# LSST 176\n",
    "# MotorImagery 139\n",
    "# NATOPS 30\n",
    "# PenDigits 749\n",
    "# PEMS-SF 38\n",
    "# PhonemeSpectra 85\n",
    "# RacketSports 38\n",
    "# SelfRegulationSCP1 134\n",
    "\n",
    "for dataset_name in [\n",
    "    \"Epilepsy\",\n",
    "    \"EthanolConcentration\",\n",
    "    \"FaceDetection\",\n",
    "    \"FingerMovements\",\n",
    "    \"HandMovementDirection\",\n",
    "    \"Heartbeat\",\n",
    "    \"LSST\",\n",
    "    \"MotorImagery\",   #NO --- 3000 length too big, too oscillatory\n",
    "    \"NATOPS\",\n",
    "    \"PenDigits\",\n",
    "    \"PEMS-SF\",\n",
    "    \"PhonemeSpectra\",\n",
    "    \"RacketSports\",\n",
    "    \"SelfRegulationSCP1\",\n",
    "]:\n",
    "    X_train, y_train, X_test, y_test = UCR_UEA_datasets().load_dataset(dataset_name)\n",
    "    print(dataset_name)\n",
    "    print(X_train.shape)\n",
    "    idx=0\n",
    "    px.line(X_train[idx]).show()\n",
    "    X_train, X_test = normalize_streams(X_train, X_test)\n",
    "    print(X_train.shape)\n",
    "    px.line(X_train[idx]).show()\n"
   ]
  }
 ],
 "metadata": {
  "kernelspec": {
   "display_name": "Python 3",
   "language": "python",
   "name": "python3"
  },
  "language_info": {
   "codemirror_mode": {
    "name": "ipython",
    "version": 3
   },
   "file_extension": ".py",
   "mimetype": "text/x-python",
   "name": "python",
   "nbconvert_exporter": "python",
   "pygments_lexer": "ipython3",
   "version": "3.11.7"
  }
 },
 "nbformat": 4,
 "nbformat_minor": 2
}
